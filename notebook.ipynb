{
  "cells": [
    {
      "cell_type": "markdown",
      "metadata": {
        "id": "H9wADwK78DCz"
      },
      "source": [
        "# Proyek Analisis Data: Air-quality-dataset\n",
        "- **Nama:** Muhammad Annys\n",
        "- **Email:** m312b4ky2730@bangkit.academy\n",
        "- **ID Dicoding:** m312b4ky2730@bangkit.academy"
      ]
    },
    {
      "cell_type": "markdown",
      "metadata": {
        "id": "eE0raob58DC0"
      },
      "source": [
        "## Menentukan Pertanyaan Bisnis"
      ]
    },
    {
      "cell_type": "markdown",
      "metadata": {
        "id": "GmQeQ5YF8DC0"
      },
      "source": [
        "- How much polutan in each city each year?\n",
        "- Which pollutan has most influence on temperature"
      ]
    },
    {
      "cell_type": "markdown",
      "metadata": {
        "id": "H-z4QGlO8DC1"
      },
      "source": [
        "## Import Semua Packages/Library yang Digunakan"
      ]
    },
    {
      "cell_type": "code",
      "execution_count": 1,
      "metadata": {
        "id": "FVYwaObI8DC1"
      },
      "outputs": [],
      "source": [
        "import numpy as np\n",
        "import pandas as pd\n",
        "import matplotlib.pyplot as plt"
      ]
    },
    {
      "cell_type": "markdown",
      "metadata": {
        "id": "h_Sh51Xy8DC1"
      },
      "source": [
        "## Data Wrangling"
      ]
    },
    {
      "cell_type": "markdown",
      "metadata": {
        "id": "sXU2GBYu8DC1"
      },
      "source": [
        "### Gathering Data"
      ]
    },
    {
      "cell_type": "markdown",
      "metadata": {
        "id": "jIETTYx3AT3v"
      },
      "source": [
        "#### Aotizhongxin"
      ]
    },
    {
      "cell_type": "code",
      "execution_count": 2,
      "metadata": {
        "colab": {
          "base_uri": "https://localhost:8080/",
          "height": 0
        },
        "id": "hl6XmVne75ri",
        "outputId": "e940a76d-bfd0-4c24-c39e-1f3ca36a7a4f"
      },
      "outputs": [
        {
          "data": {
            "text/html": [
              "<div>\n",
              "<style scoped>\n",
              "    .dataframe tbody tr th:only-of-type {\n",
              "        vertical-align: middle;\n",
              "    }\n",
              "\n",
              "    .dataframe tbody tr th {\n",
              "        vertical-align: top;\n",
              "    }\n",
              "\n",
              "    .dataframe thead th {\n",
              "        text-align: right;\n",
              "    }\n",
              "</style>\n",
              "<table border=\"1\" class=\"dataframe\">\n",
              "  <thead>\n",
              "    <tr style=\"text-align: right;\">\n",
              "      <th></th>\n",
              "      <th>No</th>\n",
              "      <th>year</th>\n",
              "      <th>month</th>\n",
              "      <th>day</th>\n",
              "      <th>hour</th>\n",
              "      <th>PM2.5</th>\n",
              "      <th>PM10</th>\n",
              "      <th>SO2</th>\n",
              "      <th>NO2</th>\n",
              "      <th>CO</th>\n",
              "      <th>O3</th>\n",
              "      <th>TEMP</th>\n",
              "      <th>PRES</th>\n",
              "      <th>DEWP</th>\n",
              "      <th>RAIN</th>\n",
              "      <th>wd</th>\n",
              "      <th>WSPM</th>\n",
              "      <th>station</th>\n",
              "    </tr>\n",
              "  </thead>\n",
              "  <tbody>\n",
              "    <tr>\n",
              "      <th>0</th>\n",
              "      <td>1</td>\n",
              "      <td>2013</td>\n",
              "      <td>3</td>\n",
              "      <td>1</td>\n",
              "      <td>0</td>\n",
              "      <td>4.0</td>\n",
              "      <td>4.0</td>\n",
              "      <td>4.0</td>\n",
              "      <td>7.0</td>\n",
              "      <td>300.0</td>\n",
              "      <td>77.0</td>\n",
              "      <td>-0.7</td>\n",
              "      <td>1023.0</td>\n",
              "      <td>-18.8</td>\n",
              "      <td>0.0</td>\n",
              "      <td>NNW</td>\n",
              "      <td>4.4</td>\n",
              "      <td>Aotizhongxin</td>\n",
              "    </tr>\n",
              "    <tr>\n",
              "      <th>1</th>\n",
              "      <td>2</td>\n",
              "      <td>2013</td>\n",
              "      <td>3</td>\n",
              "      <td>1</td>\n",
              "      <td>1</td>\n",
              "      <td>8.0</td>\n",
              "      <td>8.0</td>\n",
              "      <td>4.0</td>\n",
              "      <td>7.0</td>\n",
              "      <td>300.0</td>\n",
              "      <td>77.0</td>\n",
              "      <td>-1.1</td>\n",
              "      <td>1023.2</td>\n",
              "      <td>-18.2</td>\n",
              "      <td>0.0</td>\n",
              "      <td>N</td>\n",
              "      <td>4.7</td>\n",
              "      <td>Aotizhongxin</td>\n",
              "    </tr>\n",
              "    <tr>\n",
              "      <th>2</th>\n",
              "      <td>3</td>\n",
              "      <td>2013</td>\n",
              "      <td>3</td>\n",
              "      <td>1</td>\n",
              "      <td>2</td>\n",
              "      <td>7.0</td>\n",
              "      <td>7.0</td>\n",
              "      <td>5.0</td>\n",
              "      <td>10.0</td>\n",
              "      <td>300.0</td>\n",
              "      <td>73.0</td>\n",
              "      <td>-1.1</td>\n",
              "      <td>1023.5</td>\n",
              "      <td>-18.2</td>\n",
              "      <td>0.0</td>\n",
              "      <td>NNW</td>\n",
              "      <td>5.6</td>\n",
              "      <td>Aotizhongxin</td>\n",
              "    </tr>\n",
              "    <tr>\n",
              "      <th>3</th>\n",
              "      <td>4</td>\n",
              "      <td>2013</td>\n",
              "      <td>3</td>\n",
              "      <td>1</td>\n",
              "      <td>3</td>\n",
              "      <td>6.0</td>\n",
              "      <td>6.0</td>\n",
              "      <td>11.0</td>\n",
              "      <td>11.0</td>\n",
              "      <td>300.0</td>\n",
              "      <td>72.0</td>\n",
              "      <td>-1.4</td>\n",
              "      <td>1024.5</td>\n",
              "      <td>-19.4</td>\n",
              "      <td>0.0</td>\n",
              "      <td>NW</td>\n",
              "      <td>3.1</td>\n",
              "      <td>Aotizhongxin</td>\n",
              "    </tr>\n",
              "    <tr>\n",
              "      <th>4</th>\n",
              "      <td>5</td>\n",
              "      <td>2013</td>\n",
              "      <td>3</td>\n",
              "      <td>1</td>\n",
              "      <td>4</td>\n",
              "      <td>3.0</td>\n",
              "      <td>3.0</td>\n",
              "      <td>12.0</td>\n",
              "      <td>12.0</td>\n",
              "      <td>300.0</td>\n",
              "      <td>72.0</td>\n",
              "      <td>-2.0</td>\n",
              "      <td>1025.2</td>\n",
              "      <td>-19.5</td>\n",
              "      <td>0.0</td>\n",
              "      <td>N</td>\n",
              "      <td>2.0</td>\n",
              "      <td>Aotizhongxin</td>\n",
              "    </tr>\n",
              "  </tbody>\n",
              "</table>\n",
              "</div>"
            ],
            "text/plain": [
              "   No  year  month  day  hour  PM2.5  PM10   SO2   NO2     CO    O3  TEMP  \\\n",
              "0   1  2013      3    1     0    4.0   4.0   4.0   7.0  300.0  77.0  -0.7   \n",
              "1   2  2013      3    1     1    8.0   8.0   4.0   7.0  300.0  77.0  -1.1   \n",
              "2   3  2013      3    1     2    7.0   7.0   5.0  10.0  300.0  73.0  -1.1   \n",
              "3   4  2013      3    1     3    6.0   6.0  11.0  11.0  300.0  72.0  -1.4   \n",
              "4   5  2013      3    1     4    3.0   3.0  12.0  12.0  300.0  72.0  -2.0   \n",
              "\n",
              "     PRES  DEWP  RAIN   wd  WSPM       station  \n",
              "0  1023.0 -18.8   0.0  NNW   4.4  Aotizhongxin  \n",
              "1  1023.2 -18.2   0.0    N   4.7  Aotizhongxin  \n",
              "2  1023.5 -18.2   0.0  NNW   5.6  Aotizhongxin  \n",
              "3  1024.5 -19.4   0.0   NW   3.1  Aotizhongxin  \n",
              "4  1025.2 -19.5   0.0    N   2.0  Aotizhongxin  "
            ]
          },
          "execution_count": 2,
          "metadata": {},
          "output_type": "execute_result"
        }
      ],
      "source": [
        "Aotizhongxin_df = pd.read_csv(\"https://drive.google.com/uc?export=download&id=1elsR7pweHQd-PM8-GUnq-cu3TL2Js7RO\")\n",
        "Aotizhongxin_df.head()"
      ]
    },
    {
      "cell_type": "markdown",
      "metadata": {
        "id": "MMi6xGaDkbCi"
      },
      "source": [
        "**Insight:**\n",
        "- Here we read the data for Aotizhongxin city\n",
        "- Then display the first 5 data"
      ]
    },
    {
      "cell_type": "markdown",
      "metadata": {
        "id": "z-YC0MsQAooj"
      },
      "source": [
        "#### Changping"
      ]
    },
    {
      "cell_type": "code",
      "execution_count": 3,
      "metadata": {
        "colab": {
          "base_uri": "https://localhost:8080/",
          "height": 0
        },
        "id": "EAhrukIoAook",
        "outputId": "a887225b-b9d1-4906-f14b-a52be7816cf7"
      },
      "outputs": [
        {
          "data": {
            "text/html": [
              "<div>\n",
              "<style scoped>\n",
              "    .dataframe tbody tr th:only-of-type {\n",
              "        vertical-align: middle;\n",
              "    }\n",
              "\n",
              "    .dataframe tbody tr th {\n",
              "        vertical-align: top;\n",
              "    }\n",
              "\n",
              "    .dataframe thead th {\n",
              "        text-align: right;\n",
              "    }\n",
              "</style>\n",
              "<table border=\"1\" class=\"dataframe\">\n",
              "  <thead>\n",
              "    <tr style=\"text-align: right;\">\n",
              "      <th></th>\n",
              "      <th>No</th>\n",
              "      <th>year</th>\n",
              "      <th>month</th>\n",
              "      <th>day</th>\n",
              "      <th>hour</th>\n",
              "      <th>PM2.5</th>\n",
              "      <th>PM10</th>\n",
              "      <th>SO2</th>\n",
              "      <th>NO2</th>\n",
              "      <th>CO</th>\n",
              "      <th>O3</th>\n",
              "      <th>TEMP</th>\n",
              "      <th>PRES</th>\n",
              "      <th>DEWP</th>\n",
              "      <th>RAIN</th>\n",
              "      <th>wd</th>\n",
              "      <th>WSPM</th>\n",
              "      <th>station</th>\n",
              "    </tr>\n",
              "  </thead>\n",
              "  <tbody>\n",
              "    <tr>\n",
              "      <th>0</th>\n",
              "      <td>1</td>\n",
              "      <td>2013</td>\n",
              "      <td>3</td>\n",
              "      <td>1</td>\n",
              "      <td>0</td>\n",
              "      <td>3.0</td>\n",
              "      <td>6.0</td>\n",
              "      <td>13.0</td>\n",
              "      <td>7.0</td>\n",
              "      <td>300.0</td>\n",
              "      <td>85.0</td>\n",
              "      <td>-2.3</td>\n",
              "      <td>1020.8</td>\n",
              "      <td>-19.7</td>\n",
              "      <td>0.0</td>\n",
              "      <td>E</td>\n",
              "      <td>0.5</td>\n",
              "      <td>Changping</td>\n",
              "    </tr>\n",
              "    <tr>\n",
              "      <th>1</th>\n",
              "      <td>2</td>\n",
              "      <td>2013</td>\n",
              "      <td>3</td>\n",
              "      <td>1</td>\n",
              "      <td>1</td>\n",
              "      <td>3.0</td>\n",
              "      <td>3.0</td>\n",
              "      <td>6.0</td>\n",
              "      <td>6.0</td>\n",
              "      <td>300.0</td>\n",
              "      <td>85.0</td>\n",
              "      <td>-2.5</td>\n",
              "      <td>1021.3</td>\n",
              "      <td>-19.0</td>\n",
              "      <td>0.0</td>\n",
              "      <td>ENE</td>\n",
              "      <td>0.7</td>\n",
              "      <td>Changping</td>\n",
              "    </tr>\n",
              "    <tr>\n",
              "      <th>2</th>\n",
              "      <td>3</td>\n",
              "      <td>2013</td>\n",
              "      <td>3</td>\n",
              "      <td>1</td>\n",
              "      <td>2</td>\n",
              "      <td>3.0</td>\n",
              "      <td>3.0</td>\n",
              "      <td>22.0</td>\n",
              "      <td>13.0</td>\n",
              "      <td>400.0</td>\n",
              "      <td>74.0</td>\n",
              "      <td>-3.0</td>\n",
              "      <td>1021.3</td>\n",
              "      <td>-19.9</td>\n",
              "      <td>0.0</td>\n",
              "      <td>ENE</td>\n",
              "      <td>0.2</td>\n",
              "      <td>Changping</td>\n",
              "    </tr>\n",
              "    <tr>\n",
              "      <th>3</th>\n",
              "      <td>4</td>\n",
              "      <td>2013</td>\n",
              "      <td>3</td>\n",
              "      <td>1</td>\n",
              "      <td>3</td>\n",
              "      <td>3.0</td>\n",
              "      <td>6.0</td>\n",
              "      <td>12.0</td>\n",
              "      <td>8.0</td>\n",
              "      <td>300.0</td>\n",
              "      <td>81.0</td>\n",
              "      <td>-3.6</td>\n",
              "      <td>1021.8</td>\n",
              "      <td>-19.1</td>\n",
              "      <td>0.0</td>\n",
              "      <td>NNE</td>\n",
              "      <td>1.0</td>\n",
              "      <td>Changping</td>\n",
              "    </tr>\n",
              "    <tr>\n",
              "      <th>4</th>\n",
              "      <td>5</td>\n",
              "      <td>2013</td>\n",
              "      <td>3</td>\n",
              "      <td>1</td>\n",
              "      <td>4</td>\n",
              "      <td>3.0</td>\n",
              "      <td>3.0</td>\n",
              "      <td>14.0</td>\n",
              "      <td>8.0</td>\n",
              "      <td>300.0</td>\n",
              "      <td>81.0</td>\n",
              "      <td>-3.5</td>\n",
              "      <td>1022.3</td>\n",
              "      <td>-19.4</td>\n",
              "      <td>0.0</td>\n",
              "      <td>N</td>\n",
              "      <td>2.1</td>\n",
              "      <td>Changping</td>\n",
              "    </tr>\n",
              "  </tbody>\n",
              "</table>\n",
              "</div>"
            ],
            "text/plain": [
              "   No  year  month  day  hour  PM2.5  PM10   SO2   NO2     CO    O3  TEMP  \\\n",
              "0   1  2013      3    1     0    3.0   6.0  13.0   7.0  300.0  85.0  -2.3   \n",
              "1   2  2013      3    1     1    3.0   3.0   6.0   6.0  300.0  85.0  -2.5   \n",
              "2   3  2013      3    1     2    3.0   3.0  22.0  13.0  400.0  74.0  -3.0   \n",
              "3   4  2013      3    1     3    3.0   6.0  12.0   8.0  300.0  81.0  -3.6   \n",
              "4   5  2013      3    1     4    3.0   3.0  14.0   8.0  300.0  81.0  -3.5   \n",
              "\n",
              "     PRES  DEWP  RAIN   wd  WSPM    station  \n",
              "0  1020.8 -19.7   0.0    E   0.5  Changping  \n",
              "1  1021.3 -19.0   0.0  ENE   0.7  Changping  \n",
              "2  1021.3 -19.9   0.0  ENE   0.2  Changping  \n",
              "3  1021.8 -19.1   0.0  NNE   1.0  Changping  \n",
              "4  1022.3 -19.4   0.0    N   2.1  Changping  "
            ]
          },
          "execution_count": 3,
          "metadata": {},
          "output_type": "execute_result"
        }
      ],
      "source": [
        "Changping_df = pd.read_csv(\"https://drive.google.com/uc?export=download&id=1W0ldKafsjkMxhDEOoViOnbEpwipkWwta\")\n",
        "Changping_df.head()"
      ]
    },
    {
      "cell_type": "markdown",
      "metadata": {
        "id": "MFT8_BswAoor"
      },
      "source": [
        "**Insight:**\n",
        "- Here we read the data for Changping city\n",
        "- Then display the first 5 data"
      ]
    },
    {
      "cell_type": "markdown",
      "metadata": {
        "id": "XTJrsQitBAjg"
      },
      "source": [
        "#### Dingling"
      ]
    },
    {
      "cell_type": "code",
      "execution_count": 4,
      "metadata": {
        "colab": {
          "base_uri": "https://localhost:8080/",
          "height": 0
        },
        "id": "ULjkqTZYBAjn",
        "outputId": "8c3e1b9c-6c53-41cf-bb9a-f42fdad3109a"
      },
      "outputs": [
        {
          "data": {
            "text/html": [
              "<div>\n",
              "<style scoped>\n",
              "    .dataframe tbody tr th:only-of-type {\n",
              "        vertical-align: middle;\n",
              "    }\n",
              "\n",
              "    .dataframe tbody tr th {\n",
              "        vertical-align: top;\n",
              "    }\n",
              "\n",
              "    .dataframe thead th {\n",
              "        text-align: right;\n",
              "    }\n",
              "</style>\n",
              "<table border=\"1\" class=\"dataframe\">\n",
              "  <thead>\n",
              "    <tr style=\"text-align: right;\">\n",
              "      <th></th>\n",
              "      <th>No</th>\n",
              "      <th>year</th>\n",
              "      <th>month</th>\n",
              "      <th>day</th>\n",
              "      <th>hour</th>\n",
              "      <th>PM2.5</th>\n",
              "      <th>PM10</th>\n",
              "      <th>SO2</th>\n",
              "      <th>NO2</th>\n",
              "      <th>CO</th>\n",
              "      <th>O3</th>\n",
              "      <th>TEMP</th>\n",
              "      <th>PRES</th>\n",
              "      <th>DEWP</th>\n",
              "      <th>RAIN</th>\n",
              "      <th>wd</th>\n",
              "      <th>WSPM</th>\n",
              "      <th>station</th>\n",
              "    </tr>\n",
              "  </thead>\n",
              "  <tbody>\n",
              "    <tr>\n",
              "      <th>0</th>\n",
              "      <td>1</td>\n",
              "      <td>2013</td>\n",
              "      <td>3</td>\n",
              "      <td>1</td>\n",
              "      <td>0</td>\n",
              "      <td>4.0</td>\n",
              "      <td>4.0</td>\n",
              "      <td>3.0</td>\n",
              "      <td>NaN</td>\n",
              "      <td>200.0</td>\n",
              "      <td>82.0</td>\n",
              "      <td>-2.3</td>\n",
              "      <td>1020.8</td>\n",
              "      <td>-19.7</td>\n",
              "      <td>0.0</td>\n",
              "      <td>E</td>\n",
              "      <td>0.5</td>\n",
              "      <td>Dingling</td>\n",
              "    </tr>\n",
              "    <tr>\n",
              "      <th>1</th>\n",
              "      <td>2</td>\n",
              "      <td>2013</td>\n",
              "      <td>3</td>\n",
              "      <td>1</td>\n",
              "      <td>1</td>\n",
              "      <td>7.0</td>\n",
              "      <td>7.0</td>\n",
              "      <td>3.0</td>\n",
              "      <td>NaN</td>\n",
              "      <td>200.0</td>\n",
              "      <td>80.0</td>\n",
              "      <td>-2.5</td>\n",
              "      <td>1021.3</td>\n",
              "      <td>-19.0</td>\n",
              "      <td>0.0</td>\n",
              "      <td>ENE</td>\n",
              "      <td>0.7</td>\n",
              "      <td>Dingling</td>\n",
              "    </tr>\n",
              "    <tr>\n",
              "      <th>2</th>\n",
              "      <td>3</td>\n",
              "      <td>2013</td>\n",
              "      <td>3</td>\n",
              "      <td>1</td>\n",
              "      <td>2</td>\n",
              "      <td>5.0</td>\n",
              "      <td>5.0</td>\n",
              "      <td>3.0</td>\n",
              "      <td>2.0</td>\n",
              "      <td>200.0</td>\n",
              "      <td>79.0</td>\n",
              "      <td>-3.0</td>\n",
              "      <td>1021.3</td>\n",
              "      <td>-19.9</td>\n",
              "      <td>0.0</td>\n",
              "      <td>ENE</td>\n",
              "      <td>0.2</td>\n",
              "      <td>Dingling</td>\n",
              "    </tr>\n",
              "    <tr>\n",
              "      <th>3</th>\n",
              "      <td>4</td>\n",
              "      <td>2013</td>\n",
              "      <td>3</td>\n",
              "      <td>1</td>\n",
              "      <td>3</td>\n",
              "      <td>6.0</td>\n",
              "      <td>6.0</td>\n",
              "      <td>3.0</td>\n",
              "      <td>NaN</td>\n",
              "      <td>200.0</td>\n",
              "      <td>79.0</td>\n",
              "      <td>-3.6</td>\n",
              "      <td>1021.8</td>\n",
              "      <td>-19.1</td>\n",
              "      <td>0.0</td>\n",
              "      <td>NNE</td>\n",
              "      <td>1.0</td>\n",
              "      <td>Dingling</td>\n",
              "    </tr>\n",
              "    <tr>\n",
              "      <th>4</th>\n",
              "      <td>5</td>\n",
              "      <td>2013</td>\n",
              "      <td>3</td>\n",
              "      <td>1</td>\n",
              "      <td>4</td>\n",
              "      <td>5.0</td>\n",
              "      <td>5.0</td>\n",
              "      <td>3.0</td>\n",
              "      <td>NaN</td>\n",
              "      <td>200.0</td>\n",
              "      <td>81.0</td>\n",
              "      <td>-3.5</td>\n",
              "      <td>1022.3</td>\n",
              "      <td>-19.4</td>\n",
              "      <td>0.0</td>\n",
              "      <td>N</td>\n",
              "      <td>2.1</td>\n",
              "      <td>Dingling</td>\n",
              "    </tr>\n",
              "  </tbody>\n",
              "</table>\n",
              "</div>"
            ],
            "text/plain": [
              "   No  year  month  day  hour  PM2.5  PM10  SO2  NO2     CO    O3  TEMP  \\\n",
              "0   1  2013      3    1     0    4.0   4.0  3.0  NaN  200.0  82.0  -2.3   \n",
              "1   2  2013      3    1     1    7.0   7.0  3.0  NaN  200.0  80.0  -2.5   \n",
              "2   3  2013      3    1     2    5.0   5.0  3.0  2.0  200.0  79.0  -3.0   \n",
              "3   4  2013      3    1     3    6.0   6.0  3.0  NaN  200.0  79.0  -3.6   \n",
              "4   5  2013      3    1     4    5.0   5.0  3.0  NaN  200.0  81.0  -3.5   \n",
              "\n",
              "     PRES  DEWP  RAIN   wd  WSPM   station  \n",
              "0  1020.8 -19.7   0.0    E   0.5  Dingling  \n",
              "1  1021.3 -19.0   0.0  ENE   0.7  Dingling  \n",
              "2  1021.3 -19.9   0.0  ENE   0.2  Dingling  \n",
              "3  1021.8 -19.1   0.0  NNE   1.0  Dingling  \n",
              "4  1022.3 -19.4   0.0    N   2.1  Dingling  "
            ]
          },
          "execution_count": 4,
          "metadata": {},
          "output_type": "execute_result"
        }
      ],
      "source": [
        "Dingling_df = pd.read_csv(\"https://drive.google.com/uc?export=download&id=1DyKhqZMRSU0zRo0XF7S7EOAsklDGodSV\")\n",
        "Dingling_df.head()"
      ]
    },
    {
      "cell_type": "markdown",
      "metadata": {
        "id": "Sbq5EYOsBAjo"
      },
      "source": [
        "**Insight:**\n",
        "- Here we read the data for Dingling city\n",
        "- Then display the first 5 data"
      ]
    },
    {
      "cell_type": "markdown",
      "metadata": {
        "id": "8A9fkJRnyhPQ"
      },
      "source": [
        "#### Dongsi"
      ]
    },
    {
      "cell_type": "code",
      "execution_count": 5,
      "metadata": {
        "colab": {
          "base_uri": "https://localhost:8080/",
          "height": 0
        },
        "id": "CZ-KPvCpyhPX",
        "outputId": "d1b03a67-bad2-46ad-f03f-ea8e66bb57f3"
      },
      "outputs": [
        {
          "data": {
            "text/html": [
              "<div>\n",
              "<style scoped>\n",
              "    .dataframe tbody tr th:only-of-type {\n",
              "        vertical-align: middle;\n",
              "    }\n",
              "\n",
              "    .dataframe tbody tr th {\n",
              "        vertical-align: top;\n",
              "    }\n",
              "\n",
              "    .dataframe thead th {\n",
              "        text-align: right;\n",
              "    }\n",
              "</style>\n",
              "<table border=\"1\" class=\"dataframe\">\n",
              "  <thead>\n",
              "    <tr style=\"text-align: right;\">\n",
              "      <th></th>\n",
              "      <th>No</th>\n",
              "      <th>year</th>\n",
              "      <th>month</th>\n",
              "      <th>day</th>\n",
              "      <th>hour</th>\n",
              "      <th>PM2.5</th>\n",
              "      <th>PM10</th>\n",
              "      <th>SO2</th>\n",
              "      <th>NO2</th>\n",
              "      <th>CO</th>\n",
              "      <th>O3</th>\n",
              "      <th>TEMP</th>\n",
              "      <th>PRES</th>\n",
              "      <th>DEWP</th>\n",
              "      <th>RAIN</th>\n",
              "      <th>wd</th>\n",
              "      <th>WSPM</th>\n",
              "      <th>station</th>\n",
              "    </tr>\n",
              "  </thead>\n",
              "  <tbody>\n",
              "    <tr>\n",
              "      <th>0</th>\n",
              "      <td>1</td>\n",
              "      <td>2013</td>\n",
              "      <td>3</td>\n",
              "      <td>1</td>\n",
              "      <td>0</td>\n",
              "      <td>9.0</td>\n",
              "      <td>9.0</td>\n",
              "      <td>3.0</td>\n",
              "      <td>17.0</td>\n",
              "      <td>300.0</td>\n",
              "      <td>89.0</td>\n",
              "      <td>-0.5</td>\n",
              "      <td>1024.5</td>\n",
              "      <td>-21.4</td>\n",
              "      <td>0.0</td>\n",
              "      <td>NNW</td>\n",
              "      <td>5.7</td>\n",
              "      <td>Dongsi</td>\n",
              "    </tr>\n",
              "    <tr>\n",
              "      <th>1</th>\n",
              "      <td>2</td>\n",
              "      <td>2013</td>\n",
              "      <td>3</td>\n",
              "      <td>1</td>\n",
              "      <td>1</td>\n",
              "      <td>4.0</td>\n",
              "      <td>4.0</td>\n",
              "      <td>3.0</td>\n",
              "      <td>16.0</td>\n",
              "      <td>300.0</td>\n",
              "      <td>88.0</td>\n",
              "      <td>-0.7</td>\n",
              "      <td>1025.1</td>\n",
              "      <td>-22.1</td>\n",
              "      <td>0.0</td>\n",
              "      <td>NW</td>\n",
              "      <td>3.9</td>\n",
              "      <td>Dongsi</td>\n",
              "    </tr>\n",
              "    <tr>\n",
              "      <th>2</th>\n",
              "      <td>3</td>\n",
              "      <td>2013</td>\n",
              "      <td>3</td>\n",
              "      <td>1</td>\n",
              "      <td>2</td>\n",
              "      <td>7.0</td>\n",
              "      <td>7.0</td>\n",
              "      <td>NaN</td>\n",
              "      <td>17.0</td>\n",
              "      <td>300.0</td>\n",
              "      <td>60.0</td>\n",
              "      <td>-1.2</td>\n",
              "      <td>1025.3</td>\n",
              "      <td>-24.6</td>\n",
              "      <td>0.0</td>\n",
              "      <td>NNW</td>\n",
              "      <td>5.3</td>\n",
              "      <td>Dongsi</td>\n",
              "    </tr>\n",
              "    <tr>\n",
              "      <th>3</th>\n",
              "      <td>4</td>\n",
              "      <td>2013</td>\n",
              "      <td>3</td>\n",
              "      <td>1</td>\n",
              "      <td>3</td>\n",
              "      <td>3.0</td>\n",
              "      <td>3.0</td>\n",
              "      <td>5.0</td>\n",
              "      <td>18.0</td>\n",
              "      <td>NaN</td>\n",
              "      <td>NaN</td>\n",
              "      <td>-1.4</td>\n",
              "      <td>1026.2</td>\n",
              "      <td>-25.5</td>\n",
              "      <td>0.0</td>\n",
              "      <td>N</td>\n",
              "      <td>4.9</td>\n",
              "      <td>Dongsi</td>\n",
              "    </tr>\n",
              "    <tr>\n",
              "      <th>4</th>\n",
              "      <td>5</td>\n",
              "      <td>2013</td>\n",
              "      <td>3</td>\n",
              "      <td>1</td>\n",
              "      <td>4</td>\n",
              "      <td>3.0</td>\n",
              "      <td>3.0</td>\n",
              "      <td>7.0</td>\n",
              "      <td>NaN</td>\n",
              "      <td>200.0</td>\n",
              "      <td>84.0</td>\n",
              "      <td>-1.9</td>\n",
              "      <td>1027.1</td>\n",
              "      <td>-24.5</td>\n",
              "      <td>0.0</td>\n",
              "      <td>NNW</td>\n",
              "      <td>3.2</td>\n",
              "      <td>Dongsi</td>\n",
              "    </tr>\n",
              "  </tbody>\n",
              "</table>\n",
              "</div>"
            ],
            "text/plain": [
              "   No  year  month  day  hour  PM2.5  PM10  SO2   NO2     CO    O3  TEMP  \\\n",
              "0   1  2013      3    1     0    9.0   9.0  3.0  17.0  300.0  89.0  -0.5   \n",
              "1   2  2013      3    1     1    4.0   4.0  3.0  16.0  300.0  88.0  -0.7   \n",
              "2   3  2013      3    1     2    7.0   7.0  NaN  17.0  300.0  60.0  -1.2   \n",
              "3   4  2013      3    1     3    3.0   3.0  5.0  18.0    NaN   NaN  -1.4   \n",
              "4   5  2013      3    1     4    3.0   3.0  7.0   NaN  200.0  84.0  -1.9   \n",
              "\n",
              "     PRES  DEWP  RAIN   wd  WSPM station  \n",
              "0  1024.5 -21.4   0.0  NNW   5.7  Dongsi  \n",
              "1  1025.1 -22.1   0.0   NW   3.9  Dongsi  \n",
              "2  1025.3 -24.6   0.0  NNW   5.3  Dongsi  \n",
              "3  1026.2 -25.5   0.0    N   4.9  Dongsi  \n",
              "4  1027.1 -24.5   0.0  NNW   3.2  Dongsi  "
            ]
          },
          "execution_count": 5,
          "metadata": {},
          "output_type": "execute_result"
        }
      ],
      "source": [
        "Dongsi_df = pd.read_csv(\"https://drive.google.com/uc?export=download&id=1xpKk_nR_KeH7ewdhl5NXj89ZbIsrMrdl\")\n",
        "Dongsi_df.head()"
      ]
    },
    {
      "cell_type": "markdown",
      "metadata": {
        "id": "atpZ2bPKyhPX"
      },
      "source": [
        "**Insight:**\n",
        "- Here we read the data for Dongsi city\n",
        "- Then display the first 5 data"
      ]
    },
    {
      "cell_type": "markdown",
      "metadata": {
        "id": "MI-fdMznyiqp"
      },
      "source": [
        "#### Guanyuan"
      ]
    },
    {
      "cell_type": "code",
      "execution_count": 6,
      "metadata": {
        "colab": {
          "base_uri": "https://localhost:8080/",
          "height": 0
        },
        "id": "GPL-zY7_yiqw",
        "outputId": "e1acba8e-c86a-4b34-a4bc-6448d96bd17f"
      },
      "outputs": [
        {
          "data": {
            "text/html": [
              "<div>\n",
              "<style scoped>\n",
              "    .dataframe tbody tr th:only-of-type {\n",
              "        vertical-align: middle;\n",
              "    }\n",
              "\n",
              "    .dataframe tbody tr th {\n",
              "        vertical-align: top;\n",
              "    }\n",
              "\n",
              "    .dataframe thead th {\n",
              "        text-align: right;\n",
              "    }\n",
              "</style>\n",
              "<table border=\"1\" class=\"dataframe\">\n",
              "  <thead>\n",
              "    <tr style=\"text-align: right;\">\n",
              "      <th></th>\n",
              "      <th>No</th>\n",
              "      <th>year</th>\n",
              "      <th>month</th>\n",
              "      <th>day</th>\n",
              "      <th>hour</th>\n",
              "      <th>PM2.5</th>\n",
              "      <th>PM10</th>\n",
              "      <th>SO2</th>\n",
              "      <th>NO2</th>\n",
              "      <th>CO</th>\n",
              "      <th>O3</th>\n",
              "      <th>TEMP</th>\n",
              "      <th>PRES</th>\n",
              "      <th>DEWP</th>\n",
              "      <th>RAIN</th>\n",
              "      <th>wd</th>\n",
              "      <th>WSPM</th>\n",
              "      <th>station</th>\n",
              "    </tr>\n",
              "  </thead>\n",
              "  <tbody>\n",
              "    <tr>\n",
              "      <th>0</th>\n",
              "      <td>1</td>\n",
              "      <td>2013</td>\n",
              "      <td>3</td>\n",
              "      <td>1</td>\n",
              "      <td>0</td>\n",
              "      <td>4.0</td>\n",
              "      <td>4.0</td>\n",
              "      <td>14.0</td>\n",
              "      <td>20.0</td>\n",
              "      <td>300.0</td>\n",
              "      <td>69.0</td>\n",
              "      <td>-0.7</td>\n",
              "      <td>1023.0</td>\n",
              "      <td>-18.8</td>\n",
              "      <td>0.0</td>\n",
              "      <td>NNW</td>\n",
              "      <td>4.4</td>\n",
              "      <td>Guanyuan</td>\n",
              "    </tr>\n",
              "    <tr>\n",
              "      <th>1</th>\n",
              "      <td>2</td>\n",
              "      <td>2013</td>\n",
              "      <td>3</td>\n",
              "      <td>1</td>\n",
              "      <td>1</td>\n",
              "      <td>4.0</td>\n",
              "      <td>4.0</td>\n",
              "      <td>13.0</td>\n",
              "      <td>17.0</td>\n",
              "      <td>300.0</td>\n",
              "      <td>72.0</td>\n",
              "      <td>-1.1</td>\n",
              "      <td>1023.2</td>\n",
              "      <td>-18.2</td>\n",
              "      <td>0.0</td>\n",
              "      <td>N</td>\n",
              "      <td>4.7</td>\n",
              "      <td>Guanyuan</td>\n",
              "    </tr>\n",
              "    <tr>\n",
              "      <th>2</th>\n",
              "      <td>3</td>\n",
              "      <td>2013</td>\n",
              "      <td>3</td>\n",
              "      <td>1</td>\n",
              "      <td>2</td>\n",
              "      <td>3.0</td>\n",
              "      <td>3.0</td>\n",
              "      <td>10.0</td>\n",
              "      <td>19.0</td>\n",
              "      <td>300.0</td>\n",
              "      <td>69.0</td>\n",
              "      <td>-1.1</td>\n",
              "      <td>1023.5</td>\n",
              "      <td>-18.2</td>\n",
              "      <td>0.0</td>\n",
              "      <td>NNW</td>\n",
              "      <td>5.6</td>\n",
              "      <td>Guanyuan</td>\n",
              "    </tr>\n",
              "    <tr>\n",
              "      <th>3</th>\n",
              "      <td>4</td>\n",
              "      <td>2013</td>\n",
              "      <td>3</td>\n",
              "      <td>1</td>\n",
              "      <td>3</td>\n",
              "      <td>3.0</td>\n",
              "      <td>6.0</td>\n",
              "      <td>7.0</td>\n",
              "      <td>24.0</td>\n",
              "      <td>400.0</td>\n",
              "      <td>62.0</td>\n",
              "      <td>-1.4</td>\n",
              "      <td>1024.5</td>\n",
              "      <td>-19.4</td>\n",
              "      <td>0.0</td>\n",
              "      <td>NW</td>\n",
              "      <td>3.1</td>\n",
              "      <td>Guanyuan</td>\n",
              "    </tr>\n",
              "    <tr>\n",
              "      <th>4</th>\n",
              "      <td>5</td>\n",
              "      <td>2013</td>\n",
              "      <td>3</td>\n",
              "      <td>1</td>\n",
              "      <td>4</td>\n",
              "      <td>3.0</td>\n",
              "      <td>6.0</td>\n",
              "      <td>5.0</td>\n",
              "      <td>14.0</td>\n",
              "      <td>400.0</td>\n",
              "      <td>71.0</td>\n",
              "      <td>-2.0</td>\n",
              "      <td>1025.2</td>\n",
              "      <td>-19.5</td>\n",
              "      <td>0.0</td>\n",
              "      <td>N</td>\n",
              "      <td>2.0</td>\n",
              "      <td>Guanyuan</td>\n",
              "    </tr>\n",
              "  </tbody>\n",
              "</table>\n",
              "</div>"
            ],
            "text/plain": [
              "   No  year  month  day  hour  PM2.5  PM10   SO2   NO2     CO    O3  TEMP  \\\n",
              "0   1  2013      3    1     0    4.0   4.0  14.0  20.0  300.0  69.0  -0.7   \n",
              "1   2  2013      3    1     1    4.0   4.0  13.0  17.0  300.0  72.0  -1.1   \n",
              "2   3  2013      3    1     2    3.0   3.0  10.0  19.0  300.0  69.0  -1.1   \n",
              "3   4  2013      3    1     3    3.0   6.0   7.0  24.0  400.0  62.0  -1.4   \n",
              "4   5  2013      3    1     4    3.0   6.0   5.0  14.0  400.0  71.0  -2.0   \n",
              "\n",
              "     PRES  DEWP  RAIN   wd  WSPM   station  \n",
              "0  1023.0 -18.8   0.0  NNW   4.4  Guanyuan  \n",
              "1  1023.2 -18.2   0.0    N   4.7  Guanyuan  \n",
              "2  1023.5 -18.2   0.0  NNW   5.6  Guanyuan  \n",
              "3  1024.5 -19.4   0.0   NW   3.1  Guanyuan  \n",
              "4  1025.2 -19.5   0.0    N   2.0  Guanyuan  "
            ]
          },
          "execution_count": 6,
          "metadata": {},
          "output_type": "execute_result"
        }
      ],
      "source": [
        "Guanyuan_df = pd.read_csv(\"https://drive.google.com/uc?export=download&id=1_v54L-RPyecGq0WFYUhzbb-L7-_6BnVK\")\n",
        "Guanyuan_df.head()"
      ]
    },
    {
      "cell_type": "markdown",
      "metadata": {
        "id": "t6IpwMUyyiqw"
      },
      "source": [
        "**Insight:**\n",
        "- Here we read the data for Guanyuan city\n",
        "- Then display the first 5 data"
      ]
    },
    {
      "cell_type": "markdown",
      "metadata": {
        "id": "axThKAIeyjif"
      },
      "source": [
        "#### Gucheng"
      ]
    },
    {
      "cell_type": "code",
      "execution_count": 7,
      "metadata": {
        "colab": {
          "base_uri": "https://localhost:8080/",
          "height": 0
        },
        "id": "GEEz2-rWyjil",
        "outputId": "74270f8d-4d19-47c5-8e32-58a94d659f31"
      },
      "outputs": [
        {
          "data": {
            "text/html": [
              "<div>\n",
              "<style scoped>\n",
              "    .dataframe tbody tr th:only-of-type {\n",
              "        vertical-align: middle;\n",
              "    }\n",
              "\n",
              "    .dataframe tbody tr th {\n",
              "        vertical-align: top;\n",
              "    }\n",
              "\n",
              "    .dataframe thead th {\n",
              "        text-align: right;\n",
              "    }\n",
              "</style>\n",
              "<table border=\"1\" class=\"dataframe\">\n",
              "  <thead>\n",
              "    <tr style=\"text-align: right;\">\n",
              "      <th></th>\n",
              "      <th>No</th>\n",
              "      <th>year</th>\n",
              "      <th>month</th>\n",
              "      <th>day</th>\n",
              "      <th>hour</th>\n",
              "      <th>PM2.5</th>\n",
              "      <th>PM10</th>\n",
              "      <th>SO2</th>\n",
              "      <th>NO2</th>\n",
              "      <th>CO</th>\n",
              "      <th>O3</th>\n",
              "      <th>TEMP</th>\n",
              "      <th>PRES</th>\n",
              "      <th>DEWP</th>\n",
              "      <th>RAIN</th>\n",
              "      <th>wd</th>\n",
              "      <th>WSPM</th>\n",
              "      <th>station</th>\n",
              "    </tr>\n",
              "  </thead>\n",
              "  <tbody>\n",
              "    <tr>\n",
              "      <th>0</th>\n",
              "      <td>1</td>\n",
              "      <td>2013</td>\n",
              "      <td>3</td>\n",
              "      <td>1</td>\n",
              "      <td>0</td>\n",
              "      <td>6.0</td>\n",
              "      <td>18.0</td>\n",
              "      <td>5.0</td>\n",
              "      <td>NaN</td>\n",
              "      <td>800.0</td>\n",
              "      <td>88.0</td>\n",
              "      <td>0.1</td>\n",
              "      <td>1021.1</td>\n",
              "      <td>-18.6</td>\n",
              "      <td>0.0</td>\n",
              "      <td>NW</td>\n",
              "      <td>4.4</td>\n",
              "      <td>Gucheng</td>\n",
              "    </tr>\n",
              "    <tr>\n",
              "      <th>1</th>\n",
              "      <td>2</td>\n",
              "      <td>2013</td>\n",
              "      <td>3</td>\n",
              "      <td>1</td>\n",
              "      <td>1</td>\n",
              "      <td>6.0</td>\n",
              "      <td>15.0</td>\n",
              "      <td>5.0</td>\n",
              "      <td>NaN</td>\n",
              "      <td>800.0</td>\n",
              "      <td>88.0</td>\n",
              "      <td>-0.3</td>\n",
              "      <td>1021.5</td>\n",
              "      <td>-19.0</td>\n",
              "      <td>0.0</td>\n",
              "      <td>NW</td>\n",
              "      <td>4.0</td>\n",
              "      <td>Gucheng</td>\n",
              "    </tr>\n",
              "    <tr>\n",
              "      <th>2</th>\n",
              "      <td>3</td>\n",
              "      <td>2013</td>\n",
              "      <td>3</td>\n",
              "      <td>1</td>\n",
              "      <td>2</td>\n",
              "      <td>5.0</td>\n",
              "      <td>18.0</td>\n",
              "      <td>NaN</td>\n",
              "      <td>NaN</td>\n",
              "      <td>700.0</td>\n",
              "      <td>52.0</td>\n",
              "      <td>-0.7</td>\n",
              "      <td>1021.5</td>\n",
              "      <td>-19.8</td>\n",
              "      <td>0.0</td>\n",
              "      <td>WNW</td>\n",
              "      <td>4.6</td>\n",
              "      <td>Gucheng</td>\n",
              "    </tr>\n",
              "    <tr>\n",
              "      <th>3</th>\n",
              "      <td>4</td>\n",
              "      <td>2013</td>\n",
              "      <td>3</td>\n",
              "      <td>1</td>\n",
              "      <td>3</td>\n",
              "      <td>6.0</td>\n",
              "      <td>20.0</td>\n",
              "      <td>6.0</td>\n",
              "      <td>NaN</td>\n",
              "      <td>NaN</td>\n",
              "      <td>NaN</td>\n",
              "      <td>-1.0</td>\n",
              "      <td>1022.7</td>\n",
              "      <td>-21.2</td>\n",
              "      <td>0.0</td>\n",
              "      <td>W</td>\n",
              "      <td>2.8</td>\n",
              "      <td>Gucheng</td>\n",
              "    </tr>\n",
              "    <tr>\n",
              "      <th>4</th>\n",
              "      <td>5</td>\n",
              "      <td>2013</td>\n",
              "      <td>3</td>\n",
              "      <td>1</td>\n",
              "      <td>4</td>\n",
              "      <td>5.0</td>\n",
              "      <td>17.0</td>\n",
              "      <td>5.0</td>\n",
              "      <td>NaN</td>\n",
              "      <td>600.0</td>\n",
              "      <td>73.0</td>\n",
              "      <td>-1.3</td>\n",
              "      <td>1023.0</td>\n",
              "      <td>-21.4</td>\n",
              "      <td>0.0</td>\n",
              "      <td>WNW</td>\n",
              "      <td>3.6</td>\n",
              "      <td>Gucheng</td>\n",
              "    </tr>\n",
              "  </tbody>\n",
              "</table>\n",
              "</div>"
            ],
            "text/plain": [
              "   No  year  month  day  hour  PM2.5  PM10  SO2  NO2     CO    O3  TEMP  \\\n",
              "0   1  2013      3    1     0    6.0  18.0  5.0  NaN  800.0  88.0   0.1   \n",
              "1   2  2013      3    1     1    6.0  15.0  5.0  NaN  800.0  88.0  -0.3   \n",
              "2   3  2013      3    1     2    5.0  18.0  NaN  NaN  700.0  52.0  -0.7   \n",
              "3   4  2013      3    1     3    6.0  20.0  6.0  NaN    NaN   NaN  -1.0   \n",
              "4   5  2013      3    1     4    5.0  17.0  5.0  NaN  600.0  73.0  -1.3   \n",
              "\n",
              "     PRES  DEWP  RAIN   wd  WSPM  station  \n",
              "0  1021.1 -18.6   0.0   NW   4.4  Gucheng  \n",
              "1  1021.5 -19.0   0.0   NW   4.0  Gucheng  \n",
              "2  1021.5 -19.8   0.0  WNW   4.6  Gucheng  \n",
              "3  1022.7 -21.2   0.0    W   2.8  Gucheng  \n",
              "4  1023.0 -21.4   0.0  WNW   3.6  Gucheng  "
            ]
          },
          "execution_count": 7,
          "metadata": {},
          "output_type": "execute_result"
        }
      ],
      "source": [
        "Gucheng_df = pd.read_csv(\"https://drive.google.com/uc?export=download&id=1DI-TGiuGlUsZ-7ndhakX168wB936Hqul\")\n",
        "Gucheng_df.head()"
      ]
    },
    {
      "cell_type": "markdown",
      "metadata": {
        "id": "JJ8bYvCgyjil"
      },
      "source": [
        "**Insight:**\n",
        "- Here we read the data for Gucheng city\n",
        "- Then display the first 5 data"
      ]
    },
    {
      "cell_type": "markdown",
      "metadata": {
        "id": "6eEu_VtkykIA"
      },
      "source": [
        "#### Huairou"
      ]
    },
    {
      "cell_type": "code",
      "execution_count": 8,
      "metadata": {
        "colab": {
          "base_uri": "https://localhost:8080/",
          "height": 0
        },
        "id": "TmrY-f5IykIA",
        "outputId": "00f6c369-dae1-45b1-dd96-3852a51abe89"
      },
      "outputs": [
        {
          "data": {
            "text/html": [
              "<div>\n",
              "<style scoped>\n",
              "    .dataframe tbody tr th:only-of-type {\n",
              "        vertical-align: middle;\n",
              "    }\n",
              "\n",
              "    .dataframe tbody tr th {\n",
              "        vertical-align: top;\n",
              "    }\n",
              "\n",
              "    .dataframe thead th {\n",
              "        text-align: right;\n",
              "    }\n",
              "</style>\n",
              "<table border=\"1\" class=\"dataframe\">\n",
              "  <thead>\n",
              "    <tr style=\"text-align: right;\">\n",
              "      <th></th>\n",
              "      <th>No</th>\n",
              "      <th>year</th>\n",
              "      <th>month</th>\n",
              "      <th>day</th>\n",
              "      <th>hour</th>\n",
              "      <th>PM2.5</th>\n",
              "      <th>PM10</th>\n",
              "      <th>SO2</th>\n",
              "      <th>NO2</th>\n",
              "      <th>CO</th>\n",
              "      <th>O3</th>\n",
              "      <th>TEMP</th>\n",
              "      <th>PRES</th>\n",
              "      <th>DEWP</th>\n",
              "      <th>RAIN</th>\n",
              "      <th>wd</th>\n",
              "      <th>WSPM</th>\n",
              "      <th>station</th>\n",
              "    </tr>\n",
              "  </thead>\n",
              "  <tbody>\n",
              "    <tr>\n",
              "      <th>0</th>\n",
              "      <td>1</td>\n",
              "      <td>2013</td>\n",
              "      <td>3</td>\n",
              "      <td>1</td>\n",
              "      <td>0</td>\n",
              "      <td>7.0</td>\n",
              "      <td>7.0</td>\n",
              "      <td>3.0</td>\n",
              "      <td>2.0</td>\n",
              "      <td>100.0</td>\n",
              "      <td>91.0</td>\n",
              "      <td>-2.3</td>\n",
              "      <td>1020.3</td>\n",
              "      <td>-20.7</td>\n",
              "      <td>0.0</td>\n",
              "      <td>WNW</td>\n",
              "      <td>3.1</td>\n",
              "      <td>Huairou</td>\n",
              "    </tr>\n",
              "    <tr>\n",
              "      <th>1</th>\n",
              "      <td>2</td>\n",
              "      <td>2013</td>\n",
              "      <td>3</td>\n",
              "      <td>1</td>\n",
              "      <td>1</td>\n",
              "      <td>4.0</td>\n",
              "      <td>4.0</td>\n",
              "      <td>3.0</td>\n",
              "      <td>NaN</td>\n",
              "      <td>100.0</td>\n",
              "      <td>92.0</td>\n",
              "      <td>-2.7</td>\n",
              "      <td>1020.8</td>\n",
              "      <td>-20.5</td>\n",
              "      <td>0.0</td>\n",
              "      <td>NNW</td>\n",
              "      <td>1.5</td>\n",
              "      <td>Huairou</td>\n",
              "    </tr>\n",
              "    <tr>\n",
              "      <th>2</th>\n",
              "      <td>3</td>\n",
              "      <td>2013</td>\n",
              "      <td>3</td>\n",
              "      <td>1</td>\n",
              "      <td>2</td>\n",
              "      <td>4.0</td>\n",
              "      <td>4.0</td>\n",
              "      <td>NaN</td>\n",
              "      <td>NaN</td>\n",
              "      <td>100.0</td>\n",
              "      <td>91.0</td>\n",
              "      <td>-3.2</td>\n",
              "      <td>1020.6</td>\n",
              "      <td>-21.4</td>\n",
              "      <td>0.0</td>\n",
              "      <td>NW</td>\n",
              "      <td>1.8</td>\n",
              "      <td>Huairou</td>\n",
              "    </tr>\n",
              "    <tr>\n",
              "      <th>3</th>\n",
              "      <td>4</td>\n",
              "      <td>2013</td>\n",
              "      <td>3</td>\n",
              "      <td>1</td>\n",
              "      <td>3</td>\n",
              "      <td>3.0</td>\n",
              "      <td>3.0</td>\n",
              "      <td>3.0</td>\n",
              "      <td>2.0</td>\n",
              "      <td>NaN</td>\n",
              "      <td>NaN</td>\n",
              "      <td>-3.3</td>\n",
              "      <td>1021.3</td>\n",
              "      <td>-23.7</td>\n",
              "      <td>0.0</td>\n",
              "      <td>NNW</td>\n",
              "      <td>2.4</td>\n",
              "      <td>Huairou</td>\n",
              "    </tr>\n",
              "    <tr>\n",
              "      <th>4</th>\n",
              "      <td>5</td>\n",
              "      <td>2013</td>\n",
              "      <td>3</td>\n",
              "      <td>1</td>\n",
              "      <td>4</td>\n",
              "      <td>3.0</td>\n",
              "      <td>3.0</td>\n",
              "      <td>7.0</td>\n",
              "      <td>NaN</td>\n",
              "      <td>300.0</td>\n",
              "      <td>86.0</td>\n",
              "      <td>-4.1</td>\n",
              "      <td>1022.1</td>\n",
              "      <td>-22.7</td>\n",
              "      <td>0.0</td>\n",
              "      <td>NNW</td>\n",
              "      <td>2.2</td>\n",
              "      <td>Huairou</td>\n",
              "    </tr>\n",
              "  </tbody>\n",
              "</table>\n",
              "</div>"
            ],
            "text/plain": [
              "   No  year  month  day  hour  PM2.5  PM10  SO2  NO2     CO    O3  TEMP  \\\n",
              "0   1  2013      3    1     0    7.0   7.0  3.0  2.0  100.0  91.0  -2.3   \n",
              "1   2  2013      3    1     1    4.0   4.0  3.0  NaN  100.0  92.0  -2.7   \n",
              "2   3  2013      3    1     2    4.0   4.0  NaN  NaN  100.0  91.0  -3.2   \n",
              "3   4  2013      3    1     3    3.0   3.0  3.0  2.0    NaN   NaN  -3.3   \n",
              "4   5  2013      3    1     4    3.0   3.0  7.0  NaN  300.0  86.0  -4.1   \n",
              "\n",
              "     PRES  DEWP  RAIN   wd  WSPM  station  \n",
              "0  1020.3 -20.7   0.0  WNW   3.1  Huairou  \n",
              "1  1020.8 -20.5   0.0  NNW   1.5  Huairou  \n",
              "2  1020.6 -21.4   0.0   NW   1.8  Huairou  \n",
              "3  1021.3 -23.7   0.0  NNW   2.4  Huairou  \n",
              "4  1022.1 -22.7   0.0  NNW   2.2  Huairou  "
            ]
          },
          "execution_count": 8,
          "metadata": {},
          "output_type": "execute_result"
        }
      ],
      "source": [
        "Huairou_df = pd.read_csv(\"https://drive.google.com/uc?export=download&id=1BnJyIWzOlxZkAk0dVVbcek9nkZdtczva\")\n",
        "Huairou_df.head()"
      ]
    },
    {
      "cell_type": "markdown",
      "metadata": {
        "id": "y-_P-nFdykIB"
      },
      "source": [
        "**Insight:**\n",
        "- Here we read the data for Huairou city\n",
        "- Then display the first 5 data"
      ]
    },
    {
      "cell_type": "markdown",
      "metadata": {
        "id": "RK7WBA2Aykhe"
      },
      "source": [
        "#### Nongzhanguan"
      ]
    },
    {
      "cell_type": "code",
      "execution_count": 9,
      "metadata": {
        "colab": {
          "base_uri": "https://localhost:8080/",
          "height": 0
        },
        "id": "6OL1okA1ykhe",
        "outputId": "b9e8fe08-0caa-4ef5-adda-d329c8dad5c8"
      },
      "outputs": [
        {
          "data": {
            "text/html": [
              "<div>\n",
              "<style scoped>\n",
              "    .dataframe tbody tr th:only-of-type {\n",
              "        vertical-align: middle;\n",
              "    }\n",
              "\n",
              "    .dataframe tbody tr th {\n",
              "        vertical-align: top;\n",
              "    }\n",
              "\n",
              "    .dataframe thead th {\n",
              "        text-align: right;\n",
              "    }\n",
              "</style>\n",
              "<table border=\"1\" class=\"dataframe\">\n",
              "  <thead>\n",
              "    <tr style=\"text-align: right;\">\n",
              "      <th></th>\n",
              "      <th>No</th>\n",
              "      <th>year</th>\n",
              "      <th>month</th>\n",
              "      <th>day</th>\n",
              "      <th>hour</th>\n",
              "      <th>PM2.5</th>\n",
              "      <th>PM10</th>\n",
              "      <th>SO2</th>\n",
              "      <th>NO2</th>\n",
              "      <th>CO</th>\n",
              "      <th>O3</th>\n",
              "      <th>TEMP</th>\n",
              "      <th>PRES</th>\n",
              "      <th>DEWP</th>\n",
              "      <th>RAIN</th>\n",
              "      <th>wd</th>\n",
              "      <th>WSPM</th>\n",
              "      <th>station</th>\n",
              "    </tr>\n",
              "  </thead>\n",
              "  <tbody>\n",
              "    <tr>\n",
              "      <th>0</th>\n",
              "      <td>1</td>\n",
              "      <td>2013</td>\n",
              "      <td>3</td>\n",
              "      <td>1</td>\n",
              "      <td>0</td>\n",
              "      <td>5.0</td>\n",
              "      <td>14.0</td>\n",
              "      <td>4.0</td>\n",
              "      <td>12.0</td>\n",
              "      <td>200.0</td>\n",
              "      <td>85.0</td>\n",
              "      <td>-0.5</td>\n",
              "      <td>1024.5</td>\n",
              "      <td>-21.4</td>\n",
              "      <td>0.0</td>\n",
              "      <td>NNW</td>\n",
              "      <td>5.7</td>\n",
              "      <td>Nongzhanguan</td>\n",
              "    </tr>\n",
              "    <tr>\n",
              "      <th>1</th>\n",
              "      <td>2</td>\n",
              "      <td>2013</td>\n",
              "      <td>3</td>\n",
              "      <td>1</td>\n",
              "      <td>1</td>\n",
              "      <td>8.0</td>\n",
              "      <td>12.0</td>\n",
              "      <td>6.0</td>\n",
              "      <td>14.0</td>\n",
              "      <td>200.0</td>\n",
              "      <td>84.0</td>\n",
              "      <td>-0.7</td>\n",
              "      <td>1025.1</td>\n",
              "      <td>-22.1</td>\n",
              "      <td>0.0</td>\n",
              "      <td>NW</td>\n",
              "      <td>3.9</td>\n",
              "      <td>Nongzhanguan</td>\n",
              "    </tr>\n",
              "    <tr>\n",
              "      <th>2</th>\n",
              "      <td>3</td>\n",
              "      <td>2013</td>\n",
              "      <td>3</td>\n",
              "      <td>1</td>\n",
              "      <td>2</td>\n",
              "      <td>3.0</td>\n",
              "      <td>6.0</td>\n",
              "      <td>5.0</td>\n",
              "      <td>14.0</td>\n",
              "      <td>200.0</td>\n",
              "      <td>83.0</td>\n",
              "      <td>-1.2</td>\n",
              "      <td>1025.3</td>\n",
              "      <td>-24.6</td>\n",
              "      <td>0.0</td>\n",
              "      <td>NNW</td>\n",
              "      <td>5.3</td>\n",
              "      <td>Nongzhanguan</td>\n",
              "    </tr>\n",
              "    <tr>\n",
              "      <th>3</th>\n",
              "      <td>4</td>\n",
              "      <td>2013</td>\n",
              "      <td>3</td>\n",
              "      <td>1</td>\n",
              "      <td>3</td>\n",
              "      <td>5.0</td>\n",
              "      <td>5.0</td>\n",
              "      <td>5.0</td>\n",
              "      <td>14.0</td>\n",
              "      <td>200.0</td>\n",
              "      <td>84.0</td>\n",
              "      <td>-1.4</td>\n",
              "      <td>1026.2</td>\n",
              "      <td>-25.5</td>\n",
              "      <td>0.0</td>\n",
              "      <td>N</td>\n",
              "      <td>4.9</td>\n",
              "      <td>Nongzhanguan</td>\n",
              "    </tr>\n",
              "    <tr>\n",
              "      <th>4</th>\n",
              "      <td>5</td>\n",
              "      <td>2013</td>\n",
              "      <td>3</td>\n",
              "      <td>1</td>\n",
              "      <td>4</td>\n",
              "      <td>5.0</td>\n",
              "      <td>5.0</td>\n",
              "      <td>6.0</td>\n",
              "      <td>21.0</td>\n",
              "      <td>200.0</td>\n",
              "      <td>77.0</td>\n",
              "      <td>-1.9</td>\n",
              "      <td>1027.1</td>\n",
              "      <td>-24.5</td>\n",
              "      <td>0.0</td>\n",
              "      <td>NNW</td>\n",
              "      <td>3.2</td>\n",
              "      <td>Nongzhanguan</td>\n",
              "    </tr>\n",
              "  </tbody>\n",
              "</table>\n",
              "</div>"
            ],
            "text/plain": [
              "   No  year  month  day  hour  PM2.5  PM10  SO2   NO2     CO    O3  TEMP  \\\n",
              "0   1  2013      3    1     0    5.0  14.0  4.0  12.0  200.0  85.0  -0.5   \n",
              "1   2  2013      3    1     1    8.0  12.0  6.0  14.0  200.0  84.0  -0.7   \n",
              "2   3  2013      3    1     2    3.0   6.0  5.0  14.0  200.0  83.0  -1.2   \n",
              "3   4  2013      3    1     3    5.0   5.0  5.0  14.0  200.0  84.0  -1.4   \n",
              "4   5  2013      3    1     4    5.0   5.0  6.0  21.0  200.0  77.0  -1.9   \n",
              "\n",
              "     PRES  DEWP  RAIN   wd  WSPM       station  \n",
              "0  1024.5 -21.4   0.0  NNW   5.7  Nongzhanguan  \n",
              "1  1025.1 -22.1   0.0   NW   3.9  Nongzhanguan  \n",
              "2  1025.3 -24.6   0.0  NNW   5.3  Nongzhanguan  \n",
              "3  1026.2 -25.5   0.0    N   4.9  Nongzhanguan  \n",
              "4  1027.1 -24.5   0.0  NNW   3.2  Nongzhanguan  "
            ]
          },
          "execution_count": 9,
          "metadata": {},
          "output_type": "execute_result"
        }
      ],
      "source": [
        "Nongzhanguan_df = pd.read_csv(\"https://drive.google.com/uc?export=download&id=1c3q8kFblAg1wH11aAkEKlMG1US6HE6Ce\")\n",
        "Nongzhanguan_df.head()"
      ]
    },
    {
      "cell_type": "markdown",
      "metadata": {
        "id": "hFluHOHuykhe"
      },
      "source": [
        "**Insight:**\n",
        "- Here we read the data for Nongzhanguan city\n",
        "- Then display the first 5 data"
      ]
    },
    {
      "cell_type": "markdown",
      "metadata": {
        "id": "Av_aUU7-yk2s"
      },
      "source": [
        "#### Shunyi"
      ]
    },
    {
      "cell_type": "code",
      "execution_count": 10,
      "metadata": {
        "colab": {
          "base_uri": "https://localhost:8080/",
          "height": 0
        },
        "id": "awohamPxyk2s",
        "outputId": "d23c26a2-bc27-45a2-836f-86a081ea8cb9"
      },
      "outputs": [
        {
          "data": {
            "text/html": [
              "<div>\n",
              "<style scoped>\n",
              "    .dataframe tbody tr th:only-of-type {\n",
              "        vertical-align: middle;\n",
              "    }\n",
              "\n",
              "    .dataframe tbody tr th {\n",
              "        vertical-align: top;\n",
              "    }\n",
              "\n",
              "    .dataframe thead th {\n",
              "        text-align: right;\n",
              "    }\n",
              "</style>\n",
              "<table border=\"1\" class=\"dataframe\">\n",
              "  <thead>\n",
              "    <tr style=\"text-align: right;\">\n",
              "      <th></th>\n",
              "      <th>No</th>\n",
              "      <th>year</th>\n",
              "      <th>month</th>\n",
              "      <th>day</th>\n",
              "      <th>hour</th>\n",
              "      <th>PM2.5</th>\n",
              "      <th>PM10</th>\n",
              "      <th>SO2</th>\n",
              "      <th>NO2</th>\n",
              "      <th>CO</th>\n",
              "      <th>O3</th>\n",
              "      <th>TEMP</th>\n",
              "      <th>PRES</th>\n",
              "      <th>DEWP</th>\n",
              "      <th>RAIN</th>\n",
              "      <th>wd</th>\n",
              "      <th>WSPM</th>\n",
              "      <th>station</th>\n",
              "    </tr>\n",
              "  </thead>\n",
              "  <tbody>\n",
              "    <tr>\n",
              "      <th>0</th>\n",
              "      <td>1</td>\n",
              "      <td>2013</td>\n",
              "      <td>3</td>\n",
              "      <td>1</td>\n",
              "      <td>0</td>\n",
              "      <td>3.0</td>\n",
              "      <td>6.0</td>\n",
              "      <td>3.0</td>\n",
              "      <td>8.0</td>\n",
              "      <td>300.0</td>\n",
              "      <td>44.0</td>\n",
              "      <td>-0.9</td>\n",
              "      <td>1025.8</td>\n",
              "      <td>-20.5</td>\n",
              "      <td>0.0</td>\n",
              "      <td>NW</td>\n",
              "      <td>9.3</td>\n",
              "      <td>Shunyi</td>\n",
              "    </tr>\n",
              "    <tr>\n",
              "      <th>1</th>\n",
              "      <td>2</td>\n",
              "      <td>2013</td>\n",
              "      <td>3</td>\n",
              "      <td>1</td>\n",
              "      <td>1</td>\n",
              "      <td>12.0</td>\n",
              "      <td>12.0</td>\n",
              "      <td>3.0</td>\n",
              "      <td>7.0</td>\n",
              "      <td>300.0</td>\n",
              "      <td>47.0</td>\n",
              "      <td>-1.1</td>\n",
              "      <td>1026.1</td>\n",
              "      <td>-21.3</td>\n",
              "      <td>0.0</td>\n",
              "      <td>NW</td>\n",
              "      <td>9.4</td>\n",
              "      <td>Shunyi</td>\n",
              "    </tr>\n",
              "    <tr>\n",
              "      <th>2</th>\n",
              "      <td>3</td>\n",
              "      <td>2013</td>\n",
              "      <td>3</td>\n",
              "      <td>1</td>\n",
              "      <td>2</td>\n",
              "      <td>14.0</td>\n",
              "      <td>14.0</td>\n",
              "      <td>NaN</td>\n",
              "      <td>7.0</td>\n",
              "      <td>200.0</td>\n",
              "      <td>22.0</td>\n",
              "      <td>-1.7</td>\n",
              "      <td>1026.2</td>\n",
              "      <td>-23.0</td>\n",
              "      <td>0.0</td>\n",
              "      <td>NW</td>\n",
              "      <td>8.6</td>\n",
              "      <td>Shunyi</td>\n",
              "    </tr>\n",
              "    <tr>\n",
              "      <th>3</th>\n",
              "      <td>4</td>\n",
              "      <td>2013</td>\n",
              "      <td>3</td>\n",
              "      <td>1</td>\n",
              "      <td>3</td>\n",
              "      <td>12.0</td>\n",
              "      <td>12.0</td>\n",
              "      <td>3.0</td>\n",
              "      <td>5.0</td>\n",
              "      <td>NaN</td>\n",
              "      <td>NaN</td>\n",
              "      <td>-2.1</td>\n",
              "      <td>1027.3</td>\n",
              "      <td>-23.3</td>\n",
              "      <td>0.0</td>\n",
              "      <td>NW</td>\n",
              "      <td>6.6</td>\n",
              "      <td>Shunyi</td>\n",
              "    </tr>\n",
              "    <tr>\n",
              "      <th>4</th>\n",
              "      <td>5</td>\n",
              "      <td>2013</td>\n",
              "      <td>3</td>\n",
              "      <td>1</td>\n",
              "      <td>4</td>\n",
              "      <td>12.0</td>\n",
              "      <td>12.0</td>\n",
              "      <td>3.0</td>\n",
              "      <td>NaN</td>\n",
              "      <td>200.0</td>\n",
              "      <td>11.0</td>\n",
              "      <td>-2.4</td>\n",
              "      <td>1027.7</td>\n",
              "      <td>-22.9</td>\n",
              "      <td>0.0</td>\n",
              "      <td>NW</td>\n",
              "      <td>4.5</td>\n",
              "      <td>Shunyi</td>\n",
              "    </tr>\n",
              "  </tbody>\n",
              "</table>\n",
              "</div>"
            ],
            "text/plain": [
              "   No  year  month  day  hour  PM2.5  PM10  SO2  NO2     CO    O3  TEMP  \\\n",
              "0   1  2013      3    1     0    3.0   6.0  3.0  8.0  300.0  44.0  -0.9   \n",
              "1   2  2013      3    1     1   12.0  12.0  3.0  7.0  300.0  47.0  -1.1   \n",
              "2   3  2013      3    1     2   14.0  14.0  NaN  7.0  200.0  22.0  -1.7   \n",
              "3   4  2013      3    1     3   12.0  12.0  3.0  5.0    NaN   NaN  -2.1   \n",
              "4   5  2013      3    1     4   12.0  12.0  3.0  NaN  200.0  11.0  -2.4   \n",
              "\n",
              "     PRES  DEWP  RAIN  wd  WSPM station  \n",
              "0  1025.8 -20.5   0.0  NW   9.3  Shunyi  \n",
              "1  1026.1 -21.3   0.0  NW   9.4  Shunyi  \n",
              "2  1026.2 -23.0   0.0  NW   8.6  Shunyi  \n",
              "3  1027.3 -23.3   0.0  NW   6.6  Shunyi  \n",
              "4  1027.7 -22.9   0.0  NW   4.5  Shunyi  "
            ]
          },
          "execution_count": 10,
          "metadata": {},
          "output_type": "execute_result"
        }
      ],
      "source": [
        "Shunyi_df = pd.read_csv(\"https://drive.google.com/uc?export=download&id=1pgmMgjCP6hsHUtskaGE5V7ztCBx8p3nl\")\n",
        "Shunyi_df.head()"
      ]
    },
    {
      "cell_type": "markdown",
      "metadata": {
        "id": "In8Gscpjyk2t"
      },
      "source": [
        "**Insight:**\n",
        "- Here we read the data for Shunyi city\n",
        "- Then display the first 5 data"
      ]
    },
    {
      "cell_type": "markdown",
      "metadata": {
        "id": "JhpXBbcT6MHG"
      },
      "source": [
        "#### Tiantan"
      ]
    },
    {
      "cell_type": "code",
      "execution_count": 11,
      "metadata": {
        "colab": {
          "base_uri": "https://localhost:8080/",
          "height": 0
        },
        "id": "t2cOLWO36MHM",
        "outputId": "3e2d53ed-33a7-49ae-ff85-48e0d9377582"
      },
      "outputs": [
        {
          "data": {
            "text/html": [
              "<div>\n",
              "<style scoped>\n",
              "    .dataframe tbody tr th:only-of-type {\n",
              "        vertical-align: middle;\n",
              "    }\n",
              "\n",
              "    .dataframe tbody tr th {\n",
              "        vertical-align: top;\n",
              "    }\n",
              "\n",
              "    .dataframe thead th {\n",
              "        text-align: right;\n",
              "    }\n",
              "</style>\n",
              "<table border=\"1\" class=\"dataframe\">\n",
              "  <thead>\n",
              "    <tr style=\"text-align: right;\">\n",
              "      <th></th>\n",
              "      <th>No</th>\n",
              "      <th>year</th>\n",
              "      <th>month</th>\n",
              "      <th>day</th>\n",
              "      <th>hour</th>\n",
              "      <th>PM2.5</th>\n",
              "      <th>PM10</th>\n",
              "      <th>SO2</th>\n",
              "      <th>NO2</th>\n",
              "      <th>CO</th>\n",
              "      <th>O3</th>\n",
              "      <th>TEMP</th>\n",
              "      <th>PRES</th>\n",
              "      <th>DEWP</th>\n",
              "      <th>RAIN</th>\n",
              "      <th>wd</th>\n",
              "      <th>WSPM</th>\n",
              "      <th>station</th>\n",
              "    </tr>\n",
              "  </thead>\n",
              "  <tbody>\n",
              "    <tr>\n",
              "      <th>0</th>\n",
              "      <td>1</td>\n",
              "      <td>2013</td>\n",
              "      <td>3</td>\n",
              "      <td>1</td>\n",
              "      <td>0</td>\n",
              "      <td>6.0</td>\n",
              "      <td>6.0</td>\n",
              "      <td>4.0</td>\n",
              "      <td>8.0</td>\n",
              "      <td>300.0</td>\n",
              "      <td>81.0</td>\n",
              "      <td>-0.5</td>\n",
              "      <td>1024.5</td>\n",
              "      <td>-21.4</td>\n",
              "      <td>0.0</td>\n",
              "      <td>NNW</td>\n",
              "      <td>5.7</td>\n",
              "      <td>Tiantan</td>\n",
              "    </tr>\n",
              "    <tr>\n",
              "      <th>1</th>\n",
              "      <td>2</td>\n",
              "      <td>2013</td>\n",
              "      <td>3</td>\n",
              "      <td>1</td>\n",
              "      <td>1</td>\n",
              "      <td>6.0</td>\n",
              "      <td>29.0</td>\n",
              "      <td>5.0</td>\n",
              "      <td>9.0</td>\n",
              "      <td>300.0</td>\n",
              "      <td>80.0</td>\n",
              "      <td>-0.7</td>\n",
              "      <td>1025.1</td>\n",
              "      <td>-22.1</td>\n",
              "      <td>0.0</td>\n",
              "      <td>NW</td>\n",
              "      <td>3.9</td>\n",
              "      <td>Tiantan</td>\n",
              "    </tr>\n",
              "    <tr>\n",
              "      <th>2</th>\n",
              "      <td>3</td>\n",
              "      <td>2013</td>\n",
              "      <td>3</td>\n",
              "      <td>1</td>\n",
              "      <td>2</td>\n",
              "      <td>6.0</td>\n",
              "      <td>6.0</td>\n",
              "      <td>4.0</td>\n",
              "      <td>12.0</td>\n",
              "      <td>300.0</td>\n",
              "      <td>75.0</td>\n",
              "      <td>-1.2</td>\n",
              "      <td>1025.3</td>\n",
              "      <td>-24.6</td>\n",
              "      <td>0.0</td>\n",
              "      <td>NNW</td>\n",
              "      <td>5.3</td>\n",
              "      <td>Tiantan</td>\n",
              "    </tr>\n",
              "    <tr>\n",
              "      <th>3</th>\n",
              "      <td>4</td>\n",
              "      <td>2013</td>\n",
              "      <td>3</td>\n",
              "      <td>1</td>\n",
              "      <td>3</td>\n",
              "      <td>6.0</td>\n",
              "      <td>6.0</td>\n",
              "      <td>4.0</td>\n",
              "      <td>12.0</td>\n",
              "      <td>300.0</td>\n",
              "      <td>74.0</td>\n",
              "      <td>-1.4</td>\n",
              "      <td>1026.2</td>\n",
              "      <td>-25.5</td>\n",
              "      <td>0.0</td>\n",
              "      <td>N</td>\n",
              "      <td>4.9</td>\n",
              "      <td>Tiantan</td>\n",
              "    </tr>\n",
              "    <tr>\n",
              "      <th>4</th>\n",
              "      <td>5</td>\n",
              "      <td>2013</td>\n",
              "      <td>3</td>\n",
              "      <td>1</td>\n",
              "      <td>4</td>\n",
              "      <td>5.0</td>\n",
              "      <td>5.0</td>\n",
              "      <td>7.0</td>\n",
              "      <td>15.0</td>\n",
              "      <td>400.0</td>\n",
              "      <td>70.0</td>\n",
              "      <td>-1.9</td>\n",
              "      <td>1027.1</td>\n",
              "      <td>-24.5</td>\n",
              "      <td>0.0</td>\n",
              "      <td>NNW</td>\n",
              "      <td>3.2</td>\n",
              "      <td>Tiantan</td>\n",
              "    </tr>\n",
              "  </tbody>\n",
              "</table>\n",
              "</div>"
            ],
            "text/plain": [
              "   No  year  month  day  hour  PM2.5  PM10  SO2   NO2     CO    O3  TEMP  \\\n",
              "0   1  2013      3    1     0    6.0   6.0  4.0   8.0  300.0  81.0  -0.5   \n",
              "1   2  2013      3    1     1    6.0  29.0  5.0   9.0  300.0  80.0  -0.7   \n",
              "2   3  2013      3    1     2    6.0   6.0  4.0  12.0  300.0  75.0  -1.2   \n",
              "3   4  2013      3    1     3    6.0   6.0  4.0  12.0  300.0  74.0  -1.4   \n",
              "4   5  2013      3    1     4    5.0   5.0  7.0  15.0  400.0  70.0  -1.9   \n",
              "\n",
              "     PRES  DEWP  RAIN   wd  WSPM  station  \n",
              "0  1024.5 -21.4   0.0  NNW   5.7  Tiantan  \n",
              "1  1025.1 -22.1   0.0   NW   3.9  Tiantan  \n",
              "2  1025.3 -24.6   0.0  NNW   5.3  Tiantan  \n",
              "3  1026.2 -25.5   0.0    N   4.9  Tiantan  \n",
              "4  1027.1 -24.5   0.0  NNW   3.2  Tiantan  "
            ]
          },
          "execution_count": 11,
          "metadata": {},
          "output_type": "execute_result"
        }
      ],
      "source": [
        "Tiantan_df = pd.read_csv(\"https://drive.google.com/uc?export=download&id=1CN0DEnb6wB2xRk1WmwRyes3u5mdNn8BL\")\n",
        "Tiantan_df.head()"
      ]
    },
    {
      "cell_type": "markdown",
      "metadata": {
        "id": "uhVtWa0d6MHM"
      },
      "source": [
        "**Insight:**\n",
        "- Here we read the data for Tiantan city\n",
        "- Then display the first 5 data"
      ]
    },
    {
      "cell_type": "markdown",
      "metadata": {
        "id": "dyKs0H4S6O12"
      },
      "source": [
        "#### Wanliu"
      ]
    },
    {
      "cell_type": "code",
      "execution_count": 12,
      "metadata": {
        "colab": {
          "base_uri": "https://localhost:8080/",
          "height": 0
        },
        "id": "a4gp-Toq6O19",
        "outputId": "68498a2c-5e69-442e-a52e-78b64c248f7d"
      },
      "outputs": [
        {
          "data": {
            "text/html": [
              "<div>\n",
              "<style scoped>\n",
              "    .dataframe tbody tr th:only-of-type {\n",
              "        vertical-align: middle;\n",
              "    }\n",
              "\n",
              "    .dataframe tbody tr th {\n",
              "        vertical-align: top;\n",
              "    }\n",
              "\n",
              "    .dataframe thead th {\n",
              "        text-align: right;\n",
              "    }\n",
              "</style>\n",
              "<table border=\"1\" class=\"dataframe\">\n",
              "  <thead>\n",
              "    <tr style=\"text-align: right;\">\n",
              "      <th></th>\n",
              "      <th>No</th>\n",
              "      <th>year</th>\n",
              "      <th>month</th>\n",
              "      <th>day</th>\n",
              "      <th>hour</th>\n",
              "      <th>PM2.5</th>\n",
              "      <th>PM10</th>\n",
              "      <th>SO2</th>\n",
              "      <th>NO2</th>\n",
              "      <th>CO</th>\n",
              "      <th>O3</th>\n",
              "      <th>TEMP</th>\n",
              "      <th>PRES</th>\n",
              "      <th>DEWP</th>\n",
              "      <th>RAIN</th>\n",
              "      <th>wd</th>\n",
              "      <th>WSPM</th>\n",
              "      <th>station</th>\n",
              "    </tr>\n",
              "  </thead>\n",
              "  <tbody>\n",
              "    <tr>\n",
              "      <th>0</th>\n",
              "      <td>1</td>\n",
              "      <td>2013</td>\n",
              "      <td>3</td>\n",
              "      <td>1</td>\n",
              "      <td>0</td>\n",
              "      <td>8.0</td>\n",
              "      <td>8.0</td>\n",
              "      <td>6.0</td>\n",
              "      <td>28.0</td>\n",
              "      <td>400.0</td>\n",
              "      <td>52.0</td>\n",
              "      <td>-0.7</td>\n",
              "      <td>1023.0</td>\n",
              "      <td>-18.8</td>\n",
              "      <td>0.0</td>\n",
              "      <td>NNW</td>\n",
              "      <td>4.4</td>\n",
              "      <td>Wanliu</td>\n",
              "    </tr>\n",
              "    <tr>\n",
              "      <th>1</th>\n",
              "      <td>2</td>\n",
              "      <td>2013</td>\n",
              "      <td>3</td>\n",
              "      <td>1</td>\n",
              "      <td>1</td>\n",
              "      <td>9.0</td>\n",
              "      <td>9.0</td>\n",
              "      <td>6.0</td>\n",
              "      <td>28.0</td>\n",
              "      <td>400.0</td>\n",
              "      <td>50.0</td>\n",
              "      <td>-1.1</td>\n",
              "      <td>1023.2</td>\n",
              "      <td>-18.2</td>\n",
              "      <td>0.0</td>\n",
              "      <td>N</td>\n",
              "      <td>4.7</td>\n",
              "      <td>Wanliu</td>\n",
              "    </tr>\n",
              "    <tr>\n",
              "      <th>2</th>\n",
              "      <td>3</td>\n",
              "      <td>2013</td>\n",
              "      <td>3</td>\n",
              "      <td>1</td>\n",
              "      <td>2</td>\n",
              "      <td>3.0</td>\n",
              "      <td>6.0</td>\n",
              "      <td>NaN</td>\n",
              "      <td>19.0</td>\n",
              "      <td>400.0</td>\n",
              "      <td>55.0</td>\n",
              "      <td>-1.1</td>\n",
              "      <td>1023.5</td>\n",
              "      <td>-18.2</td>\n",
              "      <td>0.0</td>\n",
              "      <td>NNW</td>\n",
              "      <td>5.6</td>\n",
              "      <td>Wanliu</td>\n",
              "    </tr>\n",
              "    <tr>\n",
              "      <th>3</th>\n",
              "      <td>4</td>\n",
              "      <td>2013</td>\n",
              "      <td>3</td>\n",
              "      <td>1</td>\n",
              "      <td>3</td>\n",
              "      <td>11.0</td>\n",
              "      <td>30.0</td>\n",
              "      <td>8.0</td>\n",
              "      <td>14.0</td>\n",
              "      <td>NaN</td>\n",
              "      <td>NaN</td>\n",
              "      <td>-1.4</td>\n",
              "      <td>1024.5</td>\n",
              "      <td>-19.4</td>\n",
              "      <td>0.0</td>\n",
              "      <td>NW</td>\n",
              "      <td>3.1</td>\n",
              "      <td>Wanliu</td>\n",
              "    </tr>\n",
              "    <tr>\n",
              "      <th>4</th>\n",
              "      <td>5</td>\n",
              "      <td>2013</td>\n",
              "      <td>3</td>\n",
              "      <td>1</td>\n",
              "      <td>4</td>\n",
              "      <td>3.0</td>\n",
              "      <td>13.0</td>\n",
              "      <td>9.0</td>\n",
              "      <td>NaN</td>\n",
              "      <td>300.0</td>\n",
              "      <td>54.0</td>\n",
              "      <td>-2.0</td>\n",
              "      <td>1025.2</td>\n",
              "      <td>-19.5</td>\n",
              "      <td>0.0</td>\n",
              "      <td>N</td>\n",
              "      <td>2.0</td>\n",
              "      <td>Wanliu</td>\n",
              "    </tr>\n",
              "  </tbody>\n",
              "</table>\n",
              "</div>"
            ],
            "text/plain": [
              "   No  year  month  day  hour  PM2.5  PM10  SO2   NO2     CO    O3  TEMP  \\\n",
              "0   1  2013      3    1     0    8.0   8.0  6.0  28.0  400.0  52.0  -0.7   \n",
              "1   2  2013      3    1     1    9.0   9.0  6.0  28.0  400.0  50.0  -1.1   \n",
              "2   3  2013      3    1     2    3.0   6.0  NaN  19.0  400.0  55.0  -1.1   \n",
              "3   4  2013      3    1     3   11.0  30.0  8.0  14.0    NaN   NaN  -1.4   \n",
              "4   5  2013      3    1     4    3.0  13.0  9.0   NaN  300.0  54.0  -2.0   \n",
              "\n",
              "     PRES  DEWP  RAIN   wd  WSPM station  \n",
              "0  1023.0 -18.8   0.0  NNW   4.4  Wanliu  \n",
              "1  1023.2 -18.2   0.0    N   4.7  Wanliu  \n",
              "2  1023.5 -18.2   0.0  NNW   5.6  Wanliu  \n",
              "3  1024.5 -19.4   0.0   NW   3.1  Wanliu  \n",
              "4  1025.2 -19.5   0.0    N   2.0  Wanliu  "
            ]
          },
          "execution_count": 12,
          "metadata": {},
          "output_type": "execute_result"
        }
      ],
      "source": [
        "Wanliu_df = pd.read_csv(\"https://drive.google.com/uc?export=download&id=1BKAUunZgztKXflAT09MWUdHEip5RasZ6\")\n",
        "Wanliu_df.head()"
      ]
    },
    {
      "cell_type": "markdown",
      "metadata": {
        "id": "wXnTrQp06O19"
      },
      "source": [
        "**Insight:**\n",
        "- Here we read the data for Wanlui city\n",
        "- Then display the first 5 data"
      ]
    },
    {
      "cell_type": "markdown",
      "metadata": {
        "id": "EmTgIMNB6Ph1"
      },
      "source": [
        "#### Wanshouxigong"
      ]
    },
    {
      "cell_type": "code",
      "execution_count": 13,
      "metadata": {
        "colab": {
          "base_uri": "https://localhost:8080/",
          "height": 0
        },
        "id": "Ia-bZz5J6Ph2",
        "outputId": "e696077e-b35a-41d3-e46f-4123d0a23e3b"
      },
      "outputs": [
        {
          "data": {
            "text/html": [
              "<div>\n",
              "<style scoped>\n",
              "    .dataframe tbody tr th:only-of-type {\n",
              "        vertical-align: middle;\n",
              "    }\n",
              "\n",
              "    .dataframe tbody tr th {\n",
              "        vertical-align: top;\n",
              "    }\n",
              "\n",
              "    .dataframe thead th {\n",
              "        text-align: right;\n",
              "    }\n",
              "</style>\n",
              "<table border=\"1\" class=\"dataframe\">\n",
              "  <thead>\n",
              "    <tr style=\"text-align: right;\">\n",
              "      <th></th>\n",
              "      <th>No</th>\n",
              "      <th>year</th>\n",
              "      <th>month</th>\n",
              "      <th>day</th>\n",
              "      <th>hour</th>\n",
              "      <th>PM2.5</th>\n",
              "      <th>PM10</th>\n",
              "      <th>SO2</th>\n",
              "      <th>NO2</th>\n",
              "      <th>CO</th>\n",
              "      <th>O3</th>\n",
              "      <th>TEMP</th>\n",
              "      <th>PRES</th>\n",
              "      <th>DEWP</th>\n",
              "      <th>RAIN</th>\n",
              "      <th>wd</th>\n",
              "      <th>WSPM</th>\n",
              "      <th>station</th>\n",
              "    </tr>\n",
              "  </thead>\n",
              "  <tbody>\n",
              "    <tr>\n",
              "      <th>0</th>\n",
              "      <td>1</td>\n",
              "      <td>2013</td>\n",
              "      <td>3</td>\n",
              "      <td>1</td>\n",
              "      <td>0</td>\n",
              "      <td>9.0</td>\n",
              "      <td>9.0</td>\n",
              "      <td>6.0</td>\n",
              "      <td>17.0</td>\n",
              "      <td>200.0</td>\n",
              "      <td>62.0</td>\n",
              "      <td>0.3</td>\n",
              "      <td>1021.9</td>\n",
              "      <td>-19.0</td>\n",
              "      <td>0.0</td>\n",
              "      <td>WNW</td>\n",
              "      <td>2.0</td>\n",
              "      <td>Wanshouxigong</td>\n",
              "    </tr>\n",
              "    <tr>\n",
              "      <th>1</th>\n",
              "      <td>2</td>\n",
              "      <td>2013</td>\n",
              "      <td>3</td>\n",
              "      <td>1</td>\n",
              "      <td>1</td>\n",
              "      <td>11.0</td>\n",
              "      <td>11.0</td>\n",
              "      <td>7.0</td>\n",
              "      <td>14.0</td>\n",
              "      <td>200.0</td>\n",
              "      <td>66.0</td>\n",
              "      <td>-0.1</td>\n",
              "      <td>1022.4</td>\n",
              "      <td>-19.3</td>\n",
              "      <td>0.0</td>\n",
              "      <td>WNW</td>\n",
              "      <td>4.4</td>\n",
              "      <td>Wanshouxigong</td>\n",
              "    </tr>\n",
              "    <tr>\n",
              "      <th>2</th>\n",
              "      <td>3</td>\n",
              "      <td>2013</td>\n",
              "      <td>3</td>\n",
              "      <td>1</td>\n",
              "      <td>2</td>\n",
              "      <td>8.0</td>\n",
              "      <td>8.0</td>\n",
              "      <td>NaN</td>\n",
              "      <td>16.0</td>\n",
              "      <td>200.0</td>\n",
              "      <td>59.0</td>\n",
              "      <td>-0.6</td>\n",
              "      <td>1022.6</td>\n",
              "      <td>-19.7</td>\n",
              "      <td>0.0</td>\n",
              "      <td>WNW</td>\n",
              "      <td>4.7</td>\n",
              "      <td>Wanshouxigong</td>\n",
              "    </tr>\n",
              "    <tr>\n",
              "      <th>3</th>\n",
              "      <td>4</td>\n",
              "      <td>2013</td>\n",
              "      <td>3</td>\n",
              "      <td>1</td>\n",
              "      <td>3</td>\n",
              "      <td>8.0</td>\n",
              "      <td>8.0</td>\n",
              "      <td>3.0</td>\n",
              "      <td>16.0</td>\n",
              "      <td>NaN</td>\n",
              "      <td>NaN</td>\n",
              "      <td>-0.7</td>\n",
              "      <td>1023.5</td>\n",
              "      <td>-20.9</td>\n",
              "      <td>0.0</td>\n",
              "      <td>NW</td>\n",
              "      <td>2.6</td>\n",
              "      <td>Wanshouxigong</td>\n",
              "    </tr>\n",
              "    <tr>\n",
              "      <th>4</th>\n",
              "      <td>5</td>\n",
              "      <td>2013</td>\n",
              "      <td>3</td>\n",
              "      <td>1</td>\n",
              "      <td>4</td>\n",
              "      <td>8.0</td>\n",
              "      <td>8.0</td>\n",
              "      <td>3.0</td>\n",
              "      <td>NaN</td>\n",
              "      <td>300.0</td>\n",
              "      <td>36.0</td>\n",
              "      <td>-0.9</td>\n",
              "      <td>1024.1</td>\n",
              "      <td>-21.7</td>\n",
              "      <td>0.0</td>\n",
              "      <td>WNW</td>\n",
              "      <td>2.5</td>\n",
              "      <td>Wanshouxigong</td>\n",
              "    </tr>\n",
              "  </tbody>\n",
              "</table>\n",
              "</div>"
            ],
            "text/plain": [
              "   No  year  month  day  hour  PM2.5  PM10  SO2   NO2     CO    O3  TEMP  \\\n",
              "0   1  2013      3    1     0    9.0   9.0  6.0  17.0  200.0  62.0   0.3   \n",
              "1   2  2013      3    1     1   11.0  11.0  7.0  14.0  200.0  66.0  -0.1   \n",
              "2   3  2013      3    1     2    8.0   8.0  NaN  16.0  200.0  59.0  -0.6   \n",
              "3   4  2013      3    1     3    8.0   8.0  3.0  16.0    NaN   NaN  -0.7   \n",
              "4   5  2013      3    1     4    8.0   8.0  3.0   NaN  300.0  36.0  -0.9   \n",
              "\n",
              "     PRES  DEWP  RAIN   wd  WSPM        station  \n",
              "0  1021.9 -19.0   0.0  WNW   2.0  Wanshouxigong  \n",
              "1  1022.4 -19.3   0.0  WNW   4.4  Wanshouxigong  \n",
              "2  1022.6 -19.7   0.0  WNW   4.7  Wanshouxigong  \n",
              "3  1023.5 -20.9   0.0   NW   2.6  Wanshouxigong  \n",
              "4  1024.1 -21.7   0.0  WNW   2.5  Wanshouxigong  "
            ]
          },
          "execution_count": 13,
          "metadata": {},
          "output_type": "execute_result"
        }
      ],
      "source": [
        "Wanshouxigong_df = pd.read_csv(\"https://drive.google.com/uc?export=download&id=11VhqjDbgNOkz4Q9eO5K4XzjP7JzXZyg0\")\n",
        "Wanshouxigong_df.head()"
      ]
    },
    {
      "cell_type": "markdown",
      "metadata": {
        "id": "4zMfUxgx6Ph2"
      },
      "source": [
        "**Insight:**\n",
        "- Here we read the data for Wanshouxigong city\n",
        "- Then display the first 5 data"
      ]
    },
    {
      "cell_type": "markdown",
      "metadata": {
        "id": "FHSiqaZp8DC1"
      },
      "source": [
        "### Assessing Data"
      ]
    },
    {
      "cell_type": "code",
      "execution_count": 14,
      "metadata": {
        "id": "DVX3MrLswZjE"
      },
      "outputs": [],
      "source": [
        "wind_direction_map = {\n",
        "    'N': 0,\n",
        "    'NNE': 22.5,\n",
        "    'NE': 45,\n",
        "    'ENE': 67.5,\n",
        "    'E': 90,\n",
        "    'ESE': 112.5,\n",
        "    'SE': 135,\n",
        "    'SSE': 157.5,\n",
        "    'S': 180,\n",
        "    'SSW': 202.5,\n",
        "    'SW': 225,\n",
        "    'WSW': 247.5,\n",
        "    'W': 270,\n",
        "    'WNW': 292.5,\n",
        "    'NW': 315,\n",
        "    'NNW': 337.5\n",
        "}"
      ]
    },
    {
      "cell_type": "markdown",
      "metadata": {
        "id": "NHbIGfKQ-jKK"
      },
      "source": [
        "Map for converting wd data to numerical data"
      ]
    },
    {
      "cell_type": "markdown",
      "metadata": {
        "id": "lTzdS2Hh69nD"
      },
      "source": [
        "#### Aotizhongxin"
      ]
    },
    {
      "cell_type": "code",
      "execution_count": 15,
      "metadata": {
        "id": "J-0MvqFnw6SW"
      },
      "outputs": [],
      "source": [
        "Aotizhongxin_df['wd_degrees'] = Aotizhongxin_df['wd'].map(wind_direction_map)"
      ]
    },
    {
      "cell_type": "code",
      "execution_count": 16,
      "metadata": {
        "colab": {
          "base_uri": "https://localhost:8080/"
        },
        "id": "ax-3tEjc9Cj1",
        "outputId": "e5c20f9f-618b-49dc-ce04-3a7d1ec41218"
      },
      "outputs": [
        {
          "name": "stdout",
          "output_type": "stream",
          "text": [
            "<class 'pandas.core.frame.DataFrame'>\n",
            "RangeIndex: 35064 entries, 0 to 35063\n",
            "Data columns (total 19 columns):\n",
            " #   Column      Non-Null Count  Dtype  \n",
            "---  ------      --------------  -----  \n",
            " 0   No          35064 non-null  int64  \n",
            " 1   year        35064 non-null  int64  \n",
            " 2   month       35064 non-null  int64  \n",
            " 3   day         35064 non-null  int64  \n",
            " 4   hour        35064 non-null  int64  \n",
            " 5   PM2.5       34139 non-null  float64\n",
            " 6   PM10        34346 non-null  float64\n",
            " 7   SO2         34129 non-null  float64\n",
            " 8   NO2         34041 non-null  float64\n",
            " 9   CO          33288 non-null  float64\n",
            " 10  O3          33345 non-null  float64\n",
            " 11  TEMP        35044 non-null  float64\n",
            " 12  PRES        35044 non-null  float64\n",
            " 13  DEWP        35044 non-null  float64\n",
            " 14  RAIN        35044 non-null  float64\n",
            " 15  wd          34983 non-null  object \n",
            " 16  WSPM        35050 non-null  float64\n",
            " 17  station     35064 non-null  object \n",
            " 18  wd_degrees  34983 non-null  float64\n",
            "dtypes: float64(12), int64(5), object(2)\n",
            "memory usage: 5.1+ MB\n"
          ]
        }
      ],
      "source": [
        "Aotizhongxin_df.info()"
      ]
    },
    {
      "cell_type": "code",
      "execution_count": 17,
      "metadata": {
        "colab": {
          "base_uri": "https://localhost:8080/",
          "height": 0
        },
        "id": "9z4R9kXI9Rc8",
        "outputId": "9b24c64c-5c3d-4af7-f718-49e60fa05d6b"
      },
      "outputs": [
        {
          "data": {
            "text/plain": [
              "No               0\n",
              "year             0\n",
              "month            0\n",
              "day              0\n",
              "hour             0\n",
              "PM2.5          925\n",
              "PM10           718\n",
              "SO2            935\n",
              "NO2           1023\n",
              "CO            1776\n",
              "O3            1719\n",
              "TEMP            20\n",
              "PRES            20\n",
              "DEWP            20\n",
              "RAIN            20\n",
              "wd              81\n",
              "WSPM            14\n",
              "station          0\n",
              "wd_degrees      81\n",
              "dtype: int64"
            ]
          },
          "execution_count": 17,
          "metadata": {},
          "output_type": "execute_result"
        }
      ],
      "source": [
        "Aotizhongxin_df.isna().sum()"
      ]
    },
    {
      "cell_type": "code",
      "execution_count": 18,
      "metadata": {
        "colab": {
          "base_uri": "https://localhost:8080/"
        },
        "id": "Ny3Dy-uZ9jAM",
        "outputId": "16c7ffc0-c8cb-4db1-ac1d-466cdb3444b4"
      },
      "outputs": [
        {
          "name": "stdout",
          "output_type": "stream",
          "text": [
            "Jumlah duplikat :  0\n"
          ]
        }
      ],
      "source": [
        "print(\"Jumlah duplikat : \", Aotizhongxin_df.duplicated().sum())"
      ]
    },
    {
      "cell_type": "code",
      "execution_count": 19,
      "metadata": {
        "colab": {
          "base_uri": "https://localhost:8080/",
          "height": 0
        },
        "id": "iGdXjWgg9sL7",
        "outputId": "14be44a2-9e11-47c7-c027-6560dcdc58fc"
      },
      "outputs": [
        {
          "data": {
            "text/html": [
              "<div>\n",
              "<style scoped>\n",
              "    .dataframe tbody tr th:only-of-type {\n",
              "        vertical-align: middle;\n",
              "    }\n",
              "\n",
              "    .dataframe tbody tr th {\n",
              "        vertical-align: top;\n",
              "    }\n",
              "\n",
              "    .dataframe thead th {\n",
              "        text-align: right;\n",
              "    }\n",
              "</style>\n",
              "<table border=\"1\" class=\"dataframe\">\n",
              "  <thead>\n",
              "    <tr style=\"text-align: right;\">\n",
              "      <th></th>\n",
              "      <th>No</th>\n",
              "      <th>year</th>\n",
              "      <th>month</th>\n",
              "      <th>day</th>\n",
              "      <th>hour</th>\n",
              "      <th>PM2.5</th>\n",
              "      <th>PM10</th>\n",
              "      <th>SO2</th>\n",
              "      <th>NO2</th>\n",
              "      <th>CO</th>\n",
              "      <th>O3</th>\n",
              "      <th>TEMP</th>\n",
              "      <th>PRES</th>\n",
              "      <th>DEWP</th>\n",
              "      <th>RAIN</th>\n",
              "      <th>WSPM</th>\n",
              "      <th>wd_degrees</th>\n",
              "    </tr>\n",
              "  </thead>\n",
              "  <tbody>\n",
              "    <tr>\n",
              "      <th>count</th>\n",
              "      <td>35064.000000</td>\n",
              "      <td>35064.000000</td>\n",
              "      <td>35064.000000</td>\n",
              "      <td>35064.000000</td>\n",
              "      <td>35064.000000</td>\n",
              "      <td>34139.000000</td>\n",
              "      <td>34346.000000</td>\n",
              "      <td>34129.000000</td>\n",
              "      <td>34041.000000</td>\n",
              "      <td>33288.000000</td>\n",
              "      <td>33345.000000</td>\n",
              "      <td>35044.000000</td>\n",
              "      <td>35044.000000</td>\n",
              "      <td>35044.000000</td>\n",
              "      <td>35044.000000</td>\n",
              "      <td>35050.000000</td>\n",
              "      <td>34983.000000</td>\n",
              "    </tr>\n",
              "    <tr>\n",
              "      <th>mean</th>\n",
              "      <td>17532.500000</td>\n",
              "      <td>2014.662560</td>\n",
              "      <td>6.522930</td>\n",
              "      <td>15.729637</td>\n",
              "      <td>11.500000</td>\n",
              "      <td>82.773611</td>\n",
              "      <td>110.060391</td>\n",
              "      <td>17.375901</td>\n",
              "      <td>59.305833</td>\n",
              "      <td>1262.945145</td>\n",
              "      <td>56.353358</td>\n",
              "      <td>13.584607</td>\n",
              "      <td>1011.846920</td>\n",
              "      <td>3.123062</td>\n",
              "      <td>0.067421</td>\n",
              "      <td>1.708496</td>\n",
              "      <td>144.242346</td>\n",
              "    </tr>\n",
              "    <tr>\n",
              "      <th>std</th>\n",
              "      <td>10122.249256</td>\n",
              "      <td>1.177213</td>\n",
              "      <td>3.448752</td>\n",
              "      <td>8.800218</td>\n",
              "      <td>6.922285</td>\n",
              "      <td>82.135694</td>\n",
              "      <td>95.223005</td>\n",
              "      <td>22.823017</td>\n",
              "      <td>37.116200</td>\n",
              "      <td>1221.436236</td>\n",
              "      <td>57.916327</td>\n",
              "      <td>11.399097</td>\n",
              "      <td>10.404047</td>\n",
              "      <td>13.688896</td>\n",
              "      <td>0.910056</td>\n",
              "      <td>1.204071</td>\n",
              "      <td>103.313594</td>\n",
              "    </tr>\n",
              "    <tr>\n",
              "      <th>min</th>\n",
              "      <td>1.000000</td>\n",
              "      <td>2013.000000</td>\n",
              "      <td>1.000000</td>\n",
              "      <td>1.000000</td>\n",
              "      <td>0.000000</td>\n",
              "      <td>3.000000</td>\n",
              "      <td>2.000000</td>\n",
              "      <td>0.285600</td>\n",
              "      <td>2.000000</td>\n",
              "      <td>100.000000</td>\n",
              "      <td>0.214200</td>\n",
              "      <td>-16.800000</td>\n",
              "      <td>985.900000</td>\n",
              "      <td>-35.300000</td>\n",
              "      <td>0.000000</td>\n",
              "      <td>0.000000</td>\n",
              "      <td>0.000000</td>\n",
              "    </tr>\n",
              "    <tr>\n",
              "      <th>25%</th>\n",
              "      <td>8766.750000</td>\n",
              "      <td>2014.000000</td>\n",
              "      <td>4.000000</td>\n",
              "      <td>8.000000</td>\n",
              "      <td>5.750000</td>\n",
              "      <td>22.000000</td>\n",
              "      <td>38.000000</td>\n",
              "      <td>3.000000</td>\n",
              "      <td>30.000000</td>\n",
              "      <td>500.000000</td>\n",
              "      <td>8.000000</td>\n",
              "      <td>3.100000</td>\n",
              "      <td>1003.300000</td>\n",
              "      <td>-8.100000</td>\n",
              "      <td>0.000000</td>\n",
              "      <td>0.900000</td>\n",
              "      <td>45.000000</td>\n",
              "    </tr>\n",
              "    <tr>\n",
              "      <th>50%</th>\n",
              "      <td>17532.500000</td>\n",
              "      <td>2015.000000</td>\n",
              "      <td>7.000000</td>\n",
              "      <td>16.000000</td>\n",
              "      <td>11.500000</td>\n",
              "      <td>58.000000</td>\n",
              "      <td>87.000000</td>\n",
              "      <td>9.000000</td>\n",
              "      <td>53.000000</td>\n",
              "      <td>900.000000</td>\n",
              "      <td>42.000000</td>\n",
              "      <td>14.500000</td>\n",
              "      <td>1011.400000</td>\n",
              "      <td>3.800000</td>\n",
              "      <td>0.000000</td>\n",
              "      <td>1.400000</td>\n",
              "      <td>112.500000</td>\n",
              "    </tr>\n",
              "    <tr>\n",
              "      <th>75%</th>\n",
              "      <td>26298.250000</td>\n",
              "      <td>2016.000000</td>\n",
              "      <td>10.000000</td>\n",
              "      <td>23.000000</td>\n",
              "      <td>17.250000</td>\n",
              "      <td>114.000000</td>\n",
              "      <td>155.000000</td>\n",
              "      <td>21.000000</td>\n",
              "      <td>82.000000</td>\n",
              "      <td>1500.000000</td>\n",
              "      <td>82.000000</td>\n",
              "      <td>23.300000</td>\n",
              "      <td>1020.100000</td>\n",
              "      <td>15.600000</td>\n",
              "      <td>0.000000</td>\n",
              "      <td>2.200000</td>\n",
              "      <td>225.000000</td>\n",
              "    </tr>\n",
              "    <tr>\n",
              "      <th>max</th>\n",
              "      <td>35064.000000</td>\n",
              "      <td>2017.000000</td>\n",
              "      <td>12.000000</td>\n",
              "      <td>31.000000</td>\n",
              "      <td>23.000000</td>\n",
              "      <td>898.000000</td>\n",
              "      <td>984.000000</td>\n",
              "      <td>341.000000</td>\n",
              "      <td>290.000000</td>\n",
              "      <td>10000.000000</td>\n",
              "      <td>423.000000</td>\n",
              "      <td>40.500000</td>\n",
              "      <td>1042.000000</td>\n",
              "      <td>28.500000</td>\n",
              "      <td>72.500000</td>\n",
              "      <td>11.200000</td>\n",
              "      <td>337.500000</td>\n",
              "    </tr>\n",
              "  </tbody>\n",
              "</table>\n",
              "</div>"
            ],
            "text/plain": [
              "                 No          year         month           day          hour  \\\n",
              "count  35064.000000  35064.000000  35064.000000  35064.000000  35064.000000   \n",
              "mean   17532.500000   2014.662560      6.522930     15.729637     11.500000   \n",
              "std    10122.249256      1.177213      3.448752      8.800218      6.922285   \n",
              "min        1.000000   2013.000000      1.000000      1.000000      0.000000   \n",
              "25%     8766.750000   2014.000000      4.000000      8.000000      5.750000   \n",
              "50%    17532.500000   2015.000000      7.000000     16.000000     11.500000   \n",
              "75%    26298.250000   2016.000000     10.000000     23.000000     17.250000   \n",
              "max    35064.000000   2017.000000     12.000000     31.000000     23.000000   \n",
              "\n",
              "              PM2.5          PM10           SO2           NO2            CO  \\\n",
              "count  34139.000000  34346.000000  34129.000000  34041.000000  33288.000000   \n",
              "mean      82.773611    110.060391     17.375901     59.305833   1262.945145   \n",
              "std       82.135694     95.223005     22.823017     37.116200   1221.436236   \n",
              "min        3.000000      2.000000      0.285600      2.000000    100.000000   \n",
              "25%       22.000000     38.000000      3.000000     30.000000    500.000000   \n",
              "50%       58.000000     87.000000      9.000000     53.000000    900.000000   \n",
              "75%      114.000000    155.000000     21.000000     82.000000   1500.000000   \n",
              "max      898.000000    984.000000    341.000000    290.000000  10000.000000   \n",
              "\n",
              "                 O3          TEMP          PRES          DEWP          RAIN  \\\n",
              "count  33345.000000  35044.000000  35044.000000  35044.000000  35044.000000   \n",
              "mean      56.353358     13.584607   1011.846920      3.123062      0.067421   \n",
              "std       57.916327     11.399097     10.404047     13.688896      0.910056   \n",
              "min        0.214200    -16.800000    985.900000    -35.300000      0.000000   \n",
              "25%        8.000000      3.100000   1003.300000     -8.100000      0.000000   \n",
              "50%       42.000000     14.500000   1011.400000      3.800000      0.000000   \n",
              "75%       82.000000     23.300000   1020.100000     15.600000      0.000000   \n",
              "max      423.000000     40.500000   1042.000000     28.500000     72.500000   \n",
              "\n",
              "               WSPM    wd_degrees  \n",
              "count  35050.000000  34983.000000  \n",
              "mean       1.708496    144.242346  \n",
              "std        1.204071    103.313594  \n",
              "min        0.000000      0.000000  \n",
              "25%        0.900000     45.000000  \n",
              "50%        1.400000    112.500000  \n",
              "75%        2.200000    225.000000  \n",
              "max       11.200000    337.500000  "
            ]
          },
          "execution_count": 19,
          "metadata": {},
          "output_type": "execute_result"
        }
      ],
      "source": [
        "Aotizhongxin_df.describe()"
      ]
    },
    {
      "cell_type": "markdown",
      "metadata": {
        "id": "7dtxhAPrkhPL"
      },
      "source": [
        "**Insight:**\n",
        "- Add column for numerical wind direction called wd_degrees\n",
        "- Check all column datatypes\n",
        "- Check null data\n",
        "- Check duplicate data"
      ]
    },
    {
      "cell_type": "markdown",
      "metadata": {
        "id": "DICLIwFu7PJW"
      },
      "source": [
        "#### Changping"
      ]
    },
    {
      "cell_type": "code",
      "execution_count": 20,
      "metadata": {
        "id": "cbjKf3rsrRWO"
      },
      "outputs": [],
      "source": [
        "Changping_df['wd_degrees'] = Changping_df['wd'].map(wind_direction_map)"
      ]
    },
    {
      "cell_type": "code",
      "execution_count": 21,
      "metadata": {
        "colab": {
          "base_uri": "https://localhost:8080/"
        },
        "id": "WubUQugn7PJc",
        "outputId": "5a8cf7b8-225d-449e-b01c-765279d37396"
      },
      "outputs": [
        {
          "name": "stdout",
          "output_type": "stream",
          "text": [
            "<class 'pandas.core.frame.DataFrame'>\n",
            "RangeIndex: 35064 entries, 0 to 35063\n",
            "Data columns (total 19 columns):\n",
            " #   Column      Non-Null Count  Dtype  \n",
            "---  ------      --------------  -----  \n",
            " 0   No          35064 non-null  int64  \n",
            " 1   year        35064 non-null  int64  \n",
            " 2   month       35064 non-null  int64  \n",
            " 3   day         35064 non-null  int64  \n",
            " 4   hour        35064 non-null  int64  \n",
            " 5   PM2.5       34290 non-null  float64\n",
            " 6   PM10        34482 non-null  float64\n",
            " 7   SO2         34436 non-null  float64\n",
            " 8   NO2         34397 non-null  float64\n",
            " 9   CO          33543 non-null  float64\n",
            " 10  O3          34460 non-null  float64\n",
            " 11  TEMP        35011 non-null  float64\n",
            " 12  PRES        35014 non-null  float64\n",
            " 13  DEWP        35011 non-null  float64\n",
            " 14  RAIN        35013 non-null  float64\n",
            " 15  wd          34924 non-null  object \n",
            " 16  WSPM        35021 non-null  float64\n",
            " 17  station     35064 non-null  object \n",
            " 18  wd_degrees  34924 non-null  float64\n",
            "dtypes: float64(12), int64(5), object(2)\n",
            "memory usage: 5.1+ MB\n"
          ]
        }
      ],
      "source": [
        "Changping_df.info()"
      ]
    },
    {
      "cell_type": "code",
      "execution_count": 22,
      "metadata": {
        "colab": {
          "base_uri": "https://localhost:8080/",
          "height": 0
        },
        "id": "bDpKztCN7PJd",
        "outputId": "65012243-f420-4284-f165-55e156632d9e"
      },
      "outputs": [
        {
          "data": {
            "text/plain": [
              "No               0\n",
              "year             0\n",
              "month            0\n",
              "day              0\n",
              "hour             0\n",
              "PM2.5          774\n",
              "PM10           582\n",
              "SO2            628\n",
              "NO2            667\n",
              "CO            1521\n",
              "O3             604\n",
              "TEMP            53\n",
              "PRES            50\n",
              "DEWP            53\n",
              "RAIN            51\n",
              "wd             140\n",
              "WSPM            43\n",
              "station          0\n",
              "wd_degrees     140\n",
              "dtype: int64"
            ]
          },
          "execution_count": 22,
          "metadata": {},
          "output_type": "execute_result"
        }
      ],
      "source": [
        "Changping_df.isna().sum()"
      ]
    },
    {
      "cell_type": "code",
      "execution_count": 23,
      "metadata": {
        "colab": {
          "base_uri": "https://localhost:8080/"
        },
        "id": "MD0QVZX07PJd",
        "outputId": "fc614100-016f-4019-a425-01cba5d80471"
      },
      "outputs": [
        {
          "name": "stdout",
          "output_type": "stream",
          "text": [
            "Jumlah duplikat :  0\n"
          ]
        }
      ],
      "source": [
        "print(\"Jumlah duplikat : \", Changping_df.duplicated().sum())"
      ]
    },
    {
      "cell_type": "code",
      "execution_count": 24,
      "metadata": {
        "colab": {
          "base_uri": "https://localhost:8080/",
          "height": 0
        },
        "id": "lZ3j4L-B7PJd",
        "outputId": "7d74c343-96fe-47d4-d6e6-a74476cc891e"
      },
      "outputs": [
        {
          "data": {
            "text/html": [
              "<div>\n",
              "<style scoped>\n",
              "    .dataframe tbody tr th:only-of-type {\n",
              "        vertical-align: middle;\n",
              "    }\n",
              "\n",
              "    .dataframe tbody tr th {\n",
              "        vertical-align: top;\n",
              "    }\n",
              "\n",
              "    .dataframe thead th {\n",
              "        text-align: right;\n",
              "    }\n",
              "</style>\n",
              "<table border=\"1\" class=\"dataframe\">\n",
              "  <thead>\n",
              "    <tr style=\"text-align: right;\">\n",
              "      <th></th>\n",
              "      <th>No</th>\n",
              "      <th>year</th>\n",
              "      <th>month</th>\n",
              "      <th>day</th>\n",
              "      <th>hour</th>\n",
              "      <th>PM2.5</th>\n",
              "      <th>PM10</th>\n",
              "      <th>SO2</th>\n",
              "      <th>NO2</th>\n",
              "      <th>CO</th>\n",
              "      <th>O3</th>\n",
              "      <th>TEMP</th>\n",
              "      <th>PRES</th>\n",
              "      <th>DEWP</th>\n",
              "      <th>RAIN</th>\n",
              "      <th>WSPM</th>\n",
              "      <th>wd_degrees</th>\n",
              "    </tr>\n",
              "  </thead>\n",
              "  <tbody>\n",
              "    <tr>\n",
              "      <th>count</th>\n",
              "      <td>35064.000000</td>\n",
              "      <td>35064.000000</td>\n",
              "      <td>35064.000000</td>\n",
              "      <td>35064.000000</td>\n",
              "      <td>35064.000000</td>\n",
              "      <td>34290.000000</td>\n",
              "      <td>34482.000000</td>\n",
              "      <td>34436.000000</td>\n",
              "      <td>34397.000000</td>\n",
              "      <td>33543.000000</td>\n",
              "      <td>34460.000000</td>\n",
              "      <td>35011.000000</td>\n",
              "      <td>35014.000000</td>\n",
              "      <td>35011.000000</td>\n",
              "      <td>35013.000000</td>\n",
              "      <td>35021.000000</td>\n",
              "      <td>34924.000000</td>\n",
              "    </tr>\n",
              "    <tr>\n",
              "      <th>mean</th>\n",
              "      <td>17532.500000</td>\n",
              "      <td>2014.662560</td>\n",
              "      <td>6.522930</td>\n",
              "      <td>15.729637</td>\n",
              "      <td>11.500000</td>\n",
              "      <td>71.099743</td>\n",
              "      <td>94.657871</td>\n",
              "      <td>14.958906</td>\n",
              "      <td>44.182086</td>\n",
              "      <td>1152.301345</td>\n",
              "      <td>57.940003</td>\n",
              "      <td>13.686111</td>\n",
              "      <td>1007.760278</td>\n",
              "      <td>1.505495</td>\n",
              "      <td>0.060366</td>\n",
              "      <td>1.853836</td>\n",
              "      <td>178.341685</td>\n",
              "    </tr>\n",
              "    <tr>\n",
              "      <th>std</th>\n",
              "      <td>10122.249256</td>\n",
              "      <td>1.177213</td>\n",
              "      <td>3.448752</td>\n",
              "      <td>8.800218</td>\n",
              "      <td>6.922285</td>\n",
              "      <td>72.326926</td>\n",
              "      <td>83.441738</td>\n",
              "      <td>20.975331</td>\n",
              "      <td>29.519796</td>\n",
              "      <td>1103.056282</td>\n",
              "      <td>54.316674</td>\n",
              "      <td>11.365313</td>\n",
              "      <td>10.225664</td>\n",
              "      <td>13.822099</td>\n",
              "      <td>0.752899</td>\n",
              "      <td>1.309808</td>\n",
              "      <td>119.244239</td>\n",
              "    </tr>\n",
              "    <tr>\n",
              "      <th>min</th>\n",
              "      <td>1.000000</td>\n",
              "      <td>2013.000000</td>\n",
              "      <td>1.000000</td>\n",
              "      <td>1.000000</td>\n",
              "      <td>0.000000</td>\n",
              "      <td>2.000000</td>\n",
              "      <td>2.000000</td>\n",
              "      <td>0.285600</td>\n",
              "      <td>1.847700</td>\n",
              "      <td>100.000000</td>\n",
              "      <td>0.214200</td>\n",
              "      <td>-16.600000</td>\n",
              "      <td>982.400000</td>\n",
              "      <td>-35.100000</td>\n",
              "      <td>0.000000</td>\n",
              "      <td>0.000000</td>\n",
              "      <td>0.000000</td>\n",
              "    </tr>\n",
              "    <tr>\n",
              "      <th>25%</th>\n",
              "      <td>8766.750000</td>\n",
              "      <td>2014.000000</td>\n",
              "      <td>4.000000</td>\n",
              "      <td>8.000000</td>\n",
              "      <td>5.750000</td>\n",
              "      <td>18.000000</td>\n",
              "      <td>34.000000</td>\n",
              "      <td>2.000000</td>\n",
              "      <td>22.000000</td>\n",
              "      <td>500.000000</td>\n",
              "      <td>15.636600</td>\n",
              "      <td>3.400000</td>\n",
              "      <td>999.300000</td>\n",
              "      <td>-10.200000</td>\n",
              "      <td>0.000000</td>\n",
              "      <td>1.000000</td>\n",
              "      <td>90.000000</td>\n",
              "    </tr>\n",
              "    <tr>\n",
              "      <th>50%</th>\n",
              "      <td>17532.500000</td>\n",
              "      <td>2015.000000</td>\n",
              "      <td>7.000000</td>\n",
              "      <td>16.000000</td>\n",
              "      <td>11.500000</td>\n",
              "      <td>46.000000</td>\n",
              "      <td>72.000000</td>\n",
              "      <td>7.000000</td>\n",
              "      <td>36.000000</td>\n",
              "      <td>800.000000</td>\n",
              "      <td>46.000000</td>\n",
              "      <td>14.700000</td>\n",
              "      <td>1007.400000</td>\n",
              "      <td>1.800000</td>\n",
              "      <td>0.000000</td>\n",
              "      <td>1.500000</td>\n",
              "      <td>157.500000</td>\n",
              "    </tr>\n",
              "    <tr>\n",
              "      <th>75%</th>\n",
              "      <td>26298.250000</td>\n",
              "      <td>2016.000000</td>\n",
              "      <td>10.000000</td>\n",
              "      <td>23.000000</td>\n",
              "      <td>17.250000</td>\n",
              "      <td>100.000000</td>\n",
              "      <td>131.000000</td>\n",
              "      <td>18.000000</td>\n",
              "      <td>60.358200</td>\n",
              "      <td>1400.000000</td>\n",
              "      <td>80.000000</td>\n",
              "      <td>23.300000</td>\n",
              "      <td>1016.000000</td>\n",
              "      <td>14.200000</td>\n",
              "      <td>0.000000</td>\n",
              "      <td>2.300000</td>\n",
              "      <td>292.500000</td>\n",
              "    </tr>\n",
              "    <tr>\n",
              "      <th>max</th>\n",
              "      <td>35064.000000</td>\n",
              "      <td>2017.000000</td>\n",
              "      <td>12.000000</td>\n",
              "      <td>31.000000</td>\n",
              "      <td>23.000000</td>\n",
              "      <td>882.000000</td>\n",
              "      <td>999.000000</td>\n",
              "      <td>310.000000</td>\n",
              "      <td>226.000000</td>\n",
              "      <td>10000.000000</td>\n",
              "      <td>429.000000</td>\n",
              "      <td>41.400000</td>\n",
              "      <td>1036.500000</td>\n",
              "      <td>27.200000</td>\n",
              "      <td>52.100000</td>\n",
              "      <td>10.000000</td>\n",
              "      <td>337.500000</td>\n",
              "    </tr>\n",
              "  </tbody>\n",
              "</table>\n",
              "</div>"
            ],
            "text/plain": [
              "                 No          year         month           day          hour  \\\n",
              "count  35064.000000  35064.000000  35064.000000  35064.000000  35064.000000   \n",
              "mean   17532.500000   2014.662560      6.522930     15.729637     11.500000   \n",
              "std    10122.249256      1.177213      3.448752      8.800218      6.922285   \n",
              "min        1.000000   2013.000000      1.000000      1.000000      0.000000   \n",
              "25%     8766.750000   2014.000000      4.000000      8.000000      5.750000   \n",
              "50%    17532.500000   2015.000000      7.000000     16.000000     11.500000   \n",
              "75%    26298.250000   2016.000000     10.000000     23.000000     17.250000   \n",
              "max    35064.000000   2017.000000     12.000000     31.000000     23.000000   \n",
              "\n",
              "              PM2.5          PM10           SO2           NO2            CO  \\\n",
              "count  34290.000000  34482.000000  34436.000000  34397.000000  33543.000000   \n",
              "mean      71.099743     94.657871     14.958906     44.182086   1152.301345   \n",
              "std       72.326926     83.441738     20.975331     29.519796   1103.056282   \n",
              "min        2.000000      2.000000      0.285600      1.847700    100.000000   \n",
              "25%       18.000000     34.000000      2.000000     22.000000    500.000000   \n",
              "50%       46.000000     72.000000      7.000000     36.000000    800.000000   \n",
              "75%      100.000000    131.000000     18.000000     60.358200   1400.000000   \n",
              "max      882.000000    999.000000    310.000000    226.000000  10000.000000   \n",
              "\n",
              "                 O3          TEMP          PRES          DEWP          RAIN  \\\n",
              "count  34460.000000  35011.000000  35014.000000  35011.000000  35013.000000   \n",
              "mean      57.940003     13.686111   1007.760278      1.505495      0.060366   \n",
              "std       54.316674     11.365313     10.225664     13.822099      0.752899   \n",
              "min        0.214200    -16.600000    982.400000    -35.100000      0.000000   \n",
              "25%       15.636600      3.400000    999.300000    -10.200000      0.000000   \n",
              "50%       46.000000     14.700000   1007.400000      1.800000      0.000000   \n",
              "75%       80.000000     23.300000   1016.000000     14.200000      0.000000   \n",
              "max      429.000000     41.400000   1036.500000     27.200000     52.100000   \n",
              "\n",
              "               WSPM    wd_degrees  \n",
              "count  35021.000000  34924.000000  \n",
              "mean       1.853836    178.341685  \n",
              "std        1.309808    119.244239  \n",
              "min        0.000000      0.000000  \n",
              "25%        1.000000     90.000000  \n",
              "50%        1.500000    157.500000  \n",
              "75%        2.300000    292.500000  \n",
              "max       10.000000    337.500000  "
            ]
          },
          "execution_count": 24,
          "metadata": {},
          "output_type": "execute_result"
        }
      ],
      "source": [
        "Changping_df.describe()"
      ]
    },
    {
      "cell_type": "markdown",
      "metadata": {
        "id": "p_ym6vb27PJd"
      },
      "source": [
        "**Insight:**\n",
        "- Add column for numerical wind direction called wd_degrees\n",
        "- Check all column datatypes\n",
        "- Check null data\n",
        "- Check duplicate data"
      ]
    },
    {
      "cell_type": "markdown",
      "metadata": {
        "id": "qjUJC8c37QhZ"
      },
      "source": [
        "#### Dingling"
      ]
    },
    {
      "cell_type": "code",
      "execution_count": 25,
      "metadata": {
        "id": "k_Wq3Qe6ygxi"
      },
      "outputs": [],
      "source": [
        "Dingling_df['wd_degrees'] = Dingling_df['wd'].map(wind_direction_map)"
      ]
    },
    {
      "cell_type": "code",
      "execution_count": 26,
      "metadata": {
        "colab": {
          "base_uri": "https://localhost:8080/"
        },
        "id": "ja1RDEKj7Qha",
        "outputId": "84876262-39e4-4ce4-870c-93e7143ae868"
      },
      "outputs": [
        {
          "name": "stdout",
          "output_type": "stream",
          "text": [
            "<class 'pandas.core.frame.DataFrame'>\n",
            "RangeIndex: 35064 entries, 0 to 35063\n",
            "Data columns (total 19 columns):\n",
            " #   Column      Non-Null Count  Dtype  \n",
            "---  ------      --------------  -----  \n",
            " 0   No          35064 non-null  int64  \n",
            " 1   year        35064 non-null  int64  \n",
            " 2   month       35064 non-null  int64  \n",
            " 3   day         35064 non-null  int64  \n",
            " 4   hour        35064 non-null  int64  \n",
            " 5   PM2.5       34285 non-null  float64\n",
            " 6   PM10        34408 non-null  float64\n",
            " 7   SO2         34334 non-null  float64\n",
            " 8   NO2         33830 non-null  float64\n",
            " 9   CO          33052 non-null  float64\n",
            " 10  O3          33850 non-null  float64\n",
            " 11  TEMP        35011 non-null  float64\n",
            " 12  PRES        35014 non-null  float64\n",
            " 13  DEWP        35011 non-null  float64\n",
            " 14  RAIN        35013 non-null  float64\n",
            " 15  wd          34924 non-null  object \n",
            " 16  WSPM        35021 non-null  float64\n",
            " 17  station     35064 non-null  object \n",
            " 18  wd_degrees  34924 non-null  float64\n",
            "dtypes: float64(12), int64(5), object(2)\n",
            "memory usage: 5.1+ MB\n"
          ]
        }
      ],
      "source": [
        "Dingling_df.info()"
      ]
    },
    {
      "cell_type": "code",
      "execution_count": 27,
      "metadata": {
        "colab": {
          "base_uri": "https://localhost:8080/",
          "height": 0
        },
        "id": "pu83sIrr7Qha",
        "outputId": "2a9628e8-b431-4f2c-810d-616000c61e19"
      },
      "outputs": [
        {
          "data": {
            "text/plain": [
              "No               0\n",
              "year             0\n",
              "month            0\n",
              "day              0\n",
              "hour             0\n",
              "PM2.5          779\n",
              "PM10           656\n",
              "SO2            730\n",
              "NO2           1234\n",
              "CO            2012\n",
              "O3            1214\n",
              "TEMP            53\n",
              "PRES            50\n",
              "DEWP            53\n",
              "RAIN            51\n",
              "wd             140\n",
              "WSPM            43\n",
              "station          0\n",
              "wd_degrees     140\n",
              "dtype: int64"
            ]
          },
          "execution_count": 27,
          "metadata": {},
          "output_type": "execute_result"
        }
      ],
      "source": [
        "Dingling_df.isna().sum()"
      ]
    },
    {
      "cell_type": "code",
      "execution_count": 28,
      "metadata": {
        "colab": {
          "base_uri": "https://localhost:8080/"
        },
        "id": "pJmX7FYs7Qha",
        "outputId": "276b86e1-b7c1-4149-cd16-d6cfff4fea34"
      },
      "outputs": [
        {
          "name": "stdout",
          "output_type": "stream",
          "text": [
            "Jumlah duplikat :  0\n"
          ]
        }
      ],
      "source": [
        "print(\"Jumlah duplikat : \", Dingling_df.duplicated().sum())"
      ]
    },
    {
      "cell_type": "code",
      "execution_count": 29,
      "metadata": {
        "colab": {
          "base_uri": "https://localhost:8080/",
          "height": 0
        },
        "id": "K2YVInr-7Qha",
        "outputId": "6513fd9d-fe44-4206-a07e-520d4446db99"
      },
      "outputs": [
        {
          "data": {
            "text/html": [
              "<div>\n",
              "<style scoped>\n",
              "    .dataframe tbody tr th:only-of-type {\n",
              "        vertical-align: middle;\n",
              "    }\n",
              "\n",
              "    .dataframe tbody tr th {\n",
              "        vertical-align: top;\n",
              "    }\n",
              "\n",
              "    .dataframe thead th {\n",
              "        text-align: right;\n",
              "    }\n",
              "</style>\n",
              "<table border=\"1\" class=\"dataframe\">\n",
              "  <thead>\n",
              "    <tr style=\"text-align: right;\">\n",
              "      <th></th>\n",
              "      <th>No</th>\n",
              "      <th>year</th>\n",
              "      <th>month</th>\n",
              "      <th>day</th>\n",
              "      <th>hour</th>\n",
              "      <th>PM2.5</th>\n",
              "      <th>PM10</th>\n",
              "      <th>SO2</th>\n",
              "      <th>NO2</th>\n",
              "      <th>CO</th>\n",
              "      <th>O3</th>\n",
              "      <th>TEMP</th>\n",
              "      <th>PRES</th>\n",
              "      <th>DEWP</th>\n",
              "      <th>RAIN</th>\n",
              "      <th>WSPM</th>\n",
              "      <th>wd_degrees</th>\n",
              "    </tr>\n",
              "  </thead>\n",
              "  <tbody>\n",
              "    <tr>\n",
              "      <th>count</th>\n",
              "      <td>35064.000000</td>\n",
              "      <td>35064.000000</td>\n",
              "      <td>35064.000000</td>\n",
              "      <td>35064.000000</td>\n",
              "      <td>35064.000000</td>\n",
              "      <td>34285.000000</td>\n",
              "      <td>34408.000000</td>\n",
              "      <td>34334.000000</td>\n",
              "      <td>33830.000000</td>\n",
              "      <td>33052.000000</td>\n",
              "      <td>33850.000000</td>\n",
              "      <td>35011.000000</td>\n",
              "      <td>35014.000000</td>\n",
              "      <td>35011.000000</td>\n",
              "      <td>35013.000000</td>\n",
              "      <td>35021.000000</td>\n",
              "      <td>34924.000000</td>\n",
              "    </tr>\n",
              "    <tr>\n",
              "      <th>mean</th>\n",
              "      <td>17532.500000</td>\n",
              "      <td>2014.662560</td>\n",
              "      <td>6.522930</td>\n",
              "      <td>15.729637</td>\n",
              "      <td>11.500000</td>\n",
              "      <td>65.989497</td>\n",
              "      <td>83.739723</td>\n",
              "      <td>11.749650</td>\n",
              "      <td>27.585467</td>\n",
              "      <td>904.896073</td>\n",
              "      <td>68.548371</td>\n",
              "      <td>13.686111</td>\n",
              "      <td>1007.760278</td>\n",
              "      <td>1.505495</td>\n",
              "      <td>0.060366</td>\n",
              "      <td>1.853836</td>\n",
              "      <td>178.341685</td>\n",
              "    </tr>\n",
              "    <tr>\n",
              "      <th>std</th>\n",
              "      <td>10122.249256</td>\n",
              "      <td>1.177213</td>\n",
              "      <td>3.448752</td>\n",
              "      <td>8.800218</td>\n",
              "      <td>6.922285</td>\n",
              "      <td>72.267723</td>\n",
              "      <td>79.541685</td>\n",
              "      <td>15.519259</td>\n",
              "      <td>26.383882</td>\n",
              "      <td>903.306220</td>\n",
              "      <td>53.764424</td>\n",
              "      <td>11.365313</td>\n",
              "      <td>10.225664</td>\n",
              "      <td>13.822099</td>\n",
              "      <td>0.752899</td>\n",
              "      <td>1.309808</td>\n",
              "      <td>119.244239</td>\n",
              "    </tr>\n",
              "    <tr>\n",
              "      <th>min</th>\n",
              "      <td>1.000000</td>\n",
              "      <td>2013.000000</td>\n",
              "      <td>1.000000</td>\n",
              "      <td>1.000000</td>\n",
              "      <td>0.000000</td>\n",
              "      <td>3.000000</td>\n",
              "      <td>2.000000</td>\n",
              "      <td>0.285600</td>\n",
              "      <td>1.026500</td>\n",
              "      <td>100.000000</td>\n",
              "      <td>0.214200</td>\n",
              "      <td>-16.600000</td>\n",
              "      <td>982.400000</td>\n",
              "      <td>-35.100000</td>\n",
              "      <td>0.000000</td>\n",
              "      <td>0.000000</td>\n",
              "      <td>0.000000</td>\n",
              "    </tr>\n",
              "    <tr>\n",
              "      <th>25%</th>\n",
              "      <td>8766.750000</td>\n",
              "      <td>2014.000000</td>\n",
              "      <td>4.000000</td>\n",
              "      <td>8.000000</td>\n",
              "      <td>5.750000</td>\n",
              "      <td>14.000000</td>\n",
              "      <td>26.000000</td>\n",
              "      <td>2.000000</td>\n",
              "      <td>9.000000</td>\n",
              "      <td>300.000000</td>\n",
              "      <td>31.000000</td>\n",
              "      <td>3.400000</td>\n",
              "      <td>999.300000</td>\n",
              "      <td>-10.200000</td>\n",
              "      <td>0.000000</td>\n",
              "      <td>1.000000</td>\n",
              "      <td>90.000000</td>\n",
              "    </tr>\n",
              "    <tr>\n",
              "      <th>50%</th>\n",
              "      <td>17532.500000</td>\n",
              "      <td>2015.000000</td>\n",
              "      <td>7.000000</td>\n",
              "      <td>16.000000</td>\n",
              "      <td>11.500000</td>\n",
              "      <td>41.000000</td>\n",
              "      <td>60.000000</td>\n",
              "      <td>5.000000</td>\n",
              "      <td>19.000000</td>\n",
              "      <td>600.000000</td>\n",
              "      <td>61.000000</td>\n",
              "      <td>14.700000</td>\n",
              "      <td>1007.400000</td>\n",
              "      <td>1.800000</td>\n",
              "      <td>0.000000</td>\n",
              "      <td>1.500000</td>\n",
              "      <td>157.500000</td>\n",
              "    </tr>\n",
              "    <tr>\n",
              "      <th>75%</th>\n",
              "      <td>26298.250000</td>\n",
              "      <td>2016.000000</td>\n",
              "      <td>10.000000</td>\n",
              "      <td>23.000000</td>\n",
              "      <td>17.250000</td>\n",
              "      <td>93.000000</td>\n",
              "      <td>117.000000</td>\n",
              "      <td>15.000000</td>\n",
              "      <td>38.000000</td>\n",
              "      <td>1200.000000</td>\n",
              "      <td>90.000000</td>\n",
              "      <td>23.300000</td>\n",
              "      <td>1016.000000</td>\n",
              "      <td>14.200000</td>\n",
              "      <td>0.000000</td>\n",
              "      <td>2.300000</td>\n",
              "      <td>292.500000</td>\n",
              "    </tr>\n",
              "    <tr>\n",
              "      <th>max</th>\n",
              "      <td>35064.000000</td>\n",
              "      <td>2017.000000</td>\n",
              "      <td>12.000000</td>\n",
              "      <td>31.000000</td>\n",
              "      <td>23.000000</td>\n",
              "      <td>881.000000</td>\n",
              "      <td>905.000000</td>\n",
              "      <td>156.000000</td>\n",
              "      <td>205.000000</td>\n",
              "      <td>10000.000000</td>\n",
              "      <td>500.000000</td>\n",
              "      <td>41.400000</td>\n",
              "      <td>1036.500000</td>\n",
              "      <td>27.200000</td>\n",
              "      <td>52.100000</td>\n",
              "      <td>10.000000</td>\n",
              "      <td>337.500000</td>\n",
              "    </tr>\n",
              "  </tbody>\n",
              "</table>\n",
              "</div>"
            ],
            "text/plain": [
              "                 No          year         month           day          hour  \\\n",
              "count  35064.000000  35064.000000  35064.000000  35064.000000  35064.000000   \n",
              "mean   17532.500000   2014.662560      6.522930     15.729637     11.500000   \n",
              "std    10122.249256      1.177213      3.448752      8.800218      6.922285   \n",
              "min        1.000000   2013.000000      1.000000      1.000000      0.000000   \n",
              "25%     8766.750000   2014.000000      4.000000      8.000000      5.750000   \n",
              "50%    17532.500000   2015.000000      7.000000     16.000000     11.500000   \n",
              "75%    26298.250000   2016.000000     10.000000     23.000000     17.250000   \n",
              "max    35064.000000   2017.000000     12.000000     31.000000     23.000000   \n",
              "\n",
              "              PM2.5          PM10           SO2           NO2            CO  \\\n",
              "count  34285.000000  34408.000000  34334.000000  33830.000000  33052.000000   \n",
              "mean      65.989497     83.739723     11.749650     27.585467    904.896073   \n",
              "std       72.267723     79.541685     15.519259     26.383882    903.306220   \n",
              "min        3.000000      2.000000      0.285600      1.026500    100.000000   \n",
              "25%       14.000000     26.000000      2.000000      9.000000    300.000000   \n",
              "50%       41.000000     60.000000      5.000000     19.000000    600.000000   \n",
              "75%       93.000000    117.000000     15.000000     38.000000   1200.000000   \n",
              "max      881.000000    905.000000    156.000000    205.000000  10000.000000   \n",
              "\n",
              "                 O3          TEMP          PRES          DEWP          RAIN  \\\n",
              "count  33850.000000  35011.000000  35014.000000  35011.000000  35013.000000   \n",
              "mean      68.548371     13.686111   1007.760278      1.505495      0.060366   \n",
              "std       53.764424     11.365313     10.225664     13.822099      0.752899   \n",
              "min        0.214200    -16.600000    982.400000    -35.100000      0.000000   \n",
              "25%       31.000000      3.400000    999.300000    -10.200000      0.000000   \n",
              "50%       61.000000     14.700000   1007.400000      1.800000      0.000000   \n",
              "75%       90.000000     23.300000   1016.000000     14.200000      0.000000   \n",
              "max      500.000000     41.400000   1036.500000     27.200000     52.100000   \n",
              "\n",
              "               WSPM    wd_degrees  \n",
              "count  35021.000000  34924.000000  \n",
              "mean       1.853836    178.341685  \n",
              "std        1.309808    119.244239  \n",
              "min        0.000000      0.000000  \n",
              "25%        1.000000     90.000000  \n",
              "50%        1.500000    157.500000  \n",
              "75%        2.300000    292.500000  \n",
              "max       10.000000    337.500000  "
            ]
          },
          "execution_count": 29,
          "metadata": {},
          "output_type": "execute_result"
        }
      ],
      "source": [
        "Dingling_df.describe()"
      ]
    },
    {
      "cell_type": "markdown",
      "metadata": {
        "id": "8pOtOt0Y7Qha"
      },
      "source": [
        "**Insight:**\n",
        "- xxx\n",
        "- xxx"
      ]
    },
    {
      "cell_type": "markdown",
      "metadata": {
        "id": "wIVMom377Rck"
      },
      "source": [
        "#### Dongsi"
      ]
    },
    {
      "cell_type": "code",
      "execution_count": 30,
      "metadata": {
        "id": "M5ZyKSLFynhZ"
      },
      "outputs": [],
      "source": [
        "Dongsi_df['wd_degrees'] = Dongsi_df['wd'].map(wind_direction_map)"
      ]
    },
    {
      "cell_type": "code",
      "execution_count": 31,
      "metadata": {
        "colab": {
          "base_uri": "https://localhost:8080/"
        },
        "id": "Kga-xNlL7Rcp",
        "outputId": "dce2f78d-8341-47ef-a27e-2f1586e27fc6"
      },
      "outputs": [
        {
          "name": "stdout",
          "output_type": "stream",
          "text": [
            "<class 'pandas.core.frame.DataFrame'>\n",
            "RangeIndex: 35064 entries, 0 to 35063\n",
            "Data columns (total 19 columns):\n",
            " #   Column      Non-Null Count  Dtype  \n",
            "---  ------      --------------  -----  \n",
            " 0   No          35064 non-null  int64  \n",
            " 1   year        35064 non-null  int64  \n",
            " 2   month       35064 non-null  int64  \n",
            " 3   day         35064 non-null  int64  \n",
            " 4   hour        35064 non-null  int64  \n",
            " 5   PM2.5       34314 non-null  float64\n",
            " 6   PM10        34511 non-null  float64\n",
            " 7   SO2         34401 non-null  float64\n",
            " 8   NO2         33463 non-null  float64\n",
            " 9   CO          31867 non-null  float64\n",
            " 10  O3          34400 non-null  float64\n",
            " 11  TEMP        35044 non-null  float64\n",
            " 12  PRES        35044 non-null  float64\n",
            " 13  DEWP        35044 non-null  float64\n",
            " 14  RAIN        35044 non-null  float64\n",
            " 15  wd          34986 non-null  object \n",
            " 16  WSPM        35050 non-null  float64\n",
            " 17  station     35064 non-null  object \n",
            " 18  wd_degrees  34986 non-null  float64\n",
            "dtypes: float64(12), int64(5), object(2)\n",
            "memory usage: 5.1+ MB\n"
          ]
        }
      ],
      "source": [
        "Dongsi_df.info()"
      ]
    },
    {
      "cell_type": "code",
      "execution_count": 32,
      "metadata": {
        "colab": {
          "base_uri": "https://localhost:8080/",
          "height": 0
        },
        "id": "E4TnRYmC7Rcp",
        "outputId": "ea64ea5c-25fb-4147-d46f-a399254dd133"
      },
      "outputs": [
        {
          "data": {
            "text/plain": [
              "No               0\n",
              "year             0\n",
              "month            0\n",
              "day              0\n",
              "hour             0\n",
              "PM2.5          750\n",
              "PM10           553\n",
              "SO2            663\n",
              "NO2           1601\n",
              "CO            3197\n",
              "O3             664\n",
              "TEMP            20\n",
              "PRES            20\n",
              "DEWP            20\n",
              "RAIN            20\n",
              "wd              78\n",
              "WSPM            14\n",
              "station          0\n",
              "wd_degrees      78\n",
              "dtype: int64"
            ]
          },
          "execution_count": 32,
          "metadata": {},
          "output_type": "execute_result"
        }
      ],
      "source": [
        "Dongsi_df.isna().sum()"
      ]
    },
    {
      "cell_type": "code",
      "execution_count": 33,
      "metadata": {
        "colab": {
          "base_uri": "https://localhost:8080/"
        },
        "id": "8pYPYOJZ7Rcq",
        "outputId": "ccfa227b-ed0d-4f07-e864-25626a8995a7"
      },
      "outputs": [
        {
          "name": "stdout",
          "output_type": "stream",
          "text": [
            "Jumlah duplikat :  0\n"
          ]
        }
      ],
      "source": [
        "print(\"Jumlah duplikat : \", Dongsi_df.duplicated().sum())"
      ]
    },
    {
      "cell_type": "code",
      "execution_count": 34,
      "metadata": {
        "colab": {
          "base_uri": "https://localhost:8080/",
          "height": 0
        },
        "id": "2C0CgGu_7Rcq",
        "outputId": "299ddd02-e4e5-4f18-eb0f-d02a527a48df"
      },
      "outputs": [
        {
          "data": {
            "text/html": [
              "<div>\n",
              "<style scoped>\n",
              "    .dataframe tbody tr th:only-of-type {\n",
              "        vertical-align: middle;\n",
              "    }\n",
              "\n",
              "    .dataframe tbody tr th {\n",
              "        vertical-align: top;\n",
              "    }\n",
              "\n",
              "    .dataframe thead th {\n",
              "        text-align: right;\n",
              "    }\n",
              "</style>\n",
              "<table border=\"1\" class=\"dataframe\">\n",
              "  <thead>\n",
              "    <tr style=\"text-align: right;\">\n",
              "      <th></th>\n",
              "      <th>No</th>\n",
              "      <th>year</th>\n",
              "      <th>month</th>\n",
              "      <th>day</th>\n",
              "      <th>hour</th>\n",
              "      <th>PM2.5</th>\n",
              "      <th>PM10</th>\n",
              "      <th>SO2</th>\n",
              "      <th>NO2</th>\n",
              "      <th>CO</th>\n",
              "      <th>O3</th>\n",
              "      <th>TEMP</th>\n",
              "      <th>PRES</th>\n",
              "      <th>DEWP</th>\n",
              "      <th>RAIN</th>\n",
              "      <th>WSPM</th>\n",
              "      <th>wd_degrees</th>\n",
              "    </tr>\n",
              "  </thead>\n",
              "  <tbody>\n",
              "    <tr>\n",
              "      <th>count</th>\n",
              "      <td>35064.000000</td>\n",
              "      <td>35064.000000</td>\n",
              "      <td>35064.000000</td>\n",
              "      <td>35064.000000</td>\n",
              "      <td>35064.000000</td>\n",
              "      <td>34314.000000</td>\n",
              "      <td>34511.000000</td>\n",
              "      <td>34401.000000</td>\n",
              "      <td>33463.000000</td>\n",
              "      <td>31867.000000</td>\n",
              "      <td>34400.000000</td>\n",
              "      <td>35044.000000</td>\n",
              "      <td>35044.000000</td>\n",
              "      <td>35044.000000</td>\n",
              "      <td>35044.000000</td>\n",
              "      <td>35050.000000</td>\n",
              "      <td>34986.000000</td>\n",
              "    </tr>\n",
              "    <tr>\n",
              "      <th>mean</th>\n",
              "      <td>17532.500000</td>\n",
              "      <td>2014.662560</td>\n",
              "      <td>6.522930</td>\n",
              "      <td>15.729637</td>\n",
              "      <td>11.500000</td>\n",
              "      <td>86.194297</td>\n",
              "      <td>110.336742</td>\n",
              "      <td>18.531107</td>\n",
              "      <td>53.699443</td>\n",
              "      <td>1330.069131</td>\n",
              "      <td>57.210637</td>\n",
              "      <td>13.671490</td>\n",
              "      <td>1012.547419</td>\n",
              "      <td>2.447535</td>\n",
              "      <td>0.064020</td>\n",
              "      <td>1.860785</td>\n",
              "      <td>149.801278</td>\n",
              "    </tr>\n",
              "    <tr>\n",
              "      <th>std</th>\n",
              "      <td>10122.249256</td>\n",
              "      <td>1.177213</td>\n",
              "      <td>3.448752</td>\n",
              "      <td>8.800218</td>\n",
              "      <td>6.922285</td>\n",
              "      <td>86.575127</td>\n",
              "      <td>98.219860</td>\n",
              "      <td>22.905655</td>\n",
              "      <td>33.959230</td>\n",
              "      <td>1191.305887</td>\n",
              "      <td>58.033275</td>\n",
              "      <td>11.458418</td>\n",
              "      <td>10.266059</td>\n",
              "      <td>13.810696</td>\n",
              "      <td>0.786282</td>\n",
              "      <td>1.280368</td>\n",
              "      <td>101.647724</td>\n",
              "    </tr>\n",
              "    <tr>\n",
              "      <th>min</th>\n",
              "      <td>1.000000</td>\n",
              "      <td>2013.000000</td>\n",
              "      <td>1.000000</td>\n",
              "      <td>1.000000</td>\n",
              "      <td>0.000000</td>\n",
              "      <td>3.000000</td>\n",
              "      <td>2.000000</td>\n",
              "      <td>0.285600</td>\n",
              "      <td>2.000000</td>\n",
              "      <td>100.000000</td>\n",
              "      <td>0.642600</td>\n",
              "      <td>-16.800000</td>\n",
              "      <td>987.100000</td>\n",
              "      <td>-35.300000</td>\n",
              "      <td>0.000000</td>\n",
              "      <td>0.000000</td>\n",
              "      <td>0.000000</td>\n",
              "    </tr>\n",
              "    <tr>\n",
              "      <th>25%</th>\n",
              "      <td>8766.750000</td>\n",
              "      <td>2014.000000</td>\n",
              "      <td>4.000000</td>\n",
              "      <td>8.000000</td>\n",
              "      <td>5.750000</td>\n",
              "      <td>22.000000</td>\n",
              "      <td>38.000000</td>\n",
              "      <td>4.000000</td>\n",
              "      <td>27.000000</td>\n",
              "      <td>600.000000</td>\n",
              "      <td>12.000000</td>\n",
              "      <td>3.100000</td>\n",
              "      <td>1004.000000</td>\n",
              "      <td>-8.800000</td>\n",
              "      <td>0.000000</td>\n",
              "      <td>1.000000</td>\n",
              "      <td>67.500000</td>\n",
              "    </tr>\n",
              "    <tr>\n",
              "      <th>50%</th>\n",
              "      <td>17532.500000</td>\n",
              "      <td>2015.000000</td>\n",
              "      <td>7.000000</td>\n",
              "      <td>16.000000</td>\n",
              "      <td>11.500000</td>\n",
              "      <td>61.000000</td>\n",
              "      <td>86.000000</td>\n",
              "      <td>10.000000</td>\n",
              "      <td>47.000000</td>\n",
              "      <td>1000.000000</td>\n",
              "      <td>44.125200</td>\n",
              "      <td>14.600000</td>\n",
              "      <td>1012.200000</td>\n",
              "      <td>3.000000</td>\n",
              "      <td>0.000000</td>\n",
              "      <td>1.500000</td>\n",
              "      <td>135.000000</td>\n",
              "    </tr>\n",
              "    <tr>\n",
              "      <th>75%</th>\n",
              "      <td>26298.250000</td>\n",
              "      <td>2016.000000</td>\n",
              "      <td>10.000000</td>\n",
              "      <td>23.000000</td>\n",
              "      <td>17.250000</td>\n",
              "      <td>119.000000</td>\n",
              "      <td>151.000000</td>\n",
              "      <td>24.000000</td>\n",
              "      <td>73.000000</td>\n",
              "      <td>1700.000000</td>\n",
              "      <td>81.000000</td>\n",
              "      <td>23.500000</td>\n",
              "      <td>1020.900000</td>\n",
              "      <td>15.000000</td>\n",
              "      <td>0.000000</td>\n",
              "      <td>2.400000</td>\n",
              "      <td>225.000000</td>\n",
              "    </tr>\n",
              "    <tr>\n",
              "      <th>max</th>\n",
              "      <td>35064.000000</td>\n",
              "      <td>2017.000000</td>\n",
              "      <td>12.000000</td>\n",
              "      <td>31.000000</td>\n",
              "      <td>23.000000</td>\n",
              "      <td>737.000000</td>\n",
              "      <td>955.000000</td>\n",
              "      <td>300.000000</td>\n",
              "      <td>258.000000</td>\n",
              "      <td>10000.000000</td>\n",
              "      <td>1071.000000</td>\n",
              "      <td>41.100000</td>\n",
              "      <td>1042.000000</td>\n",
              "      <td>28.800000</td>\n",
              "      <td>46.400000</td>\n",
              "      <td>10.500000</td>\n",
              "      <td>337.500000</td>\n",
              "    </tr>\n",
              "  </tbody>\n",
              "</table>\n",
              "</div>"
            ],
            "text/plain": [
              "                 No          year         month           day          hour  \\\n",
              "count  35064.000000  35064.000000  35064.000000  35064.000000  35064.000000   \n",
              "mean   17532.500000   2014.662560      6.522930     15.729637     11.500000   \n",
              "std    10122.249256      1.177213      3.448752      8.800218      6.922285   \n",
              "min        1.000000   2013.000000      1.000000      1.000000      0.000000   \n",
              "25%     8766.750000   2014.000000      4.000000      8.000000      5.750000   \n",
              "50%    17532.500000   2015.000000      7.000000     16.000000     11.500000   \n",
              "75%    26298.250000   2016.000000     10.000000     23.000000     17.250000   \n",
              "max    35064.000000   2017.000000     12.000000     31.000000     23.000000   \n",
              "\n",
              "              PM2.5          PM10           SO2           NO2            CO  \\\n",
              "count  34314.000000  34511.000000  34401.000000  33463.000000  31867.000000   \n",
              "mean      86.194297    110.336742     18.531107     53.699443   1330.069131   \n",
              "std       86.575127     98.219860     22.905655     33.959230   1191.305887   \n",
              "min        3.000000      2.000000      0.285600      2.000000    100.000000   \n",
              "25%       22.000000     38.000000      4.000000     27.000000    600.000000   \n",
              "50%       61.000000     86.000000     10.000000     47.000000   1000.000000   \n",
              "75%      119.000000    151.000000     24.000000     73.000000   1700.000000   \n",
              "max      737.000000    955.000000    300.000000    258.000000  10000.000000   \n",
              "\n",
              "                 O3          TEMP          PRES          DEWP          RAIN  \\\n",
              "count  34400.000000  35044.000000  35044.000000  35044.000000  35044.000000   \n",
              "mean      57.210637     13.671490   1012.547419      2.447535      0.064020   \n",
              "std       58.033275     11.458418     10.266059     13.810696      0.786282   \n",
              "min        0.642600    -16.800000    987.100000    -35.300000      0.000000   \n",
              "25%       12.000000      3.100000   1004.000000     -8.800000      0.000000   \n",
              "50%       44.125200     14.600000   1012.200000      3.000000      0.000000   \n",
              "75%       81.000000     23.500000   1020.900000     15.000000      0.000000   \n",
              "max     1071.000000     41.100000   1042.000000     28.800000     46.400000   \n",
              "\n",
              "               WSPM    wd_degrees  \n",
              "count  35050.000000  34986.000000  \n",
              "mean       1.860785    149.801278  \n",
              "std        1.280368    101.647724  \n",
              "min        0.000000      0.000000  \n",
              "25%        1.000000     67.500000  \n",
              "50%        1.500000    135.000000  \n",
              "75%        2.400000    225.000000  \n",
              "max       10.500000    337.500000  "
            ]
          },
          "execution_count": 34,
          "metadata": {},
          "output_type": "execute_result"
        }
      ],
      "source": [
        "Dongsi_df.describe()"
      ]
    },
    {
      "cell_type": "markdown",
      "metadata": {
        "id": "4WYwJrsk7Rcq"
      },
      "source": [
        "**Insight:**\n",
        "- Add column for numerical wind direction called wd_degrees\n",
        "- Check all column datatypes\n",
        "- Check null data\n",
        "- Check duplicate data"
      ]
    },
    {
      "cell_type": "markdown",
      "metadata": {
        "id": "nTzABJnY7SWk"
      },
      "source": [
        "#### Guanyuan"
      ]
    },
    {
      "cell_type": "code",
      "execution_count": 35,
      "metadata": {
        "id": "ArGCKBsdytKX"
      },
      "outputs": [],
      "source": [
        "Guanyuan_df['wd_degrees'] = Guanyuan_df['wd'].map(wind_direction_map)"
      ]
    },
    {
      "cell_type": "code",
      "execution_count": 36,
      "metadata": {
        "colab": {
          "base_uri": "https://localhost:8080/"
        },
        "id": "yU8-uNjR7SWk",
        "outputId": "9089f353-0b88-4053-f015-da6f7fe86fed"
      },
      "outputs": [
        {
          "name": "stdout",
          "output_type": "stream",
          "text": [
            "<class 'pandas.core.frame.DataFrame'>\n",
            "RangeIndex: 35064 entries, 0 to 35063\n",
            "Data columns (total 19 columns):\n",
            " #   Column      Non-Null Count  Dtype  \n",
            "---  ------      --------------  -----  \n",
            " 0   No          35064 non-null  int64  \n",
            " 1   year        35064 non-null  int64  \n",
            " 2   month       35064 non-null  int64  \n",
            " 3   day         35064 non-null  int64  \n",
            " 4   hour        35064 non-null  int64  \n",
            " 5   PM2.5       34448 non-null  float64\n",
            " 6   PM10        34635 non-null  float64\n",
            " 7   SO2         34590 non-null  float64\n",
            " 8   NO2         34405 non-null  float64\n",
            " 9   CO          33311 non-null  float64\n",
            " 10  O3          33891 non-null  float64\n",
            " 11  TEMP        35044 non-null  float64\n",
            " 12  PRES        35044 non-null  float64\n",
            " 13  DEWP        35044 non-null  float64\n",
            " 14  RAIN        35044 non-null  float64\n",
            " 15  wd          34983 non-null  object \n",
            " 16  WSPM        35050 non-null  float64\n",
            " 17  station     35064 non-null  object \n",
            " 18  wd_degrees  34983 non-null  float64\n",
            "dtypes: float64(12), int64(5), object(2)\n",
            "memory usage: 5.1+ MB\n"
          ]
        }
      ],
      "source": [
        "Guanyuan_df.info()"
      ]
    },
    {
      "cell_type": "code",
      "execution_count": 37,
      "metadata": {
        "colab": {
          "base_uri": "https://localhost:8080/",
          "height": 0
        },
        "id": "eC-0FiXJ7SWl",
        "outputId": "b7b74012-8f4d-47f8-c102-a5481d446276"
      },
      "outputs": [
        {
          "data": {
            "text/plain": [
              "No               0\n",
              "year             0\n",
              "month            0\n",
              "day              0\n",
              "hour             0\n",
              "PM2.5          616\n",
              "PM10           429\n",
              "SO2            474\n",
              "NO2            659\n",
              "CO            1753\n",
              "O3            1173\n",
              "TEMP            20\n",
              "PRES            20\n",
              "DEWP            20\n",
              "RAIN            20\n",
              "wd              81\n",
              "WSPM            14\n",
              "station          0\n",
              "wd_degrees      81\n",
              "dtype: int64"
            ]
          },
          "execution_count": 37,
          "metadata": {},
          "output_type": "execute_result"
        }
      ],
      "source": [
        "Guanyuan_df.isna().sum()"
      ]
    },
    {
      "cell_type": "code",
      "execution_count": 38,
      "metadata": {
        "colab": {
          "base_uri": "https://localhost:8080/"
        },
        "id": "SmNkk2tH7SWl",
        "outputId": "da004d0d-9b4b-402b-8132-46f6da5d54a8"
      },
      "outputs": [
        {
          "name": "stdout",
          "output_type": "stream",
          "text": [
            "Jumlah duplikat :  0\n"
          ]
        }
      ],
      "source": [
        "print(\"Jumlah duplikat : \", Guanyuan_df.duplicated().sum())"
      ]
    },
    {
      "cell_type": "code",
      "execution_count": 39,
      "metadata": {
        "colab": {
          "base_uri": "https://localhost:8080/",
          "height": 0
        },
        "id": "yMPGVoWo7SWl",
        "outputId": "518c147e-8e07-434a-d58f-cfc70c7bceb5"
      },
      "outputs": [
        {
          "data": {
            "text/html": [
              "<div>\n",
              "<style scoped>\n",
              "    .dataframe tbody tr th:only-of-type {\n",
              "        vertical-align: middle;\n",
              "    }\n",
              "\n",
              "    .dataframe tbody tr th {\n",
              "        vertical-align: top;\n",
              "    }\n",
              "\n",
              "    .dataframe thead th {\n",
              "        text-align: right;\n",
              "    }\n",
              "</style>\n",
              "<table border=\"1\" class=\"dataframe\">\n",
              "  <thead>\n",
              "    <tr style=\"text-align: right;\">\n",
              "      <th></th>\n",
              "      <th>No</th>\n",
              "      <th>year</th>\n",
              "      <th>month</th>\n",
              "      <th>day</th>\n",
              "      <th>hour</th>\n",
              "      <th>PM2.5</th>\n",
              "      <th>PM10</th>\n",
              "      <th>SO2</th>\n",
              "      <th>NO2</th>\n",
              "      <th>CO</th>\n",
              "      <th>O3</th>\n",
              "      <th>TEMP</th>\n",
              "      <th>PRES</th>\n",
              "      <th>DEWP</th>\n",
              "      <th>RAIN</th>\n",
              "      <th>WSPM</th>\n",
              "      <th>wd_degrees</th>\n",
              "    </tr>\n",
              "  </thead>\n",
              "  <tbody>\n",
              "    <tr>\n",
              "      <th>count</th>\n",
              "      <td>35064.000000</td>\n",
              "      <td>35064.000000</td>\n",
              "      <td>35064.000000</td>\n",
              "      <td>35064.000000</td>\n",
              "      <td>35064.000000</td>\n",
              "      <td>34448.000000</td>\n",
              "      <td>34635.000000</td>\n",
              "      <td>34590.000000</td>\n",
              "      <td>34405.000000</td>\n",
              "      <td>33311.000000</td>\n",
              "      <td>33891.000000</td>\n",
              "      <td>35044.000000</td>\n",
              "      <td>35044.000000</td>\n",
              "      <td>35044.000000</td>\n",
              "      <td>35044.000000</td>\n",
              "      <td>35050.000000</td>\n",
              "      <td>34983.000000</td>\n",
              "    </tr>\n",
              "    <tr>\n",
              "      <th>mean</th>\n",
              "      <td>17532.500000</td>\n",
              "      <td>2014.662560</td>\n",
              "      <td>6.522930</td>\n",
              "      <td>15.729637</td>\n",
              "      <td>11.500000</td>\n",
              "      <td>82.933372</td>\n",
              "      <td>109.023303</td>\n",
              "      <td>17.590941</td>\n",
              "      <td>57.901643</td>\n",
              "      <td>1271.294377</td>\n",
              "      <td>55.795044</td>\n",
              "      <td>13.584607</td>\n",
              "      <td>1011.846920</td>\n",
              "      <td>3.123062</td>\n",
              "      <td>0.067421</td>\n",
              "      <td>1.708496</td>\n",
              "      <td>144.242346</td>\n",
              "    </tr>\n",
              "    <tr>\n",
              "      <th>std</th>\n",
              "      <td>10122.249256</td>\n",
              "      <td>1.177213</td>\n",
              "      <td>3.448752</td>\n",
              "      <td>8.800218</td>\n",
              "      <td>6.922285</td>\n",
              "      <td>80.933497</td>\n",
              "      <td>91.573709</td>\n",
              "      <td>23.600367</td>\n",
              "      <td>35.150857</td>\n",
              "      <td>1164.854945</td>\n",
              "      <td>57.436983</td>\n",
              "      <td>11.399097</td>\n",
              "      <td>10.404047</td>\n",
              "      <td>13.688896</td>\n",
              "      <td>0.910056</td>\n",
              "      <td>1.204071</td>\n",
              "      <td>103.313594</td>\n",
              "    </tr>\n",
              "    <tr>\n",
              "      <th>min</th>\n",
              "      <td>1.000000</td>\n",
              "      <td>2013.000000</td>\n",
              "      <td>1.000000</td>\n",
              "      <td>1.000000</td>\n",
              "      <td>0.000000</td>\n",
              "      <td>2.000000</td>\n",
              "      <td>2.000000</td>\n",
              "      <td>1.000000</td>\n",
              "      <td>2.000000</td>\n",
              "      <td>100.000000</td>\n",
              "      <td>0.214200</td>\n",
              "      <td>-16.800000</td>\n",
              "      <td>985.900000</td>\n",
              "      <td>-35.300000</td>\n",
              "      <td>0.000000</td>\n",
              "      <td>0.000000</td>\n",
              "      <td>0.000000</td>\n",
              "    </tr>\n",
              "    <tr>\n",
              "      <th>25%</th>\n",
              "      <td>8766.750000</td>\n",
              "      <td>2014.000000</td>\n",
              "      <td>4.000000</td>\n",
              "      <td>8.000000</td>\n",
              "      <td>5.750000</td>\n",
              "      <td>23.000000</td>\n",
              "      <td>40.000000</td>\n",
              "      <td>3.000000</td>\n",
              "      <td>31.000000</td>\n",
              "      <td>500.000000</td>\n",
              "      <td>7.000000</td>\n",
              "      <td>3.100000</td>\n",
              "      <td>1003.300000</td>\n",
              "      <td>-8.100000</td>\n",
              "      <td>0.000000</td>\n",
              "      <td>0.900000</td>\n",
              "      <td>45.000000</td>\n",
              "    </tr>\n",
              "    <tr>\n",
              "      <th>50%</th>\n",
              "      <td>17532.500000</td>\n",
              "      <td>2015.000000</td>\n",
              "      <td>7.000000</td>\n",
              "      <td>16.000000</td>\n",
              "      <td>11.500000</td>\n",
              "      <td>59.000000</td>\n",
              "      <td>89.000000</td>\n",
              "      <td>8.000000</td>\n",
              "      <td>51.000000</td>\n",
              "      <td>900.000000</td>\n",
              "      <td>41.000000</td>\n",
              "      <td>14.500000</td>\n",
              "      <td>1011.400000</td>\n",
              "      <td>3.800000</td>\n",
              "      <td>0.000000</td>\n",
              "      <td>1.400000</td>\n",
              "      <td>112.500000</td>\n",
              "    </tr>\n",
              "    <tr>\n",
              "      <th>75%</th>\n",
              "      <td>26298.250000</td>\n",
              "      <td>2016.000000</td>\n",
              "      <td>10.000000</td>\n",
              "      <td>23.000000</td>\n",
              "      <td>17.250000</td>\n",
              "      <td>115.000000</td>\n",
              "      <td>149.000000</td>\n",
              "      <td>22.000000</td>\n",
              "      <td>78.000000</td>\n",
              "      <td>1600.000000</td>\n",
              "      <td>81.000000</td>\n",
              "      <td>23.300000</td>\n",
              "      <td>1020.100000</td>\n",
              "      <td>15.600000</td>\n",
              "      <td>0.000000</td>\n",
              "      <td>2.200000</td>\n",
              "      <td>225.000000</td>\n",
              "    </tr>\n",
              "    <tr>\n",
              "      <th>max</th>\n",
              "      <td>35064.000000</td>\n",
              "      <td>2017.000000</td>\n",
              "      <td>12.000000</td>\n",
              "      <td>31.000000</td>\n",
              "      <td>23.000000</td>\n",
              "      <td>680.000000</td>\n",
              "      <td>999.000000</td>\n",
              "      <td>293.000000</td>\n",
              "      <td>270.000000</td>\n",
              "      <td>10000.000000</td>\n",
              "      <td>415.000000</td>\n",
              "      <td>40.500000</td>\n",
              "      <td>1042.000000</td>\n",
              "      <td>28.500000</td>\n",
              "      <td>72.500000</td>\n",
              "      <td>11.200000</td>\n",
              "      <td>337.500000</td>\n",
              "    </tr>\n",
              "  </tbody>\n",
              "</table>\n",
              "</div>"
            ],
            "text/plain": [
              "                 No          year         month           day          hour  \\\n",
              "count  35064.000000  35064.000000  35064.000000  35064.000000  35064.000000   \n",
              "mean   17532.500000   2014.662560      6.522930     15.729637     11.500000   \n",
              "std    10122.249256      1.177213      3.448752      8.800218      6.922285   \n",
              "min        1.000000   2013.000000      1.000000      1.000000      0.000000   \n",
              "25%     8766.750000   2014.000000      4.000000      8.000000      5.750000   \n",
              "50%    17532.500000   2015.000000      7.000000     16.000000     11.500000   \n",
              "75%    26298.250000   2016.000000     10.000000     23.000000     17.250000   \n",
              "max    35064.000000   2017.000000     12.000000     31.000000     23.000000   \n",
              "\n",
              "              PM2.5          PM10           SO2           NO2            CO  \\\n",
              "count  34448.000000  34635.000000  34590.000000  34405.000000  33311.000000   \n",
              "mean      82.933372    109.023303     17.590941     57.901643   1271.294377   \n",
              "std       80.933497     91.573709     23.600367     35.150857   1164.854945   \n",
              "min        2.000000      2.000000      1.000000      2.000000    100.000000   \n",
              "25%       23.000000     40.000000      3.000000     31.000000    500.000000   \n",
              "50%       59.000000     89.000000      8.000000     51.000000    900.000000   \n",
              "75%      115.000000    149.000000     22.000000     78.000000   1600.000000   \n",
              "max      680.000000    999.000000    293.000000    270.000000  10000.000000   \n",
              "\n",
              "                 O3          TEMP          PRES          DEWP          RAIN  \\\n",
              "count  33891.000000  35044.000000  35044.000000  35044.000000  35044.000000   \n",
              "mean      55.795044     13.584607   1011.846920      3.123062      0.067421   \n",
              "std       57.436983     11.399097     10.404047     13.688896      0.910056   \n",
              "min        0.214200    -16.800000    985.900000    -35.300000      0.000000   \n",
              "25%        7.000000      3.100000   1003.300000     -8.100000      0.000000   \n",
              "50%       41.000000     14.500000   1011.400000      3.800000      0.000000   \n",
              "75%       81.000000     23.300000   1020.100000     15.600000      0.000000   \n",
              "max      415.000000     40.500000   1042.000000     28.500000     72.500000   \n",
              "\n",
              "               WSPM    wd_degrees  \n",
              "count  35050.000000  34983.000000  \n",
              "mean       1.708496    144.242346  \n",
              "std        1.204071    103.313594  \n",
              "min        0.000000      0.000000  \n",
              "25%        0.900000     45.000000  \n",
              "50%        1.400000    112.500000  \n",
              "75%        2.200000    225.000000  \n",
              "max       11.200000    337.500000  "
            ]
          },
          "execution_count": 39,
          "metadata": {},
          "output_type": "execute_result"
        }
      ],
      "source": [
        "Guanyuan_df.describe()"
      ]
    },
    {
      "cell_type": "markdown",
      "metadata": {
        "id": "oECB0WLV7SWl"
      },
      "source": [
        "**Insight:**\n",
        "- Add column for numerical wind direction called wd_degrees\n",
        "- Check all column datatypes\n",
        "- Check null data\n",
        "- Check duplicate data"
      ]
    },
    {
      "cell_type": "markdown",
      "metadata": {
        "id": "546IP2fP7TC3"
      },
      "source": [
        "#### Gucheng"
      ]
    },
    {
      "cell_type": "code",
      "execution_count": 40,
      "metadata": {
        "id": "USpHigXtyvn6"
      },
      "outputs": [],
      "source": [
        "Gucheng_df['wd_degrees'] = Gucheng_df['wd'].map(wind_direction_map)"
      ]
    },
    {
      "cell_type": "code",
      "execution_count": 41,
      "metadata": {
        "colab": {
          "base_uri": "https://localhost:8080/"
        },
        "id": "Kb4FkCMY7TC4",
        "outputId": "7ec58370-b800-49c7-be52-57738a74bfe1"
      },
      "outputs": [
        {
          "name": "stdout",
          "output_type": "stream",
          "text": [
            "<class 'pandas.core.frame.DataFrame'>\n",
            "RangeIndex: 35064 entries, 0 to 35063\n",
            "Data columns (total 19 columns):\n",
            " #   Column      Non-Null Count  Dtype  \n",
            "---  ------      --------------  -----  \n",
            " 0   No          35064 non-null  int64  \n",
            " 1   year        35064 non-null  int64  \n",
            " 2   month       35064 non-null  int64  \n",
            " 3   day         35064 non-null  int64  \n",
            " 4   hour        35064 non-null  int64  \n",
            " 5   PM2.5       34418 non-null  float64\n",
            " 6   PM10        34683 non-null  float64\n",
            " 7   SO2         34557 non-null  float64\n",
            " 8   NO2         34396 non-null  float64\n",
            " 9   CO          33663 non-null  float64\n",
            " 10  O3          34335 non-null  float64\n",
            " 11  TEMP        35013 non-null  float64\n",
            " 12  PRES        35014 non-null  float64\n",
            " 13  DEWP        35013 non-null  float64\n",
            " 14  RAIN        35021 non-null  float64\n",
            " 15  wd          34905 non-null  object \n",
            " 16  WSPM        35022 non-null  float64\n",
            " 17  station     35064 non-null  object \n",
            " 18  wd_degrees  34905 non-null  float64\n",
            "dtypes: float64(12), int64(5), object(2)\n",
            "memory usage: 5.1+ MB\n"
          ]
        }
      ],
      "source": [
        "Gucheng_df.info()"
      ]
    },
    {
      "cell_type": "code",
      "execution_count": 42,
      "metadata": {
        "colab": {
          "base_uri": "https://localhost:8080/",
          "height": 0
        },
        "id": "FZkXJ7PF7TC4",
        "outputId": "057a7b60-fb11-4c2f-ee00-d62473dc65a2"
      },
      "outputs": [
        {
          "data": {
            "text/plain": [
              "No               0\n",
              "year             0\n",
              "month            0\n",
              "day              0\n",
              "hour             0\n",
              "PM2.5          646\n",
              "PM10           381\n",
              "SO2            507\n",
              "NO2            668\n",
              "CO            1401\n",
              "O3             729\n",
              "TEMP            51\n",
              "PRES            50\n",
              "DEWP            51\n",
              "RAIN            43\n",
              "wd             159\n",
              "WSPM            42\n",
              "station          0\n",
              "wd_degrees     159\n",
              "dtype: int64"
            ]
          },
          "execution_count": 42,
          "metadata": {},
          "output_type": "execute_result"
        }
      ],
      "source": [
        "Gucheng_df.isna().sum()"
      ]
    },
    {
      "cell_type": "code",
      "execution_count": 43,
      "metadata": {
        "colab": {
          "base_uri": "https://localhost:8080/"
        },
        "id": "PCb8APEZ7TC4",
        "outputId": "9eef0d64-f08e-46d6-afc4-bff3b1bc068f"
      },
      "outputs": [
        {
          "name": "stdout",
          "output_type": "stream",
          "text": [
            "Jumlah duplikat :  0\n"
          ]
        }
      ],
      "source": [
        "print(\"Jumlah duplikat : \", Gucheng_df.duplicated().sum())"
      ]
    },
    {
      "cell_type": "code",
      "execution_count": 44,
      "metadata": {
        "colab": {
          "base_uri": "https://localhost:8080/",
          "height": 0
        },
        "id": "KCruDawF7TC4",
        "outputId": "3b71cd00-5268-435f-f265-20b8f39d21a8"
      },
      "outputs": [
        {
          "data": {
            "text/html": [
              "<div>\n",
              "<style scoped>\n",
              "    .dataframe tbody tr th:only-of-type {\n",
              "        vertical-align: middle;\n",
              "    }\n",
              "\n",
              "    .dataframe tbody tr th {\n",
              "        vertical-align: top;\n",
              "    }\n",
              "\n",
              "    .dataframe thead th {\n",
              "        text-align: right;\n",
              "    }\n",
              "</style>\n",
              "<table border=\"1\" class=\"dataframe\">\n",
              "  <thead>\n",
              "    <tr style=\"text-align: right;\">\n",
              "      <th></th>\n",
              "      <th>No</th>\n",
              "      <th>year</th>\n",
              "      <th>month</th>\n",
              "      <th>day</th>\n",
              "      <th>hour</th>\n",
              "      <th>PM2.5</th>\n",
              "      <th>PM10</th>\n",
              "      <th>SO2</th>\n",
              "      <th>NO2</th>\n",
              "      <th>CO</th>\n",
              "      <th>O3</th>\n",
              "      <th>TEMP</th>\n",
              "      <th>PRES</th>\n",
              "      <th>DEWP</th>\n",
              "      <th>RAIN</th>\n",
              "      <th>WSPM</th>\n",
              "      <th>wd_degrees</th>\n",
              "    </tr>\n",
              "  </thead>\n",
              "  <tbody>\n",
              "    <tr>\n",
              "      <th>count</th>\n",
              "      <td>35064.000000</td>\n",
              "      <td>35064.000000</td>\n",
              "      <td>35064.000000</td>\n",
              "      <td>35064.000000</td>\n",
              "      <td>35064.000000</td>\n",
              "      <td>34418.000000</td>\n",
              "      <td>34683.000000</td>\n",
              "      <td>34557.000000</td>\n",
              "      <td>34396.000000</td>\n",
              "      <td>33663.000000</td>\n",
              "      <td>34335.000000</td>\n",
              "      <td>35013.000000</td>\n",
              "      <td>35014.000000</td>\n",
              "      <td>35013.000000</td>\n",
              "      <td>35021.000000</td>\n",
              "      <td>35022.000000</td>\n",
              "      <td>34905.000000</td>\n",
              "    </tr>\n",
              "    <tr>\n",
              "      <th>mean</th>\n",
              "      <td>17532.500000</td>\n",
              "      <td>2014.662560</td>\n",
              "      <td>6.522930</td>\n",
              "      <td>15.729637</td>\n",
              "      <td>11.500000</td>\n",
              "      <td>83.852089</td>\n",
              "      <td>118.861978</td>\n",
              "      <td>15.366162</td>\n",
              "      <td>55.871075</td>\n",
              "      <td>1323.974423</td>\n",
              "      <td>57.694879</td>\n",
              "      <td>13.864524</td>\n",
              "      <td>1008.829592</td>\n",
              "      <td>2.610442</td>\n",
              "      <td>0.064453</td>\n",
              "      <td>1.343310</td>\n",
              "      <td>158.390847</td>\n",
              "    </tr>\n",
              "    <tr>\n",
              "      <th>std</th>\n",
              "      <td>10122.249256</td>\n",
              "      <td>1.177213</td>\n",
              "      <td>3.448752</td>\n",
              "      <td>8.800218</td>\n",
              "      <td>6.922285</td>\n",
              "      <td>82.796445</td>\n",
              "      <td>96.742626</td>\n",
              "      <td>21.204526</td>\n",
              "      <td>36.473860</td>\n",
              "      <td>1208.957772</td>\n",
              "      <td>57.019587</td>\n",
              "      <td>11.292857</td>\n",
              "      <td>10.103256</td>\n",
              "      <td>13.782991</td>\n",
              "      <td>0.838654</td>\n",
              "      <td>1.151064</td>\n",
              "      <td>110.711470</td>\n",
              "    </tr>\n",
              "    <tr>\n",
              "      <th>min</th>\n",
              "      <td>1.000000</td>\n",
              "      <td>2013.000000</td>\n",
              "      <td>1.000000</td>\n",
              "      <td>1.000000</td>\n",
              "      <td>0.000000</td>\n",
              "      <td>2.000000</td>\n",
              "      <td>2.000000</td>\n",
              "      <td>0.285600</td>\n",
              "      <td>2.000000</td>\n",
              "      <td>100.000000</td>\n",
              "      <td>0.214200</td>\n",
              "      <td>-15.600000</td>\n",
              "      <td>984.000000</td>\n",
              "      <td>-34.600000</td>\n",
              "      <td>0.000000</td>\n",
              "      <td>0.000000</td>\n",
              "      <td>0.000000</td>\n",
              "    </tr>\n",
              "    <tr>\n",
              "      <th>25%</th>\n",
              "      <td>8766.750000</td>\n",
              "      <td>2014.000000</td>\n",
              "      <td>4.000000</td>\n",
              "      <td>8.000000</td>\n",
              "      <td>5.750000</td>\n",
              "      <td>24.000000</td>\n",
              "      <td>45.000000</td>\n",
              "      <td>2.000000</td>\n",
              "      <td>26.000000</td>\n",
              "      <td>600.000000</td>\n",
              "      <td>10.000000</td>\n",
              "      <td>3.600000</td>\n",
              "      <td>1000.500000</td>\n",
              "      <td>-8.900000</td>\n",
              "      <td>0.000000</td>\n",
              "      <td>0.600000</td>\n",
              "      <td>45.000000</td>\n",
              "    </tr>\n",
              "    <tr>\n",
              "      <th>50%</th>\n",
              "      <td>17532.500000</td>\n",
              "      <td>2015.000000</td>\n",
              "      <td>7.000000</td>\n",
              "      <td>16.000000</td>\n",
              "      <td>11.500000</td>\n",
              "      <td>60.000000</td>\n",
              "      <td>99.000000</td>\n",
              "      <td>7.000000</td>\n",
              "      <td>50.000000</td>\n",
              "      <td>900.000000</td>\n",
              "      <td>45.000000</td>\n",
              "      <td>14.800000</td>\n",
              "      <td>1008.500000</td>\n",
              "      <td>3.000000</td>\n",
              "      <td>0.000000</td>\n",
              "      <td>1.000000</td>\n",
              "      <td>180.000000</td>\n",
              "    </tr>\n",
              "    <tr>\n",
              "      <th>75%</th>\n",
              "      <td>26298.250000</td>\n",
              "      <td>2016.000000</td>\n",
              "      <td>10.000000</td>\n",
              "      <td>23.000000</td>\n",
              "      <td>17.250000</td>\n",
              "      <td>115.750000</td>\n",
              "      <td>167.000000</td>\n",
              "      <td>20.000000</td>\n",
              "      <td>79.000000</td>\n",
              "      <td>1600.000000</td>\n",
              "      <td>83.000000</td>\n",
              "      <td>23.500000</td>\n",
              "      <td>1017.000000</td>\n",
              "      <td>15.300000</td>\n",
              "      <td>0.000000</td>\n",
              "      <td>1.800000</td>\n",
              "      <td>270.000000</td>\n",
              "    </tr>\n",
              "    <tr>\n",
              "      <th>max</th>\n",
              "      <td>35064.000000</td>\n",
              "      <td>2017.000000</td>\n",
              "      <td>12.000000</td>\n",
              "      <td>31.000000</td>\n",
              "      <td>23.000000</td>\n",
              "      <td>770.000000</td>\n",
              "      <td>994.000000</td>\n",
              "      <td>500.000000</td>\n",
              "      <td>276.000000</td>\n",
              "      <td>10000.000000</td>\n",
              "      <td>450.000000</td>\n",
              "      <td>41.600000</td>\n",
              "      <td>1038.100000</td>\n",
              "      <td>27.400000</td>\n",
              "      <td>41.900000</td>\n",
              "      <td>12.000000</td>\n",
              "      <td>337.500000</td>\n",
              "    </tr>\n",
              "  </tbody>\n",
              "</table>\n",
              "</div>"
            ],
            "text/plain": [
              "                 No          year         month           day          hour  \\\n",
              "count  35064.000000  35064.000000  35064.000000  35064.000000  35064.000000   \n",
              "mean   17532.500000   2014.662560      6.522930     15.729637     11.500000   \n",
              "std    10122.249256      1.177213      3.448752      8.800218      6.922285   \n",
              "min        1.000000   2013.000000      1.000000      1.000000      0.000000   \n",
              "25%     8766.750000   2014.000000      4.000000      8.000000      5.750000   \n",
              "50%    17532.500000   2015.000000      7.000000     16.000000     11.500000   \n",
              "75%    26298.250000   2016.000000     10.000000     23.000000     17.250000   \n",
              "max    35064.000000   2017.000000     12.000000     31.000000     23.000000   \n",
              "\n",
              "              PM2.5          PM10           SO2           NO2            CO  \\\n",
              "count  34418.000000  34683.000000  34557.000000  34396.000000  33663.000000   \n",
              "mean      83.852089    118.861978     15.366162     55.871075   1323.974423   \n",
              "std       82.796445     96.742626     21.204526     36.473860   1208.957772   \n",
              "min        2.000000      2.000000      0.285600      2.000000    100.000000   \n",
              "25%       24.000000     45.000000      2.000000     26.000000    600.000000   \n",
              "50%       60.000000     99.000000      7.000000     50.000000    900.000000   \n",
              "75%      115.750000    167.000000     20.000000     79.000000   1600.000000   \n",
              "max      770.000000    994.000000    500.000000    276.000000  10000.000000   \n",
              "\n",
              "                 O3          TEMP          PRES          DEWP          RAIN  \\\n",
              "count  34335.000000  35013.000000  35014.000000  35013.000000  35021.000000   \n",
              "mean      57.694879     13.864524   1008.829592      2.610442      0.064453   \n",
              "std       57.019587     11.292857     10.103256     13.782991      0.838654   \n",
              "min        0.214200    -15.600000    984.000000    -34.600000      0.000000   \n",
              "25%       10.000000      3.600000   1000.500000     -8.900000      0.000000   \n",
              "50%       45.000000     14.800000   1008.500000      3.000000      0.000000   \n",
              "75%       83.000000     23.500000   1017.000000     15.300000      0.000000   \n",
              "max      450.000000     41.600000   1038.100000     27.400000     41.900000   \n",
              "\n",
              "               WSPM    wd_degrees  \n",
              "count  35022.000000  34905.000000  \n",
              "mean       1.343310    158.390847  \n",
              "std        1.151064    110.711470  \n",
              "min        0.000000      0.000000  \n",
              "25%        0.600000     45.000000  \n",
              "50%        1.000000    180.000000  \n",
              "75%        1.800000    270.000000  \n",
              "max       12.000000    337.500000  "
            ]
          },
          "execution_count": 44,
          "metadata": {},
          "output_type": "execute_result"
        }
      ],
      "source": [
        "Gucheng_df.describe()"
      ]
    },
    {
      "cell_type": "markdown",
      "metadata": {
        "id": "QFPyKMNi7TC5"
      },
      "source": [
        "**Insight:**\n",
        "- Add column for numerical wind direction called wd_degrees\n",
        "- Check all column datatypes\n",
        "- Check null data\n",
        "- Check duplicate data"
      ]
    },
    {
      "cell_type": "markdown",
      "metadata": {
        "id": "58HbmwkW7TvI"
      },
      "source": [
        "#### Huairou"
      ]
    },
    {
      "cell_type": "code",
      "execution_count": 45,
      "metadata": {
        "id": "ytXZi5X4yyCT"
      },
      "outputs": [],
      "source": [
        "Huairou_df['wd_degrees'] = Huairou_df['wd'].map(wind_direction_map)"
      ]
    },
    {
      "cell_type": "code",
      "execution_count": 46,
      "metadata": {
        "colab": {
          "base_uri": "https://localhost:8080/"
        },
        "id": "aDj6Xrr07TvI",
        "outputId": "f18ffcfb-a1c9-467e-93a4-12a9cf692cbf"
      },
      "outputs": [
        {
          "name": "stdout",
          "output_type": "stream",
          "text": [
            "<class 'pandas.core.frame.DataFrame'>\n",
            "RangeIndex: 35064 entries, 0 to 35063\n",
            "Data columns (total 19 columns):\n",
            " #   Column      Non-Null Count  Dtype  \n",
            "---  ------      --------------  -----  \n",
            " 0   No          35064 non-null  int64  \n",
            " 1   year        35064 non-null  int64  \n",
            " 2   month       35064 non-null  int64  \n",
            " 3   day         35064 non-null  int64  \n",
            " 4   hour        35064 non-null  int64  \n",
            " 5   PM2.5       34111 non-null  float64\n",
            " 6   PM10        34287 non-null  float64\n",
            " 7   SO2         34084 non-null  float64\n",
            " 8   NO2         33425 non-null  float64\n",
            " 9   CO          33642 non-null  float64\n",
            " 10  O3          33913 non-null  float64\n",
            " 11  TEMP        35013 non-null  float64\n",
            " 12  PRES        35011 non-null  float64\n",
            " 13  DEWP        35011 non-null  float64\n",
            " 14  RAIN        35009 non-null  float64\n",
            " 15  wd          34762 non-null  object \n",
            " 16  WSPM        35015 non-null  float64\n",
            " 17  station     35064 non-null  object \n",
            " 18  wd_degrees  34762 non-null  float64\n",
            "dtypes: float64(12), int64(5), object(2)\n",
            "memory usage: 5.1+ MB\n"
          ]
        }
      ],
      "source": [
        "Huairou_df.info()"
      ]
    },
    {
      "cell_type": "code",
      "execution_count": 47,
      "metadata": {
        "colab": {
          "base_uri": "https://localhost:8080/",
          "height": 0
        },
        "id": "Xto0aXPS7TvI",
        "outputId": "923e31cc-8f9b-4c01-8952-353363d2ef2f"
      },
      "outputs": [
        {
          "data": {
            "text/plain": [
              "No               0\n",
              "year             0\n",
              "month            0\n",
              "day              0\n",
              "hour             0\n",
              "PM2.5          953\n",
              "PM10           777\n",
              "SO2            980\n",
              "NO2           1639\n",
              "CO            1422\n",
              "O3            1151\n",
              "TEMP            51\n",
              "PRES            53\n",
              "DEWP            53\n",
              "RAIN            55\n",
              "wd             302\n",
              "WSPM            49\n",
              "station          0\n",
              "wd_degrees     302\n",
              "dtype: int64"
            ]
          },
          "execution_count": 47,
          "metadata": {},
          "output_type": "execute_result"
        }
      ],
      "source": [
        "Huairou_df.isna().sum()"
      ]
    },
    {
      "cell_type": "code",
      "execution_count": 48,
      "metadata": {
        "colab": {
          "base_uri": "https://localhost:8080/"
        },
        "id": "sz6f0d2r7TvI",
        "outputId": "63a15541-8192-4368-fec3-101d7ce5be64"
      },
      "outputs": [
        {
          "name": "stdout",
          "output_type": "stream",
          "text": [
            "Jumlah duplikat :  0\n"
          ]
        }
      ],
      "source": [
        "print(\"Jumlah duplikat : \", Huairou_df.duplicated().sum())"
      ]
    },
    {
      "cell_type": "code",
      "execution_count": 49,
      "metadata": {
        "colab": {
          "base_uri": "https://localhost:8080/",
          "height": 0
        },
        "id": "BpZy_6SQ7TvJ",
        "outputId": "f30d4320-ed73-4d69-cf21-aecbeeac9be0"
      },
      "outputs": [
        {
          "data": {
            "text/html": [
              "<div>\n",
              "<style scoped>\n",
              "    .dataframe tbody tr th:only-of-type {\n",
              "        vertical-align: middle;\n",
              "    }\n",
              "\n",
              "    .dataframe tbody tr th {\n",
              "        vertical-align: top;\n",
              "    }\n",
              "\n",
              "    .dataframe thead th {\n",
              "        text-align: right;\n",
              "    }\n",
              "</style>\n",
              "<table border=\"1\" class=\"dataframe\">\n",
              "  <thead>\n",
              "    <tr style=\"text-align: right;\">\n",
              "      <th></th>\n",
              "      <th>No</th>\n",
              "      <th>year</th>\n",
              "      <th>month</th>\n",
              "      <th>day</th>\n",
              "      <th>hour</th>\n",
              "      <th>PM2.5</th>\n",
              "      <th>PM10</th>\n",
              "      <th>SO2</th>\n",
              "      <th>NO2</th>\n",
              "      <th>CO</th>\n",
              "      <th>O3</th>\n",
              "      <th>TEMP</th>\n",
              "      <th>PRES</th>\n",
              "      <th>DEWP</th>\n",
              "      <th>RAIN</th>\n",
              "      <th>WSPM</th>\n",
              "      <th>wd_degrees</th>\n",
              "    </tr>\n",
              "  </thead>\n",
              "  <tbody>\n",
              "    <tr>\n",
              "      <th>count</th>\n",
              "      <td>35064.000000</td>\n",
              "      <td>35064.000000</td>\n",
              "      <td>35064.000000</td>\n",
              "      <td>35064.000000</td>\n",
              "      <td>35064.000000</td>\n",
              "      <td>34111.000000</td>\n",
              "      <td>34287.000000</td>\n",
              "      <td>34084.000000</td>\n",
              "      <td>33425.000000</td>\n",
              "      <td>33642.000000</td>\n",
              "      <td>33913.000000</td>\n",
              "      <td>35013.000000</td>\n",
              "      <td>35011.000000</td>\n",
              "      <td>35011.000000</td>\n",
              "      <td>35009.000000</td>\n",
              "      <td>35015.000000</td>\n",
              "      <td>34762.000000</td>\n",
              "    </tr>\n",
              "    <tr>\n",
              "      <th>mean</th>\n",
              "      <td>17532.500000</td>\n",
              "      <td>2014.662560</td>\n",
              "      <td>6.522930</td>\n",
              "      <td>15.729637</td>\n",
              "      <td>11.500000</td>\n",
              "      <td>69.626367</td>\n",
              "      <td>91.482690</td>\n",
              "      <td>12.121553</td>\n",
              "      <td>32.497250</td>\n",
              "      <td>1022.554545</td>\n",
              "      <td>59.824713</td>\n",
              "      <td>12.445426</td>\n",
              "      <td>1007.598568</td>\n",
              "      <td>2.238619</td>\n",
              "      <td>0.067940</td>\n",
              "      <td>1.652021</td>\n",
              "      <td>190.803392</td>\n",
              "    </tr>\n",
              "    <tr>\n",
              "      <th>std</th>\n",
              "      <td>10122.249256</td>\n",
              "      <td>1.177213</td>\n",
              "      <td>3.448752</td>\n",
              "      <td>8.800218</td>\n",
              "      <td>6.922285</td>\n",
              "      <td>71.224916</td>\n",
              "      <td>83.289578</td>\n",
              "      <td>18.896912</td>\n",
              "      <td>26.489531</td>\n",
              "      <td>898.738241</td>\n",
              "      <td>54.605746</td>\n",
              "      <td>11.751103</td>\n",
              "      <td>10.022101</td>\n",
              "      <td>14.052541</td>\n",
              "      <td>0.849046</td>\n",
              "      <td>1.199143</td>\n",
              "      <td>107.528709</td>\n",
              "    </tr>\n",
              "    <tr>\n",
              "      <th>min</th>\n",
              "      <td>1.000000</td>\n",
              "      <td>2013.000000</td>\n",
              "      <td>1.000000</td>\n",
              "      <td>1.000000</td>\n",
              "      <td>0.000000</td>\n",
              "      <td>2.000000</td>\n",
              "      <td>2.000000</td>\n",
              "      <td>0.285600</td>\n",
              "      <td>1.026500</td>\n",
              "      <td>100.000000</td>\n",
              "      <td>0.214200</td>\n",
              "      <td>-19.900000</td>\n",
              "      <td>982.800000</td>\n",
              "      <td>-43.400000</td>\n",
              "      <td>0.000000</td>\n",
              "      <td>0.000000</td>\n",
              "      <td>0.000000</td>\n",
              "    </tr>\n",
              "    <tr>\n",
              "      <th>25%</th>\n",
              "      <td>8766.750000</td>\n",
              "      <td>2014.000000</td>\n",
              "      <td>4.000000</td>\n",
              "      <td>8.000000</td>\n",
              "      <td>5.750000</td>\n",
              "      <td>17.000000</td>\n",
              "      <td>28.000000</td>\n",
              "      <td>2.000000</td>\n",
              "      <td>12.000000</td>\n",
              "      <td>400.000000</td>\n",
              "      <td>18.000000</td>\n",
              "      <td>2.100000</td>\n",
              "      <td>999.300000</td>\n",
              "      <td>-9.600000</td>\n",
              "      <td>0.000000</td>\n",
              "      <td>0.900000</td>\n",
              "      <td>90.000000</td>\n",
              "    </tr>\n",
              "    <tr>\n",
              "      <th>50%</th>\n",
              "      <td>17532.500000</td>\n",
              "      <td>2015.000000</td>\n",
              "      <td>7.000000</td>\n",
              "      <td>16.000000</td>\n",
              "      <td>11.500000</td>\n",
              "      <td>47.000000</td>\n",
              "      <td>69.000000</td>\n",
              "      <td>4.000000</td>\n",
              "      <td>25.000000</td>\n",
              "      <td>800.000000</td>\n",
              "      <td>49.000000</td>\n",
              "      <td>13.600000</td>\n",
              "      <td>1007.300000</td>\n",
              "      <td>2.700000</td>\n",
              "      <td>0.000000</td>\n",
              "      <td>1.300000</td>\n",
              "      <td>202.500000</td>\n",
              "    </tr>\n",
              "    <tr>\n",
              "      <th>75%</th>\n",
              "      <td>26298.250000</td>\n",
              "      <td>2016.000000</td>\n",
              "      <td>10.000000</td>\n",
              "      <td>23.000000</td>\n",
              "      <td>17.250000</td>\n",
              "      <td>98.000000</td>\n",
              "      <td>131.000000</td>\n",
              "      <td>14.000000</td>\n",
              "      <td>46.000000</td>\n",
              "      <td>1300.000000</td>\n",
              "      <td>83.000000</td>\n",
              "      <td>22.300000</td>\n",
              "      <td>1015.500000</td>\n",
              "      <td>15.300000</td>\n",
              "      <td>0.000000</td>\n",
              "      <td>2.000000</td>\n",
              "      <td>292.500000</td>\n",
              "    </tr>\n",
              "    <tr>\n",
              "      <th>max</th>\n",
              "      <td>35064.000000</td>\n",
              "      <td>2017.000000</td>\n",
              "      <td>12.000000</td>\n",
              "      <td>31.000000</td>\n",
              "      <td>23.000000</td>\n",
              "      <td>762.000000</td>\n",
              "      <td>993.000000</td>\n",
              "      <td>315.000000</td>\n",
              "      <td>231.000000</td>\n",
              "      <td>10000.000000</td>\n",
              "      <td>444.000000</td>\n",
              "      <td>40.300000</td>\n",
              "      <td>1036.500000</td>\n",
              "      <td>29.100000</td>\n",
              "      <td>45.900000</td>\n",
              "      <td>12.900000</td>\n",
              "      <td>337.500000</td>\n",
              "    </tr>\n",
              "  </tbody>\n",
              "</table>\n",
              "</div>"
            ],
            "text/plain": [
              "                 No          year         month           day          hour  \\\n",
              "count  35064.000000  35064.000000  35064.000000  35064.000000  35064.000000   \n",
              "mean   17532.500000   2014.662560      6.522930     15.729637     11.500000   \n",
              "std    10122.249256      1.177213      3.448752      8.800218      6.922285   \n",
              "min        1.000000   2013.000000      1.000000      1.000000      0.000000   \n",
              "25%     8766.750000   2014.000000      4.000000      8.000000      5.750000   \n",
              "50%    17532.500000   2015.000000      7.000000     16.000000     11.500000   \n",
              "75%    26298.250000   2016.000000     10.000000     23.000000     17.250000   \n",
              "max    35064.000000   2017.000000     12.000000     31.000000     23.000000   \n",
              "\n",
              "              PM2.5          PM10           SO2           NO2            CO  \\\n",
              "count  34111.000000  34287.000000  34084.000000  33425.000000  33642.000000   \n",
              "mean      69.626367     91.482690     12.121553     32.497250   1022.554545   \n",
              "std       71.224916     83.289578     18.896912     26.489531    898.738241   \n",
              "min        2.000000      2.000000      0.285600      1.026500    100.000000   \n",
              "25%       17.000000     28.000000      2.000000     12.000000    400.000000   \n",
              "50%       47.000000     69.000000      4.000000     25.000000    800.000000   \n",
              "75%       98.000000    131.000000     14.000000     46.000000   1300.000000   \n",
              "max      762.000000    993.000000    315.000000    231.000000  10000.000000   \n",
              "\n",
              "                 O3          TEMP          PRES          DEWP          RAIN  \\\n",
              "count  33913.000000  35013.000000  35011.000000  35011.000000  35009.000000   \n",
              "mean      59.824713     12.445426   1007.598568      2.238619      0.067940   \n",
              "std       54.605746     11.751103     10.022101     14.052541      0.849046   \n",
              "min        0.214200    -19.900000    982.800000    -43.400000      0.000000   \n",
              "25%       18.000000      2.100000    999.300000     -9.600000      0.000000   \n",
              "50%       49.000000     13.600000   1007.300000      2.700000      0.000000   \n",
              "75%       83.000000     22.300000   1015.500000     15.300000      0.000000   \n",
              "max      444.000000     40.300000   1036.500000     29.100000     45.900000   \n",
              "\n",
              "               WSPM    wd_degrees  \n",
              "count  35015.000000  34762.000000  \n",
              "mean       1.652021    190.803392  \n",
              "std        1.199143    107.528709  \n",
              "min        0.000000      0.000000  \n",
              "25%        0.900000     90.000000  \n",
              "50%        1.300000    202.500000  \n",
              "75%        2.000000    292.500000  \n",
              "max       12.900000    337.500000  "
            ]
          },
          "execution_count": 49,
          "metadata": {},
          "output_type": "execute_result"
        }
      ],
      "source": [
        "Huairou_df.describe()"
      ]
    },
    {
      "cell_type": "markdown",
      "metadata": {
        "id": "Q8Mvu-p-7TvJ"
      },
      "source": [
        "**Insight:**\n",
        "- Add column for numerical wind direction called wd_degrees\n",
        "- Check all column datatypes\n",
        "- Check null data\n",
        "- Check duplicate data"
      ]
    },
    {
      "cell_type": "markdown",
      "metadata": {
        "id": "R57A3CMd7Ui1"
      },
      "source": [
        "#### Nongzhanguan"
      ]
    },
    {
      "cell_type": "code",
      "execution_count": 50,
      "metadata": {
        "id": "j9MQw6-vy2Ho"
      },
      "outputs": [],
      "source": [
        "Nongzhanguan_df['wd_degrees'] = Nongzhanguan_df['wd'].map(wind_direction_map)"
      ]
    },
    {
      "cell_type": "code",
      "execution_count": 51,
      "metadata": {
        "colab": {
          "base_uri": "https://localhost:8080/"
        },
        "id": "F2PX6X6W7Ui1",
        "outputId": "e80b7891-22c6-419c-fdf2-d12224461121"
      },
      "outputs": [
        {
          "name": "stdout",
          "output_type": "stream",
          "text": [
            "<class 'pandas.core.frame.DataFrame'>\n",
            "RangeIndex: 35064 entries, 0 to 35063\n",
            "Data columns (total 19 columns):\n",
            " #   Column      Non-Null Count  Dtype  \n",
            "---  ------      --------------  -----  \n",
            " 0   No          35064 non-null  int64  \n",
            " 1   year        35064 non-null  int64  \n",
            " 2   month       35064 non-null  int64  \n",
            " 3   day         35064 non-null  int64  \n",
            " 4   hour        35064 non-null  int64  \n",
            " 5   PM2.5       34436 non-null  float64\n",
            " 6   PM10        34624 non-null  float64\n",
            " 7   SO2         34618 non-null  float64\n",
            " 8   NO2         34372 non-null  float64\n",
            " 9   CO          33858 non-null  float64\n",
            " 10  O3          34558 non-null  float64\n",
            " 11  TEMP        35044 non-null  float64\n",
            " 12  PRES        35044 non-null  float64\n",
            " 13  DEWP        35044 non-null  float64\n",
            " 14  RAIN        35044 non-null  float64\n",
            " 15  wd          34986 non-null  object \n",
            " 16  WSPM        35050 non-null  float64\n",
            " 17  station     35064 non-null  object \n",
            " 18  wd_degrees  34986 non-null  float64\n",
            "dtypes: float64(12), int64(5), object(2)\n",
            "memory usage: 5.1+ MB\n"
          ]
        }
      ],
      "source": [
        "Nongzhanguan_df.info()"
      ]
    },
    {
      "cell_type": "code",
      "execution_count": 52,
      "metadata": {
        "colab": {
          "base_uri": "https://localhost:8080/",
          "height": 0
        },
        "id": "XPnAIv0b7Ui1",
        "outputId": "b8abe49a-5e5e-4518-fa9b-8a919bd33520"
      },
      "outputs": [
        {
          "data": {
            "text/plain": [
              "No               0\n",
              "year             0\n",
              "month            0\n",
              "day              0\n",
              "hour             0\n",
              "PM2.5          628\n",
              "PM10           440\n",
              "SO2            446\n",
              "NO2            692\n",
              "CO            1206\n",
              "O3             506\n",
              "TEMP            20\n",
              "PRES            20\n",
              "DEWP            20\n",
              "RAIN            20\n",
              "wd              78\n",
              "WSPM            14\n",
              "station          0\n",
              "wd_degrees      78\n",
              "dtype: int64"
            ]
          },
          "execution_count": 52,
          "metadata": {},
          "output_type": "execute_result"
        }
      ],
      "source": [
        "Nongzhanguan_df.isna().sum()"
      ]
    },
    {
      "cell_type": "code",
      "execution_count": 53,
      "metadata": {
        "colab": {
          "base_uri": "https://localhost:8080/"
        },
        "id": "MHKsM6bU7Ui1",
        "outputId": "90c98e06-1309-4bbb-dad9-27df91ea4660"
      },
      "outputs": [
        {
          "name": "stdout",
          "output_type": "stream",
          "text": [
            "Jumlah duplikat :  0\n"
          ]
        }
      ],
      "source": [
        "print(\"Jumlah duplikat : \", Nongzhanguan_df.duplicated().sum())"
      ]
    },
    {
      "cell_type": "code",
      "execution_count": 54,
      "metadata": {
        "colab": {
          "base_uri": "https://localhost:8080/",
          "height": 0
        },
        "id": "9bV3xoZS7Ui2",
        "outputId": "4a6b162e-f356-4700-be7c-c2c92a0eb73c"
      },
      "outputs": [
        {
          "data": {
            "text/html": [
              "<div>\n",
              "<style scoped>\n",
              "    .dataframe tbody tr th:only-of-type {\n",
              "        vertical-align: middle;\n",
              "    }\n",
              "\n",
              "    .dataframe tbody tr th {\n",
              "        vertical-align: top;\n",
              "    }\n",
              "\n",
              "    .dataframe thead th {\n",
              "        text-align: right;\n",
              "    }\n",
              "</style>\n",
              "<table border=\"1\" class=\"dataframe\">\n",
              "  <thead>\n",
              "    <tr style=\"text-align: right;\">\n",
              "      <th></th>\n",
              "      <th>No</th>\n",
              "      <th>year</th>\n",
              "      <th>month</th>\n",
              "      <th>day</th>\n",
              "      <th>hour</th>\n",
              "      <th>PM2.5</th>\n",
              "      <th>PM10</th>\n",
              "      <th>SO2</th>\n",
              "      <th>NO2</th>\n",
              "      <th>CO</th>\n",
              "      <th>O3</th>\n",
              "      <th>TEMP</th>\n",
              "      <th>PRES</th>\n",
              "      <th>DEWP</th>\n",
              "      <th>RAIN</th>\n",
              "      <th>WSPM</th>\n",
              "      <th>wd_degrees</th>\n",
              "    </tr>\n",
              "  </thead>\n",
              "  <tbody>\n",
              "    <tr>\n",
              "      <th>count</th>\n",
              "      <td>35064.000000</td>\n",
              "      <td>35064.000000</td>\n",
              "      <td>35064.000000</td>\n",
              "      <td>35064.000000</td>\n",
              "      <td>35064.000000</td>\n",
              "      <td>34436.000000</td>\n",
              "      <td>34624.000000</td>\n",
              "      <td>34618.000000</td>\n",
              "      <td>34372.000000</td>\n",
              "      <td>33858.000000</td>\n",
              "      <td>34558.000000</td>\n",
              "      <td>35044.000000</td>\n",
              "      <td>35044.000000</td>\n",
              "      <td>35044.000000</td>\n",
              "      <td>35044.000000</td>\n",
              "      <td>35050.000000</td>\n",
              "      <td>34986.000000</td>\n",
              "    </tr>\n",
              "    <tr>\n",
              "      <th>mean</th>\n",
              "      <td>17532.500000</td>\n",
              "      <td>2014.662560</td>\n",
              "      <td>6.522930</td>\n",
              "      <td>15.729637</td>\n",
              "      <td>11.500000</td>\n",
              "      <td>84.838483</td>\n",
              "      <td>108.991096</td>\n",
              "      <td>18.689242</td>\n",
              "      <td>58.097172</td>\n",
              "      <td>1324.350198</td>\n",
              "      <td>58.534682</td>\n",
              "      <td>13.671490</td>\n",
              "      <td>1012.547419</td>\n",
              "      <td>2.447535</td>\n",
              "      <td>0.064020</td>\n",
              "      <td>1.860785</td>\n",
              "      <td>149.801278</td>\n",
              "    </tr>\n",
              "    <tr>\n",
              "      <th>std</th>\n",
              "      <td>10122.249256</td>\n",
              "      <td>1.177213</td>\n",
              "      <td>3.448752</td>\n",
              "      <td>8.800218</td>\n",
              "      <td>6.922285</td>\n",
              "      <td>86.225344</td>\n",
              "      <td>95.341177</td>\n",
              "      <td>24.280665</td>\n",
              "      <td>36.297740</td>\n",
              "      <td>1245.166124</td>\n",
              "      <td>58.401448</td>\n",
              "      <td>11.458418</td>\n",
              "      <td>10.266059</td>\n",
              "      <td>13.810696</td>\n",
              "      <td>0.786282</td>\n",
              "      <td>1.280368</td>\n",
              "      <td>101.647724</td>\n",
              "    </tr>\n",
              "    <tr>\n",
              "      <th>min</th>\n",
              "      <td>1.000000</td>\n",
              "      <td>2013.000000</td>\n",
              "      <td>1.000000</td>\n",
              "      <td>1.000000</td>\n",
              "      <td>0.000000</td>\n",
              "      <td>2.000000</td>\n",
              "      <td>2.000000</td>\n",
              "      <td>0.571200</td>\n",
              "      <td>2.000000</td>\n",
              "      <td>100.000000</td>\n",
              "      <td>0.214200</td>\n",
              "      <td>-16.800000</td>\n",
              "      <td>987.100000</td>\n",
              "      <td>-35.300000</td>\n",
              "      <td>0.000000</td>\n",
              "      <td>0.000000</td>\n",
              "      <td>0.000000</td>\n",
              "    </tr>\n",
              "    <tr>\n",
              "      <th>25%</th>\n",
              "      <td>8766.750000</td>\n",
              "      <td>2014.000000</td>\n",
              "      <td>4.000000</td>\n",
              "      <td>8.000000</td>\n",
              "      <td>5.750000</td>\n",
              "      <td>22.000000</td>\n",
              "      <td>38.000000</td>\n",
              "      <td>3.000000</td>\n",
              "      <td>29.000000</td>\n",
              "      <td>500.000000</td>\n",
              "      <td>10.000000</td>\n",
              "      <td>3.100000</td>\n",
              "      <td>1004.000000</td>\n",
              "      <td>-8.800000</td>\n",
              "      <td>0.000000</td>\n",
              "      <td>1.000000</td>\n",
              "      <td>67.500000</td>\n",
              "    </tr>\n",
              "    <tr>\n",
              "      <th>50%</th>\n",
              "      <td>17532.500000</td>\n",
              "      <td>2015.000000</td>\n",
              "      <td>7.000000</td>\n",
              "      <td>16.000000</td>\n",
              "      <td>11.500000</td>\n",
              "      <td>59.000000</td>\n",
              "      <td>85.000000</td>\n",
              "      <td>9.000000</td>\n",
              "      <td>51.000000</td>\n",
              "      <td>900.000000</td>\n",
              "      <td>45.000000</td>\n",
              "      <td>14.600000</td>\n",
              "      <td>1012.200000</td>\n",
              "      <td>3.000000</td>\n",
              "      <td>0.000000</td>\n",
              "      <td>1.500000</td>\n",
              "      <td>135.000000</td>\n",
              "    </tr>\n",
              "    <tr>\n",
              "      <th>75%</th>\n",
              "      <td>26298.250000</td>\n",
              "      <td>2016.000000</td>\n",
              "      <td>10.000000</td>\n",
              "      <td>23.000000</td>\n",
              "      <td>17.250000</td>\n",
              "      <td>116.000000</td>\n",
              "      <td>149.000000</td>\n",
              "      <td>23.000000</td>\n",
              "      <td>80.000000</td>\n",
              "      <td>1600.000000</td>\n",
              "      <td>84.000000</td>\n",
              "      <td>23.500000</td>\n",
              "      <td>1020.900000</td>\n",
              "      <td>15.000000</td>\n",
              "      <td>0.000000</td>\n",
              "      <td>2.400000</td>\n",
              "      <td>225.000000</td>\n",
              "    </tr>\n",
              "    <tr>\n",
              "      <th>max</th>\n",
              "      <td>35064.000000</td>\n",
              "      <td>2017.000000</td>\n",
              "      <td>12.000000</td>\n",
              "      <td>31.000000</td>\n",
              "      <td>23.000000</td>\n",
              "      <td>844.000000</td>\n",
              "      <td>995.000000</td>\n",
              "      <td>257.000000</td>\n",
              "      <td>273.000000</td>\n",
              "      <td>10000.000000</td>\n",
              "      <td>390.000000</td>\n",
              "      <td>41.100000</td>\n",
              "      <td>1042.000000</td>\n",
              "      <td>28.800000</td>\n",
              "      <td>46.400000</td>\n",
              "      <td>10.500000</td>\n",
              "      <td>337.500000</td>\n",
              "    </tr>\n",
              "  </tbody>\n",
              "</table>\n",
              "</div>"
            ],
            "text/plain": [
              "                 No          year         month           day          hour  \\\n",
              "count  35064.000000  35064.000000  35064.000000  35064.000000  35064.000000   \n",
              "mean   17532.500000   2014.662560      6.522930     15.729637     11.500000   \n",
              "std    10122.249256      1.177213      3.448752      8.800218      6.922285   \n",
              "min        1.000000   2013.000000      1.000000      1.000000      0.000000   \n",
              "25%     8766.750000   2014.000000      4.000000      8.000000      5.750000   \n",
              "50%    17532.500000   2015.000000      7.000000     16.000000     11.500000   \n",
              "75%    26298.250000   2016.000000     10.000000     23.000000     17.250000   \n",
              "max    35064.000000   2017.000000     12.000000     31.000000     23.000000   \n",
              "\n",
              "              PM2.5          PM10           SO2           NO2            CO  \\\n",
              "count  34436.000000  34624.000000  34618.000000  34372.000000  33858.000000   \n",
              "mean      84.838483    108.991096     18.689242     58.097172   1324.350198   \n",
              "std       86.225344     95.341177     24.280665     36.297740   1245.166124   \n",
              "min        2.000000      2.000000      0.571200      2.000000    100.000000   \n",
              "25%       22.000000     38.000000      3.000000     29.000000    500.000000   \n",
              "50%       59.000000     85.000000      9.000000     51.000000    900.000000   \n",
              "75%      116.000000    149.000000     23.000000     80.000000   1600.000000   \n",
              "max      844.000000    995.000000    257.000000    273.000000  10000.000000   \n",
              "\n",
              "                 O3          TEMP          PRES          DEWP          RAIN  \\\n",
              "count  34558.000000  35044.000000  35044.000000  35044.000000  35044.000000   \n",
              "mean      58.534682     13.671490   1012.547419      2.447535      0.064020   \n",
              "std       58.401448     11.458418     10.266059     13.810696      0.786282   \n",
              "min        0.214200    -16.800000    987.100000    -35.300000      0.000000   \n",
              "25%       10.000000      3.100000   1004.000000     -8.800000      0.000000   \n",
              "50%       45.000000     14.600000   1012.200000      3.000000      0.000000   \n",
              "75%       84.000000     23.500000   1020.900000     15.000000      0.000000   \n",
              "max      390.000000     41.100000   1042.000000     28.800000     46.400000   \n",
              "\n",
              "               WSPM    wd_degrees  \n",
              "count  35050.000000  34986.000000  \n",
              "mean       1.860785    149.801278  \n",
              "std        1.280368    101.647724  \n",
              "min        0.000000      0.000000  \n",
              "25%        1.000000     67.500000  \n",
              "50%        1.500000    135.000000  \n",
              "75%        2.400000    225.000000  \n",
              "max       10.500000    337.500000  "
            ]
          },
          "execution_count": 54,
          "metadata": {},
          "output_type": "execute_result"
        }
      ],
      "source": [
        "Nongzhanguan_df.describe()"
      ]
    },
    {
      "cell_type": "markdown",
      "metadata": {
        "id": "_euW6I467Ui2"
      },
      "source": [
        "**Insight:**\n",
        "- Add column for numerical wind direction called wd_degrees\n",
        "- Check all column datatypes\n",
        "- Check null data\n",
        "- Check duplicate data"
      ]
    },
    {
      "cell_type": "markdown",
      "metadata": {
        "id": "AW_d4Wuz7VRR"
      },
      "source": [
        "#### Shunyi"
      ]
    },
    {
      "cell_type": "code",
      "execution_count": 55,
      "metadata": {
        "id": "gGO10jocy4rR"
      },
      "outputs": [],
      "source": [
        "Shunyi_df['wd_degrees'] = Shunyi_df['wd'].map(wind_direction_map)"
      ]
    },
    {
      "cell_type": "code",
      "execution_count": 56,
      "metadata": {
        "colab": {
          "base_uri": "https://localhost:8080/"
        },
        "id": "TQMPt2ze7VRR",
        "outputId": "35fcb886-0d00-452f-eb5c-50cf41992ed9"
      },
      "outputs": [
        {
          "name": "stdout",
          "output_type": "stream",
          "text": [
            "<class 'pandas.core.frame.DataFrame'>\n",
            "RangeIndex: 35064 entries, 0 to 35063\n",
            "Data columns (total 19 columns):\n",
            " #   Column      Non-Null Count  Dtype  \n",
            "---  ------      --------------  -----  \n",
            " 0   No          35064 non-null  int64  \n",
            " 1   year        35064 non-null  int64  \n",
            " 2   month       35064 non-null  int64  \n",
            " 3   day         35064 non-null  int64  \n",
            " 4   hour        35064 non-null  int64  \n",
            " 5   PM2.5       34151 non-null  float64\n",
            " 6   PM10        34516 non-null  float64\n",
            " 7   SO2         33768 non-null  float64\n",
            " 8   NO2         33699 non-null  float64\n",
            " 9   CO          32886 non-null  float64\n",
            " 10  O3          33575 non-null  float64\n",
            " 11  TEMP        35013 non-null  float64\n",
            " 12  PRES        35013 non-null  float64\n",
            " 13  DEWP        35010 non-null  float64\n",
            " 14  RAIN        35013 non-null  float64\n",
            " 15  wd          34581 non-null  object \n",
            " 16  WSPM        35020 non-null  float64\n",
            " 17  station     35064 non-null  object \n",
            " 18  wd_degrees  34581 non-null  float64\n",
            "dtypes: float64(12), int64(5), object(2)\n",
            "memory usage: 5.1+ MB\n"
          ]
        }
      ],
      "source": [
        "Shunyi_df.info()"
      ]
    },
    {
      "cell_type": "code",
      "execution_count": 57,
      "metadata": {
        "colab": {
          "base_uri": "https://localhost:8080/",
          "height": 0
        },
        "id": "vrqJDY6i7VRS",
        "outputId": "abe67fb2-84cb-46eb-8cf9-aa64f2c2efb7"
      },
      "outputs": [
        {
          "data": {
            "text/plain": [
              "No               0\n",
              "year             0\n",
              "month            0\n",
              "day              0\n",
              "hour             0\n",
              "PM2.5          913\n",
              "PM10           548\n",
              "SO2           1296\n",
              "NO2           1365\n",
              "CO            2178\n",
              "O3            1489\n",
              "TEMP            51\n",
              "PRES            51\n",
              "DEWP            54\n",
              "RAIN            51\n",
              "wd             483\n",
              "WSPM            44\n",
              "station          0\n",
              "wd_degrees     483\n",
              "dtype: int64"
            ]
          },
          "execution_count": 57,
          "metadata": {},
          "output_type": "execute_result"
        }
      ],
      "source": [
        "Shunyi_df.isna().sum()"
      ]
    },
    {
      "cell_type": "code",
      "execution_count": 58,
      "metadata": {
        "colab": {
          "base_uri": "https://localhost:8080/"
        },
        "id": "3tSg_pZF7VRS",
        "outputId": "71f4a3f3-cf55-405c-a0df-4e8d55935a00"
      },
      "outputs": [
        {
          "name": "stdout",
          "output_type": "stream",
          "text": [
            "Jumlah duplikat :  0\n"
          ]
        }
      ],
      "source": [
        "print(\"Jumlah duplikat : \", Shunyi_df.duplicated().sum())"
      ]
    },
    {
      "cell_type": "code",
      "execution_count": 59,
      "metadata": {
        "colab": {
          "base_uri": "https://localhost:8080/",
          "height": 0
        },
        "id": "6M-66EBB7VRS",
        "outputId": "c4f86a49-d4ac-4e2a-e7d7-c6df6ec75db3"
      },
      "outputs": [
        {
          "data": {
            "text/html": [
              "<div>\n",
              "<style scoped>\n",
              "    .dataframe tbody tr th:only-of-type {\n",
              "        vertical-align: middle;\n",
              "    }\n",
              "\n",
              "    .dataframe tbody tr th {\n",
              "        vertical-align: top;\n",
              "    }\n",
              "\n",
              "    .dataframe thead th {\n",
              "        text-align: right;\n",
              "    }\n",
              "</style>\n",
              "<table border=\"1\" class=\"dataframe\">\n",
              "  <thead>\n",
              "    <tr style=\"text-align: right;\">\n",
              "      <th></th>\n",
              "      <th>No</th>\n",
              "      <th>year</th>\n",
              "      <th>month</th>\n",
              "      <th>day</th>\n",
              "      <th>hour</th>\n",
              "      <th>PM2.5</th>\n",
              "      <th>PM10</th>\n",
              "      <th>SO2</th>\n",
              "      <th>NO2</th>\n",
              "      <th>CO</th>\n",
              "      <th>O3</th>\n",
              "      <th>TEMP</th>\n",
              "      <th>PRES</th>\n",
              "      <th>DEWP</th>\n",
              "      <th>RAIN</th>\n",
              "      <th>WSPM</th>\n",
              "      <th>wd_degrees</th>\n",
              "    </tr>\n",
              "  </thead>\n",
              "  <tbody>\n",
              "    <tr>\n",
              "      <th>count</th>\n",
              "      <td>35064.000000</td>\n",
              "      <td>35064.000000</td>\n",
              "      <td>35064.000000</td>\n",
              "      <td>35064.000000</td>\n",
              "      <td>35064.000000</td>\n",
              "      <td>34151.000000</td>\n",
              "      <td>34516.000000</td>\n",
              "      <td>33768.000000</td>\n",
              "      <td>33699.000000</td>\n",
              "      <td>32886.000000</td>\n",
              "      <td>33575.000000</td>\n",
              "      <td>35013.000000</td>\n",
              "      <td>35013.000000</td>\n",
              "      <td>35010.000000</td>\n",
              "      <td>35013.000000</td>\n",
              "      <td>35020.000000</td>\n",
              "      <td>34581.000000</td>\n",
              "    </tr>\n",
              "    <tr>\n",
              "      <th>mean</th>\n",
              "      <td>17532.500000</td>\n",
              "      <td>2014.662560</td>\n",
              "      <td>6.522930</td>\n",
              "      <td>15.729637</td>\n",
              "      <td>11.500000</td>\n",
              "      <td>79.491602</td>\n",
              "      <td>98.737026</td>\n",
              "      <td>13.572039</td>\n",
              "      <td>43.908865</td>\n",
              "      <td>1187.063979</td>\n",
              "      <td>55.201321</td>\n",
              "      <td>13.387969</td>\n",
              "      <td>1013.061938</td>\n",
              "      <td>2.465036</td>\n",
              "      <td>0.061094</td>\n",
              "      <td>1.807533</td>\n",
              "      <td>140.932593</td>\n",
              "    </tr>\n",
              "    <tr>\n",
              "      <th>std</th>\n",
              "      <td>10122.249256</td>\n",
              "      <td>1.177213</td>\n",
              "      <td>3.448752</td>\n",
              "      <td>8.800218</td>\n",
              "      <td>6.922285</td>\n",
              "      <td>81.231739</td>\n",
              "      <td>89.143718</td>\n",
              "      <td>19.572068</td>\n",
              "      <td>30.996828</td>\n",
              "      <td>1156.374102</td>\n",
              "      <td>54.873726</td>\n",
              "      <td>11.483588</td>\n",
              "      <td>10.177339</td>\n",
              "      <td>13.726622</td>\n",
              "      <td>0.761668</td>\n",
              "      <td>1.287817</td>\n",
              "      <td>109.449301</td>\n",
              "    </tr>\n",
              "    <tr>\n",
              "      <th>min</th>\n",
              "      <td>1.000000</td>\n",
              "      <td>2013.000000</td>\n",
              "      <td>1.000000</td>\n",
              "      <td>1.000000</td>\n",
              "      <td>0.000000</td>\n",
              "      <td>2.000000</td>\n",
              "      <td>2.000000</td>\n",
              "      <td>0.285600</td>\n",
              "      <td>2.000000</td>\n",
              "      <td>100.000000</td>\n",
              "      <td>0.214200</td>\n",
              "      <td>-16.800000</td>\n",
              "      <td>988.000000</td>\n",
              "      <td>-36.000000</td>\n",
              "      <td>0.000000</td>\n",
              "      <td>0.000000</td>\n",
              "      <td>0.000000</td>\n",
              "    </tr>\n",
              "    <tr>\n",
              "      <th>25%</th>\n",
              "      <td>8766.750000</td>\n",
              "      <td>2014.000000</td>\n",
              "      <td>4.000000</td>\n",
              "      <td>8.000000</td>\n",
              "      <td>5.750000</td>\n",
              "      <td>19.000000</td>\n",
              "      <td>31.000000</td>\n",
              "      <td>2.000000</td>\n",
              "      <td>19.000000</td>\n",
              "      <td>400.000000</td>\n",
              "      <td>10.000000</td>\n",
              "      <td>3.000000</td>\n",
              "      <td>1004.700000</td>\n",
              "      <td>-8.800000</td>\n",
              "      <td>0.000000</td>\n",
              "      <td>1.000000</td>\n",
              "      <td>45.000000</td>\n",
              "    </tr>\n",
              "    <tr>\n",
              "      <th>50%</th>\n",
              "      <td>17532.500000</td>\n",
              "      <td>2015.000000</td>\n",
              "      <td>7.000000</td>\n",
              "      <td>16.000000</td>\n",
              "      <td>11.500000</td>\n",
              "      <td>55.000000</td>\n",
              "      <td>77.000000</td>\n",
              "      <td>5.000000</td>\n",
              "      <td>37.000000</td>\n",
              "      <td>800.000000</td>\n",
              "      <td>43.000000</td>\n",
              "      <td>14.400000</td>\n",
              "      <td>1012.700000</td>\n",
              "      <td>3.100000</td>\n",
              "      <td>0.000000</td>\n",
              "      <td>1.500000</td>\n",
              "      <td>135.000000</td>\n",
              "    </tr>\n",
              "    <tr>\n",
              "      <th>75%</th>\n",
              "      <td>26298.250000</td>\n",
              "      <td>2016.000000</td>\n",
              "      <td>10.000000</td>\n",
              "      <td>23.000000</td>\n",
              "      <td>17.250000</td>\n",
              "      <td>112.000000</td>\n",
              "      <td>138.000000</td>\n",
              "      <td>17.000000</td>\n",
              "      <td>62.000000</td>\n",
              "      <td>1500.000000</td>\n",
              "      <td>77.000000</td>\n",
              "      <td>23.200000</td>\n",
              "      <td>1021.000000</td>\n",
              "      <td>15.100000</td>\n",
              "      <td>0.000000</td>\n",
              "      <td>2.300000</td>\n",
              "      <td>225.000000</td>\n",
              "    </tr>\n",
              "    <tr>\n",
              "      <th>max</th>\n",
              "      <td>35064.000000</td>\n",
              "      <td>2017.000000</td>\n",
              "      <td>12.000000</td>\n",
              "      <td>31.000000</td>\n",
              "      <td>23.000000</td>\n",
              "      <td>941.000000</td>\n",
              "      <td>999.000000</td>\n",
              "      <td>239.000000</td>\n",
              "      <td>258.000000</td>\n",
              "      <td>10000.000000</td>\n",
              "      <td>351.716400</td>\n",
              "      <td>40.600000</td>\n",
              "      <td>1042.800000</td>\n",
              "      <td>27.500000</td>\n",
              "      <td>37.300000</td>\n",
              "      <td>12.800000</td>\n",
              "      <td>337.500000</td>\n",
              "    </tr>\n",
              "  </tbody>\n",
              "</table>\n",
              "</div>"
            ],
            "text/plain": [
              "                 No          year         month           day          hour  \\\n",
              "count  35064.000000  35064.000000  35064.000000  35064.000000  35064.000000   \n",
              "mean   17532.500000   2014.662560      6.522930     15.729637     11.500000   \n",
              "std    10122.249256      1.177213      3.448752      8.800218      6.922285   \n",
              "min        1.000000   2013.000000      1.000000      1.000000      0.000000   \n",
              "25%     8766.750000   2014.000000      4.000000      8.000000      5.750000   \n",
              "50%    17532.500000   2015.000000      7.000000     16.000000     11.500000   \n",
              "75%    26298.250000   2016.000000     10.000000     23.000000     17.250000   \n",
              "max    35064.000000   2017.000000     12.000000     31.000000     23.000000   \n",
              "\n",
              "              PM2.5          PM10           SO2           NO2            CO  \\\n",
              "count  34151.000000  34516.000000  33768.000000  33699.000000  32886.000000   \n",
              "mean      79.491602     98.737026     13.572039     43.908865   1187.063979   \n",
              "std       81.231739     89.143718     19.572068     30.996828   1156.374102   \n",
              "min        2.000000      2.000000      0.285600      2.000000    100.000000   \n",
              "25%       19.000000     31.000000      2.000000     19.000000    400.000000   \n",
              "50%       55.000000     77.000000      5.000000     37.000000    800.000000   \n",
              "75%      112.000000    138.000000     17.000000     62.000000   1500.000000   \n",
              "max      941.000000    999.000000    239.000000    258.000000  10000.000000   \n",
              "\n",
              "                 O3          TEMP          PRES          DEWP          RAIN  \\\n",
              "count  33575.000000  35013.000000  35013.000000  35010.000000  35013.000000   \n",
              "mean      55.201321     13.387969   1013.061938      2.465036      0.061094   \n",
              "std       54.873726     11.483588     10.177339     13.726622      0.761668   \n",
              "min        0.214200    -16.800000    988.000000    -36.000000      0.000000   \n",
              "25%       10.000000      3.000000   1004.700000     -8.800000      0.000000   \n",
              "50%       43.000000     14.400000   1012.700000      3.100000      0.000000   \n",
              "75%       77.000000     23.200000   1021.000000     15.100000      0.000000   \n",
              "max      351.716400     40.600000   1042.800000     27.500000     37.300000   \n",
              "\n",
              "               WSPM    wd_degrees  \n",
              "count  35020.000000  34581.000000  \n",
              "mean       1.807533    140.932593  \n",
              "std        1.287817    109.449301  \n",
              "min        0.000000      0.000000  \n",
              "25%        1.000000     45.000000  \n",
              "50%        1.500000    135.000000  \n",
              "75%        2.300000    225.000000  \n",
              "max       12.800000    337.500000  "
            ]
          },
          "execution_count": 59,
          "metadata": {},
          "output_type": "execute_result"
        }
      ],
      "source": [
        "Shunyi_df.describe()"
      ]
    },
    {
      "cell_type": "markdown",
      "metadata": {
        "id": "doCKIqQ37VRS"
      },
      "source": [
        "**Insight:**\n",
        "- Add column for numerical wind direction called wd_degrees\n",
        "- Check all column datatypes\n",
        "- Check null data\n",
        "- Check duplicate data"
      ]
    },
    {
      "cell_type": "markdown",
      "metadata": {
        "id": "XHKRTOHV7V_R"
      },
      "source": [
        "#### Tiantan"
      ]
    },
    {
      "cell_type": "code",
      "execution_count": 60,
      "metadata": {
        "id": "cVfj9ph_y7iZ"
      },
      "outputs": [],
      "source": [
        "Tiantan_df['wd_degrees'] = Tiantan_df['wd'].map(wind_direction_map)"
      ]
    },
    {
      "cell_type": "code",
      "execution_count": 61,
      "metadata": {
        "colab": {
          "base_uri": "https://localhost:8080/"
        },
        "id": "W12Hajve7V_S",
        "outputId": "ff6670e1-36c7-4668-f29d-2c6e59b18a37"
      },
      "outputs": [
        {
          "name": "stdout",
          "output_type": "stream",
          "text": [
            "<class 'pandas.core.frame.DataFrame'>\n",
            "RangeIndex: 35064 entries, 0 to 35063\n",
            "Data columns (total 19 columns):\n",
            " #   Column      Non-Null Count  Dtype  \n",
            "---  ------      --------------  -----  \n",
            " 0   No          35064 non-null  int64  \n",
            " 1   year        35064 non-null  int64  \n",
            " 2   month       35064 non-null  int64  \n",
            " 3   day         35064 non-null  int64  \n",
            " 4   hour        35064 non-null  int64  \n",
            " 5   PM2.5       34387 non-null  float64\n",
            " 6   PM10        34467 non-null  float64\n",
            " 7   SO2         33946 non-null  float64\n",
            " 8   NO2         34320 non-null  float64\n",
            " 9   CO          33938 non-null  float64\n",
            " 10  O3          34221 non-null  float64\n",
            " 11  TEMP        35044 non-null  float64\n",
            " 12  PRES        35044 non-null  float64\n",
            " 13  DEWP        35044 non-null  float64\n",
            " 14  RAIN        35044 non-null  float64\n",
            " 15  wd          34986 non-null  object \n",
            " 16  WSPM        35050 non-null  float64\n",
            " 17  station     35064 non-null  object \n",
            " 18  wd_degrees  34986 non-null  float64\n",
            "dtypes: float64(12), int64(5), object(2)\n",
            "memory usage: 5.1+ MB\n"
          ]
        }
      ],
      "source": [
        "Tiantan_df.info()"
      ]
    },
    {
      "cell_type": "code",
      "execution_count": 62,
      "metadata": {
        "colab": {
          "base_uri": "https://localhost:8080/",
          "height": 0
        },
        "id": "t1DQ9mxh7V_S",
        "outputId": "aa4f2db8-e9be-42c5-ea9f-d1f90644ee29"
      },
      "outputs": [
        {
          "data": {
            "text/plain": [
              "No               0\n",
              "year             0\n",
              "month            0\n",
              "day              0\n",
              "hour             0\n",
              "PM2.5          677\n",
              "PM10           597\n",
              "SO2           1118\n",
              "NO2            744\n",
              "CO            1126\n",
              "O3             843\n",
              "TEMP            20\n",
              "PRES            20\n",
              "DEWP            20\n",
              "RAIN            20\n",
              "wd              78\n",
              "WSPM            14\n",
              "station          0\n",
              "wd_degrees      78\n",
              "dtype: int64"
            ]
          },
          "execution_count": 62,
          "metadata": {},
          "output_type": "execute_result"
        }
      ],
      "source": [
        "Tiantan_df.isna().sum()"
      ]
    },
    {
      "cell_type": "code",
      "execution_count": 63,
      "metadata": {
        "colab": {
          "base_uri": "https://localhost:8080/"
        },
        "id": "L8vgc7rh7V_S",
        "outputId": "e9909fe2-9185-45a8-aa65-e2277cacdf72"
      },
      "outputs": [
        {
          "name": "stdout",
          "output_type": "stream",
          "text": [
            "Jumlah duplikat :  0\n"
          ]
        }
      ],
      "source": [
        "print(\"Jumlah duplikat : \", Tiantan_df.duplicated().sum())"
      ]
    },
    {
      "cell_type": "code",
      "execution_count": 64,
      "metadata": {
        "colab": {
          "base_uri": "https://localhost:8080/",
          "height": 0
        },
        "id": "ks2pTqhD7V_S",
        "outputId": "a371ed3c-853a-4e87-eede-6bdf39498079"
      },
      "outputs": [
        {
          "data": {
            "text/html": [
              "<div>\n",
              "<style scoped>\n",
              "    .dataframe tbody tr th:only-of-type {\n",
              "        vertical-align: middle;\n",
              "    }\n",
              "\n",
              "    .dataframe tbody tr th {\n",
              "        vertical-align: top;\n",
              "    }\n",
              "\n",
              "    .dataframe thead th {\n",
              "        text-align: right;\n",
              "    }\n",
              "</style>\n",
              "<table border=\"1\" class=\"dataframe\">\n",
              "  <thead>\n",
              "    <tr style=\"text-align: right;\">\n",
              "      <th></th>\n",
              "      <th>No</th>\n",
              "      <th>year</th>\n",
              "      <th>month</th>\n",
              "      <th>day</th>\n",
              "      <th>hour</th>\n",
              "      <th>PM2.5</th>\n",
              "      <th>PM10</th>\n",
              "      <th>SO2</th>\n",
              "      <th>NO2</th>\n",
              "      <th>CO</th>\n",
              "      <th>O3</th>\n",
              "      <th>TEMP</th>\n",
              "      <th>PRES</th>\n",
              "      <th>DEWP</th>\n",
              "      <th>RAIN</th>\n",
              "      <th>WSPM</th>\n",
              "      <th>wd_degrees</th>\n",
              "    </tr>\n",
              "  </thead>\n",
              "  <tbody>\n",
              "    <tr>\n",
              "      <th>count</th>\n",
              "      <td>35064.000000</td>\n",
              "      <td>35064.000000</td>\n",
              "      <td>35064.000000</td>\n",
              "      <td>35064.000000</td>\n",
              "      <td>35064.000000</td>\n",
              "      <td>34387.000000</td>\n",
              "      <td>34467.000000</td>\n",
              "      <td>33946.000000</td>\n",
              "      <td>34320.000000</td>\n",
              "      <td>33938.000000</td>\n",
              "      <td>34221.000000</td>\n",
              "      <td>35044.000000</td>\n",
              "      <td>35044.000000</td>\n",
              "      <td>35044.000000</td>\n",
              "      <td>35044.000000</td>\n",
              "      <td>35050.000000</td>\n",
              "      <td>34986.000000</td>\n",
              "    </tr>\n",
              "    <tr>\n",
              "      <th>mean</th>\n",
              "      <td>17532.500000</td>\n",
              "      <td>2014.662560</td>\n",
              "      <td>6.522930</td>\n",
              "      <td>15.729637</td>\n",
              "      <td>11.500000</td>\n",
              "      <td>82.164911</td>\n",
              "      <td>106.363672</td>\n",
              "      <td>14.367615</td>\n",
              "      <td>53.162646</td>\n",
              "      <td>1298.303318</td>\n",
              "      <td>55.984297</td>\n",
              "      <td>13.671490</td>\n",
              "      <td>1012.547419</td>\n",
              "      <td>2.447535</td>\n",
              "      <td>0.064020</td>\n",
              "      <td>1.860785</td>\n",
              "      <td>149.801278</td>\n",
              "    </tr>\n",
              "    <tr>\n",
              "      <th>std</th>\n",
              "      <td>10122.249256</td>\n",
              "      <td>1.177213</td>\n",
              "      <td>3.448752</td>\n",
              "      <td>8.800218</td>\n",
              "      <td>6.922285</td>\n",
              "      <td>80.921384</td>\n",
              "      <td>89.700157</td>\n",
              "      <td>20.144631</td>\n",
              "      <td>31.946224</td>\n",
              "      <td>1170.593297</td>\n",
              "      <td>59.081528</td>\n",
              "      <td>11.458418</td>\n",
              "      <td>10.266059</td>\n",
              "      <td>13.810696</td>\n",
              "      <td>0.786282</td>\n",
              "      <td>1.280368</td>\n",
              "      <td>101.647724</td>\n",
              "    </tr>\n",
              "    <tr>\n",
              "      <th>min</th>\n",
              "      <td>1.000000</td>\n",
              "      <td>2013.000000</td>\n",
              "      <td>1.000000</td>\n",
              "      <td>1.000000</td>\n",
              "      <td>0.000000</td>\n",
              "      <td>3.000000</td>\n",
              "      <td>2.000000</td>\n",
              "      <td>0.571200</td>\n",
              "      <td>2.000000</td>\n",
              "      <td>100.000000</td>\n",
              "      <td>0.428400</td>\n",
              "      <td>-16.800000</td>\n",
              "      <td>987.100000</td>\n",
              "      <td>-35.300000</td>\n",
              "      <td>0.000000</td>\n",
              "      <td>0.000000</td>\n",
              "      <td>0.000000</td>\n",
              "    </tr>\n",
              "    <tr>\n",
              "      <th>25%</th>\n",
              "      <td>8766.750000</td>\n",
              "      <td>2014.000000</td>\n",
              "      <td>4.000000</td>\n",
              "      <td>8.000000</td>\n",
              "      <td>5.750000</td>\n",
              "      <td>22.000000</td>\n",
              "      <td>41.000000</td>\n",
              "      <td>3.000000</td>\n",
              "      <td>28.000000</td>\n",
              "      <td>500.000000</td>\n",
              "      <td>8.000000</td>\n",
              "      <td>3.100000</td>\n",
              "      <td>1004.000000</td>\n",
              "      <td>-8.800000</td>\n",
              "      <td>0.000000</td>\n",
              "      <td>1.000000</td>\n",
              "      <td>67.500000</td>\n",
              "    </tr>\n",
              "    <tr>\n",
              "      <th>50%</th>\n",
              "      <td>17532.500000</td>\n",
              "      <td>2015.000000</td>\n",
              "      <td>7.000000</td>\n",
              "      <td>16.000000</td>\n",
              "      <td>11.500000</td>\n",
              "      <td>59.000000</td>\n",
              "      <td>85.000000</td>\n",
              "      <td>7.000000</td>\n",
              "      <td>47.000000</td>\n",
              "      <td>900.000000</td>\n",
              "      <td>40.000000</td>\n",
              "      <td>14.600000</td>\n",
              "      <td>1012.200000</td>\n",
              "      <td>3.000000</td>\n",
              "      <td>0.000000</td>\n",
              "      <td>1.500000</td>\n",
              "      <td>135.000000</td>\n",
              "    </tr>\n",
              "    <tr>\n",
              "      <th>75%</th>\n",
              "      <td>26298.250000</td>\n",
              "      <td>2016.000000</td>\n",
              "      <td>10.000000</td>\n",
              "      <td>23.000000</td>\n",
              "      <td>17.250000</td>\n",
              "      <td>113.000000</td>\n",
              "      <td>144.000000</td>\n",
              "      <td>17.000000</td>\n",
              "      <td>71.000000</td>\n",
              "      <td>1600.000000</td>\n",
              "      <td>81.000000</td>\n",
              "      <td>23.500000</td>\n",
              "      <td>1020.900000</td>\n",
              "      <td>15.000000</td>\n",
              "      <td>0.000000</td>\n",
              "      <td>2.400000</td>\n",
              "      <td>225.000000</td>\n",
              "    </tr>\n",
              "    <tr>\n",
              "      <th>max</th>\n",
              "      <td>35064.000000</td>\n",
              "      <td>2017.000000</td>\n",
              "      <td>12.000000</td>\n",
              "      <td>31.000000</td>\n",
              "      <td>23.000000</td>\n",
              "      <td>821.000000</td>\n",
              "      <td>988.000000</td>\n",
              "      <td>273.000000</td>\n",
              "      <td>241.000000</td>\n",
              "      <td>10000.000000</td>\n",
              "      <td>674.000000</td>\n",
              "      <td>41.100000</td>\n",
              "      <td>1042.000000</td>\n",
              "      <td>28.800000</td>\n",
              "      <td>46.400000</td>\n",
              "      <td>10.500000</td>\n",
              "      <td>337.500000</td>\n",
              "    </tr>\n",
              "  </tbody>\n",
              "</table>\n",
              "</div>"
            ],
            "text/plain": [
              "                 No          year         month           day          hour  \\\n",
              "count  35064.000000  35064.000000  35064.000000  35064.000000  35064.000000   \n",
              "mean   17532.500000   2014.662560      6.522930     15.729637     11.500000   \n",
              "std    10122.249256      1.177213      3.448752      8.800218      6.922285   \n",
              "min        1.000000   2013.000000      1.000000      1.000000      0.000000   \n",
              "25%     8766.750000   2014.000000      4.000000      8.000000      5.750000   \n",
              "50%    17532.500000   2015.000000      7.000000     16.000000     11.500000   \n",
              "75%    26298.250000   2016.000000     10.000000     23.000000     17.250000   \n",
              "max    35064.000000   2017.000000     12.000000     31.000000     23.000000   \n",
              "\n",
              "              PM2.5          PM10           SO2           NO2            CO  \\\n",
              "count  34387.000000  34467.000000  33946.000000  34320.000000  33938.000000   \n",
              "mean      82.164911    106.363672     14.367615     53.162646   1298.303318   \n",
              "std       80.921384     89.700157     20.144631     31.946224   1170.593297   \n",
              "min        3.000000      2.000000      0.571200      2.000000    100.000000   \n",
              "25%       22.000000     41.000000      3.000000     28.000000    500.000000   \n",
              "50%       59.000000     85.000000      7.000000     47.000000    900.000000   \n",
              "75%      113.000000    144.000000     17.000000     71.000000   1600.000000   \n",
              "max      821.000000    988.000000    273.000000    241.000000  10000.000000   \n",
              "\n",
              "                 O3          TEMP          PRES          DEWP          RAIN  \\\n",
              "count  34221.000000  35044.000000  35044.000000  35044.000000  35044.000000   \n",
              "mean      55.984297     13.671490   1012.547419      2.447535      0.064020   \n",
              "std       59.081528     11.458418     10.266059     13.810696      0.786282   \n",
              "min        0.428400    -16.800000    987.100000    -35.300000      0.000000   \n",
              "25%        8.000000      3.100000   1004.000000     -8.800000      0.000000   \n",
              "50%       40.000000     14.600000   1012.200000      3.000000      0.000000   \n",
              "75%       81.000000     23.500000   1020.900000     15.000000      0.000000   \n",
              "max      674.000000     41.100000   1042.000000     28.800000     46.400000   \n",
              "\n",
              "               WSPM    wd_degrees  \n",
              "count  35050.000000  34986.000000  \n",
              "mean       1.860785    149.801278  \n",
              "std        1.280368    101.647724  \n",
              "min        0.000000      0.000000  \n",
              "25%        1.000000     67.500000  \n",
              "50%        1.500000    135.000000  \n",
              "75%        2.400000    225.000000  \n",
              "max       10.500000    337.500000  "
            ]
          },
          "execution_count": 64,
          "metadata": {},
          "output_type": "execute_result"
        }
      ],
      "source": [
        "Tiantan_df.describe()"
      ]
    },
    {
      "cell_type": "markdown",
      "metadata": {
        "id": "YPxhNM4X7V_S"
      },
      "source": [
        "**Insight:**\n",
        "- Add column for numerical wind direction called wd_degrees\n",
        "- Check all column datatypes\n",
        "- Check null data\n",
        "- Check duplicate data"
      ]
    },
    {
      "cell_type": "markdown",
      "metadata": {
        "id": "6bGSHQDl7Wrf"
      },
      "source": [
        "#### Wanliu"
      ]
    },
    {
      "cell_type": "code",
      "execution_count": 65,
      "metadata": {
        "id": "hUZ9tWaoy-JB"
      },
      "outputs": [],
      "source": [
        "Wanliu_df['wd_degrees'] = Wanliu_df['wd'].map(wind_direction_map)"
      ]
    },
    {
      "cell_type": "code",
      "execution_count": 66,
      "metadata": {
        "colab": {
          "base_uri": "https://localhost:8080/"
        },
        "id": "HIuZZtAl7Wrg",
        "outputId": "b3bfe5bd-7799-459b-8218-a3eabac13277"
      },
      "outputs": [
        {
          "name": "stdout",
          "output_type": "stream",
          "text": [
            "<class 'pandas.core.frame.DataFrame'>\n",
            "RangeIndex: 35064 entries, 0 to 35063\n",
            "Data columns (total 19 columns):\n",
            " #   Column      Non-Null Count  Dtype  \n",
            "---  ------      --------------  -----  \n",
            " 0   No          35064 non-null  int64  \n",
            " 1   year        35064 non-null  int64  \n",
            " 2   month       35064 non-null  int64  \n",
            " 3   day         35064 non-null  int64  \n",
            " 4   hour        35064 non-null  int64  \n",
            " 5   PM2.5       34682 non-null  float64\n",
            " 6   PM10        34780 non-null  float64\n",
            " 7   SO2         34489 non-null  float64\n",
            " 8   NO2         33994 non-null  float64\n",
            " 9   CO          33252 non-null  float64\n",
            " 10  O3          32957 non-null  float64\n",
            " 11  TEMP        35044 non-null  float64\n",
            " 12  PRES        35044 non-null  float64\n",
            " 13  DEWP        35044 non-null  float64\n",
            " 14  RAIN        35044 non-null  float64\n",
            " 15  wd          34941 non-null  object \n",
            " 16  WSPM        35050 non-null  float64\n",
            " 17  station     35064 non-null  object \n",
            " 18  wd_degrees  34941 non-null  float64\n",
            "dtypes: float64(12), int64(5), object(2)\n",
            "memory usage: 5.1+ MB\n"
          ]
        }
      ],
      "source": [
        "Wanliu_df.info()"
      ]
    },
    {
      "cell_type": "code",
      "execution_count": 67,
      "metadata": {
        "colab": {
          "base_uri": "https://localhost:8080/",
          "height": 0
        },
        "id": "HmZcwKMl7Wrg",
        "outputId": "a1cc7cdb-17d4-4506-f73a-a501bfac2c43"
      },
      "outputs": [
        {
          "data": {
            "text/plain": [
              "No               0\n",
              "year             0\n",
              "month            0\n",
              "day              0\n",
              "hour             0\n",
              "PM2.5          382\n",
              "PM10           284\n",
              "SO2            575\n",
              "NO2           1070\n",
              "CO            1812\n",
              "O3            2107\n",
              "TEMP            20\n",
              "PRES            20\n",
              "DEWP            20\n",
              "RAIN            20\n",
              "wd             123\n",
              "WSPM            14\n",
              "station          0\n",
              "wd_degrees     123\n",
              "dtype: int64"
            ]
          },
          "execution_count": 67,
          "metadata": {},
          "output_type": "execute_result"
        }
      ],
      "source": [
        "Wanliu_df.isna().sum()"
      ]
    },
    {
      "cell_type": "code",
      "execution_count": 68,
      "metadata": {
        "colab": {
          "base_uri": "https://localhost:8080/"
        },
        "id": "bNroZbNB7Wrg",
        "outputId": "1577ab01-4dc9-4d44-efb9-c533ebea6e87"
      },
      "outputs": [
        {
          "name": "stdout",
          "output_type": "stream",
          "text": [
            "Jumlah duplikat :  0\n"
          ]
        }
      ],
      "source": [
        "print(\"Jumlah duplikat : \", Wanliu_df.duplicated().sum())"
      ]
    },
    {
      "cell_type": "code",
      "execution_count": 69,
      "metadata": {
        "colab": {
          "base_uri": "https://localhost:8080/",
          "height": 0
        },
        "id": "Vw-zJvcl7Wrg",
        "outputId": "4dd0eae0-4f6b-4811-daef-823e68259b23"
      },
      "outputs": [
        {
          "data": {
            "text/html": [
              "<div>\n",
              "<style scoped>\n",
              "    .dataframe tbody tr th:only-of-type {\n",
              "        vertical-align: middle;\n",
              "    }\n",
              "\n",
              "    .dataframe tbody tr th {\n",
              "        vertical-align: top;\n",
              "    }\n",
              "\n",
              "    .dataframe thead th {\n",
              "        text-align: right;\n",
              "    }\n",
              "</style>\n",
              "<table border=\"1\" class=\"dataframe\">\n",
              "  <thead>\n",
              "    <tr style=\"text-align: right;\">\n",
              "      <th></th>\n",
              "      <th>No</th>\n",
              "      <th>year</th>\n",
              "      <th>month</th>\n",
              "      <th>day</th>\n",
              "      <th>hour</th>\n",
              "      <th>PM2.5</th>\n",
              "      <th>PM10</th>\n",
              "      <th>SO2</th>\n",
              "      <th>NO2</th>\n",
              "      <th>CO</th>\n",
              "      <th>O3</th>\n",
              "      <th>TEMP</th>\n",
              "      <th>PRES</th>\n",
              "      <th>DEWP</th>\n",
              "      <th>RAIN</th>\n",
              "      <th>WSPM</th>\n",
              "      <th>wd_degrees</th>\n",
              "    </tr>\n",
              "  </thead>\n",
              "  <tbody>\n",
              "    <tr>\n",
              "      <th>count</th>\n",
              "      <td>35064.000000</td>\n",
              "      <td>35064.000000</td>\n",
              "      <td>35064.000000</td>\n",
              "      <td>35064.000000</td>\n",
              "      <td>35064.000000</td>\n",
              "      <td>34682.000000</td>\n",
              "      <td>34780.000000</td>\n",
              "      <td>34489.000000</td>\n",
              "      <td>33994.000000</td>\n",
              "      <td>33252.000000</td>\n",
              "      <td>32957.000000</td>\n",
              "      <td>35044.000000</td>\n",
              "      <td>35044.000000</td>\n",
              "      <td>35044.000000</td>\n",
              "      <td>35044.000000</td>\n",
              "      <td>35050.000000</td>\n",
              "      <td>34941.000000</td>\n",
              "    </tr>\n",
              "    <tr>\n",
              "      <th>mean</th>\n",
              "      <td>17532.500000</td>\n",
              "      <td>2014.662560</td>\n",
              "      <td>6.522930</td>\n",
              "      <td>15.729637</td>\n",
              "      <td>11.500000</td>\n",
              "      <td>83.374716</td>\n",
              "      <td>110.464618</td>\n",
              "      <td>18.376481</td>\n",
              "      <td>65.258789</td>\n",
              "      <td>1319.353513</td>\n",
              "      <td>48.873614</td>\n",
              "      <td>13.428865</td>\n",
              "      <td>1011.097536</td>\n",
              "      <td>3.266588</td>\n",
              "      <td>0.068263</td>\n",
              "      <td>1.501215</td>\n",
              "      <td>133.978707</td>\n",
              "    </tr>\n",
              "    <tr>\n",
              "      <th>std</th>\n",
              "      <td>10122.249256</td>\n",
              "      <td>1.177213</td>\n",
              "      <td>3.448752</td>\n",
              "      <td>8.800218</td>\n",
              "      <td>6.922285</td>\n",
              "      <td>81.905568</td>\n",
              "      <td>92.795065</td>\n",
              "      <td>22.609648</td>\n",
              "      <td>37.996088</td>\n",
              "      <td>1268.114331</td>\n",
              "      <td>55.111740</td>\n",
              "      <td>11.346931</td>\n",
              "      <td>10.355247</td>\n",
              "      <td>13.678060</td>\n",
              "      <td>0.896726</td>\n",
              "      <td>1.104472</td>\n",
              "      <td>106.135360</td>\n",
              "    </tr>\n",
              "    <tr>\n",
              "      <th>min</th>\n",
              "      <td>1.000000</td>\n",
              "      <td>2013.000000</td>\n",
              "      <td>1.000000</td>\n",
              "      <td>1.000000</td>\n",
              "      <td>0.000000</td>\n",
              "      <td>2.000000</td>\n",
              "      <td>2.000000</td>\n",
              "      <td>0.285600</td>\n",
              "      <td>1.642400</td>\n",
              "      <td>100.000000</td>\n",
              "      <td>0.214200</td>\n",
              "      <td>-15.800000</td>\n",
              "      <td>985.900000</td>\n",
              "      <td>-34.900000</td>\n",
              "      <td>0.000000</td>\n",
              "      <td>0.000000</td>\n",
              "      <td>0.000000</td>\n",
              "    </tr>\n",
              "    <tr>\n",
              "      <th>25%</th>\n",
              "      <td>8766.750000</td>\n",
              "      <td>2014.000000</td>\n",
              "      <td>4.000000</td>\n",
              "      <td>8.000000</td>\n",
              "      <td>5.750000</td>\n",
              "      <td>23.000000</td>\n",
              "      <td>40.000000</td>\n",
              "      <td>4.000000</td>\n",
              "      <td>36.000000</td>\n",
              "      <td>500.000000</td>\n",
              "      <td>4.000000</td>\n",
              "      <td>3.200000</td>\n",
              "      <td>1002.500000</td>\n",
              "      <td>-8.100000</td>\n",
              "      <td>0.000000</td>\n",
              "      <td>0.800000</td>\n",
              "      <td>45.000000</td>\n",
              "    </tr>\n",
              "    <tr>\n",
              "      <th>50%</th>\n",
              "      <td>17532.500000</td>\n",
              "      <td>2015.000000</td>\n",
              "      <td>7.000000</td>\n",
              "      <td>16.000000</td>\n",
              "      <td>11.500000</td>\n",
              "      <td>59.000000</td>\n",
              "      <td>88.000000</td>\n",
              "      <td>10.000000</td>\n",
              "      <td>60.000000</td>\n",
              "      <td>900.000000</td>\n",
              "      <td>32.000000</td>\n",
              "      <td>14.300000</td>\n",
              "      <td>1010.800000</td>\n",
              "      <td>4.000000</td>\n",
              "      <td>0.000000</td>\n",
              "      <td>1.200000</td>\n",
              "      <td>90.000000</td>\n",
              "    </tr>\n",
              "    <tr>\n",
              "      <th>75%</th>\n",
              "      <td>26298.250000</td>\n",
              "      <td>2016.000000</td>\n",
              "      <td>10.000000</td>\n",
              "      <td>23.000000</td>\n",
              "      <td>17.250000</td>\n",
              "      <td>116.000000</td>\n",
              "      <td>153.000000</td>\n",
              "      <td>23.000000</td>\n",
              "      <td>88.000000</td>\n",
              "      <td>1600.000000</td>\n",
              "      <td>73.000000</td>\n",
              "      <td>22.900000</td>\n",
              "      <td>1019.400000</td>\n",
              "      <td>15.800000</td>\n",
              "      <td>0.000000</td>\n",
              "      <td>2.000000</td>\n",
              "      <td>225.000000</td>\n",
              "    </tr>\n",
              "    <tr>\n",
              "      <th>max</th>\n",
              "      <td>35064.000000</td>\n",
              "      <td>2017.000000</td>\n",
              "      <td>12.000000</td>\n",
              "      <td>31.000000</td>\n",
              "      <td>23.000000</td>\n",
              "      <td>957.000000</td>\n",
              "      <td>951.000000</td>\n",
              "      <td>282.000000</td>\n",
              "      <td>264.000000</td>\n",
              "      <td>10000.000000</td>\n",
              "      <td>364.000000</td>\n",
              "      <td>40.500000</td>\n",
              "      <td>1040.300000</td>\n",
              "      <td>28.500000</td>\n",
              "      <td>72.500000</td>\n",
              "      <td>11.200000</td>\n",
              "      <td>337.500000</td>\n",
              "    </tr>\n",
              "  </tbody>\n",
              "</table>\n",
              "</div>"
            ],
            "text/plain": [
              "                 No          year         month           day          hour  \\\n",
              "count  35064.000000  35064.000000  35064.000000  35064.000000  35064.000000   \n",
              "mean   17532.500000   2014.662560      6.522930     15.729637     11.500000   \n",
              "std    10122.249256      1.177213      3.448752      8.800218      6.922285   \n",
              "min        1.000000   2013.000000      1.000000      1.000000      0.000000   \n",
              "25%     8766.750000   2014.000000      4.000000      8.000000      5.750000   \n",
              "50%    17532.500000   2015.000000      7.000000     16.000000     11.500000   \n",
              "75%    26298.250000   2016.000000     10.000000     23.000000     17.250000   \n",
              "max    35064.000000   2017.000000     12.000000     31.000000     23.000000   \n",
              "\n",
              "              PM2.5          PM10           SO2           NO2            CO  \\\n",
              "count  34682.000000  34780.000000  34489.000000  33994.000000  33252.000000   \n",
              "mean      83.374716    110.464618     18.376481     65.258789   1319.353513   \n",
              "std       81.905568     92.795065     22.609648     37.996088   1268.114331   \n",
              "min        2.000000      2.000000      0.285600      1.642400    100.000000   \n",
              "25%       23.000000     40.000000      4.000000     36.000000    500.000000   \n",
              "50%       59.000000     88.000000     10.000000     60.000000    900.000000   \n",
              "75%      116.000000    153.000000     23.000000     88.000000   1600.000000   \n",
              "max      957.000000    951.000000    282.000000    264.000000  10000.000000   \n",
              "\n",
              "                 O3          TEMP          PRES          DEWP          RAIN  \\\n",
              "count  32957.000000  35044.000000  35044.000000  35044.000000  35044.000000   \n",
              "mean      48.873614     13.428865   1011.097536      3.266588      0.068263   \n",
              "std       55.111740     11.346931     10.355247     13.678060      0.896726   \n",
              "min        0.214200    -15.800000    985.900000    -34.900000      0.000000   \n",
              "25%        4.000000      3.200000   1002.500000     -8.100000      0.000000   \n",
              "50%       32.000000     14.300000   1010.800000      4.000000      0.000000   \n",
              "75%       73.000000     22.900000   1019.400000     15.800000      0.000000   \n",
              "max      364.000000     40.500000   1040.300000     28.500000     72.500000   \n",
              "\n",
              "               WSPM    wd_degrees  \n",
              "count  35050.000000  34941.000000  \n",
              "mean       1.501215    133.978707  \n",
              "std        1.104472    106.135360  \n",
              "min        0.000000      0.000000  \n",
              "25%        0.800000     45.000000  \n",
              "50%        1.200000     90.000000  \n",
              "75%        2.000000    225.000000  \n",
              "max       11.200000    337.500000  "
            ]
          },
          "execution_count": 69,
          "metadata": {},
          "output_type": "execute_result"
        }
      ],
      "source": [
        "Wanliu_df.describe()"
      ]
    },
    {
      "cell_type": "markdown",
      "metadata": {
        "id": "hnQFC9cP7Wrh"
      },
      "source": [
        "**Insight:**\n",
        "- Add column for numerical wind direction called wd_degrees\n",
        "- Check all column datatypes\n",
        "- Check null data\n",
        "- Check duplicate data"
      ]
    },
    {
      "cell_type": "markdown",
      "metadata": {
        "id": "_0vcRISS7XWY"
      },
      "source": [
        "#### Wanshouxigong"
      ]
    },
    {
      "cell_type": "code",
      "execution_count": 70,
      "metadata": {
        "id": "qvhAd0jMzBQw"
      },
      "outputs": [],
      "source": [
        "Wanshouxigong_df['wd_degrees'] = Wanshouxigong_df['wd'].map(wind_direction_map)"
      ]
    },
    {
      "cell_type": "code",
      "execution_count": 71,
      "metadata": {
        "colab": {
          "base_uri": "https://localhost:8080/"
        },
        "id": "reb22lCs7XWY",
        "outputId": "04924271-7fed-410c-8dfe-6f41b7a8d8d7"
      },
      "outputs": [
        {
          "name": "stdout",
          "output_type": "stream",
          "text": [
            "<class 'pandas.core.frame.DataFrame'>\n",
            "RangeIndex: 35064 entries, 0 to 35063\n",
            "Data columns (total 19 columns):\n",
            " #   Column      Non-Null Count  Dtype  \n",
            "---  ------      --------------  -----  \n",
            " 0   No          35064 non-null  int64  \n",
            " 1   year        35064 non-null  int64  \n",
            " 2   month       35064 non-null  int64  \n",
            " 3   day         35064 non-null  int64  \n",
            " 4   hour        35064 non-null  int64  \n",
            " 5   PM2.5       34368 non-null  float64\n",
            " 6   PM10        34580 non-null  float64\n",
            " 7   SO2         34395 non-null  float64\n",
            " 8   NO2         34310 non-null  float64\n",
            " 9   CO          33767 non-null  float64\n",
            " 10  O3          33986 non-null  float64\n",
            " 11  TEMP        35045 non-null  float64\n",
            " 12  PRES        35045 non-null  float64\n",
            " 13  DEWP        35045 non-null  float64\n",
            " 14  RAIN        35045 non-null  float64\n",
            " 15  wd          34985 non-null  object \n",
            " 16  WSPM        35051 non-null  float64\n",
            " 17  station     35064 non-null  object \n",
            " 18  wd_degrees  34985 non-null  float64\n",
            "dtypes: float64(12), int64(5), object(2)\n",
            "memory usage: 5.1+ MB\n"
          ]
        }
      ],
      "source": [
        "Wanshouxigong_df.info()"
      ]
    },
    {
      "cell_type": "code",
      "execution_count": 72,
      "metadata": {
        "colab": {
          "base_uri": "https://localhost:8080/",
          "height": 0
        },
        "id": "kA33jxjo7XWZ",
        "outputId": "0c62bc0f-0cc1-4bb2-c141-0a593cea12ef"
      },
      "outputs": [
        {
          "data": {
            "text/plain": [
              "No               0\n",
              "year             0\n",
              "month            0\n",
              "day              0\n",
              "hour             0\n",
              "PM2.5          696\n",
              "PM10           484\n",
              "SO2            669\n",
              "NO2            754\n",
              "CO            1297\n",
              "O3            1078\n",
              "TEMP            19\n",
              "PRES            19\n",
              "DEWP            19\n",
              "RAIN            19\n",
              "wd              79\n",
              "WSPM            13\n",
              "station          0\n",
              "wd_degrees      79\n",
              "dtype: int64"
            ]
          },
          "execution_count": 72,
          "metadata": {},
          "output_type": "execute_result"
        }
      ],
      "source": [
        "Wanshouxigong_df.isna().sum()"
      ]
    },
    {
      "cell_type": "code",
      "execution_count": 73,
      "metadata": {
        "colab": {
          "base_uri": "https://localhost:8080/"
        },
        "id": "Am9bNd4m7XWZ",
        "outputId": "d23ba291-fb09-4bc6-9ae6-82e46b8e5aeb"
      },
      "outputs": [
        {
          "name": "stdout",
          "output_type": "stream",
          "text": [
            "Jumlah duplikat :  0\n"
          ]
        }
      ],
      "source": [
        "print(\"Jumlah duplikat : \", Wanshouxigong_df.duplicated().sum())"
      ]
    },
    {
      "cell_type": "code",
      "execution_count": 74,
      "metadata": {
        "colab": {
          "base_uri": "https://localhost:8080/",
          "height": 0
        },
        "id": "7jCVjvZA7XWZ",
        "outputId": "1a54a8b9-a7f0-46e3-936f-3f33a6f8219d"
      },
      "outputs": [
        {
          "data": {
            "text/html": [
              "<div>\n",
              "<style scoped>\n",
              "    .dataframe tbody tr th:only-of-type {\n",
              "        vertical-align: middle;\n",
              "    }\n",
              "\n",
              "    .dataframe tbody tr th {\n",
              "        vertical-align: top;\n",
              "    }\n",
              "\n",
              "    .dataframe thead th {\n",
              "        text-align: right;\n",
              "    }\n",
              "</style>\n",
              "<table border=\"1\" class=\"dataframe\">\n",
              "  <thead>\n",
              "    <tr style=\"text-align: right;\">\n",
              "      <th></th>\n",
              "      <th>No</th>\n",
              "      <th>year</th>\n",
              "      <th>month</th>\n",
              "      <th>day</th>\n",
              "      <th>hour</th>\n",
              "      <th>PM2.5</th>\n",
              "      <th>PM10</th>\n",
              "      <th>SO2</th>\n",
              "      <th>NO2</th>\n",
              "      <th>CO</th>\n",
              "      <th>O3</th>\n",
              "      <th>TEMP</th>\n",
              "      <th>PRES</th>\n",
              "      <th>DEWP</th>\n",
              "      <th>RAIN</th>\n",
              "      <th>WSPM</th>\n",
              "      <th>wd_degrees</th>\n",
              "    </tr>\n",
              "  </thead>\n",
              "  <tbody>\n",
              "    <tr>\n",
              "      <th>count</th>\n",
              "      <td>35064.000000</td>\n",
              "      <td>35064.000000</td>\n",
              "      <td>35064.000000</td>\n",
              "      <td>35064.000000</td>\n",
              "      <td>35064.000000</td>\n",
              "      <td>34368.000000</td>\n",
              "      <td>34580.000000</td>\n",
              "      <td>34395.000000</td>\n",
              "      <td>34310.00000</td>\n",
              "      <td>33767.000000</td>\n",
              "      <td>33986.000000</td>\n",
              "      <td>35045.000000</td>\n",
              "      <td>35045.000000</td>\n",
              "      <td>35045.000000</td>\n",
              "      <td>35045.000000</td>\n",
              "      <td>35051.000000</td>\n",
              "      <td>34985.000000</td>\n",
              "    </tr>\n",
              "    <tr>\n",
              "      <th>mean</th>\n",
              "      <td>17532.500000</td>\n",
              "      <td>2014.662560</td>\n",
              "      <td>6.522930</td>\n",
              "      <td>15.729637</td>\n",
              "      <td>11.500000</td>\n",
              "      <td>85.024136</td>\n",
              "      <td>112.223459</td>\n",
              "      <td>17.148603</td>\n",
              "      <td>55.52956</td>\n",
              "      <td>1370.395031</td>\n",
              "      <td>56.229904</td>\n",
              "      <td>13.784477</td>\n",
              "      <td>1011.511804</td>\n",
              "      <td>2.707442</td>\n",
              "      <td>0.064320</td>\n",
              "      <td>1.745314</td>\n",
              "      <td>170.965914</td>\n",
              "    </tr>\n",
              "    <tr>\n",
              "      <th>std</th>\n",
              "      <td>10122.249256</td>\n",
              "      <td>1.177213</td>\n",
              "      <td>3.448752</td>\n",
              "      <td>8.800218</td>\n",
              "      <td>6.922285</td>\n",
              "      <td>85.975981</td>\n",
              "      <td>97.593210</td>\n",
              "      <td>23.940834</td>\n",
              "      <td>35.80805</td>\n",
              "      <td>1223.139114</td>\n",
              "      <td>57.082710</td>\n",
              "      <td>11.385156</td>\n",
              "      <td>10.570928</td>\n",
              "      <td>13.704139</td>\n",
              "      <td>0.796981</td>\n",
              "      <td>1.206355</td>\n",
              "      <td>101.461228</td>\n",
              "    </tr>\n",
              "    <tr>\n",
              "      <th>min</th>\n",
              "      <td>1.000000</td>\n",
              "      <td>2013.000000</td>\n",
              "      <td>1.000000</td>\n",
              "      <td>1.000000</td>\n",
              "      <td>0.000000</td>\n",
              "      <td>3.000000</td>\n",
              "      <td>2.000000</td>\n",
              "      <td>0.285600</td>\n",
              "      <td>2.00000</td>\n",
              "      <td>100.000000</td>\n",
              "      <td>0.214200</td>\n",
              "      <td>-16.800000</td>\n",
              "      <td>985.100000</td>\n",
              "      <td>-35.300000</td>\n",
              "      <td>0.000000</td>\n",
              "      <td>0.000000</td>\n",
              "      <td>0.000000</td>\n",
              "    </tr>\n",
              "    <tr>\n",
              "      <th>25%</th>\n",
              "      <td>8766.750000</td>\n",
              "      <td>2014.000000</td>\n",
              "      <td>4.000000</td>\n",
              "      <td>8.000000</td>\n",
              "      <td>5.750000</td>\n",
              "      <td>23.000000</td>\n",
              "      <td>39.000000</td>\n",
              "      <td>3.000000</td>\n",
              "      <td>28.00000</td>\n",
              "      <td>600.000000</td>\n",
              "      <td>8.000000</td>\n",
              "      <td>3.400000</td>\n",
              "      <td>1002.800000</td>\n",
              "      <td>-8.500000</td>\n",
              "      <td>0.000000</td>\n",
              "      <td>0.900000</td>\n",
              "      <td>67.500000</td>\n",
              "    </tr>\n",
              "    <tr>\n",
              "      <th>50%</th>\n",
              "      <td>17532.500000</td>\n",
              "      <td>2015.000000</td>\n",
              "      <td>7.000000</td>\n",
              "      <td>16.000000</td>\n",
              "      <td>11.500000</td>\n",
              "      <td>60.000000</td>\n",
              "      <td>91.000000</td>\n",
              "      <td>8.000000</td>\n",
              "      <td>49.00000</td>\n",
              "      <td>1000.000000</td>\n",
              "      <td>42.000000</td>\n",
              "      <td>14.800000</td>\n",
              "      <td>1011.000000</td>\n",
              "      <td>3.300000</td>\n",
              "      <td>0.000000</td>\n",
              "      <td>1.400000</td>\n",
              "      <td>180.000000</td>\n",
              "    </tr>\n",
              "    <tr>\n",
              "      <th>75%</th>\n",
              "      <td>26298.250000</td>\n",
              "      <td>2016.000000</td>\n",
              "      <td>10.000000</td>\n",
              "      <td>23.000000</td>\n",
              "      <td>17.250000</td>\n",
              "      <td>116.000000</td>\n",
              "      <td>154.000000</td>\n",
              "      <td>21.000000</td>\n",
              "      <td>77.00000</td>\n",
              "      <td>1700.000000</td>\n",
              "      <td>82.000000</td>\n",
              "      <td>23.500000</td>\n",
              "      <td>1020.000000</td>\n",
              "      <td>15.200000</td>\n",
              "      <td>0.000000</td>\n",
              "      <td>2.300000</td>\n",
              "      <td>270.000000</td>\n",
              "    </tr>\n",
              "    <tr>\n",
              "      <th>max</th>\n",
              "      <td>35064.000000</td>\n",
              "      <td>2017.000000</td>\n",
              "      <td>12.000000</td>\n",
              "      <td>31.000000</td>\n",
              "      <td>23.000000</td>\n",
              "      <td>999.000000</td>\n",
              "      <td>961.000000</td>\n",
              "      <td>411.000000</td>\n",
              "      <td>251.00000</td>\n",
              "      <td>9800.000000</td>\n",
              "      <td>358.000000</td>\n",
              "      <td>40.600000</td>\n",
              "      <td>1042.000000</td>\n",
              "      <td>28.500000</td>\n",
              "      <td>46.400000</td>\n",
              "      <td>13.200000</td>\n",
              "      <td>337.500000</td>\n",
              "    </tr>\n",
              "  </tbody>\n",
              "</table>\n",
              "</div>"
            ],
            "text/plain": [
              "                 No          year         month           day          hour  \\\n",
              "count  35064.000000  35064.000000  35064.000000  35064.000000  35064.000000   \n",
              "mean   17532.500000   2014.662560      6.522930     15.729637     11.500000   \n",
              "std    10122.249256      1.177213      3.448752      8.800218      6.922285   \n",
              "min        1.000000   2013.000000      1.000000      1.000000      0.000000   \n",
              "25%     8766.750000   2014.000000      4.000000      8.000000      5.750000   \n",
              "50%    17532.500000   2015.000000      7.000000     16.000000     11.500000   \n",
              "75%    26298.250000   2016.000000     10.000000     23.000000     17.250000   \n",
              "max    35064.000000   2017.000000     12.000000     31.000000     23.000000   \n",
              "\n",
              "              PM2.5          PM10           SO2          NO2            CO  \\\n",
              "count  34368.000000  34580.000000  34395.000000  34310.00000  33767.000000   \n",
              "mean      85.024136    112.223459     17.148603     55.52956   1370.395031   \n",
              "std       85.975981     97.593210     23.940834     35.80805   1223.139114   \n",
              "min        3.000000      2.000000      0.285600      2.00000    100.000000   \n",
              "25%       23.000000     39.000000      3.000000     28.00000    600.000000   \n",
              "50%       60.000000     91.000000      8.000000     49.00000   1000.000000   \n",
              "75%      116.000000    154.000000     21.000000     77.00000   1700.000000   \n",
              "max      999.000000    961.000000    411.000000    251.00000   9800.000000   \n",
              "\n",
              "                 O3          TEMP          PRES          DEWP          RAIN  \\\n",
              "count  33986.000000  35045.000000  35045.000000  35045.000000  35045.000000   \n",
              "mean      56.229904     13.784477   1011.511804      2.707442      0.064320   \n",
              "std       57.082710     11.385156     10.570928     13.704139      0.796981   \n",
              "min        0.214200    -16.800000    985.100000    -35.300000      0.000000   \n",
              "25%        8.000000      3.400000   1002.800000     -8.500000      0.000000   \n",
              "50%       42.000000     14.800000   1011.000000      3.300000      0.000000   \n",
              "75%       82.000000     23.500000   1020.000000     15.200000      0.000000   \n",
              "max      358.000000     40.600000   1042.000000     28.500000     46.400000   \n",
              "\n",
              "               WSPM    wd_degrees  \n",
              "count  35051.000000  34985.000000  \n",
              "mean       1.745314    170.965914  \n",
              "std        1.206355    101.461228  \n",
              "min        0.000000      0.000000  \n",
              "25%        0.900000     67.500000  \n",
              "50%        1.400000    180.000000  \n",
              "75%        2.300000    270.000000  \n",
              "max       13.200000    337.500000  "
            ]
          },
          "execution_count": 74,
          "metadata": {},
          "output_type": "execute_result"
        }
      ],
      "source": [
        "Wanshouxigong_df.describe()"
      ]
    },
    {
      "cell_type": "markdown",
      "metadata": {
        "id": "GpdZSI1t7XWZ"
      },
      "source": [
        "**Insight:**\n",
        "- Add column for numerical wind direction called wd_degrees\n",
        "- Check all column datatypes\n",
        "- Check null data\n",
        "- Check duplicate data"
      ]
    },
    {
      "cell_type": "markdown",
      "metadata": {
        "id": "EhN5R4hr8DC1"
      },
      "source": [
        "### Cleaning Data"
      ]
    },
    {
      "cell_type": "code",
      "execution_count": 75,
      "metadata": {
        "id": "77UKA-ER6F2v"
      },
      "outputs": [],
      "source": [
        "def find_nearest_direction(degree):\n",
        "    closest_degree = min(wind_direction_map.values(), key=lambda x: abs(x - degree))\n",
        "    return degrees_to_wind[closest_degree]"
      ]
    },
    {
      "cell_type": "markdown",
      "metadata": {
        "id": "5WM9WBEy7Zat"
      },
      "source": [
        "The code above is used to convert wind direction to numerical degree value"
      ]
    },
    {
      "cell_type": "markdown",
      "metadata": {
        "id": "wHJuxxcKqZat"
      },
      "source": [
        "#### Aotizhongxin"
      ]
    },
    {
      "cell_type": "markdown",
      "metadata": {
        "id": "K_75SZxx0L3O"
      },
      "source": [
        "Menghapus Duplikat"
      ]
    },
    {
      "cell_type": "code",
      "execution_count": 76,
      "metadata": {
        "colab": {
          "base_uri": "https://localhost:8080/"
        },
        "id": "WhWNGzz-rbvk",
        "outputId": "e548ebe0-aab0-4849-f88f-cb3179a49980"
      },
      "outputs": [
        {
          "data": {
            "text/plain": [
              "np.int64(0)"
            ]
          },
          "execution_count": 76,
          "metadata": {},
          "output_type": "execute_result"
        }
      ],
      "source": [
        "Aotizhongxin_df.duplicated().sum()"
      ]
    },
    {
      "cell_type": "code",
      "execution_count": 77,
      "metadata": {
        "id": "3hCFQ_pzrnpA"
      },
      "outputs": [],
      "source": [
        "Aotizhongxin_df.drop_duplicates(inplace=True)"
      ]
    },
    {
      "cell_type": "code",
      "execution_count": 78,
      "metadata": {
        "colab": {
          "base_uri": "https://localhost:8080/"
        },
        "id": "vUm4MnAlrylF",
        "outputId": "eb90aad5-e9ca-43af-9bd9-5be2a10df4f0"
      },
      "outputs": [
        {
          "name": "stdout",
          "output_type": "stream",
          "text": [
            "Jumlah duplikasi:  0\n"
          ]
        }
      ],
      "source": [
        "print(\"Jumlah duplikasi: \", Aotizhongxin_df.duplicated().sum())"
      ]
    },
    {
      "cell_type": "code",
      "execution_count": 79,
      "metadata": {
        "colab": {
          "base_uri": "https://localhost:8080/",
          "height": 680
        },
        "collapsed": true,
        "id": "LVawl9Qnr3UM",
        "outputId": "1f29c6d9-2425-4dd0-dec3-57cf39662f81"
      },
      "outputs": [
        {
          "data": {
            "text/plain": [
              "No               0\n",
              "year             0\n",
              "month            0\n",
              "day              0\n",
              "hour             0\n",
              "PM2.5          925\n",
              "PM10           718\n",
              "SO2            935\n",
              "NO2           1023\n",
              "CO            1776\n",
              "O3            1719\n",
              "TEMP            20\n",
              "PRES            20\n",
              "DEWP            20\n",
              "RAIN            20\n",
              "wd              81\n",
              "WSPM            14\n",
              "station          0\n",
              "wd_degrees      81\n",
              "dtype: int64"
            ]
          },
          "execution_count": 79,
          "metadata": {},
          "output_type": "execute_result"
        }
      ],
      "source": [
        "Aotizhongxin_df.isna().sum()"
      ]
    },
    {
      "cell_type": "markdown",
      "metadata": {
        "id": "JHb4o0lB0Ume"
      },
      "source": [
        "Interpolating Missing Data"
      ]
    },
    {
      "cell_type": "code",
      "execution_count": 80,
      "metadata": {
        "id": "ogme5qlUr-nf"
      },
      "outputs": [],
      "source": [
        "# List of column names to check for missing values\n",
        "columns_to_check = ['PM2.5', 'PM10', 'SO2', 'NO2', 'CO', 'TEMP', 'DEWP', 'RAIN', 'WSPM', 'wd_degrees']\n",
        "\n",
        "# Loop through each column and filter rows with missing values\n",
        "for column in columns_to_check:\n",
        "  Aotizhongxin_df[Aotizhongxin_df[column].isna()]"
      ]
    },
    {
      "cell_type": "code",
      "execution_count": 81,
      "metadata": {
        "colab": {
          "base_uri": "https://localhost:8080/"
        },
        "collapsed": true,
        "id": "jVnYpprE9Evz",
        "outputId": "78665e64-4815-480e-cf05-69137c3ae893"
      },
      "outputs": [
        {
          "name": "stderr",
          "output_type": "stream",
          "text": [
            "C:\\Users\\Dell\\AppData\\Local\\Temp\\ipykernel_10372\\186093133.py:6: FutureWarning: Series.interpolate with object dtype is deprecated and will raise in a future version. Call obj.infer_objects(copy=False) before interpolating instead.\n",
            "  Aotizhongxin_df[column] = Aotizhongxin_df[column].interpolate(method=\"linear\")\n"
          ]
        }
      ],
      "source": [
        "# Iterate over each column and its corresponding count of NaN values\n",
        "missing_values = Aotizhongxin_df.isna().sum()\n",
        "\n",
        "for column, na_count in missing_values.items():\n",
        "    if na_count > 0:\n",
        "        Aotizhongxin_df[column] = Aotizhongxin_df[column].interpolate(method=\"linear\")"
      ]
    },
    {
      "cell_type": "code",
      "execution_count": 82,
      "metadata": {
        "collapsed": true,
        "id": "agSbNGqlxaJF"
      },
      "outputs": [],
      "source": [
        "degrees_to_wind = {v: k for k, v in wind_direction_map.items()}\n",
        "\n",
        "# Apply the function to convert interpolated degrees back to nearest wind direction\n",
        "Aotizhongxin_df['wd_interpolated'] = Aotizhongxin_df['wd_degrees'].apply(find_nearest_direction)"
      ]
    },
    {
      "cell_type": "markdown",
      "metadata": {
        "id": "iXWX1KXJ0dO1"
      },
      "source": [
        "Hasil"
      ]
    },
    {
      "cell_type": "code",
      "execution_count": 83,
      "metadata": {
        "colab": {
          "base_uri": "https://localhost:8080/",
          "height": 711
        },
        "collapsed": true,
        "id": "byoafJ6StHS2",
        "outputId": "5a40a974-2c42-4d9a-a76a-a8434576bc4d"
      },
      "outputs": [
        {
          "data": {
            "text/plain": [
              "No                  0\n",
              "year                0\n",
              "month               0\n",
              "day                 0\n",
              "hour                0\n",
              "PM2.5               0\n",
              "PM10                0\n",
              "SO2                 0\n",
              "NO2                 0\n",
              "CO                  0\n",
              "O3                  0\n",
              "TEMP                0\n",
              "PRES                0\n",
              "DEWP                0\n",
              "RAIN                0\n",
              "wd                 81\n",
              "WSPM                0\n",
              "station             0\n",
              "wd_degrees          0\n",
              "wd_interpolated     0\n",
              "dtype: int64"
            ]
          },
          "execution_count": 83,
          "metadata": {},
          "output_type": "execute_result"
        }
      ],
      "source": [
        "Aotizhongxin_df.isna().sum()"
      ]
    },
    {
      "cell_type": "code",
      "execution_count": 84,
      "metadata": {
        "colab": {
          "base_uri": "https://localhost:8080/",
          "height": 320
        },
        "collapsed": true,
        "id": "Y2AbvxhlzDbd",
        "outputId": "e27b349b-fa59-41bc-9646-2981389734a3"
      },
      "outputs": [
        {
          "data": {
            "text/html": [
              "<div>\n",
              "<style scoped>\n",
              "    .dataframe tbody tr th:only-of-type {\n",
              "        vertical-align: middle;\n",
              "    }\n",
              "\n",
              "    .dataframe tbody tr th {\n",
              "        vertical-align: top;\n",
              "    }\n",
              "\n",
              "    .dataframe thead th {\n",
              "        text-align: right;\n",
              "    }\n",
              "</style>\n",
              "<table border=\"1\" class=\"dataframe\">\n",
              "  <thead>\n",
              "    <tr style=\"text-align: right;\">\n",
              "      <th></th>\n",
              "      <th>No</th>\n",
              "      <th>year</th>\n",
              "      <th>month</th>\n",
              "      <th>day</th>\n",
              "      <th>hour</th>\n",
              "      <th>PM2.5</th>\n",
              "      <th>PM10</th>\n",
              "      <th>SO2</th>\n",
              "      <th>NO2</th>\n",
              "      <th>CO</th>\n",
              "      <th>O3</th>\n",
              "      <th>TEMP</th>\n",
              "      <th>PRES</th>\n",
              "      <th>DEWP</th>\n",
              "      <th>RAIN</th>\n",
              "      <th>WSPM</th>\n",
              "      <th>wd_degrees</th>\n",
              "    </tr>\n",
              "  </thead>\n",
              "  <tbody>\n",
              "    <tr>\n",
              "      <th>count</th>\n",
              "      <td>35064.000000</td>\n",
              "      <td>35064.000000</td>\n",
              "      <td>35064.000000</td>\n",
              "      <td>35064.000000</td>\n",
              "      <td>35064.000000</td>\n",
              "      <td>35064.000000</td>\n",
              "      <td>35064.000000</td>\n",
              "      <td>35064.000000</td>\n",
              "      <td>35064.000000</td>\n",
              "      <td>35064.000000</td>\n",
              "      <td>35064.000000</td>\n",
              "      <td>35064.000000</td>\n",
              "      <td>35064.000000</td>\n",
              "      <td>35064.000000</td>\n",
              "      <td>35064.000000</td>\n",
              "      <td>35064.000000</td>\n",
              "      <td>35064.000000</td>\n",
              "    </tr>\n",
              "    <tr>\n",
              "      <th>mean</th>\n",
              "      <td>17532.500000</td>\n",
              "      <td>2014.662560</td>\n",
              "      <td>6.522930</td>\n",
              "      <td>15.729637</td>\n",
              "      <td>11.500000</td>\n",
              "      <td>82.540623</td>\n",
              "      <td>110.210033</td>\n",
              "      <td>17.459251</td>\n",
              "      <td>59.074106</td>\n",
              "      <td>1264.692405</td>\n",
              "      <td>55.328626</td>\n",
              "      <td>13.581414</td>\n",
              "      <td>1011.851650</td>\n",
              "      <td>3.120296</td>\n",
              "      <td>0.067383</td>\n",
              "      <td>1.708577</td>\n",
              "      <td>144.229338</td>\n",
              "    </tr>\n",
              "    <tr>\n",
              "      <th>std</th>\n",
              "      <td>10122.249256</td>\n",
              "      <td>1.177213</td>\n",
              "      <td>3.448752</td>\n",
              "      <td>8.800218</td>\n",
              "      <td>6.922285</td>\n",
              "      <td>81.956401</td>\n",
              "      <td>95.262531</td>\n",
              "      <td>22.702284</td>\n",
              "      <td>37.000918</td>\n",
              "      <td>1239.411826</td>\n",
              "      <td>57.327470</td>\n",
              "      <td>11.400426</td>\n",
              "      <td>10.404517</td>\n",
              "      <td>13.690314</td>\n",
              "      <td>0.909798</td>\n",
              "      <td>1.204180</td>\n",
              "      <td>103.270503</td>\n",
              "    </tr>\n",
              "    <tr>\n",
              "      <th>min</th>\n",
              "      <td>1.000000</td>\n",
              "      <td>2013.000000</td>\n",
              "      <td>1.000000</td>\n",
              "      <td>1.000000</td>\n",
              "      <td>0.000000</td>\n",
              "      <td>3.000000</td>\n",
              "      <td>2.000000</td>\n",
              "      <td>0.285600</td>\n",
              "      <td>2.000000</td>\n",
              "      <td>100.000000</td>\n",
              "      <td>0.214200</td>\n",
              "      <td>-16.800000</td>\n",
              "      <td>985.900000</td>\n",
              "      <td>-35.300000</td>\n",
              "      <td>0.000000</td>\n",
              "      <td>0.000000</td>\n",
              "      <td>0.000000</td>\n",
              "    </tr>\n",
              "    <tr>\n",
              "      <th>25%</th>\n",
              "      <td>8766.750000</td>\n",
              "      <td>2014.000000</td>\n",
              "      <td>4.000000</td>\n",
              "      <td>8.000000</td>\n",
              "      <td>5.750000</td>\n",
              "      <td>22.000000</td>\n",
              "      <td>38.000000</td>\n",
              "      <td>3.000000</td>\n",
              "      <td>30.000000</td>\n",
              "      <td>500.000000</td>\n",
              "      <td>8.000000</td>\n",
              "      <td>3.100000</td>\n",
              "      <td>1003.300000</td>\n",
              "      <td>-8.100000</td>\n",
              "      <td>0.000000</td>\n",
              "      <td>0.900000</td>\n",
              "      <td>45.000000</td>\n",
              "    </tr>\n",
              "    <tr>\n",
              "      <th>50%</th>\n",
              "      <td>17532.500000</td>\n",
              "      <td>2015.000000</td>\n",
              "      <td>7.000000</td>\n",
              "      <td>16.000000</td>\n",
              "      <td>11.500000</td>\n",
              "      <td>58.000000</td>\n",
              "      <td>87.000000</td>\n",
              "      <td>9.000000</td>\n",
              "      <td>53.000000</td>\n",
              "      <td>900.000000</td>\n",
              "      <td>41.000000</td>\n",
              "      <td>14.500000</td>\n",
              "      <td>1011.400000</td>\n",
              "      <td>3.800000</td>\n",
              "      <td>0.000000</td>\n",
              "      <td>1.400000</td>\n",
              "      <td>112.500000</td>\n",
              "    </tr>\n",
              "    <tr>\n",
              "      <th>75%</th>\n",
              "      <td>26298.250000</td>\n",
              "      <td>2016.000000</td>\n",
              "      <td>10.000000</td>\n",
              "      <td>23.000000</td>\n",
              "      <td>17.250000</td>\n",
              "      <td>114.000000</td>\n",
              "      <td>154.000000</td>\n",
              "      <td>22.000000</td>\n",
              "      <td>81.000000</td>\n",
              "      <td>1500.000000</td>\n",
              "      <td>81.000000</td>\n",
              "      <td>23.300000</td>\n",
              "      <td>1020.100000</td>\n",
              "      <td>15.600000</td>\n",
              "      <td>0.000000</td>\n",
              "      <td>2.200000</td>\n",
              "      <td>225.000000</td>\n",
              "    </tr>\n",
              "    <tr>\n",
              "      <th>max</th>\n",
              "      <td>35064.000000</td>\n",
              "      <td>2017.000000</td>\n",
              "      <td>12.000000</td>\n",
              "      <td>31.000000</td>\n",
              "      <td>23.000000</td>\n",
              "      <td>898.000000</td>\n",
              "      <td>984.000000</td>\n",
              "      <td>341.000000</td>\n",
              "      <td>290.000000</td>\n",
              "      <td>10000.000000</td>\n",
              "      <td>423.000000</td>\n",
              "      <td>40.500000</td>\n",
              "      <td>1042.000000</td>\n",
              "      <td>28.500000</td>\n",
              "      <td>72.500000</td>\n",
              "      <td>11.200000</td>\n",
              "      <td>337.500000</td>\n",
              "    </tr>\n",
              "  </tbody>\n",
              "</table>\n",
              "</div>"
            ],
            "text/plain": [
              "                 No          year         month           day          hour  \\\n",
              "count  35064.000000  35064.000000  35064.000000  35064.000000  35064.000000   \n",
              "mean   17532.500000   2014.662560      6.522930     15.729637     11.500000   \n",
              "std    10122.249256      1.177213      3.448752      8.800218      6.922285   \n",
              "min        1.000000   2013.000000      1.000000      1.000000      0.000000   \n",
              "25%     8766.750000   2014.000000      4.000000      8.000000      5.750000   \n",
              "50%    17532.500000   2015.000000      7.000000     16.000000     11.500000   \n",
              "75%    26298.250000   2016.000000     10.000000     23.000000     17.250000   \n",
              "max    35064.000000   2017.000000     12.000000     31.000000     23.000000   \n",
              "\n",
              "              PM2.5          PM10           SO2           NO2            CO  \\\n",
              "count  35064.000000  35064.000000  35064.000000  35064.000000  35064.000000   \n",
              "mean      82.540623    110.210033     17.459251     59.074106   1264.692405   \n",
              "std       81.956401     95.262531     22.702284     37.000918   1239.411826   \n",
              "min        3.000000      2.000000      0.285600      2.000000    100.000000   \n",
              "25%       22.000000     38.000000      3.000000     30.000000    500.000000   \n",
              "50%       58.000000     87.000000      9.000000     53.000000    900.000000   \n",
              "75%      114.000000    154.000000     22.000000     81.000000   1500.000000   \n",
              "max      898.000000    984.000000    341.000000    290.000000  10000.000000   \n",
              "\n",
              "                 O3          TEMP          PRES          DEWP          RAIN  \\\n",
              "count  35064.000000  35064.000000  35064.000000  35064.000000  35064.000000   \n",
              "mean      55.328626     13.581414   1011.851650      3.120296      0.067383   \n",
              "std       57.327470     11.400426     10.404517     13.690314      0.909798   \n",
              "min        0.214200    -16.800000    985.900000    -35.300000      0.000000   \n",
              "25%        8.000000      3.100000   1003.300000     -8.100000      0.000000   \n",
              "50%       41.000000     14.500000   1011.400000      3.800000      0.000000   \n",
              "75%       81.000000     23.300000   1020.100000     15.600000      0.000000   \n",
              "max      423.000000     40.500000   1042.000000     28.500000     72.500000   \n",
              "\n",
              "               WSPM    wd_degrees  \n",
              "count  35064.000000  35064.000000  \n",
              "mean       1.708577    144.229338  \n",
              "std        1.204180    103.270503  \n",
              "min        0.000000      0.000000  \n",
              "25%        0.900000     45.000000  \n",
              "50%        1.400000    112.500000  \n",
              "75%        2.200000    225.000000  \n",
              "max       11.200000    337.500000  "
            ]
          },
          "execution_count": 84,
          "metadata": {},
          "output_type": "execute_result"
        }
      ],
      "source": [
        "Aotizhongxin_df.describe()"
      ]
    },
    {
      "cell_type": "markdown",
      "metadata": {
        "id": "KpbGbN-48rEu"
      },
      "source": [
        "#### Changpin"
      ]
    },
    {
      "cell_type": "markdown",
      "metadata": {
        "id": "379K_ek48rE1"
      },
      "source": [
        "Menghapus Duplikat"
      ]
    },
    {
      "cell_type": "code",
      "execution_count": 85,
      "metadata": {
        "colab": {
          "base_uri": "https://localhost:8080/"
        },
        "id": "py6oAoC18rE1",
        "outputId": "ea05dab9-a86a-4754-b2e0-3f6c50d18237"
      },
      "outputs": [
        {
          "data": {
            "text/plain": [
              "np.int64(0)"
            ]
          },
          "execution_count": 85,
          "metadata": {},
          "output_type": "execute_result"
        }
      ],
      "source": [
        "Changping_df.duplicated().sum()"
      ]
    },
    {
      "cell_type": "code",
      "execution_count": 86,
      "metadata": {
        "id": "W-fCtq9R8rE2"
      },
      "outputs": [],
      "source": [
        "Changping_df.drop_duplicates(inplace=True)"
      ]
    },
    {
      "cell_type": "code",
      "execution_count": 87,
      "metadata": {
        "colab": {
          "base_uri": "https://localhost:8080/"
        },
        "id": "dyulrUpH8rE2",
        "outputId": "b5ee6cfb-0d92-4962-9971-89fe55066326"
      },
      "outputs": [
        {
          "name": "stdout",
          "output_type": "stream",
          "text": [
            "Jumlah duplikasi:  0\n"
          ]
        }
      ],
      "source": [
        "print(\"Jumlah duplikasi: \", Changping_df.duplicated().sum())"
      ]
    },
    {
      "cell_type": "code",
      "execution_count": 88,
      "metadata": {
        "colab": {
          "base_uri": "https://localhost:8080/",
          "height": 0
        },
        "collapsed": true,
        "id": "AhbQeiSk8rE2",
        "outputId": "1b851d33-e0de-44f2-95a6-db7bb1267d06"
      },
      "outputs": [
        {
          "data": {
            "text/plain": [
              "No               0\n",
              "year             0\n",
              "month            0\n",
              "day              0\n",
              "hour             0\n",
              "PM2.5          774\n",
              "PM10           582\n",
              "SO2            628\n",
              "NO2            667\n",
              "CO            1521\n",
              "O3             604\n",
              "TEMP            53\n",
              "PRES            50\n",
              "DEWP            53\n",
              "RAIN            51\n",
              "wd             140\n",
              "WSPM            43\n",
              "station          0\n",
              "wd_degrees     140\n",
              "dtype: int64"
            ]
          },
          "execution_count": 88,
          "metadata": {},
          "output_type": "execute_result"
        }
      ],
      "source": [
        "Changping_df.isna().sum()"
      ]
    },
    {
      "cell_type": "markdown",
      "metadata": {
        "id": "3WlCMtH18rE2"
      },
      "source": [
        "Interpolating Missing Data"
      ]
    },
    {
      "cell_type": "code",
      "execution_count": 89,
      "metadata": {
        "id": "LVf6yTuN8rE2"
      },
      "outputs": [],
      "source": [
        "# List of column names to check for missing values\n",
        "columns_to_check = ['PM2.5', 'PM10', 'SO2', 'NO2', 'CO', 'TEMP', 'DEWP', 'RAIN', 'WSPM', 'wd']\n",
        "\n",
        "# Loop through each column and filter rows with missing values\n",
        "for column in columns_to_check:\n",
        "  Changping_df[Changping_df[column].isna()]"
      ]
    },
    {
      "cell_type": "code",
      "execution_count": 90,
      "metadata": {
        "colab": {
          "base_uri": "https://localhost:8080/"
        },
        "collapsed": true,
        "id": "1nOoKTaa8rE3",
        "outputId": "531a72fe-867e-473c-b982-51ce4b074add"
      },
      "outputs": [
        {
          "name": "stderr",
          "output_type": "stream",
          "text": [
            "C:\\Users\\Dell\\AppData\\Local\\Temp\\ipykernel_10372\\1037212588.py:6: FutureWarning: Series.interpolate with object dtype is deprecated and will raise in a future version. Call obj.infer_objects(copy=False) before interpolating instead.\n",
            "  Changping_df[column] = Changping_df[column].interpolate(method=\"linear\")\n"
          ]
        }
      ],
      "source": [
        "# Iterate over each column and its corresponding count of NaN values\n",
        "missing_values = Changping_df.isna().sum()\n",
        "\n",
        "for column, na_count in missing_values.items():\n",
        "    if na_count > 0:\n",
        "        Changping_df[column] = Changping_df[column].interpolate(method=\"linear\")"
      ]
    },
    {
      "cell_type": "code",
      "execution_count": 91,
      "metadata": {
        "collapsed": true,
        "id": "CRIpO5pj8rE3"
      },
      "outputs": [],
      "source": [
        "degrees_to_wind = {v: k for k, v in wind_direction_map.items()}\n",
        "\n",
        "# Apply the function to convert interpolated degrees back to nearest wind direction\n",
        "Changping_df['wd_interpolated'] = Changping_df['wd_degrees'].apply(find_nearest_direction)"
      ]
    },
    {
      "cell_type": "markdown",
      "metadata": {
        "id": "p8EOd7K88rE3"
      },
      "source": [
        "Hasil"
      ]
    },
    {
      "cell_type": "code",
      "execution_count": 92,
      "metadata": {
        "colab": {
          "base_uri": "https://localhost:8080/",
          "height": 0
        },
        "collapsed": true,
        "id": "oi12OB8R8rE3",
        "outputId": "ef667e7c-b76d-4b31-fa70-6761db4e7b98"
      },
      "outputs": [
        {
          "data": {
            "text/plain": [
              "No                   0\n",
              "year                 0\n",
              "month                0\n",
              "day                  0\n",
              "hour                 0\n",
              "PM2.5                0\n",
              "PM10                 0\n",
              "SO2                  0\n",
              "NO2                  0\n",
              "CO                   0\n",
              "O3                   0\n",
              "TEMP                 0\n",
              "PRES                 0\n",
              "DEWP                 0\n",
              "RAIN                 0\n",
              "wd                 140\n",
              "WSPM                 0\n",
              "station              0\n",
              "wd_degrees           0\n",
              "wd_interpolated      0\n",
              "dtype: int64"
            ]
          },
          "execution_count": 92,
          "metadata": {},
          "output_type": "execute_result"
        }
      ],
      "source": [
        "Changping_df.isna().sum()"
      ]
    },
    {
      "cell_type": "code",
      "execution_count": 93,
      "metadata": {
        "colab": {
          "base_uri": "https://localhost:8080/",
          "height": 0
        },
        "id": "vX5o2-8k8rE3",
        "outputId": "e01b0e1a-f8e6-4cb5-f8d0-50b713b140fb"
      },
      "outputs": [
        {
          "data": {
            "text/html": [
              "<div>\n",
              "<style scoped>\n",
              "    .dataframe tbody tr th:only-of-type {\n",
              "        vertical-align: middle;\n",
              "    }\n",
              "\n",
              "    .dataframe tbody tr th {\n",
              "        vertical-align: top;\n",
              "    }\n",
              "\n",
              "    .dataframe thead th {\n",
              "        text-align: right;\n",
              "    }\n",
              "</style>\n",
              "<table border=\"1\" class=\"dataframe\">\n",
              "  <thead>\n",
              "    <tr style=\"text-align: right;\">\n",
              "      <th></th>\n",
              "      <th>No</th>\n",
              "      <th>year</th>\n",
              "      <th>month</th>\n",
              "      <th>day</th>\n",
              "      <th>hour</th>\n",
              "      <th>PM2.5</th>\n",
              "      <th>PM10</th>\n",
              "      <th>SO2</th>\n",
              "      <th>NO2</th>\n",
              "      <th>CO</th>\n",
              "      <th>O3</th>\n",
              "      <th>TEMP</th>\n",
              "      <th>PRES</th>\n",
              "      <th>DEWP</th>\n",
              "      <th>RAIN</th>\n",
              "      <th>WSPM</th>\n",
              "      <th>wd_degrees</th>\n",
              "    </tr>\n",
              "  </thead>\n",
              "  <tbody>\n",
              "    <tr>\n",
              "      <th>count</th>\n",
              "      <td>35064.000000</td>\n",
              "      <td>35064.000000</td>\n",
              "      <td>35064.000000</td>\n",
              "      <td>35064.000000</td>\n",
              "      <td>35064.000000</td>\n",
              "      <td>35064.000000</td>\n",
              "      <td>35064.000000</td>\n",
              "      <td>35064.000000</td>\n",
              "      <td>35064.000000</td>\n",
              "      <td>35064.000000</td>\n",
              "      <td>35064.000000</td>\n",
              "      <td>35064.000000</td>\n",
              "      <td>35064.000000</td>\n",
              "      <td>35064.000000</td>\n",
              "      <td>35064.000000</td>\n",
              "      <td>35064.000000</td>\n",
              "      <td>35064.000000</td>\n",
              "    </tr>\n",
              "    <tr>\n",
              "      <th>mean</th>\n",
              "      <td>17532.500000</td>\n",
              "      <td>2014.662560</td>\n",
              "      <td>6.522930</td>\n",
              "      <td>15.729637</td>\n",
              "      <td>11.500000</td>\n",
              "      <td>70.986438</td>\n",
              "      <td>94.788575</td>\n",
              "      <td>14.943066</td>\n",
              "      <td>44.206153</td>\n",
              "      <td>1156.990246</td>\n",
              "      <td>57.976253</td>\n",
              "      <td>13.671605</td>\n",
              "      <td>1007.771151</td>\n",
              "      <td>1.486924</td>\n",
              "      <td>0.060293</td>\n",
              "      <td>1.854871</td>\n",
              "      <td>178.388732</td>\n",
              "    </tr>\n",
              "    <tr>\n",
              "      <th>std</th>\n",
              "      <td>10122.249256</td>\n",
              "      <td>1.177213</td>\n",
              "      <td>3.448752</td>\n",
              "      <td>8.800218</td>\n",
              "      <td>6.922285</td>\n",
              "      <td>72.397726</td>\n",
              "      <td>83.928515</td>\n",
              "      <td>21.012174</td>\n",
              "      <td>29.502709</td>\n",
              "      <td>1122.612745</td>\n",
              "      <td>54.258719</td>\n",
              "      <td>11.367457</td>\n",
              "      <td>10.226075</td>\n",
              "      <td>13.828895</td>\n",
              "      <td>0.752357</td>\n",
              "      <td>1.310748</td>\n",
              "      <td>119.152831</td>\n",
              "    </tr>\n",
              "    <tr>\n",
              "      <th>min</th>\n",
              "      <td>1.000000</td>\n",
              "      <td>2013.000000</td>\n",
              "      <td>1.000000</td>\n",
              "      <td>1.000000</td>\n",
              "      <td>0.000000</td>\n",
              "      <td>2.000000</td>\n",
              "      <td>2.000000</td>\n",
              "      <td>0.285600</td>\n",
              "      <td>1.847700</td>\n",
              "      <td>100.000000</td>\n",
              "      <td>0.214200</td>\n",
              "      <td>-16.600000</td>\n",
              "      <td>982.400000</td>\n",
              "      <td>-35.100000</td>\n",
              "      <td>0.000000</td>\n",
              "      <td>0.000000</td>\n",
              "      <td>0.000000</td>\n",
              "    </tr>\n",
              "    <tr>\n",
              "      <th>25%</th>\n",
              "      <td>8766.750000</td>\n",
              "      <td>2014.000000</td>\n",
              "      <td>4.000000</td>\n",
              "      <td>8.000000</td>\n",
              "      <td>5.750000</td>\n",
              "      <td>18.000000</td>\n",
              "      <td>34.000000</td>\n",
              "      <td>2.000000</td>\n",
              "      <td>22.000000</td>\n",
              "      <td>500.000000</td>\n",
              "      <td>16.000000</td>\n",
              "      <td>3.400000</td>\n",
              "      <td>999.300000</td>\n",
              "      <td>-10.300000</td>\n",
              "      <td>0.000000</td>\n",
              "      <td>1.000000</td>\n",
              "      <td>90.000000</td>\n",
              "    </tr>\n",
              "    <tr>\n",
              "      <th>50%</th>\n",
              "      <td>17532.500000</td>\n",
              "      <td>2015.000000</td>\n",
              "      <td>7.000000</td>\n",
              "      <td>16.000000</td>\n",
              "      <td>11.500000</td>\n",
              "      <td>46.000000</td>\n",
              "      <td>72.000000</td>\n",
              "      <td>7.000000</td>\n",
              "      <td>36.000000</td>\n",
              "      <td>800.000000</td>\n",
              "      <td>46.000000</td>\n",
              "      <td>14.600000</td>\n",
              "      <td>1007.400000</td>\n",
              "      <td>1.700000</td>\n",
              "      <td>0.000000</td>\n",
              "      <td>1.500000</td>\n",
              "      <td>157.500000</td>\n",
              "    </tr>\n",
              "    <tr>\n",
              "      <th>75%</th>\n",
              "      <td>26298.250000</td>\n",
              "      <td>2016.000000</td>\n",
              "      <td>10.000000</td>\n",
              "      <td>23.000000</td>\n",
              "      <td>17.250000</td>\n",
              "      <td>100.000000</td>\n",
              "      <td>131.000000</td>\n",
              "      <td>18.000000</td>\n",
              "      <td>60.000000</td>\n",
              "      <td>1400.000000</td>\n",
              "      <td>80.000000</td>\n",
              "      <td>23.300000</td>\n",
              "      <td>1016.000000</td>\n",
              "      <td>14.200000</td>\n",
              "      <td>0.000000</td>\n",
              "      <td>2.300000</td>\n",
              "      <td>292.500000</td>\n",
              "    </tr>\n",
              "    <tr>\n",
              "      <th>max</th>\n",
              "      <td>35064.000000</td>\n",
              "      <td>2017.000000</td>\n",
              "      <td>12.000000</td>\n",
              "      <td>31.000000</td>\n",
              "      <td>23.000000</td>\n",
              "      <td>882.000000</td>\n",
              "      <td>999.000000</td>\n",
              "      <td>310.000000</td>\n",
              "      <td>226.000000</td>\n",
              "      <td>10000.000000</td>\n",
              "      <td>429.000000</td>\n",
              "      <td>41.400000</td>\n",
              "      <td>1036.500000</td>\n",
              "      <td>27.200000</td>\n",
              "      <td>52.100000</td>\n",
              "      <td>10.000000</td>\n",
              "      <td>337.500000</td>\n",
              "    </tr>\n",
              "  </tbody>\n",
              "</table>\n",
              "</div>"
            ],
            "text/plain": [
              "                 No          year         month           day          hour  \\\n",
              "count  35064.000000  35064.000000  35064.000000  35064.000000  35064.000000   \n",
              "mean   17532.500000   2014.662560      6.522930     15.729637     11.500000   \n",
              "std    10122.249256      1.177213      3.448752      8.800218      6.922285   \n",
              "min        1.000000   2013.000000      1.000000      1.000000      0.000000   \n",
              "25%     8766.750000   2014.000000      4.000000      8.000000      5.750000   \n",
              "50%    17532.500000   2015.000000      7.000000     16.000000     11.500000   \n",
              "75%    26298.250000   2016.000000     10.000000     23.000000     17.250000   \n",
              "max    35064.000000   2017.000000     12.000000     31.000000     23.000000   \n",
              "\n",
              "              PM2.5          PM10           SO2           NO2            CO  \\\n",
              "count  35064.000000  35064.000000  35064.000000  35064.000000  35064.000000   \n",
              "mean      70.986438     94.788575     14.943066     44.206153   1156.990246   \n",
              "std       72.397726     83.928515     21.012174     29.502709   1122.612745   \n",
              "min        2.000000      2.000000      0.285600      1.847700    100.000000   \n",
              "25%       18.000000     34.000000      2.000000     22.000000    500.000000   \n",
              "50%       46.000000     72.000000      7.000000     36.000000    800.000000   \n",
              "75%      100.000000    131.000000     18.000000     60.000000   1400.000000   \n",
              "max      882.000000    999.000000    310.000000    226.000000  10000.000000   \n",
              "\n",
              "                 O3          TEMP          PRES          DEWP          RAIN  \\\n",
              "count  35064.000000  35064.000000  35064.000000  35064.000000  35064.000000   \n",
              "mean      57.976253     13.671605   1007.771151      1.486924      0.060293   \n",
              "std       54.258719     11.367457     10.226075     13.828895      0.752357   \n",
              "min        0.214200    -16.600000    982.400000    -35.100000      0.000000   \n",
              "25%       16.000000      3.400000    999.300000    -10.300000      0.000000   \n",
              "50%       46.000000     14.600000   1007.400000      1.700000      0.000000   \n",
              "75%       80.000000     23.300000   1016.000000     14.200000      0.000000   \n",
              "max      429.000000     41.400000   1036.500000     27.200000     52.100000   \n",
              "\n",
              "               WSPM    wd_degrees  \n",
              "count  35064.000000  35064.000000  \n",
              "mean       1.854871    178.388732  \n",
              "std        1.310748    119.152831  \n",
              "min        0.000000      0.000000  \n",
              "25%        1.000000     90.000000  \n",
              "50%        1.500000    157.500000  \n",
              "75%        2.300000    292.500000  \n",
              "max       10.000000    337.500000  "
            ]
          },
          "execution_count": 93,
          "metadata": {},
          "output_type": "execute_result"
        }
      ],
      "source": [
        "Changping_df.describe()"
      ]
    },
    {
      "cell_type": "markdown",
      "metadata": {
        "id": "vXjYe6LK8sRR"
      },
      "source": [
        "#### Dingling"
      ]
    },
    {
      "cell_type": "markdown",
      "metadata": {
        "id": "3pHwJUhX8sRR"
      },
      "source": [
        "Menghapus Duplikat"
      ]
    },
    {
      "cell_type": "code",
      "execution_count": 94,
      "metadata": {
        "colab": {
          "base_uri": "https://localhost:8080/"
        },
        "id": "-IzhEfAu8sRR",
        "outputId": "0c2611f9-a9c2-4a5f-b003-b41d8f355b48"
      },
      "outputs": [
        {
          "data": {
            "text/plain": [
              "np.int64(0)"
            ]
          },
          "execution_count": 94,
          "metadata": {},
          "output_type": "execute_result"
        }
      ],
      "source": [
        "Dingling_df.duplicated().sum()"
      ]
    },
    {
      "cell_type": "code",
      "execution_count": 95,
      "metadata": {
        "id": "oqQIOwvg8sRS"
      },
      "outputs": [],
      "source": [
        "Dingling_df.drop_duplicates(inplace=True)"
      ]
    },
    {
      "cell_type": "code",
      "execution_count": 96,
      "metadata": {
        "colab": {
          "base_uri": "https://localhost:8080/"
        },
        "id": "2tpiY0N18sRS",
        "outputId": "5cb8329f-f605-4198-ccb2-ff6470e5e386"
      },
      "outputs": [
        {
          "name": "stdout",
          "output_type": "stream",
          "text": [
            "Jumlah duplikasi:  0\n"
          ]
        }
      ],
      "source": [
        "print(\"Jumlah duplikasi: \", Dingling_df.duplicated().sum())"
      ]
    },
    {
      "cell_type": "code",
      "execution_count": 97,
      "metadata": {
        "colab": {
          "base_uri": "https://localhost:8080/",
          "height": 0
        },
        "collapsed": true,
        "id": "hVRwyT-98sRS",
        "outputId": "7a403442-9ef1-4e37-8189-d418eb33ba61"
      },
      "outputs": [
        {
          "data": {
            "text/plain": [
              "No               0\n",
              "year             0\n",
              "month            0\n",
              "day              0\n",
              "hour             0\n",
              "PM2.5          779\n",
              "PM10           656\n",
              "SO2            730\n",
              "NO2           1234\n",
              "CO            2012\n",
              "O3            1214\n",
              "TEMP            53\n",
              "PRES            50\n",
              "DEWP            53\n",
              "RAIN            51\n",
              "wd             140\n",
              "WSPM            43\n",
              "station          0\n",
              "wd_degrees     140\n",
              "dtype: int64"
            ]
          },
          "execution_count": 97,
          "metadata": {},
          "output_type": "execute_result"
        }
      ],
      "source": [
        "Dingling_df.isna().sum()"
      ]
    },
    {
      "cell_type": "markdown",
      "metadata": {
        "id": "iA6X31pM8sRS"
      },
      "source": [
        "Interpolating Missing Data"
      ]
    },
    {
      "cell_type": "code",
      "execution_count": 98,
      "metadata": {
        "id": "urCPMeeL8sRS"
      },
      "outputs": [],
      "source": [
        "# List of column names to check for missing values\n",
        "columns_to_check = ['PM2.5', 'PM10', 'SO2', 'NO2', 'CO', 'TEMP', 'DEWP', 'RAIN', 'WSPM', 'wd_degrees']\n",
        "\n",
        "# Loop through each column and filter rows with missing values\n",
        "for column in columns_to_check:\n",
        "  Dingling_df[Dingling_df[column].isna()]"
      ]
    },
    {
      "cell_type": "code",
      "execution_count": 99,
      "metadata": {
        "colab": {
          "base_uri": "https://localhost:8080/"
        },
        "collapsed": true,
        "id": "6vOr5W9b8sRS",
        "outputId": "b95fea29-83e8-4f9f-cff6-5b79fdbc2dce"
      },
      "outputs": [
        {
          "name": "stderr",
          "output_type": "stream",
          "text": [
            "C:\\Users\\Dell\\AppData\\Local\\Temp\\ipykernel_10372\\2302659795.py:6: FutureWarning: Series.interpolate with object dtype is deprecated and will raise in a future version. Call obj.infer_objects(copy=False) before interpolating instead.\n",
            "  Dingling_df[column] = Dingling_df[column].interpolate(method=\"linear\")\n"
          ]
        }
      ],
      "source": [
        "# Iterate over each column and its corresponding count of NaN values\n",
        "missing_values = Dingling_df.isna().sum()\n",
        "\n",
        "for column, na_count in missing_values.items():\n",
        "    if na_count > 0:\n",
        "        Dingling_df[column] = Dingling_df[column].interpolate(method=\"linear\")"
      ]
    },
    {
      "cell_type": "code",
      "execution_count": 100,
      "metadata": {
        "collapsed": true,
        "id": "XHjv7NZX8sRT"
      },
      "outputs": [],
      "source": [
        "degrees_to_wind = {v: k for k, v in wind_direction_map.items()}\n",
        "\n",
        "# Apply the function to convert interpolated degrees back to nearest wind direction\n",
        "Dingling_df['wd_interpolated'] = Dingling_df['wd_degrees'].apply(find_nearest_direction)"
      ]
    },
    {
      "cell_type": "markdown",
      "metadata": {
        "id": "6tfE-yhP8sRT"
      },
      "source": [
        "Hasil"
      ]
    },
    {
      "cell_type": "code",
      "execution_count": 101,
      "metadata": {
        "colab": {
          "base_uri": "https://localhost:8080/",
          "height": 0
        },
        "collapsed": true,
        "id": "LLl-h7Mh8sRT",
        "outputId": "1a6f666c-0705-4e14-dd87-1a02abeb3a73"
      },
      "outputs": [
        {
          "data": {
            "text/plain": [
              "No                   0\n",
              "year                 0\n",
              "month                0\n",
              "day                  0\n",
              "hour                 0\n",
              "PM2.5                0\n",
              "PM10                 0\n",
              "SO2                  0\n",
              "NO2                  2\n",
              "CO                   0\n",
              "O3                   0\n",
              "TEMP                 0\n",
              "PRES                 0\n",
              "DEWP                 0\n",
              "RAIN                 0\n",
              "wd                 140\n",
              "WSPM                 0\n",
              "station              0\n",
              "wd_degrees           0\n",
              "wd_interpolated      0\n",
              "dtype: int64"
            ]
          },
          "execution_count": 101,
          "metadata": {},
          "output_type": "execute_result"
        }
      ],
      "source": [
        "Dingling_df.isna().sum()"
      ]
    },
    {
      "cell_type": "code",
      "execution_count": 102,
      "metadata": {
        "colab": {
          "base_uri": "https://localhost:8080/",
          "height": 0
        },
        "id": "s5CGL9xq8sRT",
        "outputId": "d20f563b-95f1-4402-aad3-edf97e2999d7"
      },
      "outputs": [
        {
          "data": {
            "text/html": [
              "<div>\n",
              "<style scoped>\n",
              "    .dataframe tbody tr th:only-of-type {\n",
              "        vertical-align: middle;\n",
              "    }\n",
              "\n",
              "    .dataframe tbody tr th {\n",
              "        vertical-align: top;\n",
              "    }\n",
              "\n",
              "    .dataframe thead th {\n",
              "        text-align: right;\n",
              "    }\n",
              "</style>\n",
              "<table border=\"1\" class=\"dataframe\">\n",
              "  <thead>\n",
              "    <tr style=\"text-align: right;\">\n",
              "      <th></th>\n",
              "      <th>No</th>\n",
              "      <th>year</th>\n",
              "      <th>month</th>\n",
              "      <th>day</th>\n",
              "      <th>hour</th>\n",
              "      <th>PM2.5</th>\n",
              "      <th>PM10</th>\n",
              "      <th>SO2</th>\n",
              "      <th>NO2</th>\n",
              "      <th>CO</th>\n",
              "      <th>O3</th>\n",
              "      <th>TEMP</th>\n",
              "      <th>PRES</th>\n",
              "      <th>DEWP</th>\n",
              "      <th>RAIN</th>\n",
              "      <th>WSPM</th>\n",
              "      <th>wd_degrees</th>\n",
              "    </tr>\n",
              "  </thead>\n",
              "  <tbody>\n",
              "    <tr>\n",
              "      <th>count</th>\n",
              "      <td>35064.000000</td>\n",
              "      <td>35064.000000</td>\n",
              "      <td>35064.000000</td>\n",
              "      <td>35064.000000</td>\n",
              "      <td>35064.000000</td>\n",
              "      <td>35064.000000</td>\n",
              "      <td>35064.000000</td>\n",
              "      <td>35064.000000</td>\n",
              "      <td>35062.000000</td>\n",
              "      <td>35064.000000</td>\n",
              "      <td>35064.000000</td>\n",
              "      <td>35064.000000</td>\n",
              "      <td>35064.000000</td>\n",
              "      <td>35064.000000</td>\n",
              "      <td>35064.000000</td>\n",
              "      <td>35064.000000</td>\n",
              "      <td>35064.000000</td>\n",
              "    </tr>\n",
              "    <tr>\n",
              "      <th>mean</th>\n",
              "      <td>17532.500000</td>\n",
              "      <td>2014.662560</td>\n",
              "      <td>6.522930</td>\n",
              "      <td>15.729637</td>\n",
              "      <td>11.500000</td>\n",
              "      <td>66.845557</td>\n",
              "      <td>84.113713</td>\n",
              "      <td>11.797849</td>\n",
              "      <td>27.305033</td>\n",
              "      <td>925.111838</td>\n",
              "      <td>70.530792</td>\n",
              "      <td>13.671605</td>\n",
              "      <td>1007.771151</td>\n",
              "      <td>1.486924</td>\n",
              "      <td>0.060293</td>\n",
              "      <td>1.854871</td>\n",
              "      <td>178.388732</td>\n",
              "    </tr>\n",
              "    <tr>\n",
              "      <th>std</th>\n",
              "      <td>10122.249256</td>\n",
              "      <td>1.177213</td>\n",
              "      <td>3.448752</td>\n",
              "      <td>8.800218</td>\n",
              "      <td>6.922285</td>\n",
              "      <td>73.445093</td>\n",
              "      <td>80.242081</td>\n",
              "      <td>15.652372</td>\n",
              "      <td>26.296890</td>\n",
              "      <td>894.687311</td>\n",
              "      <td>58.624617</td>\n",
              "      <td>11.367457</td>\n",
              "      <td>10.226075</td>\n",
              "      <td>13.828895</td>\n",
              "      <td>0.752357</td>\n",
              "      <td>1.310748</td>\n",
              "      <td>119.152831</td>\n",
              "    </tr>\n",
              "    <tr>\n",
              "      <th>min</th>\n",
              "      <td>1.000000</td>\n",
              "      <td>2013.000000</td>\n",
              "      <td>1.000000</td>\n",
              "      <td>1.000000</td>\n",
              "      <td>0.000000</td>\n",
              "      <td>3.000000</td>\n",
              "      <td>2.000000</td>\n",
              "      <td>0.285600</td>\n",
              "      <td>1.026500</td>\n",
              "      <td>100.000000</td>\n",
              "      <td>0.214200</td>\n",
              "      <td>-16.600000</td>\n",
              "      <td>982.400000</td>\n",
              "      <td>-35.100000</td>\n",
              "      <td>0.000000</td>\n",
              "      <td>0.000000</td>\n",
              "      <td>0.000000</td>\n",
              "    </tr>\n",
              "    <tr>\n",
              "      <th>25%</th>\n",
              "      <td>8766.750000</td>\n",
              "      <td>2014.000000</td>\n",
              "      <td>4.000000</td>\n",
              "      <td>8.000000</td>\n",
              "      <td>5.750000</td>\n",
              "      <td>14.000000</td>\n",
              "      <td>26.000000</td>\n",
              "      <td>2.000000</td>\n",
              "      <td>8.000000</td>\n",
              "      <td>300.000000</td>\n",
              "      <td>31.000000</td>\n",
              "      <td>3.400000</td>\n",
              "      <td>999.300000</td>\n",
              "      <td>-10.300000</td>\n",
              "      <td>0.000000</td>\n",
              "      <td>1.000000</td>\n",
              "      <td>90.000000</td>\n",
              "    </tr>\n",
              "    <tr>\n",
              "      <th>50%</th>\n",
              "      <td>17532.500000</td>\n",
              "      <td>2015.000000</td>\n",
              "      <td>7.000000</td>\n",
              "      <td>16.000000</td>\n",
              "      <td>11.500000</td>\n",
              "      <td>41.000000</td>\n",
              "      <td>60.000000</td>\n",
              "      <td>5.000000</td>\n",
              "      <td>19.000000</td>\n",
              "      <td>600.000000</td>\n",
              "      <td>62.000000</td>\n",
              "      <td>14.600000</td>\n",
              "      <td>1007.400000</td>\n",
              "      <td>1.700000</td>\n",
              "      <td>0.000000</td>\n",
              "      <td>1.500000</td>\n",
              "      <td>157.500000</td>\n",
              "    </tr>\n",
              "    <tr>\n",
              "      <th>75%</th>\n",
              "      <td>26298.250000</td>\n",
              "      <td>2016.000000</td>\n",
              "      <td>10.000000</td>\n",
              "      <td>23.000000</td>\n",
              "      <td>17.250000</td>\n",
              "      <td>94.000000</td>\n",
              "      <td>118.000000</td>\n",
              "      <td>15.000000</td>\n",
              "      <td>37.209870</td>\n",
              "      <td>1200.000000</td>\n",
              "      <td>91.000000</td>\n",
              "      <td>23.300000</td>\n",
              "      <td>1016.000000</td>\n",
              "      <td>14.200000</td>\n",
              "      <td>0.000000</td>\n",
              "      <td>2.300000</td>\n",
              "      <td>292.500000</td>\n",
              "    </tr>\n",
              "    <tr>\n",
              "      <th>max</th>\n",
              "      <td>35064.000000</td>\n",
              "      <td>2017.000000</td>\n",
              "      <td>12.000000</td>\n",
              "      <td>31.000000</td>\n",
              "      <td>23.000000</td>\n",
              "      <td>881.000000</td>\n",
              "      <td>905.000000</td>\n",
              "      <td>156.000000</td>\n",
              "      <td>205.000000</td>\n",
              "      <td>10000.000000</td>\n",
              "      <td>500.000000</td>\n",
              "      <td>41.400000</td>\n",
              "      <td>1036.500000</td>\n",
              "      <td>27.200000</td>\n",
              "      <td>52.100000</td>\n",
              "      <td>10.000000</td>\n",
              "      <td>337.500000</td>\n",
              "    </tr>\n",
              "  </tbody>\n",
              "</table>\n",
              "</div>"
            ],
            "text/plain": [
              "                 No          year         month           day          hour  \\\n",
              "count  35064.000000  35064.000000  35064.000000  35064.000000  35064.000000   \n",
              "mean   17532.500000   2014.662560      6.522930     15.729637     11.500000   \n",
              "std    10122.249256      1.177213      3.448752      8.800218      6.922285   \n",
              "min        1.000000   2013.000000      1.000000      1.000000      0.000000   \n",
              "25%     8766.750000   2014.000000      4.000000      8.000000      5.750000   \n",
              "50%    17532.500000   2015.000000      7.000000     16.000000     11.500000   \n",
              "75%    26298.250000   2016.000000     10.000000     23.000000     17.250000   \n",
              "max    35064.000000   2017.000000     12.000000     31.000000     23.000000   \n",
              "\n",
              "              PM2.5          PM10           SO2           NO2            CO  \\\n",
              "count  35064.000000  35064.000000  35064.000000  35062.000000  35064.000000   \n",
              "mean      66.845557     84.113713     11.797849     27.305033    925.111838   \n",
              "std       73.445093     80.242081     15.652372     26.296890    894.687311   \n",
              "min        3.000000      2.000000      0.285600      1.026500    100.000000   \n",
              "25%       14.000000     26.000000      2.000000      8.000000    300.000000   \n",
              "50%       41.000000     60.000000      5.000000     19.000000    600.000000   \n",
              "75%       94.000000    118.000000     15.000000     37.209870   1200.000000   \n",
              "max      881.000000    905.000000    156.000000    205.000000  10000.000000   \n",
              "\n",
              "                 O3          TEMP          PRES          DEWP          RAIN  \\\n",
              "count  35064.000000  35064.000000  35064.000000  35064.000000  35064.000000   \n",
              "mean      70.530792     13.671605   1007.771151      1.486924      0.060293   \n",
              "std       58.624617     11.367457     10.226075     13.828895      0.752357   \n",
              "min        0.214200    -16.600000    982.400000    -35.100000      0.000000   \n",
              "25%       31.000000      3.400000    999.300000    -10.300000      0.000000   \n",
              "50%       62.000000     14.600000   1007.400000      1.700000      0.000000   \n",
              "75%       91.000000     23.300000   1016.000000     14.200000      0.000000   \n",
              "max      500.000000     41.400000   1036.500000     27.200000     52.100000   \n",
              "\n",
              "               WSPM    wd_degrees  \n",
              "count  35064.000000  35064.000000  \n",
              "mean       1.854871    178.388732  \n",
              "std        1.310748    119.152831  \n",
              "min        0.000000      0.000000  \n",
              "25%        1.000000     90.000000  \n",
              "50%        1.500000    157.500000  \n",
              "75%        2.300000    292.500000  \n",
              "max       10.000000    337.500000  "
            ]
          },
          "execution_count": 102,
          "metadata": {},
          "output_type": "execute_result"
        }
      ],
      "source": [
        "Dingling_df.describe()"
      ]
    },
    {
      "cell_type": "markdown",
      "metadata": {
        "id": "LWYE0L5w8tLp"
      },
      "source": [
        "#### Dongsi"
      ]
    },
    {
      "cell_type": "markdown",
      "metadata": {
        "id": "gGwd2raE8tLq"
      },
      "source": [
        "Menghapus Duplikat"
      ]
    },
    {
      "cell_type": "code",
      "execution_count": 103,
      "metadata": {
        "colab": {
          "base_uri": "https://localhost:8080/"
        },
        "id": "PZ1TVx4D8tLq",
        "outputId": "4cef0580-f803-4c0c-cb7a-2926d5a18e30"
      },
      "outputs": [
        {
          "data": {
            "text/plain": [
              "np.int64(0)"
            ]
          },
          "execution_count": 103,
          "metadata": {},
          "output_type": "execute_result"
        }
      ],
      "source": [
        "Dongsi_df.duplicated().sum()"
      ]
    },
    {
      "cell_type": "code",
      "execution_count": 104,
      "metadata": {
        "id": "Hg5D5yjm8tLq"
      },
      "outputs": [],
      "source": [
        "Dongsi_df.drop_duplicates(inplace=True)"
      ]
    },
    {
      "cell_type": "code",
      "execution_count": 105,
      "metadata": {
        "colab": {
          "base_uri": "https://localhost:8080/"
        },
        "id": "Nf_iXIxZ8tLq",
        "outputId": "817c7b46-d487-4a4c-f132-38a85c647260"
      },
      "outputs": [
        {
          "name": "stdout",
          "output_type": "stream",
          "text": [
            "Jumlah duplikasi:  0\n"
          ]
        }
      ],
      "source": [
        "print(\"Jumlah duplikasi: \", Dongsi_df.duplicated().sum())"
      ]
    },
    {
      "cell_type": "code",
      "execution_count": 106,
      "metadata": {
        "colab": {
          "base_uri": "https://localhost:8080/",
          "height": 0
        },
        "collapsed": true,
        "id": "BYKj3AzL8tLq",
        "outputId": "dcdd92c0-a410-4119-b39c-f7afb2dd5bb7"
      },
      "outputs": [
        {
          "data": {
            "text/plain": [
              "No               0\n",
              "year             0\n",
              "month            0\n",
              "day              0\n",
              "hour             0\n",
              "PM2.5          750\n",
              "PM10           553\n",
              "SO2            663\n",
              "NO2           1601\n",
              "CO            3197\n",
              "O3             664\n",
              "TEMP            20\n",
              "PRES            20\n",
              "DEWP            20\n",
              "RAIN            20\n",
              "wd              78\n",
              "WSPM            14\n",
              "station          0\n",
              "wd_degrees      78\n",
              "dtype: int64"
            ]
          },
          "execution_count": 106,
          "metadata": {},
          "output_type": "execute_result"
        }
      ],
      "source": [
        "Dongsi_df.isna().sum()"
      ]
    },
    {
      "cell_type": "markdown",
      "metadata": {
        "id": "l6uXkoRz8tLr"
      },
      "source": [
        "Interpolating Missing Data"
      ]
    },
    {
      "cell_type": "code",
      "execution_count": 107,
      "metadata": {
        "id": "amYV0Cnc8tLr"
      },
      "outputs": [],
      "source": [
        "# List of column names to check for missing values\n",
        "columns_to_check = ['PM2.5', 'PM10', 'SO2', 'NO2', 'CO', 'TEMP', 'DEWP', 'RAIN', 'WSPM', 'wd_degrees']\n",
        "\n",
        "# Loop through each column and filter rows with missing values\n",
        "for column in columns_to_check:\n",
        "  Dongsi_df[Dongsi_df[column].isna()]"
      ]
    },
    {
      "cell_type": "code",
      "execution_count": 108,
      "metadata": {
        "colab": {
          "base_uri": "https://localhost:8080/"
        },
        "collapsed": true,
        "id": "i_6Wqe378tLr",
        "outputId": "fbdc7349-db1b-471f-de90-21f4f3b4571d"
      },
      "outputs": [
        {
          "name": "stderr",
          "output_type": "stream",
          "text": [
            "C:\\Users\\Dell\\AppData\\Local\\Temp\\ipykernel_10372\\1362083512.py:6: FutureWarning: Series.interpolate with object dtype is deprecated and will raise in a future version. Call obj.infer_objects(copy=False) before interpolating instead.\n",
            "  Dongsi_df[column] = Dongsi_df[column].interpolate(method=\"linear\")\n"
          ]
        }
      ],
      "source": [
        "# Iterate over each column and its corresponding count of NaN values\n",
        "missing_values = Dongsi_df.isna().sum()\n",
        "\n",
        "for column, na_count in missing_values.items():\n",
        "    if na_count > 0:\n",
        "        Dongsi_df[column] = Dongsi_df[column].interpolate(method=\"linear\")"
      ]
    },
    {
      "cell_type": "code",
      "execution_count": 109,
      "metadata": {
        "collapsed": true,
        "id": "-uq7H1UF8tLr"
      },
      "outputs": [],
      "source": [
        "degrees_to_wind = {v: k for k, v in wind_direction_map.items()}\n",
        "\n",
        "# Apply the function to convert interpolated degrees back to nearest wind direction\n",
        "Dongsi_df['wd_interpolated'] = Dongsi_df['wd_degrees'].apply(find_nearest_direction)"
      ]
    },
    {
      "cell_type": "markdown",
      "metadata": {
        "id": "Xx-zLmJb8tLr"
      },
      "source": [
        "Hasil"
      ]
    },
    {
      "cell_type": "code",
      "execution_count": 110,
      "metadata": {
        "colab": {
          "base_uri": "https://localhost:8080/",
          "height": 0
        },
        "collapsed": true,
        "id": "vq3JEyn88tLr",
        "outputId": "69e50fa0-6851-4eec-fd20-e8fb988e020c"
      },
      "outputs": [
        {
          "data": {
            "text/plain": [
              "No                  0\n",
              "year                0\n",
              "month               0\n",
              "day                 0\n",
              "hour                0\n",
              "PM2.5               0\n",
              "PM10                0\n",
              "SO2                 0\n",
              "NO2                 0\n",
              "CO                  0\n",
              "O3                  0\n",
              "TEMP                0\n",
              "PRES                0\n",
              "DEWP                0\n",
              "RAIN                0\n",
              "wd                 78\n",
              "WSPM                0\n",
              "station             0\n",
              "wd_degrees          0\n",
              "wd_interpolated     0\n",
              "dtype: int64"
            ]
          },
          "execution_count": 110,
          "metadata": {},
          "output_type": "execute_result"
        }
      ],
      "source": [
        "Dongsi_df.isna().sum()"
      ]
    },
    {
      "cell_type": "code",
      "execution_count": 111,
      "metadata": {
        "colab": {
          "base_uri": "https://localhost:8080/",
          "height": 0
        },
        "id": "ehDOBjk48tLr",
        "outputId": "cf5eeaca-f51c-4336-bd55-df4f412ce5a5"
      },
      "outputs": [
        {
          "data": {
            "text/html": [
              "<div>\n",
              "<style scoped>\n",
              "    .dataframe tbody tr th:only-of-type {\n",
              "        vertical-align: middle;\n",
              "    }\n",
              "\n",
              "    .dataframe tbody tr th {\n",
              "        vertical-align: top;\n",
              "    }\n",
              "\n",
              "    .dataframe thead th {\n",
              "        text-align: right;\n",
              "    }\n",
              "</style>\n",
              "<table border=\"1\" class=\"dataframe\">\n",
              "  <thead>\n",
              "    <tr style=\"text-align: right;\">\n",
              "      <th></th>\n",
              "      <th>No</th>\n",
              "      <th>year</th>\n",
              "      <th>month</th>\n",
              "      <th>day</th>\n",
              "      <th>hour</th>\n",
              "      <th>PM2.5</th>\n",
              "      <th>PM10</th>\n",
              "      <th>SO2</th>\n",
              "      <th>NO2</th>\n",
              "      <th>CO</th>\n",
              "      <th>O3</th>\n",
              "      <th>TEMP</th>\n",
              "      <th>PRES</th>\n",
              "      <th>DEWP</th>\n",
              "      <th>RAIN</th>\n",
              "      <th>WSPM</th>\n",
              "      <th>wd_degrees</th>\n",
              "    </tr>\n",
              "  </thead>\n",
              "  <tbody>\n",
              "    <tr>\n",
              "      <th>count</th>\n",
              "      <td>35064.000000</td>\n",
              "      <td>35064.000000</td>\n",
              "      <td>35064.000000</td>\n",
              "      <td>35064.000000</td>\n",
              "      <td>35064.000000</td>\n",
              "      <td>35064.000000</td>\n",
              "      <td>35064.000000</td>\n",
              "      <td>35064.000000</td>\n",
              "      <td>35064.000000</td>\n",
              "      <td>35064.000000</td>\n",
              "      <td>35064.000000</td>\n",
              "      <td>35064.000000</td>\n",
              "      <td>35064.000000</td>\n",
              "      <td>35064.000000</td>\n",
              "      <td>35064.000000</td>\n",
              "      <td>35064.000000</td>\n",
              "      <td>35064.000000</td>\n",
              "    </tr>\n",
              "    <tr>\n",
              "      <th>mean</th>\n",
              "      <td>17532.500000</td>\n",
              "      <td>2014.662560</td>\n",
              "      <td>6.522930</td>\n",
              "      <td>15.729637</td>\n",
              "      <td>11.500000</td>\n",
              "      <td>86.144243</td>\n",
              "      <td>110.347617</td>\n",
              "      <td>18.506142</td>\n",
              "      <td>53.953078</td>\n",
              "      <td>1331.913045</td>\n",
              "      <td>57.700357</td>\n",
              "      <td>13.668250</td>\n",
              "      <td>1012.551871</td>\n",
              "      <td>2.445126</td>\n",
              "      <td>0.063983</td>\n",
              "      <td>1.860815</td>\n",
              "      <td>149.774448</td>\n",
              "    </tr>\n",
              "    <tr>\n",
              "      <th>std</th>\n",
              "      <td>10122.249256</td>\n",
              "      <td>1.177213</td>\n",
              "      <td>3.448752</td>\n",
              "      <td>8.800218</td>\n",
              "      <td>6.922285</td>\n",
              "      <td>86.260246</td>\n",
              "      <td>98.239918</td>\n",
              "      <td>22.954756</td>\n",
              "      <td>34.213245</td>\n",
              "      <td>1169.035307</td>\n",
              "      <td>58.327178</td>\n",
              "      <td>11.459735</td>\n",
              "      <td>10.266471</td>\n",
              "      <td>13.811939</td>\n",
              "      <td>0.786059</td>\n",
              "      <td>1.280427</td>\n",
              "      <td>101.609706</td>\n",
              "    </tr>\n",
              "    <tr>\n",
              "      <th>min</th>\n",
              "      <td>1.000000</td>\n",
              "      <td>2013.000000</td>\n",
              "      <td>1.000000</td>\n",
              "      <td>1.000000</td>\n",
              "      <td>0.000000</td>\n",
              "      <td>3.000000</td>\n",
              "      <td>2.000000</td>\n",
              "      <td>0.285600</td>\n",
              "      <td>2.000000</td>\n",
              "      <td>100.000000</td>\n",
              "      <td>0.642600</td>\n",
              "      <td>-16.800000</td>\n",
              "      <td>987.100000</td>\n",
              "      <td>-35.300000</td>\n",
              "      <td>0.000000</td>\n",
              "      <td>0.000000</td>\n",
              "      <td>0.000000</td>\n",
              "    </tr>\n",
              "    <tr>\n",
              "      <th>25%</th>\n",
              "      <td>8766.750000</td>\n",
              "      <td>2014.000000</td>\n",
              "      <td>4.000000</td>\n",
              "      <td>8.000000</td>\n",
              "      <td>5.750000</td>\n",
              "      <td>23.000000</td>\n",
              "      <td>38.000000</td>\n",
              "      <td>3.712800</td>\n",
              "      <td>27.000000</td>\n",
              "      <td>600.000000</td>\n",
              "      <td>13.000000</td>\n",
              "      <td>3.100000</td>\n",
              "      <td>1004.000000</td>\n",
              "      <td>-8.800000</td>\n",
              "      <td>0.000000</td>\n",
              "      <td>1.000000</td>\n",
              "      <td>67.500000</td>\n",
              "    </tr>\n",
              "    <tr>\n",
              "      <th>50%</th>\n",
              "      <td>17532.500000</td>\n",
              "      <td>2015.000000</td>\n",
              "      <td>7.000000</td>\n",
              "      <td>16.000000</td>\n",
              "      <td>11.500000</td>\n",
              "      <td>61.000000</td>\n",
              "      <td>86.000000</td>\n",
              "      <td>10.000000</td>\n",
              "      <td>47.000000</td>\n",
              "      <td>1000.000000</td>\n",
              "      <td>45.000000</td>\n",
              "      <td>14.600000</td>\n",
              "      <td>1012.200000</td>\n",
              "      <td>3.000000</td>\n",
              "      <td>0.000000</td>\n",
              "      <td>1.500000</td>\n",
              "      <td>135.000000</td>\n",
              "    </tr>\n",
              "    <tr>\n",
              "      <th>75%</th>\n",
              "      <td>26298.250000</td>\n",
              "      <td>2016.000000</td>\n",
              "      <td>10.000000</td>\n",
              "      <td>23.000000</td>\n",
              "      <td>17.250000</td>\n",
              "      <td>119.000000</td>\n",
              "      <td>150.000000</td>\n",
              "      <td>24.000000</td>\n",
              "      <td>74.000000</td>\n",
              "      <td>1700.000000</td>\n",
              "      <td>82.000000</td>\n",
              "      <td>23.500000</td>\n",
              "      <td>1020.900000</td>\n",
              "      <td>15.000000</td>\n",
              "      <td>0.000000</td>\n",
              "      <td>2.400000</td>\n",
              "      <td>225.000000</td>\n",
              "    </tr>\n",
              "    <tr>\n",
              "      <th>max</th>\n",
              "      <td>35064.000000</td>\n",
              "      <td>2017.000000</td>\n",
              "      <td>12.000000</td>\n",
              "      <td>31.000000</td>\n",
              "      <td>23.000000</td>\n",
              "      <td>737.000000</td>\n",
              "      <td>955.000000</td>\n",
              "      <td>300.000000</td>\n",
              "      <td>258.000000</td>\n",
              "      <td>10000.000000</td>\n",
              "      <td>1071.000000</td>\n",
              "      <td>41.100000</td>\n",
              "      <td>1042.000000</td>\n",
              "      <td>28.800000</td>\n",
              "      <td>46.400000</td>\n",
              "      <td>10.500000</td>\n",
              "      <td>337.500000</td>\n",
              "    </tr>\n",
              "  </tbody>\n",
              "</table>\n",
              "</div>"
            ],
            "text/plain": [
              "                 No          year         month           day          hour  \\\n",
              "count  35064.000000  35064.000000  35064.000000  35064.000000  35064.000000   \n",
              "mean   17532.500000   2014.662560      6.522930     15.729637     11.500000   \n",
              "std    10122.249256      1.177213      3.448752      8.800218      6.922285   \n",
              "min        1.000000   2013.000000      1.000000      1.000000      0.000000   \n",
              "25%     8766.750000   2014.000000      4.000000      8.000000      5.750000   \n",
              "50%    17532.500000   2015.000000      7.000000     16.000000     11.500000   \n",
              "75%    26298.250000   2016.000000     10.000000     23.000000     17.250000   \n",
              "max    35064.000000   2017.000000     12.000000     31.000000     23.000000   \n",
              "\n",
              "              PM2.5          PM10           SO2           NO2            CO  \\\n",
              "count  35064.000000  35064.000000  35064.000000  35064.000000  35064.000000   \n",
              "mean      86.144243    110.347617     18.506142     53.953078   1331.913045   \n",
              "std       86.260246     98.239918     22.954756     34.213245   1169.035307   \n",
              "min        3.000000      2.000000      0.285600      2.000000    100.000000   \n",
              "25%       23.000000     38.000000      3.712800     27.000000    600.000000   \n",
              "50%       61.000000     86.000000     10.000000     47.000000   1000.000000   \n",
              "75%      119.000000    150.000000     24.000000     74.000000   1700.000000   \n",
              "max      737.000000    955.000000    300.000000    258.000000  10000.000000   \n",
              "\n",
              "                 O3          TEMP          PRES          DEWP          RAIN  \\\n",
              "count  35064.000000  35064.000000  35064.000000  35064.000000  35064.000000   \n",
              "mean      57.700357     13.668250   1012.551871      2.445126      0.063983   \n",
              "std       58.327178     11.459735     10.266471     13.811939      0.786059   \n",
              "min        0.642600    -16.800000    987.100000    -35.300000      0.000000   \n",
              "25%       13.000000      3.100000   1004.000000     -8.800000      0.000000   \n",
              "50%       45.000000     14.600000   1012.200000      3.000000      0.000000   \n",
              "75%       82.000000     23.500000   1020.900000     15.000000      0.000000   \n",
              "max     1071.000000     41.100000   1042.000000     28.800000     46.400000   \n",
              "\n",
              "               WSPM    wd_degrees  \n",
              "count  35064.000000  35064.000000  \n",
              "mean       1.860815    149.774448  \n",
              "std        1.280427    101.609706  \n",
              "min        0.000000      0.000000  \n",
              "25%        1.000000     67.500000  \n",
              "50%        1.500000    135.000000  \n",
              "75%        2.400000    225.000000  \n",
              "max       10.500000    337.500000  "
            ]
          },
          "execution_count": 111,
          "metadata": {},
          "output_type": "execute_result"
        }
      ],
      "source": [
        "Dongsi_df.describe()"
      ]
    },
    {
      "cell_type": "markdown",
      "metadata": {
        "id": "SXKblKXq8t-A"
      },
      "source": [
        "#### Guanyuan"
      ]
    },
    {
      "cell_type": "markdown",
      "metadata": {
        "id": "9k8J2aGt8t-B"
      },
      "source": [
        "Menghapus Duplikat"
      ]
    },
    {
      "cell_type": "code",
      "execution_count": 112,
      "metadata": {
        "colab": {
          "base_uri": "https://localhost:8080/"
        },
        "id": "s_jYt04Q8t-B",
        "outputId": "96c41056-fb67-4403-de54-89caa721837e"
      },
      "outputs": [
        {
          "data": {
            "text/plain": [
              "np.int64(0)"
            ]
          },
          "execution_count": 112,
          "metadata": {},
          "output_type": "execute_result"
        }
      ],
      "source": [
        "Guanyuan_df.duplicated().sum()"
      ]
    },
    {
      "cell_type": "code",
      "execution_count": 113,
      "metadata": {
        "id": "BjocI5h98t-C"
      },
      "outputs": [],
      "source": [
        "Guanyuan_df.drop_duplicates(inplace=True)"
      ]
    },
    {
      "cell_type": "code",
      "execution_count": 114,
      "metadata": {
        "colab": {
          "base_uri": "https://localhost:8080/"
        },
        "id": "9PitJ-Jn8t-C",
        "outputId": "1c4c552a-6f11-4159-d85d-d112220539f9"
      },
      "outputs": [
        {
          "name": "stdout",
          "output_type": "stream",
          "text": [
            "Jumlah duplikasi:  0\n"
          ]
        }
      ],
      "source": [
        "print(\"Jumlah duplikasi: \", Guanyuan_df.duplicated().sum())"
      ]
    },
    {
      "cell_type": "code",
      "execution_count": 115,
      "metadata": {
        "colab": {
          "base_uri": "https://localhost:8080/",
          "height": 0
        },
        "collapsed": true,
        "id": "-OIMrQwz8t-C",
        "outputId": "dfd66479-5d7c-40f3-a272-a60d168e6234"
      },
      "outputs": [
        {
          "data": {
            "text/plain": [
              "No               0\n",
              "year             0\n",
              "month            0\n",
              "day              0\n",
              "hour             0\n",
              "PM2.5          616\n",
              "PM10           429\n",
              "SO2            474\n",
              "NO2            659\n",
              "CO            1753\n",
              "O3            1173\n",
              "TEMP            20\n",
              "PRES            20\n",
              "DEWP            20\n",
              "RAIN            20\n",
              "wd              81\n",
              "WSPM            14\n",
              "station          0\n",
              "wd_degrees      81\n",
              "dtype: int64"
            ]
          },
          "execution_count": 115,
          "metadata": {},
          "output_type": "execute_result"
        }
      ],
      "source": [
        "Guanyuan_df.isna().sum()"
      ]
    },
    {
      "cell_type": "markdown",
      "metadata": {
        "id": "ZfMkqFAs8t-C"
      },
      "source": [
        "Interpolating Missing Data"
      ]
    },
    {
      "cell_type": "code",
      "execution_count": 116,
      "metadata": {
        "id": "V2WTQQwO8t-C"
      },
      "outputs": [],
      "source": [
        "# List of column names to check for missing values\n",
        "columns_to_check = ['PM2.5', 'PM10', 'SO2', 'NO2', 'CO', 'TEMP', 'DEWP', 'RAIN', 'WSPM', 'wd_degrees']\n",
        "\n",
        "# Loop through each column and filter rows with missing values\n",
        "for column in columns_to_check:\n",
        "  Guanyuan_df[Guanyuan_df[column].isna()]"
      ]
    },
    {
      "cell_type": "code",
      "execution_count": 117,
      "metadata": {
        "colab": {
          "base_uri": "https://localhost:8080/"
        },
        "collapsed": true,
        "id": "I-CYzfeG8t-C",
        "outputId": "437e5365-86c0-47f7-c2ed-dd2d91eba7fb"
      },
      "outputs": [
        {
          "name": "stderr",
          "output_type": "stream",
          "text": [
            "C:\\Users\\Dell\\AppData\\Local\\Temp\\ipykernel_10372\\4020826481.py:6: FutureWarning: Series.interpolate with object dtype is deprecated and will raise in a future version. Call obj.infer_objects(copy=False) before interpolating instead.\n",
            "  Guanyuan_df[column] = Guanyuan_df[column].interpolate(method=\"linear\")\n"
          ]
        }
      ],
      "source": [
        "# Iterate over each column and its corresponding count of NaN values\n",
        "missing_values = Guanyuan_df.isna().sum()\n",
        "\n",
        "for column, na_count in missing_values.items():\n",
        "    if na_count > 0:\n",
        "        Guanyuan_df[column] = Guanyuan_df[column].interpolate(method=\"linear\")"
      ]
    },
    {
      "cell_type": "code",
      "execution_count": 118,
      "metadata": {
        "collapsed": true,
        "id": "j0NT4KQ88t-C"
      },
      "outputs": [],
      "source": [
        "degrees_to_wind = {v: k for k, v in wind_direction_map.items()}\n",
        "\n",
        "# Apply the function to convert interpolated degrees back to nearest wind direction\n",
        "Guanyuan_df['wd_interpolated'] = Guanyuan_df['wd_degrees'].apply(find_nearest_direction)"
      ]
    },
    {
      "cell_type": "markdown",
      "metadata": {
        "id": "BMUsz3QB8t-D"
      },
      "source": [
        "Hasil"
      ]
    },
    {
      "cell_type": "code",
      "execution_count": 119,
      "metadata": {
        "colab": {
          "base_uri": "https://localhost:8080/",
          "height": 0
        },
        "collapsed": true,
        "id": "0WE8CrIT8t-D",
        "outputId": "61ba6f34-09e9-4323-9b7a-3c5847cc7d98"
      },
      "outputs": [
        {
          "data": {
            "text/plain": [
              "No                  0\n",
              "year                0\n",
              "month               0\n",
              "day                 0\n",
              "hour                0\n",
              "PM2.5               0\n",
              "PM10                0\n",
              "SO2                 0\n",
              "NO2                 0\n",
              "CO                  0\n",
              "O3                  0\n",
              "TEMP                0\n",
              "PRES                0\n",
              "DEWP                0\n",
              "RAIN                0\n",
              "wd                 81\n",
              "WSPM                0\n",
              "station             0\n",
              "wd_degrees          0\n",
              "wd_interpolated     0\n",
              "dtype: int64"
            ]
          },
          "execution_count": 119,
          "metadata": {},
          "output_type": "execute_result"
        }
      ],
      "source": [
        "Aotizhongxin_df.isna().sum()"
      ]
    },
    {
      "cell_type": "code",
      "execution_count": 120,
      "metadata": {
        "colab": {
          "base_uri": "https://localhost:8080/",
          "height": 0
        },
        "id": "HvhDxzmD8t-D",
        "outputId": "6b032494-c5b1-4626-aa1b-c48bcbde853b"
      },
      "outputs": [
        {
          "data": {
            "text/html": [
              "<div>\n",
              "<style scoped>\n",
              "    .dataframe tbody tr th:only-of-type {\n",
              "        vertical-align: middle;\n",
              "    }\n",
              "\n",
              "    .dataframe tbody tr th {\n",
              "        vertical-align: top;\n",
              "    }\n",
              "\n",
              "    .dataframe thead th {\n",
              "        text-align: right;\n",
              "    }\n",
              "</style>\n",
              "<table border=\"1\" class=\"dataframe\">\n",
              "  <thead>\n",
              "    <tr style=\"text-align: right;\">\n",
              "      <th></th>\n",
              "      <th>No</th>\n",
              "      <th>year</th>\n",
              "      <th>month</th>\n",
              "      <th>day</th>\n",
              "      <th>hour</th>\n",
              "      <th>PM2.5</th>\n",
              "      <th>PM10</th>\n",
              "      <th>SO2</th>\n",
              "      <th>NO2</th>\n",
              "      <th>CO</th>\n",
              "      <th>O3</th>\n",
              "      <th>TEMP</th>\n",
              "      <th>PRES</th>\n",
              "      <th>DEWP</th>\n",
              "      <th>RAIN</th>\n",
              "      <th>WSPM</th>\n",
              "      <th>wd_degrees</th>\n",
              "    </tr>\n",
              "  </thead>\n",
              "  <tbody>\n",
              "    <tr>\n",
              "      <th>count</th>\n",
              "      <td>35064.000000</td>\n",
              "      <td>35064.000000</td>\n",
              "      <td>35064.000000</td>\n",
              "      <td>35064.000000</td>\n",
              "      <td>35064.000000</td>\n",
              "      <td>35064.000000</td>\n",
              "      <td>35064.000000</td>\n",
              "      <td>35064.000000</td>\n",
              "      <td>35064.000000</td>\n",
              "      <td>35064.000000</td>\n",
              "      <td>35064.000000</td>\n",
              "      <td>35064.000000</td>\n",
              "      <td>35064.000000</td>\n",
              "      <td>35064.000000</td>\n",
              "      <td>35064.000000</td>\n",
              "      <td>35064.000000</td>\n",
              "      <td>35064.000000</td>\n",
              "    </tr>\n",
              "    <tr>\n",
              "      <th>mean</th>\n",
              "      <td>17532.500000</td>\n",
              "      <td>2014.662560</td>\n",
              "      <td>6.522930</td>\n",
              "      <td>15.729637</td>\n",
              "      <td>11.500000</td>\n",
              "      <td>82.897522</td>\n",
              "      <td>109.372349</td>\n",
              "      <td>17.609312</td>\n",
              "      <td>58.139298</td>\n",
              "      <td>1258.327045</td>\n",
              "      <td>54.817142</td>\n",
              "      <td>13.581414</td>\n",
              "      <td>1011.851650</td>\n",
              "      <td>3.120296</td>\n",
              "      <td>0.067383</td>\n",
              "      <td>1.708577</td>\n",
              "      <td>144.229338</td>\n",
              "    </tr>\n",
              "    <tr>\n",
              "      <th>std</th>\n",
              "      <td>10122.249256</td>\n",
              "      <td>1.177213</td>\n",
              "      <td>3.448752</td>\n",
              "      <td>8.800218</td>\n",
              "      <td>6.922285</td>\n",
              "      <td>81.070279</td>\n",
              "      <td>92.340966</td>\n",
              "      <td>23.631529</td>\n",
              "      <td>35.210206</td>\n",
              "      <td>1151.647467</td>\n",
              "      <td>57.199174</td>\n",
              "      <td>11.400426</td>\n",
              "      <td>10.404517</td>\n",
              "      <td>13.690314</td>\n",
              "      <td>0.909798</td>\n",
              "      <td>1.204180</td>\n",
              "      <td>103.270503</td>\n",
              "    </tr>\n",
              "    <tr>\n",
              "      <th>min</th>\n",
              "      <td>1.000000</td>\n",
              "      <td>2013.000000</td>\n",
              "      <td>1.000000</td>\n",
              "      <td>1.000000</td>\n",
              "      <td>0.000000</td>\n",
              "      <td>2.000000</td>\n",
              "      <td>2.000000</td>\n",
              "      <td>1.000000</td>\n",
              "      <td>2.000000</td>\n",
              "      <td>100.000000</td>\n",
              "      <td>0.214200</td>\n",
              "      <td>-16.800000</td>\n",
              "      <td>985.900000</td>\n",
              "      <td>-35.300000</td>\n",
              "      <td>0.000000</td>\n",
              "      <td>0.000000</td>\n",
              "      <td>0.000000</td>\n",
              "    </tr>\n",
              "    <tr>\n",
              "      <th>25%</th>\n",
              "      <td>8766.750000</td>\n",
              "      <td>2014.000000</td>\n",
              "      <td>4.000000</td>\n",
              "      <td>8.000000</td>\n",
              "      <td>5.750000</td>\n",
              "      <td>23.000000</td>\n",
              "      <td>40.000000</td>\n",
              "      <td>3.000000</td>\n",
              "      <td>31.000000</td>\n",
              "      <td>500.000000</td>\n",
              "      <td>6.000000</td>\n",
              "      <td>3.100000</td>\n",
              "      <td>1003.300000</td>\n",
              "      <td>-8.100000</td>\n",
              "      <td>0.000000</td>\n",
              "      <td>0.900000</td>\n",
              "      <td>45.000000</td>\n",
              "    </tr>\n",
              "    <tr>\n",
              "      <th>50%</th>\n",
              "      <td>17532.500000</td>\n",
              "      <td>2015.000000</td>\n",
              "      <td>7.000000</td>\n",
              "      <td>16.000000</td>\n",
              "      <td>11.500000</td>\n",
              "      <td>59.000000</td>\n",
              "      <td>89.000000</td>\n",
              "      <td>8.000000</td>\n",
              "      <td>51.000000</td>\n",
              "      <td>900.000000</td>\n",
              "      <td>40.000000</td>\n",
              "      <td>14.500000</td>\n",
              "      <td>1011.400000</td>\n",
              "      <td>3.800000</td>\n",
              "      <td>0.000000</td>\n",
              "      <td>1.400000</td>\n",
              "      <td>112.500000</td>\n",
              "    </tr>\n",
              "    <tr>\n",
              "      <th>75%</th>\n",
              "      <td>26298.250000</td>\n",
              "      <td>2016.000000</td>\n",
              "      <td>10.000000</td>\n",
              "      <td>23.000000</td>\n",
              "      <td>17.250000</td>\n",
              "      <td>114.000000</td>\n",
              "      <td>149.000000</td>\n",
              "      <td>22.000000</td>\n",
              "      <td>78.270244</td>\n",
              "      <td>1500.000000</td>\n",
              "      <td>80.000000</td>\n",
              "      <td>23.300000</td>\n",
              "      <td>1020.100000</td>\n",
              "      <td>15.600000</td>\n",
              "      <td>0.000000</td>\n",
              "      <td>2.200000</td>\n",
              "      <td>225.000000</td>\n",
              "    </tr>\n",
              "    <tr>\n",
              "      <th>max</th>\n",
              "      <td>35064.000000</td>\n",
              "      <td>2017.000000</td>\n",
              "      <td>12.000000</td>\n",
              "      <td>31.000000</td>\n",
              "      <td>23.000000</td>\n",
              "      <td>680.000000</td>\n",
              "      <td>999.000000</td>\n",
              "      <td>293.000000</td>\n",
              "      <td>270.000000</td>\n",
              "      <td>10000.000000</td>\n",
              "      <td>415.000000</td>\n",
              "      <td>40.500000</td>\n",
              "      <td>1042.000000</td>\n",
              "      <td>28.500000</td>\n",
              "      <td>72.500000</td>\n",
              "      <td>11.200000</td>\n",
              "      <td>337.500000</td>\n",
              "    </tr>\n",
              "  </tbody>\n",
              "</table>\n",
              "</div>"
            ],
            "text/plain": [
              "                 No          year         month           day          hour  \\\n",
              "count  35064.000000  35064.000000  35064.000000  35064.000000  35064.000000   \n",
              "mean   17532.500000   2014.662560      6.522930     15.729637     11.500000   \n",
              "std    10122.249256      1.177213      3.448752      8.800218      6.922285   \n",
              "min        1.000000   2013.000000      1.000000      1.000000      0.000000   \n",
              "25%     8766.750000   2014.000000      4.000000      8.000000      5.750000   \n",
              "50%    17532.500000   2015.000000      7.000000     16.000000     11.500000   \n",
              "75%    26298.250000   2016.000000     10.000000     23.000000     17.250000   \n",
              "max    35064.000000   2017.000000     12.000000     31.000000     23.000000   \n",
              "\n",
              "              PM2.5          PM10           SO2           NO2            CO  \\\n",
              "count  35064.000000  35064.000000  35064.000000  35064.000000  35064.000000   \n",
              "mean      82.897522    109.372349     17.609312     58.139298   1258.327045   \n",
              "std       81.070279     92.340966     23.631529     35.210206   1151.647467   \n",
              "min        2.000000      2.000000      1.000000      2.000000    100.000000   \n",
              "25%       23.000000     40.000000      3.000000     31.000000    500.000000   \n",
              "50%       59.000000     89.000000      8.000000     51.000000    900.000000   \n",
              "75%      114.000000    149.000000     22.000000     78.270244   1500.000000   \n",
              "max      680.000000    999.000000    293.000000    270.000000  10000.000000   \n",
              "\n",
              "                 O3          TEMP          PRES          DEWP          RAIN  \\\n",
              "count  35064.000000  35064.000000  35064.000000  35064.000000  35064.000000   \n",
              "mean      54.817142     13.581414   1011.851650      3.120296      0.067383   \n",
              "std       57.199174     11.400426     10.404517     13.690314      0.909798   \n",
              "min        0.214200    -16.800000    985.900000    -35.300000      0.000000   \n",
              "25%        6.000000      3.100000   1003.300000     -8.100000      0.000000   \n",
              "50%       40.000000     14.500000   1011.400000      3.800000      0.000000   \n",
              "75%       80.000000     23.300000   1020.100000     15.600000      0.000000   \n",
              "max      415.000000     40.500000   1042.000000     28.500000     72.500000   \n",
              "\n",
              "               WSPM    wd_degrees  \n",
              "count  35064.000000  35064.000000  \n",
              "mean       1.708577    144.229338  \n",
              "std        1.204180    103.270503  \n",
              "min        0.000000      0.000000  \n",
              "25%        0.900000     45.000000  \n",
              "50%        1.400000    112.500000  \n",
              "75%        2.200000    225.000000  \n",
              "max       11.200000    337.500000  "
            ]
          },
          "execution_count": 120,
          "metadata": {},
          "output_type": "execute_result"
        }
      ],
      "source": [
        "Guanyuan_df.describe()"
      ]
    },
    {
      "cell_type": "markdown",
      "metadata": {
        "id": "GWtG9eYb8un4"
      },
      "source": [
        "#### Gucheng"
      ]
    },
    {
      "cell_type": "markdown",
      "metadata": {
        "id": "KAzRvrPG8un5"
      },
      "source": [
        "Menghapus Duplikat"
      ]
    },
    {
      "cell_type": "code",
      "execution_count": 121,
      "metadata": {
        "colab": {
          "base_uri": "https://localhost:8080/"
        },
        "id": "T6hPNybN8un5",
        "outputId": "9af364ae-fd8a-437a-9675-0edc6205aef1"
      },
      "outputs": [
        {
          "data": {
            "text/plain": [
              "np.int64(0)"
            ]
          },
          "execution_count": 121,
          "metadata": {},
          "output_type": "execute_result"
        }
      ],
      "source": [
        "Gucheng_df.duplicated().sum()"
      ]
    },
    {
      "cell_type": "code",
      "execution_count": 122,
      "metadata": {
        "id": "K4YeE-L78un5"
      },
      "outputs": [],
      "source": [
        "Gucheng_df.drop_duplicates(inplace=True)"
      ]
    },
    {
      "cell_type": "code",
      "execution_count": 123,
      "metadata": {
        "colab": {
          "base_uri": "https://localhost:8080/"
        },
        "id": "cweCZmmh8un5",
        "outputId": "a032ee6c-9601-42c5-c0de-8bb47b2ce6b5"
      },
      "outputs": [
        {
          "name": "stdout",
          "output_type": "stream",
          "text": [
            "Jumlah duplikasi:  0\n"
          ]
        }
      ],
      "source": [
        "print(\"Jumlah duplikasi: \", Gucheng_df.duplicated().sum())"
      ]
    },
    {
      "cell_type": "code",
      "execution_count": 124,
      "metadata": {
        "colab": {
          "base_uri": "https://localhost:8080/",
          "height": 0
        },
        "collapsed": true,
        "id": "KmO76uIn8un6",
        "outputId": "e66f5235-4aea-4d90-81ca-74132863c2ba"
      },
      "outputs": [
        {
          "data": {
            "text/plain": [
              "No               0\n",
              "year             0\n",
              "month            0\n",
              "day              0\n",
              "hour             0\n",
              "PM2.5          646\n",
              "PM10           381\n",
              "SO2            507\n",
              "NO2            668\n",
              "CO            1401\n",
              "O3             729\n",
              "TEMP            51\n",
              "PRES            50\n",
              "DEWP            51\n",
              "RAIN            43\n",
              "wd             159\n",
              "WSPM            42\n",
              "station          0\n",
              "wd_degrees     159\n",
              "dtype: int64"
            ]
          },
          "execution_count": 124,
          "metadata": {},
          "output_type": "execute_result"
        }
      ],
      "source": [
        "Gucheng_df.isna().sum()"
      ]
    },
    {
      "cell_type": "markdown",
      "metadata": {
        "id": "d7zWNcOg8un6"
      },
      "source": [
        "Interpolating Missing Data"
      ]
    },
    {
      "cell_type": "code",
      "execution_count": 125,
      "metadata": {
        "id": "sAz_3gXl8un6"
      },
      "outputs": [],
      "source": [
        "# List of column names to check for missing values\n",
        "columns_to_check = ['PM2.5', 'PM10', 'SO2', 'NO2', 'CO', 'TEMP', 'DEWP', 'RAIN', 'WSPM', 'wd_degrees']\n",
        "\n",
        "# Loop through each column and filter rows with missing values\n",
        "for column in columns_to_check:\n",
        "  Gucheng_df[Gucheng_df[column].isna()]"
      ]
    },
    {
      "cell_type": "code",
      "execution_count": 126,
      "metadata": {
        "colab": {
          "base_uri": "https://localhost:8080/"
        },
        "collapsed": true,
        "id": "yApviMnY8un6",
        "outputId": "0297b73f-b49a-42c7-a379-fbf97ad43369"
      },
      "outputs": [
        {
          "name": "stderr",
          "output_type": "stream",
          "text": [
            "C:\\Users\\Dell\\AppData\\Local\\Temp\\ipykernel_10372\\2909949880.py:6: FutureWarning: Series.interpolate with object dtype is deprecated and will raise in a future version. Call obj.infer_objects(copy=False) before interpolating instead.\n",
            "  Gucheng_df[column] = Gucheng_df[column].interpolate(method=\"linear\")\n"
          ]
        }
      ],
      "source": [
        "# Iterate over each column and its corresponding count of NaN values\n",
        "missing_values = Gucheng_df.isna().sum()\n",
        "\n",
        "for column, na_count in missing_values.items():\n",
        "    if na_count > 0:\n",
        "        Gucheng_df[column] = Gucheng_df[column].interpolate(method=\"linear\")"
      ]
    },
    {
      "cell_type": "code",
      "execution_count": 127,
      "metadata": {
        "collapsed": true,
        "id": "jZrEwKR98un6"
      },
      "outputs": [],
      "source": [
        "degrees_to_wind = {v: k for k, v in wind_direction_map.items()}\n",
        "\n",
        "# Apply the function to convert interpolated degrees back to nearest wind direction\n",
        "Gucheng_df['wd_interpolated'] = Gucheng_df['wd_degrees'].apply(find_nearest_direction)"
      ]
    },
    {
      "cell_type": "markdown",
      "metadata": {
        "id": "sooSuI7s8un6"
      },
      "source": [
        "Hasil"
      ]
    },
    {
      "cell_type": "code",
      "execution_count": 128,
      "metadata": {
        "colab": {
          "base_uri": "https://localhost:8080/",
          "height": 0
        },
        "collapsed": true,
        "id": "w1MpVj9s8un6",
        "outputId": "c08f34e7-0769-42be-b6c6-ba6db91b1c58"
      },
      "outputs": [
        {
          "data": {
            "text/plain": [
              "No                   0\n",
              "year                 0\n",
              "month                0\n",
              "day                  0\n",
              "hour                 0\n",
              "PM2.5                0\n",
              "PM10                 0\n",
              "SO2                  0\n",
              "NO2                 20\n",
              "CO                   0\n",
              "O3                   0\n",
              "TEMP                 0\n",
              "PRES                 0\n",
              "DEWP                 0\n",
              "RAIN                 0\n",
              "wd                 159\n",
              "WSPM                 0\n",
              "station              0\n",
              "wd_degrees           0\n",
              "wd_interpolated      0\n",
              "dtype: int64"
            ]
          },
          "execution_count": 128,
          "metadata": {},
          "output_type": "execute_result"
        }
      ],
      "source": [
        "Gucheng_df.isna().sum()"
      ]
    },
    {
      "cell_type": "code",
      "execution_count": 129,
      "metadata": {
        "colab": {
          "base_uri": "https://localhost:8080/",
          "height": 0
        },
        "id": "wavVea6_8un7",
        "outputId": "80f89819-dae5-4eaf-a2de-8dae364cc0e2"
      },
      "outputs": [
        {
          "data": {
            "text/html": [
              "<div>\n",
              "<style scoped>\n",
              "    .dataframe tbody tr th:only-of-type {\n",
              "        vertical-align: middle;\n",
              "    }\n",
              "\n",
              "    .dataframe tbody tr th {\n",
              "        vertical-align: top;\n",
              "    }\n",
              "\n",
              "    .dataframe thead th {\n",
              "        text-align: right;\n",
              "    }\n",
              "</style>\n",
              "<table border=\"1\" class=\"dataframe\">\n",
              "  <thead>\n",
              "    <tr style=\"text-align: right;\">\n",
              "      <th></th>\n",
              "      <th>No</th>\n",
              "      <th>year</th>\n",
              "      <th>month</th>\n",
              "      <th>day</th>\n",
              "      <th>hour</th>\n",
              "      <th>PM2.5</th>\n",
              "      <th>PM10</th>\n",
              "      <th>SO2</th>\n",
              "      <th>NO2</th>\n",
              "      <th>CO</th>\n",
              "      <th>O3</th>\n",
              "      <th>TEMP</th>\n",
              "      <th>PRES</th>\n",
              "      <th>DEWP</th>\n",
              "      <th>RAIN</th>\n",
              "      <th>WSPM</th>\n",
              "      <th>wd_degrees</th>\n",
              "    </tr>\n",
              "  </thead>\n",
              "  <tbody>\n",
              "    <tr>\n",
              "      <th>count</th>\n",
              "      <td>35064.000000</td>\n",
              "      <td>35064.000000</td>\n",
              "      <td>35064.000000</td>\n",
              "      <td>35064.000000</td>\n",
              "      <td>35064.000000</td>\n",
              "      <td>35064.000000</td>\n",
              "      <td>35064.000000</td>\n",
              "      <td>35064.000000</td>\n",
              "      <td>35044.000000</td>\n",
              "      <td>35064.000000</td>\n",
              "      <td>35064.000000</td>\n",
              "      <td>35064.000000</td>\n",
              "      <td>35064.000000</td>\n",
              "      <td>35064.000000</td>\n",
              "      <td>35064.000000</td>\n",
              "      <td>35064.000000</td>\n",
              "      <td>35064.000000</td>\n",
              "    </tr>\n",
              "    <tr>\n",
              "      <th>mean</th>\n",
              "      <td>17532.500000</td>\n",
              "      <td>2014.662560</td>\n",
              "      <td>6.522930</td>\n",
              "      <td>15.729637</td>\n",
              "      <td>11.500000</td>\n",
              "      <td>84.074802</td>\n",
              "      <td>119.261567</td>\n",
              "      <td>15.705821</td>\n",
              "      <td>55.851320</td>\n",
              "      <td>1338.100060</td>\n",
              "      <td>58.000001</td>\n",
              "      <td>13.855824</td>\n",
              "      <td>1008.835693</td>\n",
              "      <td>2.600351</td>\n",
              "      <td>0.064374</td>\n",
              "      <td>1.343667</td>\n",
              "      <td>158.522844</td>\n",
              "    </tr>\n",
              "    <tr>\n",
              "      <th>std</th>\n",
              "      <td>10122.249256</td>\n",
              "      <td>1.177213</td>\n",
              "      <td>3.448752</td>\n",
              "      <td>8.800218</td>\n",
              "      <td>6.922285</td>\n",
              "      <td>82.994634</td>\n",
              "      <td>97.533240</td>\n",
              "      <td>23.282583</td>\n",
              "      <td>36.512966</td>\n",
              "      <td>1214.044983</td>\n",
              "      <td>57.171816</td>\n",
              "      <td>11.294955</td>\n",
              "      <td>10.104302</td>\n",
              "      <td>13.790109</td>\n",
              "      <td>0.838142</td>\n",
              "      <td>1.151055</td>\n",
              "      <td>110.652665</td>\n",
              "    </tr>\n",
              "    <tr>\n",
              "      <th>min</th>\n",
              "      <td>1.000000</td>\n",
              "      <td>2013.000000</td>\n",
              "      <td>1.000000</td>\n",
              "      <td>1.000000</td>\n",
              "      <td>0.000000</td>\n",
              "      <td>2.000000</td>\n",
              "      <td>2.000000</td>\n",
              "      <td>0.285600</td>\n",
              "      <td>2.000000</td>\n",
              "      <td>100.000000</td>\n",
              "      <td>0.214200</td>\n",
              "      <td>-15.600000</td>\n",
              "      <td>984.000000</td>\n",
              "      <td>-34.600000</td>\n",
              "      <td>0.000000</td>\n",
              "      <td>0.000000</td>\n",
              "      <td>0.000000</td>\n",
              "    </tr>\n",
              "    <tr>\n",
              "      <th>25%</th>\n",
              "      <td>8766.750000</td>\n",
              "      <td>2014.000000</td>\n",
              "      <td>4.000000</td>\n",
              "      <td>8.000000</td>\n",
              "      <td>5.750000</td>\n",
              "      <td>24.000000</td>\n",
              "      <td>45.000000</td>\n",
              "      <td>2.000000</td>\n",
              "      <td>26.000000</td>\n",
              "      <td>600.000000</td>\n",
              "      <td>10.000000</td>\n",
              "      <td>3.600000</td>\n",
              "      <td>1000.500000</td>\n",
              "      <td>-9.000000</td>\n",
              "      <td>0.000000</td>\n",
              "      <td>0.600000</td>\n",
              "      <td>45.000000</td>\n",
              "    </tr>\n",
              "    <tr>\n",
              "      <th>50%</th>\n",
              "      <td>17532.500000</td>\n",
              "      <td>2015.000000</td>\n",
              "      <td>7.000000</td>\n",
              "      <td>16.000000</td>\n",
              "      <td>11.500000</td>\n",
              "      <td>60.000000</td>\n",
              "      <td>100.000000</td>\n",
              "      <td>7.000000</td>\n",
              "      <td>50.000000</td>\n",
              "      <td>985.714286</td>\n",
              "      <td>45.000000</td>\n",
              "      <td>14.800000</td>\n",
              "      <td>1008.500000</td>\n",
              "      <td>3.000000</td>\n",
              "      <td>0.000000</td>\n",
              "      <td>1.000000</td>\n",
              "      <td>180.000000</td>\n",
              "    </tr>\n",
              "    <tr>\n",
              "      <th>75%</th>\n",
              "      <td>26298.250000</td>\n",
              "      <td>2016.000000</td>\n",
              "      <td>10.000000</td>\n",
              "      <td>23.000000</td>\n",
              "      <td>17.250000</td>\n",
              "      <td>116.000000</td>\n",
              "      <td>167.000000</td>\n",
              "      <td>20.000000</td>\n",
              "      <td>79.000000</td>\n",
              "      <td>1680.652174</td>\n",
              "      <td>84.000000</td>\n",
              "      <td>23.500000</td>\n",
              "      <td>1017.000000</td>\n",
              "      <td>15.300000</td>\n",
              "      <td>0.000000</td>\n",
              "      <td>1.800000</td>\n",
              "      <td>270.000000</td>\n",
              "    </tr>\n",
              "    <tr>\n",
              "      <th>max</th>\n",
              "      <td>35064.000000</td>\n",
              "      <td>2017.000000</td>\n",
              "      <td>12.000000</td>\n",
              "      <td>31.000000</td>\n",
              "      <td>23.000000</td>\n",
              "      <td>770.000000</td>\n",
              "      <td>994.000000</td>\n",
              "      <td>500.000000</td>\n",
              "      <td>276.000000</td>\n",
              "      <td>10000.000000</td>\n",
              "      <td>450.000000</td>\n",
              "      <td>41.600000</td>\n",
              "      <td>1038.100000</td>\n",
              "      <td>27.400000</td>\n",
              "      <td>41.900000</td>\n",
              "      <td>12.000000</td>\n",
              "      <td>337.500000</td>\n",
              "    </tr>\n",
              "  </tbody>\n",
              "</table>\n",
              "</div>"
            ],
            "text/plain": [
              "                 No          year         month           day          hour  \\\n",
              "count  35064.000000  35064.000000  35064.000000  35064.000000  35064.000000   \n",
              "mean   17532.500000   2014.662560      6.522930     15.729637     11.500000   \n",
              "std    10122.249256      1.177213      3.448752      8.800218      6.922285   \n",
              "min        1.000000   2013.000000      1.000000      1.000000      0.000000   \n",
              "25%     8766.750000   2014.000000      4.000000      8.000000      5.750000   \n",
              "50%    17532.500000   2015.000000      7.000000     16.000000     11.500000   \n",
              "75%    26298.250000   2016.000000     10.000000     23.000000     17.250000   \n",
              "max    35064.000000   2017.000000     12.000000     31.000000     23.000000   \n",
              "\n",
              "              PM2.5          PM10           SO2           NO2            CO  \\\n",
              "count  35064.000000  35064.000000  35064.000000  35044.000000  35064.000000   \n",
              "mean      84.074802    119.261567     15.705821     55.851320   1338.100060   \n",
              "std       82.994634     97.533240     23.282583     36.512966   1214.044983   \n",
              "min        2.000000      2.000000      0.285600      2.000000    100.000000   \n",
              "25%       24.000000     45.000000      2.000000     26.000000    600.000000   \n",
              "50%       60.000000    100.000000      7.000000     50.000000    985.714286   \n",
              "75%      116.000000    167.000000     20.000000     79.000000   1680.652174   \n",
              "max      770.000000    994.000000    500.000000    276.000000  10000.000000   \n",
              "\n",
              "                 O3          TEMP          PRES          DEWP          RAIN  \\\n",
              "count  35064.000000  35064.000000  35064.000000  35064.000000  35064.000000   \n",
              "mean      58.000001     13.855824   1008.835693      2.600351      0.064374   \n",
              "std       57.171816     11.294955     10.104302     13.790109      0.838142   \n",
              "min        0.214200    -15.600000    984.000000    -34.600000      0.000000   \n",
              "25%       10.000000      3.600000   1000.500000     -9.000000      0.000000   \n",
              "50%       45.000000     14.800000   1008.500000      3.000000      0.000000   \n",
              "75%       84.000000     23.500000   1017.000000     15.300000      0.000000   \n",
              "max      450.000000     41.600000   1038.100000     27.400000     41.900000   \n",
              "\n",
              "               WSPM    wd_degrees  \n",
              "count  35064.000000  35064.000000  \n",
              "mean       1.343667    158.522844  \n",
              "std        1.151055    110.652665  \n",
              "min        0.000000      0.000000  \n",
              "25%        0.600000     45.000000  \n",
              "50%        1.000000    180.000000  \n",
              "75%        1.800000    270.000000  \n",
              "max       12.000000    337.500000  "
            ]
          },
          "execution_count": 129,
          "metadata": {},
          "output_type": "execute_result"
        }
      ],
      "source": [
        "Gucheng_df.describe()"
      ]
    },
    {
      "cell_type": "markdown",
      "metadata": {
        "id": "SPaLOut48vSZ"
      },
      "source": [
        "#### Huairou"
      ]
    },
    {
      "cell_type": "markdown",
      "metadata": {
        "id": "cYTJEf9k8vSZ"
      },
      "source": [
        "Menghapus Duplikat"
      ]
    },
    {
      "cell_type": "code",
      "execution_count": 130,
      "metadata": {
        "colab": {
          "base_uri": "https://localhost:8080/"
        },
        "id": "-ASVX9eL8vSa",
        "outputId": "aa415782-0682-44c4-826e-f31e2bdd7e9e"
      },
      "outputs": [
        {
          "data": {
            "text/plain": [
              "np.int64(0)"
            ]
          },
          "execution_count": 130,
          "metadata": {},
          "output_type": "execute_result"
        }
      ],
      "source": [
        "Huairou_df.duplicated().sum()"
      ]
    },
    {
      "cell_type": "code",
      "execution_count": 131,
      "metadata": {
        "id": "e76IC2Xr8vSa"
      },
      "outputs": [],
      "source": [
        "Huairou_df.drop_duplicates(inplace=True)"
      ]
    },
    {
      "cell_type": "code",
      "execution_count": 132,
      "metadata": {
        "colab": {
          "base_uri": "https://localhost:8080/"
        },
        "id": "1YIuI1wD8vSa",
        "outputId": "ce1deb91-667a-437e-b3bc-c241ee49e598"
      },
      "outputs": [
        {
          "name": "stdout",
          "output_type": "stream",
          "text": [
            "Jumlah duplikasi:  0\n"
          ]
        }
      ],
      "source": [
        "print(\"Jumlah duplikasi: \", Huairou_df.duplicated().sum())"
      ]
    },
    {
      "cell_type": "code",
      "execution_count": 133,
      "metadata": {
        "colab": {
          "base_uri": "https://localhost:8080/",
          "height": 0
        },
        "collapsed": true,
        "id": "9xY_SIje8vSa",
        "outputId": "c5b1babd-1429-416f-80e9-83f29d4ac496"
      },
      "outputs": [
        {
          "data": {
            "text/plain": [
              "No               0\n",
              "year             0\n",
              "month            0\n",
              "day              0\n",
              "hour             0\n",
              "PM2.5          953\n",
              "PM10           777\n",
              "SO2            980\n",
              "NO2           1639\n",
              "CO            1422\n",
              "O3            1151\n",
              "TEMP            51\n",
              "PRES            53\n",
              "DEWP            53\n",
              "RAIN            55\n",
              "wd             302\n",
              "WSPM            49\n",
              "station          0\n",
              "wd_degrees     302\n",
              "dtype: int64"
            ]
          },
          "execution_count": 133,
          "metadata": {},
          "output_type": "execute_result"
        }
      ],
      "source": [
        "Huairou_df.isna().sum()"
      ]
    },
    {
      "cell_type": "markdown",
      "metadata": {
        "id": "RcnVtC_08vSa"
      },
      "source": [
        "Interpolating Missing Data"
      ]
    },
    {
      "cell_type": "code",
      "execution_count": 134,
      "metadata": {
        "id": "rnoVtMCk8vSa"
      },
      "outputs": [],
      "source": [
        "# List of column names to check for missing values\n",
        "columns_to_check = ['PM2.5', 'PM10', 'SO2', 'NO2', 'CO', 'TEMP', 'DEWP', 'RAIN', 'WSPM', 'wd_degrees']\n",
        "\n",
        "# Loop through each column and filter rows with missing values\n",
        "for column in columns_to_check:\n",
        "  Huairou_df[Huairou_df[column].isna()]"
      ]
    },
    {
      "cell_type": "code",
      "execution_count": 135,
      "metadata": {
        "colab": {
          "base_uri": "https://localhost:8080/"
        },
        "collapsed": true,
        "id": "lbJKaLgh8vSb",
        "outputId": "287c53ad-cd75-44d4-9142-cfa92a18da8e"
      },
      "outputs": [
        {
          "name": "stderr",
          "output_type": "stream",
          "text": [
            "C:\\Users\\Dell\\AppData\\Local\\Temp\\ipykernel_10372\\2021072311.py:6: FutureWarning: Series.interpolate with object dtype is deprecated and will raise in a future version. Call obj.infer_objects(copy=False) before interpolating instead.\n",
            "  Huairou_df[column] = Huairou_df[column].interpolate(method=\"linear\")\n"
          ]
        }
      ],
      "source": [
        "# Iterate over each column and its corresponding count of NaN values\n",
        "missing_values = Huairou_df.isna().sum()\n",
        "\n",
        "for column, na_count in missing_values.items():\n",
        "    if na_count > 0:\n",
        "        Huairou_df[column] = Huairou_df[column].interpolate(method=\"linear\")"
      ]
    },
    {
      "cell_type": "code",
      "execution_count": 136,
      "metadata": {
        "collapsed": true,
        "id": "I-1-wypM8vSb"
      },
      "outputs": [],
      "source": [
        "degrees_to_wind = {v: k for k, v in wind_direction_map.items()}\n",
        "\n",
        "# Apply the function to convert interpolated degrees back to nearest wind direction\n",
        "Huairou_df['wd_interpolated'] = Huairou_df['wd_degrees'].apply(find_nearest_direction)"
      ]
    },
    {
      "cell_type": "markdown",
      "metadata": {
        "id": "xUZbMc-E8vSb"
      },
      "source": [
        "Hasil"
      ]
    },
    {
      "cell_type": "code",
      "execution_count": 137,
      "metadata": {
        "colab": {
          "base_uri": "https://localhost:8080/",
          "height": 0
        },
        "collapsed": true,
        "id": "B_IUK6Ac8vSb",
        "outputId": "47c2944d-4e90-4b4b-f343-353dde15ebeb"
      },
      "outputs": [
        {
          "data": {
            "text/plain": [
              "No                   0\n",
              "year                 0\n",
              "month                0\n",
              "day                  0\n",
              "hour                 0\n",
              "PM2.5                0\n",
              "PM10                 0\n",
              "SO2                  0\n",
              "NO2                  0\n",
              "CO                   0\n",
              "O3                   0\n",
              "TEMP                 0\n",
              "PRES                 0\n",
              "DEWP                 0\n",
              "RAIN                 0\n",
              "wd                 302\n",
              "WSPM                 0\n",
              "station              0\n",
              "wd_degrees           0\n",
              "wd_interpolated      0\n",
              "dtype: int64"
            ]
          },
          "execution_count": 137,
          "metadata": {},
          "output_type": "execute_result"
        }
      ],
      "source": [
        "Huairou_df.isna().sum()"
      ]
    },
    {
      "cell_type": "code",
      "execution_count": 138,
      "metadata": {
        "colab": {
          "base_uri": "https://localhost:8080/",
          "height": 0
        },
        "id": "Z_nI_c7y8vSb",
        "outputId": "7bd21d43-e251-4fe4-8d7a-d9ac6952b489"
      },
      "outputs": [
        {
          "data": {
            "text/html": [
              "<div>\n",
              "<style scoped>\n",
              "    .dataframe tbody tr th:only-of-type {\n",
              "        vertical-align: middle;\n",
              "    }\n",
              "\n",
              "    .dataframe tbody tr th {\n",
              "        vertical-align: top;\n",
              "    }\n",
              "\n",
              "    .dataframe thead th {\n",
              "        text-align: right;\n",
              "    }\n",
              "</style>\n",
              "<table border=\"1\" class=\"dataframe\">\n",
              "  <thead>\n",
              "    <tr style=\"text-align: right;\">\n",
              "      <th></th>\n",
              "      <th>No</th>\n",
              "      <th>year</th>\n",
              "      <th>month</th>\n",
              "      <th>day</th>\n",
              "      <th>hour</th>\n",
              "      <th>PM2.5</th>\n",
              "      <th>PM10</th>\n",
              "      <th>SO2</th>\n",
              "      <th>NO2</th>\n",
              "      <th>CO</th>\n",
              "      <th>O3</th>\n",
              "      <th>TEMP</th>\n",
              "      <th>PRES</th>\n",
              "      <th>DEWP</th>\n",
              "      <th>RAIN</th>\n",
              "      <th>WSPM</th>\n",
              "      <th>wd_degrees</th>\n",
              "    </tr>\n",
              "  </thead>\n",
              "  <tbody>\n",
              "    <tr>\n",
              "      <th>count</th>\n",
              "      <td>35064.000000</td>\n",
              "      <td>35064.000000</td>\n",
              "      <td>35064.000000</td>\n",
              "      <td>35064.000000</td>\n",
              "      <td>35064.000000</td>\n",
              "      <td>35064.000000</td>\n",
              "      <td>35064.000000</td>\n",
              "      <td>35064.000000</td>\n",
              "      <td>35064.000000</td>\n",
              "      <td>35064.000000</td>\n",
              "      <td>35064.000000</td>\n",
              "      <td>35064.000000</td>\n",
              "      <td>35064.000000</td>\n",
              "      <td>35064.000000</td>\n",
              "      <td>35064.000000</td>\n",
              "      <td>35064.000000</td>\n",
              "      <td>35064.000000</td>\n",
              "    </tr>\n",
              "    <tr>\n",
              "      <th>mean</th>\n",
              "      <td>17532.500000</td>\n",
              "      <td>2014.662560</td>\n",
              "      <td>6.522930</td>\n",
              "      <td>15.729637</td>\n",
              "      <td>11.500000</td>\n",
              "      <td>69.501747</td>\n",
              "      <td>92.422670</td>\n",
              "      <td>12.446681</td>\n",
              "      <td>32.077275</td>\n",
              "      <td>1019.671871</td>\n",
              "      <td>60.872173</td>\n",
              "      <td>12.430556</td>\n",
              "      <td>1007.612315</td>\n",
              "      <td>2.218761</td>\n",
              "      <td>0.067950</td>\n",
              "      <td>1.652772</td>\n",
              "      <td>190.903812</td>\n",
              "    </tr>\n",
              "    <tr>\n",
              "      <th>std</th>\n",
              "      <td>10122.249256</td>\n",
              "      <td>1.177213</td>\n",
              "      <td>3.448752</td>\n",
              "      <td>8.800218</td>\n",
              "      <td>6.922285</td>\n",
              "      <td>70.990900</td>\n",
              "      <td>84.792119</td>\n",
              "      <td>19.361831</td>\n",
              "      <td>26.269586</td>\n",
              "      <td>890.539429</td>\n",
              "      <td>55.620236</td>\n",
              "      <td>11.754318</td>\n",
              "      <td>10.025291</td>\n",
              "      <td>14.059918</td>\n",
              "      <td>0.848524</td>\n",
              "      <td>1.200181</td>\n",
              "      <td>107.357998</td>\n",
              "    </tr>\n",
              "    <tr>\n",
              "      <th>min</th>\n",
              "      <td>1.000000</td>\n",
              "      <td>2013.000000</td>\n",
              "      <td>1.000000</td>\n",
              "      <td>1.000000</td>\n",
              "      <td>0.000000</td>\n",
              "      <td>2.000000</td>\n",
              "      <td>2.000000</td>\n",
              "      <td>0.285600</td>\n",
              "      <td>1.026500</td>\n",
              "      <td>100.000000</td>\n",
              "      <td>0.214200</td>\n",
              "      <td>-19.900000</td>\n",
              "      <td>982.800000</td>\n",
              "      <td>-43.400000</td>\n",
              "      <td>0.000000</td>\n",
              "      <td>0.000000</td>\n",
              "      <td>0.000000</td>\n",
              "    </tr>\n",
              "    <tr>\n",
              "      <th>25%</th>\n",
              "      <td>8766.750000</td>\n",
              "      <td>2014.000000</td>\n",
              "      <td>4.000000</td>\n",
              "      <td>8.000000</td>\n",
              "      <td>5.750000</td>\n",
              "      <td>17.000000</td>\n",
              "      <td>29.000000</td>\n",
              "      <td>2.000000</td>\n",
              "      <td>12.000000</td>\n",
              "      <td>400.000000</td>\n",
              "      <td>19.000000</td>\n",
              "      <td>2.100000</td>\n",
              "      <td>999.400000</td>\n",
              "      <td>-9.700000</td>\n",
              "      <td>0.000000</td>\n",
              "      <td>0.900000</td>\n",
              "      <td>90.000000</td>\n",
              "    </tr>\n",
              "    <tr>\n",
              "      <th>50%</th>\n",
              "      <td>17532.500000</td>\n",
              "      <td>2015.000000</td>\n",
              "      <td>7.000000</td>\n",
              "      <td>16.000000</td>\n",
              "      <td>11.500000</td>\n",
              "      <td>47.000000</td>\n",
              "      <td>69.000000</td>\n",
              "      <td>4.000000</td>\n",
              "      <td>25.000000</td>\n",
              "      <td>800.000000</td>\n",
              "      <td>50.000000</td>\n",
              "      <td>13.500000</td>\n",
              "      <td>1007.300000</td>\n",
              "      <td>2.700000</td>\n",
              "      <td>0.000000</td>\n",
              "      <td>1.300000</td>\n",
              "      <td>202.500000</td>\n",
              "    </tr>\n",
              "    <tr>\n",
              "      <th>75%</th>\n",
              "      <td>26298.250000</td>\n",
              "      <td>2016.000000</td>\n",
              "      <td>10.000000</td>\n",
              "      <td>23.000000</td>\n",
              "      <td>17.250000</td>\n",
              "      <td>98.000000</td>\n",
              "      <td>131.000000</td>\n",
              "      <td>14.000000</td>\n",
              "      <td>46.000000</td>\n",
              "      <td>1300.000000</td>\n",
              "      <td>84.000000</td>\n",
              "      <td>22.300000</td>\n",
              "      <td>1015.500000</td>\n",
              "      <td>15.300000</td>\n",
              "      <td>0.000000</td>\n",
              "      <td>2.000000</td>\n",
              "      <td>292.500000</td>\n",
              "    </tr>\n",
              "    <tr>\n",
              "      <th>max</th>\n",
              "      <td>35064.000000</td>\n",
              "      <td>2017.000000</td>\n",
              "      <td>12.000000</td>\n",
              "      <td>31.000000</td>\n",
              "      <td>23.000000</td>\n",
              "      <td>762.000000</td>\n",
              "      <td>993.000000</td>\n",
              "      <td>315.000000</td>\n",
              "      <td>231.000000</td>\n",
              "      <td>10000.000000</td>\n",
              "      <td>444.000000</td>\n",
              "      <td>40.300000</td>\n",
              "      <td>1036.500000</td>\n",
              "      <td>29.100000</td>\n",
              "      <td>45.900000</td>\n",
              "      <td>12.900000</td>\n",
              "      <td>337.500000</td>\n",
              "    </tr>\n",
              "  </tbody>\n",
              "</table>\n",
              "</div>"
            ],
            "text/plain": [
              "                 No          year         month           day          hour  \\\n",
              "count  35064.000000  35064.000000  35064.000000  35064.000000  35064.000000   \n",
              "mean   17532.500000   2014.662560      6.522930     15.729637     11.500000   \n",
              "std    10122.249256      1.177213      3.448752      8.800218      6.922285   \n",
              "min        1.000000   2013.000000      1.000000      1.000000      0.000000   \n",
              "25%     8766.750000   2014.000000      4.000000      8.000000      5.750000   \n",
              "50%    17532.500000   2015.000000      7.000000     16.000000     11.500000   \n",
              "75%    26298.250000   2016.000000     10.000000     23.000000     17.250000   \n",
              "max    35064.000000   2017.000000     12.000000     31.000000     23.000000   \n",
              "\n",
              "              PM2.5          PM10           SO2           NO2            CO  \\\n",
              "count  35064.000000  35064.000000  35064.000000  35064.000000  35064.000000   \n",
              "mean      69.501747     92.422670     12.446681     32.077275   1019.671871   \n",
              "std       70.990900     84.792119     19.361831     26.269586    890.539429   \n",
              "min        2.000000      2.000000      0.285600      1.026500    100.000000   \n",
              "25%       17.000000     29.000000      2.000000     12.000000    400.000000   \n",
              "50%       47.000000     69.000000      4.000000     25.000000    800.000000   \n",
              "75%       98.000000    131.000000     14.000000     46.000000   1300.000000   \n",
              "max      762.000000    993.000000    315.000000    231.000000  10000.000000   \n",
              "\n",
              "                 O3          TEMP          PRES          DEWP          RAIN  \\\n",
              "count  35064.000000  35064.000000  35064.000000  35064.000000  35064.000000   \n",
              "mean      60.872173     12.430556   1007.612315      2.218761      0.067950   \n",
              "std       55.620236     11.754318     10.025291     14.059918      0.848524   \n",
              "min        0.214200    -19.900000    982.800000    -43.400000      0.000000   \n",
              "25%       19.000000      2.100000    999.400000     -9.700000      0.000000   \n",
              "50%       50.000000     13.500000   1007.300000      2.700000      0.000000   \n",
              "75%       84.000000     22.300000   1015.500000     15.300000      0.000000   \n",
              "max      444.000000     40.300000   1036.500000     29.100000     45.900000   \n",
              "\n",
              "               WSPM    wd_degrees  \n",
              "count  35064.000000  35064.000000  \n",
              "mean       1.652772    190.903812  \n",
              "std        1.200181    107.357998  \n",
              "min        0.000000      0.000000  \n",
              "25%        0.900000     90.000000  \n",
              "50%        1.300000    202.500000  \n",
              "75%        2.000000    292.500000  \n",
              "max       12.900000    337.500000  "
            ]
          },
          "execution_count": 138,
          "metadata": {},
          "output_type": "execute_result"
        }
      ],
      "source": [
        "Huairou_df.describe()"
      ]
    },
    {
      "cell_type": "markdown",
      "metadata": {
        "id": "eh4a55pR8ylx"
      },
      "source": [
        "#### Nongzhanguan"
      ]
    },
    {
      "cell_type": "markdown",
      "metadata": {
        "id": "4t001vZV8yl4"
      },
      "source": [
        "Menghapus Duplikat"
      ]
    },
    {
      "cell_type": "code",
      "execution_count": 139,
      "metadata": {
        "colab": {
          "base_uri": "https://localhost:8080/"
        },
        "id": "65tuY2CN8yl4",
        "outputId": "e6103aa6-4971-49e5-a9cd-de799152a954"
      },
      "outputs": [
        {
          "data": {
            "text/plain": [
              "np.int64(0)"
            ]
          },
          "execution_count": 139,
          "metadata": {},
          "output_type": "execute_result"
        }
      ],
      "source": [
        "Nongzhanguan_df.duplicated().sum()"
      ]
    },
    {
      "cell_type": "code",
      "execution_count": 140,
      "metadata": {
        "id": "vP1ehTtx8yl4"
      },
      "outputs": [],
      "source": [
        "Nongzhanguan_df.drop_duplicates(inplace=True)"
      ]
    },
    {
      "cell_type": "code",
      "execution_count": 141,
      "metadata": {
        "colab": {
          "base_uri": "https://localhost:8080/"
        },
        "id": "rs43uJNx8yl4",
        "outputId": "e1fd7b1c-8d32-469e-d58a-170e2a83551e"
      },
      "outputs": [
        {
          "name": "stdout",
          "output_type": "stream",
          "text": [
            "Jumlah duplikasi:  0\n"
          ]
        }
      ],
      "source": [
        "print(\"Jumlah duplikasi: \", Nongzhanguan_df.duplicated().sum())"
      ]
    },
    {
      "cell_type": "code",
      "execution_count": 142,
      "metadata": {
        "colab": {
          "base_uri": "https://localhost:8080/",
          "height": 0
        },
        "collapsed": true,
        "id": "puDDGqEv8yl4",
        "outputId": "a5e3453a-5524-42b1-b5dc-527103568455"
      },
      "outputs": [
        {
          "data": {
            "text/plain": [
              "No               0\n",
              "year             0\n",
              "month            0\n",
              "day              0\n",
              "hour             0\n",
              "PM2.5          628\n",
              "PM10           440\n",
              "SO2            446\n",
              "NO2            692\n",
              "CO            1206\n",
              "O3             506\n",
              "TEMP            20\n",
              "PRES            20\n",
              "DEWP            20\n",
              "RAIN            20\n",
              "wd              78\n",
              "WSPM            14\n",
              "station          0\n",
              "wd_degrees      78\n",
              "dtype: int64"
            ]
          },
          "execution_count": 142,
          "metadata": {},
          "output_type": "execute_result"
        }
      ],
      "source": [
        "Nongzhanguan_df.isna().sum()"
      ]
    },
    {
      "cell_type": "markdown",
      "metadata": {
        "id": "BDh459ls8yl5"
      },
      "source": [
        "Interpolating Missing Data"
      ]
    },
    {
      "cell_type": "code",
      "execution_count": 143,
      "metadata": {
        "id": "-AwoYFTK8yl5"
      },
      "outputs": [],
      "source": [
        "# List of column names to check for missing values\n",
        "columns_to_check = ['PM2.5', 'PM10', 'SO2', 'NO2', 'CO', 'TEMP', 'DEWP', 'RAIN', 'WSPM', 'wd_degrees']\n",
        "\n",
        "# Loop through each column and filter rows with missing values\n",
        "for column in columns_to_check:\n",
        "  Nongzhanguan_df[Nongzhanguan_df[column].isna()]"
      ]
    },
    {
      "cell_type": "code",
      "execution_count": 144,
      "metadata": {
        "colab": {
          "base_uri": "https://localhost:8080/"
        },
        "collapsed": true,
        "id": "fnijbBSh8yl5",
        "outputId": "a31679a4-6abc-46cb-d9ec-c6179171a4be"
      },
      "outputs": [
        {
          "name": "stderr",
          "output_type": "stream",
          "text": [
            "C:\\Users\\Dell\\AppData\\Local\\Temp\\ipykernel_10372\\2802683576.py:6: FutureWarning: Series.interpolate with object dtype is deprecated and will raise in a future version. Call obj.infer_objects(copy=False) before interpolating instead.\n",
            "  Nongzhanguan_df[column] = Nongzhanguan_df[column].interpolate(method=\"linear\")\n"
          ]
        }
      ],
      "source": [
        "# Iterate over each column and its corresponding count of NaN values\n",
        "missing_values = Nongzhanguan_df.isna().sum()\n",
        "\n",
        "for column, na_count in missing_values.items():\n",
        "    if na_count > 0:\n",
        "        Nongzhanguan_df[column] = Nongzhanguan_df[column].interpolate(method=\"linear\")"
      ]
    },
    {
      "cell_type": "code",
      "execution_count": 145,
      "metadata": {
        "collapsed": true,
        "id": "LDSPiy4a8yl5"
      },
      "outputs": [],
      "source": [
        "degrees_to_wind = {v: k for k, v in wind_direction_map.items()}\n",
        "\n",
        "# Apply the function to convert interpolated degrees back to nearest wind direction\n",
        "Nongzhanguan_df['wd_interpolated'] = Nongzhanguan_df['wd_degrees'].apply(find_nearest_direction)"
      ]
    },
    {
      "cell_type": "markdown",
      "metadata": {
        "id": "UZhC2-Oh8yl5"
      },
      "source": [
        "Hasil"
      ]
    },
    {
      "cell_type": "code",
      "execution_count": 146,
      "metadata": {
        "colab": {
          "base_uri": "https://localhost:8080/",
          "height": 0
        },
        "collapsed": true,
        "id": "PsM-zphg8yl5",
        "outputId": "d3441e44-312e-465e-9966-6b1ce2e56285"
      },
      "outputs": [
        {
          "data": {
            "text/plain": [
              "No                  0\n",
              "year                0\n",
              "month               0\n",
              "day                 0\n",
              "hour                0\n",
              "PM2.5               0\n",
              "PM10                0\n",
              "SO2                 0\n",
              "NO2                 0\n",
              "CO                  0\n",
              "O3                  0\n",
              "TEMP                0\n",
              "PRES                0\n",
              "DEWP                0\n",
              "RAIN                0\n",
              "wd                 78\n",
              "WSPM                0\n",
              "station             0\n",
              "wd_degrees          0\n",
              "wd_interpolated     0\n",
              "dtype: int64"
            ]
          },
          "execution_count": 146,
          "metadata": {},
          "output_type": "execute_result"
        }
      ],
      "source": [
        "Nongzhanguan_df.isna().sum()"
      ]
    },
    {
      "cell_type": "code",
      "execution_count": 147,
      "metadata": {
        "colab": {
          "base_uri": "https://localhost:8080/",
          "height": 0
        },
        "id": "vHpsnA5M8yl5",
        "outputId": "adc842b6-21d7-4db6-885c-bf4e6d7451c0"
      },
      "outputs": [
        {
          "data": {
            "text/html": [
              "<div>\n",
              "<style scoped>\n",
              "    .dataframe tbody tr th:only-of-type {\n",
              "        vertical-align: middle;\n",
              "    }\n",
              "\n",
              "    .dataframe tbody tr th {\n",
              "        vertical-align: top;\n",
              "    }\n",
              "\n",
              "    .dataframe thead th {\n",
              "        text-align: right;\n",
              "    }\n",
              "</style>\n",
              "<table border=\"1\" class=\"dataframe\">\n",
              "  <thead>\n",
              "    <tr style=\"text-align: right;\">\n",
              "      <th></th>\n",
              "      <th>No</th>\n",
              "      <th>year</th>\n",
              "      <th>month</th>\n",
              "      <th>day</th>\n",
              "      <th>hour</th>\n",
              "      <th>PM2.5</th>\n",
              "      <th>PM10</th>\n",
              "      <th>SO2</th>\n",
              "      <th>NO2</th>\n",
              "      <th>CO</th>\n",
              "      <th>O3</th>\n",
              "      <th>TEMP</th>\n",
              "      <th>PRES</th>\n",
              "      <th>DEWP</th>\n",
              "      <th>RAIN</th>\n",
              "      <th>WSPM</th>\n",
              "      <th>wd_degrees</th>\n",
              "    </tr>\n",
              "  </thead>\n",
              "  <tbody>\n",
              "    <tr>\n",
              "      <th>count</th>\n",
              "      <td>35064.000000</td>\n",
              "      <td>35064.000000</td>\n",
              "      <td>35064.000000</td>\n",
              "      <td>35064.000000</td>\n",
              "      <td>35064.000000</td>\n",
              "      <td>35064.000000</td>\n",
              "      <td>35064.000000</td>\n",
              "      <td>35064.000000</td>\n",
              "      <td>35064.000000</td>\n",
              "      <td>35064.000000</td>\n",
              "      <td>35064.000000</td>\n",
              "      <td>35064.000000</td>\n",
              "      <td>35064.000000</td>\n",
              "      <td>35064.000000</td>\n",
              "      <td>35064.000000</td>\n",
              "      <td>35064.000000</td>\n",
              "      <td>35064.000000</td>\n",
              "    </tr>\n",
              "    <tr>\n",
              "      <th>mean</th>\n",
              "      <td>17532.500000</td>\n",
              "      <td>2014.662560</td>\n",
              "      <td>6.522930</td>\n",
              "      <td>15.729637</td>\n",
              "      <td>11.500000</td>\n",
              "      <td>85.079472</td>\n",
              "      <td>109.384022</td>\n",
              "      <td>18.760102</td>\n",
              "      <td>58.095053</td>\n",
              "      <td>1327.767611</td>\n",
              "      <td>58.432876</td>\n",
              "      <td>13.668250</td>\n",
              "      <td>1012.551871</td>\n",
              "      <td>2.445126</td>\n",
              "      <td>0.063983</td>\n",
              "      <td>1.860815</td>\n",
              "      <td>149.774448</td>\n",
              "    </tr>\n",
              "    <tr>\n",
              "      <th>std</th>\n",
              "      <td>10122.249256</td>\n",
              "      <td>1.177213</td>\n",
              "      <td>3.448752</td>\n",
              "      <td>8.800218</td>\n",
              "      <td>6.922285</td>\n",
              "      <td>86.692516</td>\n",
              "      <td>96.088407</td>\n",
              "      <td>24.379948</td>\n",
              "      <td>36.380351</td>\n",
              "      <td>1257.098704</td>\n",
              "      <td>58.330590</td>\n",
              "      <td>11.459735</td>\n",
              "      <td>10.266471</td>\n",
              "      <td>13.811939</td>\n",
              "      <td>0.786059</td>\n",
              "      <td>1.280427</td>\n",
              "      <td>101.609706</td>\n",
              "    </tr>\n",
              "    <tr>\n",
              "      <th>min</th>\n",
              "      <td>1.000000</td>\n",
              "      <td>2013.000000</td>\n",
              "      <td>1.000000</td>\n",
              "      <td>1.000000</td>\n",
              "      <td>0.000000</td>\n",
              "      <td>2.000000</td>\n",
              "      <td>2.000000</td>\n",
              "      <td>0.571200</td>\n",
              "      <td>2.000000</td>\n",
              "      <td>100.000000</td>\n",
              "      <td>0.214200</td>\n",
              "      <td>-16.800000</td>\n",
              "      <td>987.100000</td>\n",
              "      <td>-35.300000</td>\n",
              "      <td>0.000000</td>\n",
              "      <td>0.000000</td>\n",
              "      <td>0.000000</td>\n",
              "    </tr>\n",
              "    <tr>\n",
              "      <th>25%</th>\n",
              "      <td>8766.750000</td>\n",
              "      <td>2014.000000</td>\n",
              "      <td>4.000000</td>\n",
              "      <td>8.000000</td>\n",
              "      <td>5.750000</td>\n",
              "      <td>22.000000</td>\n",
              "      <td>38.000000</td>\n",
              "      <td>3.000000</td>\n",
              "      <td>29.000000</td>\n",
              "      <td>500.000000</td>\n",
              "      <td>10.000000</td>\n",
              "      <td>3.100000</td>\n",
              "      <td>1004.000000</td>\n",
              "      <td>-8.800000</td>\n",
              "      <td>0.000000</td>\n",
              "      <td>1.000000</td>\n",
              "      <td>67.500000</td>\n",
              "    </tr>\n",
              "    <tr>\n",
              "      <th>50%</th>\n",
              "      <td>17532.500000</td>\n",
              "      <td>2015.000000</td>\n",
              "      <td>7.000000</td>\n",
              "      <td>16.000000</td>\n",
              "      <td>11.500000</td>\n",
              "      <td>59.000000</td>\n",
              "      <td>85.000000</td>\n",
              "      <td>9.000000</td>\n",
              "      <td>51.000000</td>\n",
              "      <td>900.000000</td>\n",
              "      <td>45.000000</td>\n",
              "      <td>14.600000</td>\n",
              "      <td>1012.200000</td>\n",
              "      <td>3.000000</td>\n",
              "      <td>0.000000</td>\n",
              "      <td>1.500000</td>\n",
              "      <td>135.000000</td>\n",
              "    </tr>\n",
              "    <tr>\n",
              "      <th>75%</th>\n",
              "      <td>26298.250000</td>\n",
              "      <td>2016.000000</td>\n",
              "      <td>10.000000</td>\n",
              "      <td>23.000000</td>\n",
              "      <td>17.250000</td>\n",
              "      <td>116.000000</td>\n",
              "      <td>149.000000</td>\n",
              "      <td>24.000000</td>\n",
              "      <td>80.000000</td>\n",
              "      <td>1600.000000</td>\n",
              "      <td>83.000000</td>\n",
              "      <td>23.500000</td>\n",
              "      <td>1020.900000</td>\n",
              "      <td>15.000000</td>\n",
              "      <td>0.000000</td>\n",
              "      <td>2.400000</td>\n",
              "      <td>225.000000</td>\n",
              "    </tr>\n",
              "    <tr>\n",
              "      <th>max</th>\n",
              "      <td>35064.000000</td>\n",
              "      <td>2017.000000</td>\n",
              "      <td>12.000000</td>\n",
              "      <td>31.000000</td>\n",
              "      <td>23.000000</td>\n",
              "      <td>844.000000</td>\n",
              "      <td>995.000000</td>\n",
              "      <td>257.000000</td>\n",
              "      <td>273.000000</td>\n",
              "      <td>10000.000000</td>\n",
              "      <td>390.000000</td>\n",
              "      <td>41.100000</td>\n",
              "      <td>1042.000000</td>\n",
              "      <td>28.800000</td>\n",
              "      <td>46.400000</td>\n",
              "      <td>10.500000</td>\n",
              "      <td>337.500000</td>\n",
              "    </tr>\n",
              "  </tbody>\n",
              "</table>\n",
              "</div>"
            ],
            "text/plain": [
              "                 No          year         month           day          hour  \\\n",
              "count  35064.000000  35064.000000  35064.000000  35064.000000  35064.000000   \n",
              "mean   17532.500000   2014.662560      6.522930     15.729637     11.500000   \n",
              "std    10122.249256      1.177213      3.448752      8.800218      6.922285   \n",
              "min        1.000000   2013.000000      1.000000      1.000000      0.000000   \n",
              "25%     8766.750000   2014.000000      4.000000      8.000000      5.750000   \n",
              "50%    17532.500000   2015.000000      7.000000     16.000000     11.500000   \n",
              "75%    26298.250000   2016.000000     10.000000     23.000000     17.250000   \n",
              "max    35064.000000   2017.000000     12.000000     31.000000     23.000000   \n",
              "\n",
              "              PM2.5          PM10           SO2           NO2            CO  \\\n",
              "count  35064.000000  35064.000000  35064.000000  35064.000000  35064.000000   \n",
              "mean      85.079472    109.384022     18.760102     58.095053   1327.767611   \n",
              "std       86.692516     96.088407     24.379948     36.380351   1257.098704   \n",
              "min        2.000000      2.000000      0.571200      2.000000    100.000000   \n",
              "25%       22.000000     38.000000      3.000000     29.000000    500.000000   \n",
              "50%       59.000000     85.000000      9.000000     51.000000    900.000000   \n",
              "75%      116.000000    149.000000     24.000000     80.000000   1600.000000   \n",
              "max      844.000000    995.000000    257.000000    273.000000  10000.000000   \n",
              "\n",
              "                 O3          TEMP          PRES          DEWP          RAIN  \\\n",
              "count  35064.000000  35064.000000  35064.000000  35064.000000  35064.000000   \n",
              "mean      58.432876     13.668250   1012.551871      2.445126      0.063983   \n",
              "std       58.330590     11.459735     10.266471     13.811939      0.786059   \n",
              "min        0.214200    -16.800000    987.100000    -35.300000      0.000000   \n",
              "25%       10.000000      3.100000   1004.000000     -8.800000      0.000000   \n",
              "50%       45.000000     14.600000   1012.200000      3.000000      0.000000   \n",
              "75%       83.000000     23.500000   1020.900000     15.000000      0.000000   \n",
              "max      390.000000     41.100000   1042.000000     28.800000     46.400000   \n",
              "\n",
              "               WSPM    wd_degrees  \n",
              "count  35064.000000  35064.000000  \n",
              "mean       1.860815    149.774448  \n",
              "std        1.280427    101.609706  \n",
              "min        0.000000      0.000000  \n",
              "25%        1.000000     67.500000  \n",
              "50%        1.500000    135.000000  \n",
              "75%        2.400000    225.000000  \n",
              "max       10.500000    337.500000  "
            ]
          },
          "execution_count": 147,
          "metadata": {},
          "output_type": "execute_result"
        }
      ],
      "source": [
        "Nongzhanguan_df.describe()"
      ]
    },
    {
      "cell_type": "markdown",
      "metadata": {
        "id": "RGo09bm38zdP"
      },
      "source": [
        "#### Shunyi"
      ]
    },
    {
      "cell_type": "markdown",
      "metadata": {
        "id": "fK0CoVM88zdQ"
      },
      "source": [
        "Menghapus Duplikat"
      ]
    },
    {
      "cell_type": "code",
      "execution_count": 148,
      "metadata": {
        "colab": {
          "base_uri": "https://localhost:8080/"
        },
        "id": "Jn29jPmr8zdQ",
        "outputId": "4150a5fb-33c8-45de-817e-318187760b8d"
      },
      "outputs": [
        {
          "data": {
            "text/plain": [
              "np.int64(0)"
            ]
          },
          "execution_count": 148,
          "metadata": {},
          "output_type": "execute_result"
        }
      ],
      "source": [
        "Shunyi_df.duplicated().sum()"
      ]
    },
    {
      "cell_type": "code",
      "execution_count": 149,
      "metadata": {
        "id": "8xF6DaZ-8zdR"
      },
      "outputs": [],
      "source": [
        "Shunyi_df.drop_duplicates(inplace=True)"
      ]
    },
    {
      "cell_type": "code",
      "execution_count": 150,
      "metadata": {
        "colab": {
          "base_uri": "https://localhost:8080/"
        },
        "id": "KZOPUTK18zdR",
        "outputId": "46d1f5a2-83d6-42b8-c02c-4b606404629b"
      },
      "outputs": [
        {
          "name": "stdout",
          "output_type": "stream",
          "text": [
            "Jumlah duplikasi:  0\n"
          ]
        }
      ],
      "source": [
        "print(\"Jumlah duplikasi: \", Shunyi_df.duplicated().sum())"
      ]
    },
    {
      "cell_type": "code",
      "execution_count": 151,
      "metadata": {
        "colab": {
          "base_uri": "https://localhost:8080/",
          "height": 0
        },
        "collapsed": true,
        "id": "FQcqCSfi8zdR",
        "outputId": "c13623da-11ed-4fc9-aef8-b92f81308a8c"
      },
      "outputs": [
        {
          "data": {
            "text/plain": [
              "No               0\n",
              "year             0\n",
              "month            0\n",
              "day              0\n",
              "hour             0\n",
              "PM2.5          913\n",
              "PM10           548\n",
              "SO2           1296\n",
              "NO2           1365\n",
              "CO            2178\n",
              "O3            1489\n",
              "TEMP            51\n",
              "PRES            51\n",
              "DEWP            54\n",
              "RAIN            51\n",
              "wd             483\n",
              "WSPM            44\n",
              "station          0\n",
              "wd_degrees     483\n",
              "dtype: int64"
            ]
          },
          "execution_count": 151,
          "metadata": {},
          "output_type": "execute_result"
        }
      ],
      "source": [
        "Shunyi_df.isna().sum()"
      ]
    },
    {
      "cell_type": "markdown",
      "metadata": {
        "id": "8FA4LX0f8zdS"
      },
      "source": [
        "Interpolating Missing Data"
      ]
    },
    {
      "cell_type": "code",
      "execution_count": 152,
      "metadata": {
        "id": "EWoIoY0l8zdS"
      },
      "outputs": [],
      "source": [
        "# List of column names to check for missing values\n",
        "columns_to_check = ['PM2.5', 'PM10', 'SO2', 'NO2', 'CO', 'TEMP', 'DEWP', 'RAIN', 'WSPM', 'wd_degrees']\n",
        "\n",
        "# Loop through each column and filter rows with missing values\n",
        "for column in columns_to_check:\n",
        "  Shunyi_df[Shunyi_df[column].isna()]"
      ]
    },
    {
      "cell_type": "code",
      "execution_count": 153,
      "metadata": {
        "colab": {
          "base_uri": "https://localhost:8080/"
        },
        "collapsed": true,
        "id": "GJLWEASJ8zdS",
        "outputId": "a8893fda-2a55-4aae-c3da-f2fa2a9a38c5"
      },
      "outputs": [
        {
          "name": "stderr",
          "output_type": "stream",
          "text": [
            "C:\\Users\\Dell\\AppData\\Local\\Temp\\ipykernel_10372\\767034630.py:6: FutureWarning: Series.interpolate with object dtype is deprecated and will raise in a future version. Call obj.infer_objects(copy=False) before interpolating instead.\n",
            "  Shunyi_df[column] = Shunyi_df[column].interpolate(method=\"linear\")\n"
          ]
        }
      ],
      "source": [
        "# Iterate over each column and its corresponding count of NaN values\n",
        "missing_values = Shunyi_df.isna().sum()\n",
        "\n",
        "for column, na_count in missing_values.items():\n",
        "    if na_count > 0:\n",
        "        Shunyi_df[column] = Shunyi_df[column].interpolate(method=\"linear\")"
      ]
    },
    {
      "cell_type": "code",
      "execution_count": 154,
      "metadata": {
        "collapsed": true,
        "id": "KT_kAKb88zdS"
      },
      "outputs": [],
      "source": [
        "degrees_to_wind = {v: k for k, v in wind_direction_map.items()}\n",
        "\n",
        "# Apply the function to convert interpolated degrees back to nearest wind direction\n",
        "Shunyi_df['wd_interpolated'] = Shunyi_df['wd_degrees'].apply(find_nearest_direction)"
      ]
    },
    {
      "cell_type": "markdown",
      "metadata": {
        "id": "jCWzV2AD8zdS"
      },
      "source": [
        "Hasil"
      ]
    },
    {
      "cell_type": "code",
      "execution_count": 155,
      "metadata": {
        "colab": {
          "base_uri": "https://localhost:8080/",
          "height": 0
        },
        "collapsed": true,
        "id": "f-k-qi7v8zdS",
        "outputId": "8047e8a2-2bc5-47cb-e953-3c9cdb29db38"
      },
      "outputs": [
        {
          "data": {
            "text/plain": [
              "No                   0\n",
              "year                 0\n",
              "month                0\n",
              "day                  0\n",
              "hour                 0\n",
              "PM2.5                0\n",
              "PM10                 0\n",
              "SO2                  0\n",
              "NO2                  0\n",
              "CO                   0\n",
              "O3                   0\n",
              "TEMP                 0\n",
              "PRES                 0\n",
              "DEWP                 0\n",
              "RAIN                 0\n",
              "wd                 483\n",
              "WSPM                 0\n",
              "station              0\n",
              "wd_degrees           0\n",
              "wd_interpolated      0\n",
              "dtype: int64"
            ]
          },
          "execution_count": 155,
          "metadata": {},
          "output_type": "execute_result"
        }
      ],
      "source": [
        "Shunyi_df.isna().sum()"
      ]
    },
    {
      "cell_type": "code",
      "execution_count": 156,
      "metadata": {
        "colab": {
          "base_uri": "https://localhost:8080/",
          "height": 0
        },
        "id": "G0tvZsQR8zdS",
        "outputId": "7292b6ba-809e-4b3e-ab49-8415bfdd7781"
      },
      "outputs": [
        {
          "data": {
            "text/html": [
              "<div>\n",
              "<style scoped>\n",
              "    .dataframe tbody tr th:only-of-type {\n",
              "        vertical-align: middle;\n",
              "    }\n",
              "\n",
              "    .dataframe tbody tr th {\n",
              "        vertical-align: top;\n",
              "    }\n",
              "\n",
              "    .dataframe thead th {\n",
              "        text-align: right;\n",
              "    }\n",
              "</style>\n",
              "<table border=\"1\" class=\"dataframe\">\n",
              "  <thead>\n",
              "    <tr style=\"text-align: right;\">\n",
              "      <th></th>\n",
              "      <th>No</th>\n",
              "      <th>year</th>\n",
              "      <th>month</th>\n",
              "      <th>day</th>\n",
              "      <th>hour</th>\n",
              "      <th>PM2.5</th>\n",
              "      <th>PM10</th>\n",
              "      <th>SO2</th>\n",
              "      <th>NO2</th>\n",
              "      <th>CO</th>\n",
              "      <th>O3</th>\n",
              "      <th>TEMP</th>\n",
              "      <th>PRES</th>\n",
              "      <th>DEWP</th>\n",
              "      <th>RAIN</th>\n",
              "      <th>WSPM</th>\n",
              "      <th>wd_degrees</th>\n",
              "    </tr>\n",
              "  </thead>\n",
              "  <tbody>\n",
              "    <tr>\n",
              "      <th>count</th>\n",
              "      <td>35064.000000</td>\n",
              "      <td>35064.000000</td>\n",
              "      <td>35064.000000</td>\n",
              "      <td>35064.000000</td>\n",
              "      <td>35064.000000</td>\n",
              "      <td>35064.000000</td>\n",
              "      <td>35064.000000</td>\n",
              "      <td>35064.000000</td>\n",
              "      <td>35064.000000</td>\n",
              "      <td>35064.000000</td>\n",
              "      <td>35064.000000</td>\n",
              "      <td>35064.000000</td>\n",
              "      <td>35064.000000</td>\n",
              "      <td>35064.000000</td>\n",
              "      <td>35064.000000</td>\n",
              "      <td>35064.000000</td>\n",
              "      <td>35064.000000</td>\n",
              "    </tr>\n",
              "    <tr>\n",
              "      <th>mean</th>\n",
              "      <td>17532.500000</td>\n",
              "      <td>2014.662560</td>\n",
              "      <td>6.522930</td>\n",
              "      <td>15.729637</td>\n",
              "      <td>11.500000</td>\n",
              "      <td>79.437962</td>\n",
              "      <td>99.271936</td>\n",
              "      <td>13.445971</td>\n",
              "      <td>44.094695</td>\n",
              "      <td>1197.904660</td>\n",
              "      <td>54.218810</td>\n",
              "      <td>13.375531</td>\n",
              "      <td>1013.071937</td>\n",
              "      <td>2.450821</td>\n",
              "      <td>0.061010</td>\n",
              "      <td>1.807784</td>\n",
              "      <td>140.875578</td>\n",
              "    </tr>\n",
              "    <tr>\n",
              "      <th>std</th>\n",
              "      <td>10122.249256</td>\n",
              "      <td>1.177213</td>\n",
              "      <td>3.448752</td>\n",
              "      <td>8.800218</td>\n",
              "      <td>6.922285</td>\n",
              "      <td>81.500282</td>\n",
              "      <td>90.579040</td>\n",
              "      <td>19.463506</td>\n",
              "      <td>30.907747</td>\n",
              "      <td>1162.920922</td>\n",
              "      <td>54.592684</td>\n",
              "      <td>11.484913</td>\n",
              "      <td>10.177512</td>\n",
              "      <td>13.732520</td>\n",
              "      <td>0.761118</td>\n",
              "      <td>1.287542</td>\n",
              "      <td>109.203784</td>\n",
              "    </tr>\n",
              "    <tr>\n",
              "      <th>min</th>\n",
              "      <td>1.000000</td>\n",
              "      <td>2013.000000</td>\n",
              "      <td>1.000000</td>\n",
              "      <td>1.000000</td>\n",
              "      <td>0.000000</td>\n",
              "      <td>2.000000</td>\n",
              "      <td>2.000000</td>\n",
              "      <td>0.285600</td>\n",
              "      <td>2.000000</td>\n",
              "      <td>100.000000</td>\n",
              "      <td>0.214200</td>\n",
              "      <td>-16.800000</td>\n",
              "      <td>988.000000</td>\n",
              "      <td>-36.000000</td>\n",
              "      <td>0.000000</td>\n",
              "      <td>0.000000</td>\n",
              "      <td>0.000000</td>\n",
              "    </tr>\n",
              "    <tr>\n",
              "      <th>25%</th>\n",
              "      <td>8766.750000</td>\n",
              "      <td>2014.000000</td>\n",
              "      <td>4.000000</td>\n",
              "      <td>8.000000</td>\n",
              "      <td>5.750000</td>\n",
              "      <td>19.000000</td>\n",
              "      <td>31.000000</td>\n",
              "      <td>2.000000</td>\n",
              "      <td>20.000000</td>\n",
              "      <td>400.000000</td>\n",
              "      <td>10.000000</td>\n",
              "      <td>3.000000</td>\n",
              "      <td>1004.700000</td>\n",
              "      <td>-8.900000</td>\n",
              "      <td>0.000000</td>\n",
              "      <td>1.000000</td>\n",
              "      <td>45.000000</td>\n",
              "    </tr>\n",
              "    <tr>\n",
              "      <th>50%</th>\n",
              "      <td>17532.500000</td>\n",
              "      <td>2015.000000</td>\n",
              "      <td>7.000000</td>\n",
              "      <td>16.000000</td>\n",
              "      <td>11.500000</td>\n",
              "      <td>55.000000</td>\n",
              "      <td>77.000000</td>\n",
              "      <td>5.000000</td>\n",
              "      <td>37.000000</td>\n",
              "      <td>900.000000</td>\n",
              "      <td>42.000000</td>\n",
              "      <td>14.400000</td>\n",
              "      <td>1012.800000</td>\n",
              "      <td>3.100000</td>\n",
              "      <td>0.000000</td>\n",
              "      <td>1.500000</td>\n",
              "      <td>135.000000</td>\n",
              "    </tr>\n",
              "    <tr>\n",
              "      <th>75%</th>\n",
              "      <td>26298.250000</td>\n",
              "      <td>2016.000000</td>\n",
              "      <td>10.000000</td>\n",
              "      <td>23.000000</td>\n",
              "      <td>17.250000</td>\n",
              "      <td>111.000000</td>\n",
              "      <td>139.000000</td>\n",
              "      <td>16.000000</td>\n",
              "      <td>62.000000</td>\n",
              "      <td>1500.000000</td>\n",
              "      <td>76.000000</td>\n",
              "      <td>23.200000</td>\n",
              "      <td>1021.000000</td>\n",
              "      <td>15.100000</td>\n",
              "      <td>0.000000</td>\n",
              "      <td>2.300000</td>\n",
              "      <td>225.000000</td>\n",
              "    </tr>\n",
              "    <tr>\n",
              "      <th>max</th>\n",
              "      <td>35064.000000</td>\n",
              "      <td>2017.000000</td>\n",
              "      <td>12.000000</td>\n",
              "      <td>31.000000</td>\n",
              "      <td>23.000000</td>\n",
              "      <td>941.000000</td>\n",
              "      <td>999.000000</td>\n",
              "      <td>239.000000</td>\n",
              "      <td>258.000000</td>\n",
              "      <td>10000.000000</td>\n",
              "      <td>351.716400</td>\n",
              "      <td>40.600000</td>\n",
              "      <td>1042.800000</td>\n",
              "      <td>27.500000</td>\n",
              "      <td>37.300000</td>\n",
              "      <td>12.800000</td>\n",
              "      <td>337.500000</td>\n",
              "    </tr>\n",
              "  </tbody>\n",
              "</table>\n",
              "</div>"
            ],
            "text/plain": [
              "                 No          year         month           day          hour  \\\n",
              "count  35064.000000  35064.000000  35064.000000  35064.000000  35064.000000   \n",
              "mean   17532.500000   2014.662560      6.522930     15.729637     11.500000   \n",
              "std    10122.249256      1.177213      3.448752      8.800218      6.922285   \n",
              "min        1.000000   2013.000000      1.000000      1.000000      0.000000   \n",
              "25%     8766.750000   2014.000000      4.000000      8.000000      5.750000   \n",
              "50%    17532.500000   2015.000000      7.000000     16.000000     11.500000   \n",
              "75%    26298.250000   2016.000000     10.000000     23.000000     17.250000   \n",
              "max    35064.000000   2017.000000     12.000000     31.000000     23.000000   \n",
              "\n",
              "              PM2.5          PM10           SO2           NO2            CO  \\\n",
              "count  35064.000000  35064.000000  35064.000000  35064.000000  35064.000000   \n",
              "mean      79.437962     99.271936     13.445971     44.094695   1197.904660   \n",
              "std       81.500282     90.579040     19.463506     30.907747   1162.920922   \n",
              "min        2.000000      2.000000      0.285600      2.000000    100.000000   \n",
              "25%       19.000000     31.000000      2.000000     20.000000    400.000000   \n",
              "50%       55.000000     77.000000      5.000000     37.000000    900.000000   \n",
              "75%      111.000000    139.000000     16.000000     62.000000   1500.000000   \n",
              "max      941.000000    999.000000    239.000000    258.000000  10000.000000   \n",
              "\n",
              "                 O3          TEMP          PRES          DEWP          RAIN  \\\n",
              "count  35064.000000  35064.000000  35064.000000  35064.000000  35064.000000   \n",
              "mean      54.218810     13.375531   1013.071937      2.450821      0.061010   \n",
              "std       54.592684     11.484913     10.177512     13.732520      0.761118   \n",
              "min        0.214200    -16.800000    988.000000    -36.000000      0.000000   \n",
              "25%       10.000000      3.000000   1004.700000     -8.900000      0.000000   \n",
              "50%       42.000000     14.400000   1012.800000      3.100000      0.000000   \n",
              "75%       76.000000     23.200000   1021.000000     15.100000      0.000000   \n",
              "max      351.716400     40.600000   1042.800000     27.500000     37.300000   \n",
              "\n",
              "               WSPM    wd_degrees  \n",
              "count  35064.000000  35064.000000  \n",
              "mean       1.807784    140.875578  \n",
              "std        1.287542    109.203784  \n",
              "min        0.000000      0.000000  \n",
              "25%        1.000000     45.000000  \n",
              "50%        1.500000    135.000000  \n",
              "75%        2.300000    225.000000  \n",
              "max       12.800000    337.500000  "
            ]
          },
          "execution_count": 156,
          "metadata": {},
          "output_type": "execute_result"
        }
      ],
      "source": [
        "Shunyi_df.describe()"
      ]
    },
    {
      "cell_type": "markdown",
      "metadata": {
        "id": "tObkaPBN81iB"
      },
      "source": [
        "#### Tiantan"
      ]
    },
    {
      "cell_type": "markdown",
      "metadata": {
        "id": "M6hLQTwt81iQ"
      },
      "source": [
        "Menghapus Duplikat"
      ]
    },
    {
      "cell_type": "code",
      "execution_count": 157,
      "metadata": {
        "colab": {
          "base_uri": "https://localhost:8080/"
        },
        "id": "zvEaSUyF81iQ",
        "outputId": "42c96571-f48b-4495-be86-f186ae0e3f35"
      },
      "outputs": [
        {
          "data": {
            "text/plain": [
              "np.int64(0)"
            ]
          },
          "execution_count": 157,
          "metadata": {},
          "output_type": "execute_result"
        }
      ],
      "source": [
        "Tiantan_df.duplicated().sum()"
      ]
    },
    {
      "cell_type": "code",
      "execution_count": 158,
      "metadata": {
        "id": "zo5uci9u81iR"
      },
      "outputs": [],
      "source": [
        "Tiantan_df.drop_duplicates(inplace=True)"
      ]
    },
    {
      "cell_type": "code",
      "execution_count": 159,
      "metadata": {
        "colab": {
          "base_uri": "https://localhost:8080/"
        },
        "id": "OMO6T5X781iR",
        "outputId": "4bf8f84a-002a-4b9f-c256-306f0a25b394"
      },
      "outputs": [
        {
          "name": "stdout",
          "output_type": "stream",
          "text": [
            "Jumlah duplikasi:  0\n"
          ]
        }
      ],
      "source": [
        "print(\"Jumlah duplikasi: \", Tiantan_df.duplicated().sum())"
      ]
    },
    {
      "cell_type": "code",
      "execution_count": 160,
      "metadata": {
        "colab": {
          "base_uri": "https://localhost:8080/",
          "height": 0
        },
        "collapsed": true,
        "id": "jDT7hzK081iR",
        "outputId": "f6d19df5-6633-4614-8290-65d2e65b770b"
      },
      "outputs": [
        {
          "data": {
            "text/plain": [
              "No               0\n",
              "year             0\n",
              "month            0\n",
              "day              0\n",
              "hour             0\n",
              "PM2.5          677\n",
              "PM10           597\n",
              "SO2           1118\n",
              "NO2            744\n",
              "CO            1126\n",
              "O3             843\n",
              "TEMP            20\n",
              "PRES            20\n",
              "DEWP            20\n",
              "RAIN            20\n",
              "wd              78\n",
              "WSPM            14\n",
              "station          0\n",
              "wd_degrees      78\n",
              "dtype: int64"
            ]
          },
          "execution_count": 160,
          "metadata": {},
          "output_type": "execute_result"
        }
      ],
      "source": [
        "Tiantan_df.isna().sum()"
      ]
    },
    {
      "cell_type": "markdown",
      "metadata": {
        "id": "9Wc_40B081iR"
      },
      "source": [
        "Interpolating Missing Data"
      ]
    },
    {
      "cell_type": "code",
      "execution_count": 161,
      "metadata": {
        "id": "YjHODoTJ81iR"
      },
      "outputs": [],
      "source": [
        "# List of column names to check for missing values\n",
        "columns_to_check = ['PM2.5', 'PM10', 'SO2', 'NO2', 'CO', 'TEMP', 'DEWP', 'RAIN', 'WSPM', 'wd_degrees']\n",
        "\n",
        "# Loop through each column and filter rows with missing values\n",
        "for column in columns_to_check:\n",
        "  Tiantan_df[Tiantan_df[column].isna()]"
      ]
    },
    {
      "cell_type": "code",
      "execution_count": 162,
      "metadata": {
        "colab": {
          "base_uri": "https://localhost:8080/"
        },
        "collapsed": true,
        "id": "bEPB9B5-81iR",
        "outputId": "755fc743-0266-42d9-ed6a-88cf83f148ac"
      },
      "outputs": [
        {
          "name": "stderr",
          "output_type": "stream",
          "text": [
            "C:\\Users\\Dell\\AppData\\Local\\Temp\\ipykernel_10372\\2511955793.py:6: FutureWarning: Series.interpolate with object dtype is deprecated and will raise in a future version. Call obj.infer_objects(copy=False) before interpolating instead.\n",
            "  Tiantan_df[column] = Tiantan_df[column].interpolate(method=\"linear\")\n"
          ]
        }
      ],
      "source": [
        "# Iterate over each column and its corresponding count of NaN values\n",
        "missing_values = Tiantan_df.isna().sum()\n",
        "\n",
        "for column, na_count in missing_values.items():\n",
        "    if na_count > 0:\n",
        "        Tiantan_df[column] = Tiantan_df[column].interpolate(method=\"linear\")"
      ]
    },
    {
      "cell_type": "code",
      "execution_count": 163,
      "metadata": {
        "collapsed": true,
        "id": "O2fdVIru81iS"
      },
      "outputs": [],
      "source": [
        "degrees_to_wind = {v: k for k, v in wind_direction_map.items()}\n",
        "\n",
        "# Apply the function to convert interpolated degrees back to nearest wind direction\n",
        "Tiantan_df['wd_interpolated'] = Tiantan_df['wd_degrees'].apply(find_nearest_direction)"
      ]
    },
    {
      "cell_type": "markdown",
      "metadata": {
        "id": "tswzAzA881iS"
      },
      "source": [
        "Hasil"
      ]
    },
    {
      "cell_type": "code",
      "execution_count": 164,
      "metadata": {
        "colab": {
          "base_uri": "https://localhost:8080/",
          "height": 0
        },
        "collapsed": true,
        "id": "V-Oh1rtT81iS",
        "outputId": "b29f944a-a96b-47ef-9121-518ec585f000"
      },
      "outputs": [
        {
          "data": {
            "text/plain": [
              "No                  0\n",
              "year                0\n",
              "month               0\n",
              "day                 0\n",
              "hour                0\n",
              "PM2.5               0\n",
              "PM10                0\n",
              "SO2                 0\n",
              "NO2                 0\n",
              "CO                  0\n",
              "O3                  0\n",
              "TEMP                0\n",
              "PRES                0\n",
              "DEWP                0\n",
              "RAIN                0\n",
              "wd                 78\n",
              "WSPM                0\n",
              "station             0\n",
              "wd_degrees          0\n",
              "wd_interpolated     0\n",
              "dtype: int64"
            ]
          },
          "execution_count": 164,
          "metadata": {},
          "output_type": "execute_result"
        }
      ],
      "source": [
        "Tiantan_df.isna().sum()"
      ]
    },
    {
      "cell_type": "code",
      "execution_count": 165,
      "metadata": {
        "colab": {
          "base_uri": "https://localhost:8080/",
          "height": 0
        },
        "id": "lTeygfLG81iS",
        "outputId": "f2e64892-5db1-445b-8727-c976452cb874"
      },
      "outputs": [
        {
          "data": {
            "text/html": [
              "<div>\n",
              "<style scoped>\n",
              "    .dataframe tbody tr th:only-of-type {\n",
              "        vertical-align: middle;\n",
              "    }\n",
              "\n",
              "    .dataframe tbody tr th {\n",
              "        vertical-align: top;\n",
              "    }\n",
              "\n",
              "    .dataframe thead th {\n",
              "        text-align: right;\n",
              "    }\n",
              "</style>\n",
              "<table border=\"1\" class=\"dataframe\">\n",
              "  <thead>\n",
              "    <tr style=\"text-align: right;\">\n",
              "      <th></th>\n",
              "      <th>No</th>\n",
              "      <th>year</th>\n",
              "      <th>month</th>\n",
              "      <th>day</th>\n",
              "      <th>hour</th>\n",
              "      <th>PM2.5</th>\n",
              "      <th>PM10</th>\n",
              "      <th>SO2</th>\n",
              "      <th>NO2</th>\n",
              "      <th>CO</th>\n",
              "      <th>O3</th>\n",
              "      <th>TEMP</th>\n",
              "      <th>PRES</th>\n",
              "      <th>DEWP</th>\n",
              "      <th>RAIN</th>\n",
              "      <th>WSPM</th>\n",
              "      <th>wd_degrees</th>\n",
              "    </tr>\n",
              "  </thead>\n",
              "  <tbody>\n",
              "    <tr>\n",
              "      <th>count</th>\n",
              "      <td>35064.000000</td>\n",
              "      <td>35064.000000</td>\n",
              "      <td>35064.000000</td>\n",
              "      <td>35064.000000</td>\n",
              "      <td>35064.000000</td>\n",
              "      <td>35064.000000</td>\n",
              "      <td>35064.000000</td>\n",
              "      <td>35064.000000</td>\n",
              "      <td>35064.000000</td>\n",
              "      <td>35064.000000</td>\n",
              "      <td>35064.000000</td>\n",
              "      <td>35064.000000</td>\n",
              "      <td>35064.000000</td>\n",
              "      <td>35064.000000</td>\n",
              "      <td>35064.000000</td>\n",
              "      <td>35064.000000</td>\n",
              "      <td>35064.000000</td>\n",
              "    </tr>\n",
              "    <tr>\n",
              "      <th>mean</th>\n",
              "      <td>17532.500000</td>\n",
              "      <td>2014.662560</td>\n",
              "      <td>6.522930</td>\n",
              "      <td>15.729637</td>\n",
              "      <td>11.500000</td>\n",
              "      <td>82.033097</td>\n",
              "      <td>106.537076</td>\n",
              "      <td>14.510018</td>\n",
              "      <td>53.258828</td>\n",
              "      <td>1305.333262</td>\n",
              "      <td>56.148077</td>\n",
              "      <td>13.668250</td>\n",
              "      <td>1012.551871</td>\n",
              "      <td>2.445126</td>\n",
              "      <td>0.063983</td>\n",
              "      <td>1.860815</td>\n",
              "      <td>149.774448</td>\n",
              "    </tr>\n",
              "    <tr>\n",
              "      <th>std</th>\n",
              "      <td>10122.249256</td>\n",
              "      <td>1.177213</td>\n",
              "      <td>3.448752</td>\n",
              "      <td>8.800218</td>\n",
              "      <td>6.922285</td>\n",
              "      <td>80.895489</td>\n",
              "      <td>90.277762</td>\n",
              "      <td>20.277493</td>\n",
              "      <td>32.016282</td>\n",
              "      <td>1179.450046</td>\n",
              "      <td>59.458361</td>\n",
              "      <td>11.459735</td>\n",
              "      <td>10.266471</td>\n",
              "      <td>13.811939</td>\n",
              "      <td>0.786059</td>\n",
              "      <td>1.280427</td>\n",
              "      <td>101.609706</td>\n",
              "    </tr>\n",
              "    <tr>\n",
              "      <th>min</th>\n",
              "      <td>1.000000</td>\n",
              "      <td>2013.000000</td>\n",
              "      <td>1.000000</td>\n",
              "      <td>1.000000</td>\n",
              "      <td>0.000000</td>\n",
              "      <td>3.000000</td>\n",
              "      <td>2.000000</td>\n",
              "      <td>0.571200</td>\n",
              "      <td>2.000000</td>\n",
              "      <td>100.000000</td>\n",
              "      <td>0.428400</td>\n",
              "      <td>-16.800000</td>\n",
              "      <td>987.100000</td>\n",
              "      <td>-35.300000</td>\n",
              "      <td>0.000000</td>\n",
              "      <td>0.000000</td>\n",
              "      <td>0.000000</td>\n",
              "    </tr>\n",
              "    <tr>\n",
              "      <th>25%</th>\n",
              "      <td>8766.750000</td>\n",
              "      <td>2014.000000</td>\n",
              "      <td>4.000000</td>\n",
              "      <td>8.000000</td>\n",
              "      <td>5.750000</td>\n",
              "      <td>22.000000</td>\n",
              "      <td>41.000000</td>\n",
              "      <td>3.000000</td>\n",
              "      <td>28.000000</td>\n",
              "      <td>518.125000</td>\n",
              "      <td>8.000000</td>\n",
              "      <td>3.100000</td>\n",
              "      <td>1004.000000</td>\n",
              "      <td>-8.800000</td>\n",
              "      <td>0.000000</td>\n",
              "      <td>1.000000</td>\n",
              "      <td>67.500000</td>\n",
              "    </tr>\n",
              "    <tr>\n",
              "      <th>50%</th>\n",
              "      <td>17532.500000</td>\n",
              "      <td>2015.000000</td>\n",
              "      <td>7.000000</td>\n",
              "      <td>16.000000</td>\n",
              "      <td>11.500000</td>\n",
              "      <td>58.000000</td>\n",
              "      <td>85.000000</td>\n",
              "      <td>7.000000</td>\n",
              "      <td>47.000000</td>\n",
              "      <td>900.000000</td>\n",
              "      <td>40.000000</td>\n",
              "      <td>14.600000</td>\n",
              "      <td>1012.200000</td>\n",
              "      <td>3.000000</td>\n",
              "      <td>0.000000</td>\n",
              "      <td>1.500000</td>\n",
              "      <td>135.000000</td>\n",
              "    </tr>\n",
              "    <tr>\n",
              "      <th>75%</th>\n",
              "      <td>26298.250000</td>\n",
              "      <td>2016.000000</td>\n",
              "      <td>10.000000</td>\n",
              "      <td>23.000000</td>\n",
              "      <td>17.250000</td>\n",
              "      <td>113.000000</td>\n",
              "      <td>144.000000</td>\n",
              "      <td>17.000000</td>\n",
              "      <td>71.000000</td>\n",
              "      <td>1600.000000</td>\n",
              "      <td>81.000000</td>\n",
              "      <td>23.500000</td>\n",
              "      <td>1020.900000</td>\n",
              "      <td>15.000000</td>\n",
              "      <td>0.000000</td>\n",
              "      <td>2.400000</td>\n",
              "      <td>225.000000</td>\n",
              "    </tr>\n",
              "    <tr>\n",
              "      <th>max</th>\n",
              "      <td>35064.000000</td>\n",
              "      <td>2017.000000</td>\n",
              "      <td>12.000000</td>\n",
              "      <td>31.000000</td>\n",
              "      <td>23.000000</td>\n",
              "      <td>821.000000</td>\n",
              "      <td>988.000000</td>\n",
              "      <td>273.000000</td>\n",
              "      <td>241.000000</td>\n",
              "      <td>10000.000000</td>\n",
              "      <td>674.000000</td>\n",
              "      <td>41.100000</td>\n",
              "      <td>1042.000000</td>\n",
              "      <td>28.800000</td>\n",
              "      <td>46.400000</td>\n",
              "      <td>10.500000</td>\n",
              "      <td>337.500000</td>\n",
              "    </tr>\n",
              "  </tbody>\n",
              "</table>\n",
              "</div>"
            ],
            "text/plain": [
              "                 No          year         month           day          hour  \\\n",
              "count  35064.000000  35064.000000  35064.000000  35064.000000  35064.000000   \n",
              "mean   17532.500000   2014.662560      6.522930     15.729637     11.500000   \n",
              "std    10122.249256      1.177213      3.448752      8.800218      6.922285   \n",
              "min        1.000000   2013.000000      1.000000      1.000000      0.000000   \n",
              "25%     8766.750000   2014.000000      4.000000      8.000000      5.750000   \n",
              "50%    17532.500000   2015.000000      7.000000     16.000000     11.500000   \n",
              "75%    26298.250000   2016.000000     10.000000     23.000000     17.250000   \n",
              "max    35064.000000   2017.000000     12.000000     31.000000     23.000000   \n",
              "\n",
              "              PM2.5          PM10           SO2           NO2            CO  \\\n",
              "count  35064.000000  35064.000000  35064.000000  35064.000000  35064.000000   \n",
              "mean      82.033097    106.537076     14.510018     53.258828   1305.333262   \n",
              "std       80.895489     90.277762     20.277493     32.016282   1179.450046   \n",
              "min        3.000000      2.000000      0.571200      2.000000    100.000000   \n",
              "25%       22.000000     41.000000      3.000000     28.000000    518.125000   \n",
              "50%       58.000000     85.000000      7.000000     47.000000    900.000000   \n",
              "75%      113.000000    144.000000     17.000000     71.000000   1600.000000   \n",
              "max      821.000000    988.000000    273.000000    241.000000  10000.000000   \n",
              "\n",
              "                 O3          TEMP          PRES          DEWP          RAIN  \\\n",
              "count  35064.000000  35064.000000  35064.000000  35064.000000  35064.000000   \n",
              "mean      56.148077     13.668250   1012.551871      2.445126      0.063983   \n",
              "std       59.458361     11.459735     10.266471     13.811939      0.786059   \n",
              "min        0.428400    -16.800000    987.100000    -35.300000      0.000000   \n",
              "25%        8.000000      3.100000   1004.000000     -8.800000      0.000000   \n",
              "50%       40.000000     14.600000   1012.200000      3.000000      0.000000   \n",
              "75%       81.000000     23.500000   1020.900000     15.000000      0.000000   \n",
              "max      674.000000     41.100000   1042.000000     28.800000     46.400000   \n",
              "\n",
              "               WSPM    wd_degrees  \n",
              "count  35064.000000  35064.000000  \n",
              "mean       1.860815    149.774448  \n",
              "std        1.280427    101.609706  \n",
              "min        0.000000      0.000000  \n",
              "25%        1.000000     67.500000  \n",
              "50%        1.500000    135.000000  \n",
              "75%        2.400000    225.000000  \n",
              "max       10.500000    337.500000  "
            ]
          },
          "execution_count": 165,
          "metadata": {},
          "output_type": "execute_result"
        }
      ],
      "source": [
        "Tiantan_df.describe()"
      ]
    },
    {
      "cell_type": "markdown",
      "metadata": {
        "id": "WlNCwUaV82ZS"
      },
      "source": [
        "#### Wanliu"
      ]
    },
    {
      "cell_type": "markdown",
      "metadata": {
        "id": "QOKJg_at82ZS"
      },
      "source": [
        "Menghapus Duplikat"
      ]
    },
    {
      "cell_type": "code",
      "execution_count": 166,
      "metadata": {
        "colab": {
          "base_uri": "https://localhost:8080/"
        },
        "id": "jyQ6FWhv82ZT",
        "outputId": "3ee67a05-e2e2-46a4-9ff9-9df8dfc7e0b1"
      },
      "outputs": [
        {
          "data": {
            "text/plain": [
              "np.int64(0)"
            ]
          },
          "execution_count": 166,
          "metadata": {},
          "output_type": "execute_result"
        }
      ],
      "source": [
        "Wanliu_df.duplicated().sum()"
      ]
    },
    {
      "cell_type": "code",
      "execution_count": 167,
      "metadata": {
        "id": "_CR_LuGX82ZT"
      },
      "outputs": [],
      "source": [
        "Wanliu_df.drop_duplicates(inplace=True)"
      ]
    },
    {
      "cell_type": "code",
      "execution_count": 168,
      "metadata": {
        "colab": {
          "base_uri": "https://localhost:8080/"
        },
        "id": "2k3uP35282ZT",
        "outputId": "9098d0ab-b50f-49b7-9b61-71ff4ff3ff49"
      },
      "outputs": [
        {
          "name": "stdout",
          "output_type": "stream",
          "text": [
            "Jumlah duplikasi:  0\n"
          ]
        }
      ],
      "source": [
        "print(\"Jumlah duplikasi: \", Wanliu_df.duplicated().sum())"
      ]
    },
    {
      "cell_type": "code",
      "execution_count": 169,
      "metadata": {
        "colab": {
          "base_uri": "https://localhost:8080/",
          "height": 0
        },
        "collapsed": true,
        "id": "nJc-_gPj82ZT",
        "outputId": "72242264-ffe3-4f8a-f25b-baf93f7cb7a6"
      },
      "outputs": [
        {
          "data": {
            "text/plain": [
              "No               0\n",
              "year             0\n",
              "month            0\n",
              "day              0\n",
              "hour             0\n",
              "PM2.5          382\n",
              "PM10           284\n",
              "SO2            575\n",
              "NO2           1070\n",
              "CO            1812\n",
              "O3            2107\n",
              "TEMP            20\n",
              "PRES            20\n",
              "DEWP            20\n",
              "RAIN            20\n",
              "wd             123\n",
              "WSPM            14\n",
              "station          0\n",
              "wd_degrees     123\n",
              "dtype: int64"
            ]
          },
          "execution_count": 169,
          "metadata": {},
          "output_type": "execute_result"
        }
      ],
      "source": [
        "Wanliu_df.isna().sum()"
      ]
    },
    {
      "cell_type": "markdown",
      "metadata": {
        "id": "9FQ11-ql82ZT"
      },
      "source": [
        "Interpolating Missing Data"
      ]
    },
    {
      "cell_type": "code",
      "execution_count": 170,
      "metadata": {
        "id": "yHw2lIeE82ZT"
      },
      "outputs": [],
      "source": [
        "# List of column names to check for missing values\n",
        "columns_to_check = ['PM2.5', 'PM10', 'SO2', 'NO2', 'CO', 'TEMP', 'DEWP', 'RAIN', 'WSPM', 'wd_degrees']\n",
        "\n",
        "# Loop through each column and filter rows with missing values\n",
        "for column in columns_to_check:\n",
        "  Wanliu_df[Wanliu_df[column].isna()]"
      ]
    },
    {
      "cell_type": "code",
      "execution_count": 171,
      "metadata": {
        "colab": {
          "base_uri": "https://localhost:8080/"
        },
        "collapsed": true,
        "id": "c3_wVlQ782ZU",
        "outputId": "4fc6ec2d-046d-4ec1-c81a-5e5f2ab81749"
      },
      "outputs": [
        {
          "name": "stderr",
          "output_type": "stream",
          "text": [
            "C:\\Users\\Dell\\AppData\\Local\\Temp\\ipykernel_10372\\3832737039.py:6: FutureWarning: Series.interpolate with object dtype is deprecated and will raise in a future version. Call obj.infer_objects(copy=False) before interpolating instead.\n",
            "  Wanliu_df[column] = Wanliu_df[column].interpolate(method=\"linear\")\n"
          ]
        }
      ],
      "source": [
        "# Iterate over each column and its corresponding count of NaN values\n",
        "missing_values = Wanliu_df.isna().sum()\n",
        "\n",
        "for column, na_count in missing_values.items():\n",
        "    if na_count > 0:\n",
        "        Wanliu_df[column] = Wanliu_df[column].interpolate(method=\"linear\")"
      ]
    },
    {
      "cell_type": "code",
      "execution_count": 172,
      "metadata": {
        "collapsed": true,
        "id": "PbHBIQro82ZU"
      },
      "outputs": [],
      "source": [
        "degrees_to_wind = {v: k for k, v in wind_direction_map.items()}\n",
        "\n",
        "# Apply the function to convert interpolated degrees back to nearest wind direction\n",
        "Wanliu_df['wd_interpolated'] = Wanliu_df['wd_degrees'].apply(find_nearest_direction)"
      ]
    },
    {
      "cell_type": "markdown",
      "metadata": {
        "id": "SoYCXguu82ZU"
      },
      "source": [
        "Hasil"
      ]
    },
    {
      "cell_type": "code",
      "execution_count": 173,
      "metadata": {
        "colab": {
          "base_uri": "https://localhost:8080/",
          "height": 0
        },
        "collapsed": true,
        "id": "efP1cs-W82ZU",
        "outputId": "0dc61c5e-6869-4dc2-9e08-2ea531ab3c5a"
      },
      "outputs": [
        {
          "data": {
            "text/plain": [
              "No                   0\n",
              "year                 0\n",
              "month                0\n",
              "day                  0\n",
              "hour                 0\n",
              "PM2.5                0\n",
              "PM10                 0\n",
              "SO2                  0\n",
              "NO2                  0\n",
              "CO                   0\n",
              "O3                   0\n",
              "TEMP                 0\n",
              "PRES                 0\n",
              "DEWP                 0\n",
              "RAIN                 0\n",
              "wd                 123\n",
              "WSPM                 0\n",
              "station              0\n",
              "wd_degrees           0\n",
              "wd_interpolated      0\n",
              "dtype: int64"
            ]
          },
          "execution_count": 173,
          "metadata": {},
          "output_type": "execute_result"
        }
      ],
      "source": [
        "Wanliu_df.isna().sum()"
      ]
    },
    {
      "cell_type": "code",
      "execution_count": 174,
      "metadata": {
        "colab": {
          "base_uri": "https://localhost:8080/",
          "height": 0
        },
        "id": "9r6Nweru82ZU",
        "outputId": "95b0dff3-f65f-40a2-b41e-0ce4c4978ad4"
      },
      "outputs": [
        {
          "data": {
            "text/html": [
              "<div>\n",
              "<style scoped>\n",
              "    .dataframe tbody tr th:only-of-type {\n",
              "        vertical-align: middle;\n",
              "    }\n",
              "\n",
              "    .dataframe tbody tr th {\n",
              "        vertical-align: top;\n",
              "    }\n",
              "\n",
              "    .dataframe thead th {\n",
              "        text-align: right;\n",
              "    }\n",
              "</style>\n",
              "<table border=\"1\" class=\"dataframe\">\n",
              "  <thead>\n",
              "    <tr style=\"text-align: right;\">\n",
              "      <th></th>\n",
              "      <th>No</th>\n",
              "      <th>year</th>\n",
              "      <th>month</th>\n",
              "      <th>day</th>\n",
              "      <th>hour</th>\n",
              "      <th>PM2.5</th>\n",
              "      <th>PM10</th>\n",
              "      <th>SO2</th>\n",
              "      <th>NO2</th>\n",
              "      <th>CO</th>\n",
              "      <th>O3</th>\n",
              "      <th>TEMP</th>\n",
              "      <th>PRES</th>\n",
              "      <th>DEWP</th>\n",
              "      <th>RAIN</th>\n",
              "      <th>WSPM</th>\n",
              "      <th>wd_degrees</th>\n",
              "    </tr>\n",
              "  </thead>\n",
              "  <tbody>\n",
              "    <tr>\n",
              "      <th>count</th>\n",
              "      <td>35064.000000</td>\n",
              "      <td>35064.000000</td>\n",
              "      <td>35064.000000</td>\n",
              "      <td>35064.000000</td>\n",
              "      <td>35064.000000</td>\n",
              "      <td>35064.000000</td>\n",
              "      <td>35064.000000</td>\n",
              "      <td>35064.000000</td>\n",
              "      <td>35064.000000</td>\n",
              "      <td>35064.000000</td>\n",
              "      <td>35064.000000</td>\n",
              "      <td>35064.000000</td>\n",
              "      <td>35064.000000</td>\n",
              "      <td>35064.000000</td>\n",
              "      <td>35064.000000</td>\n",
              "      <td>35064.000000</td>\n",
              "      <td>35064.000000</td>\n",
              "    </tr>\n",
              "    <tr>\n",
              "      <th>mean</th>\n",
              "      <td>17532.500000</td>\n",
              "      <td>2014.662560</td>\n",
              "      <td>6.522930</td>\n",
              "      <td>15.729637</td>\n",
              "      <td>11.500000</td>\n",
              "      <td>83.467612</td>\n",
              "      <td>110.707858</td>\n",
              "      <td>18.409514</td>\n",
              "      <td>65.668418</td>\n",
              "      <td>1328.761180</td>\n",
              "      <td>46.909375</td>\n",
              "      <td>13.425795</td>\n",
              "      <td>1011.102678</td>\n",
              "      <td>3.263752</td>\n",
              "      <td>0.068224</td>\n",
              "      <td>1.501393</td>\n",
              "      <td>133.959831</td>\n",
              "    </tr>\n",
              "    <tr>\n",
              "      <th>std</th>\n",
              "      <td>10122.249256</td>\n",
              "      <td>1.177213</td>\n",
              "      <td>3.448752</td>\n",
              "      <td>8.800218</td>\n",
              "      <td>6.922285</td>\n",
              "      <td>82.125058</td>\n",
              "      <td>93.539605</td>\n",
              "      <td>22.679906</td>\n",
              "      <td>37.966984</td>\n",
              "      <td>1263.218948</td>\n",
              "      <td>54.451718</td>\n",
              "      <td>11.348183</td>\n",
              "      <td>10.356118</td>\n",
              "      <td>13.679508</td>\n",
              "      <td>0.896471</td>\n",
              "      <td>1.104645</td>\n",
              "      <td>106.046017</td>\n",
              "    </tr>\n",
              "    <tr>\n",
              "      <th>min</th>\n",
              "      <td>1.000000</td>\n",
              "      <td>2013.000000</td>\n",
              "      <td>1.000000</td>\n",
              "      <td>1.000000</td>\n",
              "      <td>0.000000</td>\n",
              "      <td>2.000000</td>\n",
              "      <td>2.000000</td>\n",
              "      <td>0.285600</td>\n",
              "      <td>1.642400</td>\n",
              "      <td>100.000000</td>\n",
              "      <td>0.214200</td>\n",
              "      <td>-15.800000</td>\n",
              "      <td>985.900000</td>\n",
              "      <td>-34.900000</td>\n",
              "      <td>0.000000</td>\n",
              "      <td>0.000000</td>\n",
              "      <td>0.000000</td>\n",
              "    </tr>\n",
              "    <tr>\n",
              "      <th>25%</th>\n",
              "      <td>8766.750000</td>\n",
              "      <td>2014.000000</td>\n",
              "      <td>4.000000</td>\n",
              "      <td>8.000000</td>\n",
              "      <td>5.750000</td>\n",
              "      <td>23.000000</td>\n",
              "      <td>40.000000</td>\n",
              "      <td>4.000000</td>\n",
              "      <td>36.543400</td>\n",
              "      <td>600.000000</td>\n",
              "      <td>3.000000</td>\n",
              "      <td>3.100000</td>\n",
              "      <td>1002.500000</td>\n",
              "      <td>-8.100000</td>\n",
              "      <td>0.000000</td>\n",
              "      <td>0.800000</td>\n",
              "      <td>45.000000</td>\n",
              "    </tr>\n",
              "    <tr>\n",
              "      <th>50%</th>\n",
              "      <td>17532.500000</td>\n",
              "      <td>2015.000000</td>\n",
              "      <td>7.000000</td>\n",
              "      <td>16.000000</td>\n",
              "      <td>11.500000</td>\n",
              "      <td>59.000000</td>\n",
              "      <td>88.000000</td>\n",
              "      <td>10.000000</td>\n",
              "      <td>61.000000</td>\n",
              "      <td>900.000000</td>\n",
              "      <td>29.000000</td>\n",
              "      <td>14.300000</td>\n",
              "      <td>1010.800000</td>\n",
              "      <td>4.000000</td>\n",
              "      <td>0.000000</td>\n",
              "      <td>1.200000</td>\n",
              "      <td>90.000000</td>\n",
              "    </tr>\n",
              "    <tr>\n",
              "      <th>75%</th>\n",
              "      <td>26298.250000</td>\n",
              "      <td>2016.000000</td>\n",
              "      <td>10.000000</td>\n",
              "      <td>23.000000</td>\n",
              "      <td>17.250000</td>\n",
              "      <td>116.000000</td>\n",
              "      <td>153.000000</td>\n",
              "      <td>23.000000</td>\n",
              "      <td>89.000000</td>\n",
              "      <td>1600.000000</td>\n",
              "      <td>70.000000</td>\n",
              "      <td>22.900000</td>\n",
              "      <td>1019.400000</td>\n",
              "      <td>15.800000</td>\n",
              "      <td>0.000000</td>\n",
              "      <td>2.000000</td>\n",
              "      <td>225.000000</td>\n",
              "    </tr>\n",
              "    <tr>\n",
              "      <th>max</th>\n",
              "      <td>35064.000000</td>\n",
              "      <td>2017.000000</td>\n",
              "      <td>12.000000</td>\n",
              "      <td>31.000000</td>\n",
              "      <td>23.000000</td>\n",
              "      <td>957.000000</td>\n",
              "      <td>951.000000</td>\n",
              "      <td>282.000000</td>\n",
              "      <td>264.000000</td>\n",
              "      <td>10000.000000</td>\n",
              "      <td>364.000000</td>\n",
              "      <td>40.500000</td>\n",
              "      <td>1040.300000</td>\n",
              "      <td>28.500000</td>\n",
              "      <td>72.500000</td>\n",
              "      <td>11.200000</td>\n",
              "      <td>337.500000</td>\n",
              "    </tr>\n",
              "  </tbody>\n",
              "</table>\n",
              "</div>"
            ],
            "text/plain": [
              "                 No          year         month           day          hour  \\\n",
              "count  35064.000000  35064.000000  35064.000000  35064.000000  35064.000000   \n",
              "mean   17532.500000   2014.662560      6.522930     15.729637     11.500000   \n",
              "std    10122.249256      1.177213      3.448752      8.800218      6.922285   \n",
              "min        1.000000   2013.000000      1.000000      1.000000      0.000000   \n",
              "25%     8766.750000   2014.000000      4.000000      8.000000      5.750000   \n",
              "50%    17532.500000   2015.000000      7.000000     16.000000     11.500000   \n",
              "75%    26298.250000   2016.000000     10.000000     23.000000     17.250000   \n",
              "max    35064.000000   2017.000000     12.000000     31.000000     23.000000   \n",
              "\n",
              "              PM2.5          PM10           SO2           NO2            CO  \\\n",
              "count  35064.000000  35064.000000  35064.000000  35064.000000  35064.000000   \n",
              "mean      83.467612    110.707858     18.409514     65.668418   1328.761180   \n",
              "std       82.125058     93.539605     22.679906     37.966984   1263.218948   \n",
              "min        2.000000      2.000000      0.285600      1.642400    100.000000   \n",
              "25%       23.000000     40.000000      4.000000     36.543400    600.000000   \n",
              "50%       59.000000     88.000000     10.000000     61.000000    900.000000   \n",
              "75%      116.000000    153.000000     23.000000     89.000000   1600.000000   \n",
              "max      957.000000    951.000000    282.000000    264.000000  10000.000000   \n",
              "\n",
              "                 O3          TEMP          PRES          DEWP          RAIN  \\\n",
              "count  35064.000000  35064.000000  35064.000000  35064.000000  35064.000000   \n",
              "mean      46.909375     13.425795   1011.102678      3.263752      0.068224   \n",
              "std       54.451718     11.348183     10.356118     13.679508      0.896471   \n",
              "min        0.214200    -15.800000    985.900000    -34.900000      0.000000   \n",
              "25%        3.000000      3.100000   1002.500000     -8.100000      0.000000   \n",
              "50%       29.000000     14.300000   1010.800000      4.000000      0.000000   \n",
              "75%       70.000000     22.900000   1019.400000     15.800000      0.000000   \n",
              "max      364.000000     40.500000   1040.300000     28.500000     72.500000   \n",
              "\n",
              "               WSPM    wd_degrees  \n",
              "count  35064.000000  35064.000000  \n",
              "mean       1.501393    133.959831  \n",
              "std        1.104645    106.046017  \n",
              "min        0.000000      0.000000  \n",
              "25%        0.800000     45.000000  \n",
              "50%        1.200000     90.000000  \n",
              "75%        2.000000    225.000000  \n",
              "max       11.200000    337.500000  "
            ]
          },
          "execution_count": 174,
          "metadata": {},
          "output_type": "execute_result"
        }
      ],
      "source": [
        "Wanliu_df.describe()"
      ]
    },
    {
      "cell_type": "markdown",
      "metadata": {
        "id": "duB9rXLx83I7"
      },
      "source": [
        "#### Wanshouxigong"
      ]
    },
    {
      "cell_type": "markdown",
      "metadata": {
        "id": "e6quDHhb83I8"
      },
      "source": [
        "Menghapus Duplikat"
      ]
    },
    {
      "cell_type": "code",
      "execution_count": 175,
      "metadata": {
        "colab": {
          "base_uri": "https://localhost:8080/"
        },
        "id": "xzMD7WLx83I8",
        "outputId": "74e47646-b9a7-4920-e415-d3781eb2a632"
      },
      "outputs": [
        {
          "data": {
            "text/plain": [
              "np.int64(0)"
            ]
          },
          "execution_count": 175,
          "metadata": {},
          "output_type": "execute_result"
        }
      ],
      "source": [
        "Wanshouxigong_df.duplicated().sum()"
      ]
    },
    {
      "cell_type": "code",
      "execution_count": 176,
      "metadata": {
        "id": "_U_4fQxZ83I8"
      },
      "outputs": [],
      "source": [
        "Wanshouxigong_df.drop_duplicates(inplace=True)"
      ]
    },
    {
      "cell_type": "code",
      "execution_count": 177,
      "metadata": {
        "colab": {
          "base_uri": "https://localhost:8080/"
        },
        "id": "aFwwdO_y83I8",
        "outputId": "7523a981-d9cd-42da-db6c-b0ddac0f60c3"
      },
      "outputs": [
        {
          "name": "stdout",
          "output_type": "stream",
          "text": [
            "Jumlah duplikasi:  0\n"
          ]
        }
      ],
      "source": [
        "print(\"Jumlah duplikasi: \", Wanshouxigong_df.duplicated().sum())"
      ]
    },
    {
      "cell_type": "code",
      "execution_count": 178,
      "metadata": {
        "colab": {
          "base_uri": "https://localhost:8080/",
          "height": 0
        },
        "collapsed": true,
        "id": "dZECmgKi83I8",
        "outputId": "17245626-51b5-4e54-bf32-2537bdea9d51"
      },
      "outputs": [
        {
          "data": {
            "text/plain": [
              "No               0\n",
              "year             0\n",
              "month            0\n",
              "day              0\n",
              "hour             0\n",
              "PM2.5          696\n",
              "PM10           484\n",
              "SO2            669\n",
              "NO2            754\n",
              "CO            1297\n",
              "O3            1078\n",
              "TEMP            19\n",
              "PRES            19\n",
              "DEWP            19\n",
              "RAIN            19\n",
              "wd              79\n",
              "WSPM            13\n",
              "station          0\n",
              "wd_degrees      79\n",
              "dtype: int64"
            ]
          },
          "execution_count": 178,
          "metadata": {},
          "output_type": "execute_result"
        }
      ],
      "source": [
        "Wanshouxigong_df.isna().sum()"
      ]
    },
    {
      "cell_type": "markdown",
      "metadata": {
        "id": "4_vHetql83I9"
      },
      "source": [
        "Interpolating Missing Data"
      ]
    },
    {
      "cell_type": "code",
      "execution_count": 179,
      "metadata": {
        "id": "dr-VdXhC83I9"
      },
      "outputs": [],
      "source": [
        "# List of column names to check for missing values\n",
        "columns_to_check = ['PM2.5', 'PM10', 'SO2', 'NO2', 'CO', 'TEMP', 'DEWP', 'RAIN', 'WSPM', 'wd_degrees']\n",
        "\n",
        "# Loop through each column and filter rows with missing values\n",
        "for column in columns_to_check:\n",
        "  Wanshouxigong_df[Wanshouxigong_df[column].isna()]"
      ]
    },
    {
      "cell_type": "code",
      "execution_count": 180,
      "metadata": {
        "colab": {
          "base_uri": "https://localhost:8080/"
        },
        "collapsed": true,
        "id": "i2M707Md83I9",
        "outputId": "b4f8e112-08d8-4494-b3fa-91ccd0060be1"
      },
      "outputs": [
        {
          "name": "stderr",
          "output_type": "stream",
          "text": [
            "C:\\Users\\Dell\\AppData\\Local\\Temp\\ipykernel_10372\\3150441749.py:6: FutureWarning: Series.interpolate with object dtype is deprecated and will raise in a future version. Call obj.infer_objects(copy=False) before interpolating instead.\n",
            "  Wanshouxigong_df[column] = Wanshouxigong_df[column].interpolate(method=\"linear\")\n"
          ]
        }
      ],
      "source": [
        "# Iterate over each column and its corresponding count of NaN values\n",
        "missing_values = Wanshouxigong_df.isna().sum()\n",
        "\n",
        "for column, na_count in missing_values.items():\n",
        "    if na_count > 0:\n",
        "        Wanshouxigong_df[column] = Wanshouxigong_df[column].interpolate(method=\"linear\")"
      ]
    },
    {
      "cell_type": "code",
      "execution_count": 181,
      "metadata": {
        "collapsed": true,
        "id": "-NUFUDnx83I9"
      },
      "outputs": [],
      "source": [
        "degrees_to_wind = {v: k for k, v in wind_direction_map.items()}\n",
        "\n",
        "# Apply the function to convert interpolated degrees back to nearest wind direction\n",
        "Wanshouxigong_df['wd_interpolated'] = Wanshouxigong_df['wd_degrees'].apply(find_nearest_direction)"
      ]
    },
    {
      "cell_type": "markdown",
      "metadata": {
        "id": "E28oWGXq83I9"
      },
      "source": [
        "Hasil"
      ]
    },
    {
      "cell_type": "code",
      "execution_count": 182,
      "metadata": {
        "colab": {
          "base_uri": "https://localhost:8080/",
          "height": 0
        },
        "collapsed": true,
        "id": "tcQRObVW83I9",
        "outputId": "3aa93ef1-55e1-42c6-fe8b-654f5aea4dee"
      },
      "outputs": [
        {
          "data": {
            "text/plain": [
              "No                  0\n",
              "year                0\n",
              "month               0\n",
              "day                 0\n",
              "hour                0\n",
              "PM2.5               0\n",
              "PM10                0\n",
              "SO2                 0\n",
              "NO2                 0\n",
              "CO                  0\n",
              "O3                  0\n",
              "TEMP                0\n",
              "PRES                0\n",
              "DEWP                0\n",
              "RAIN                0\n",
              "wd                 79\n",
              "WSPM                0\n",
              "station             0\n",
              "wd_degrees          0\n",
              "wd_interpolated     0\n",
              "dtype: int64"
            ]
          },
          "execution_count": 182,
          "metadata": {},
          "output_type": "execute_result"
        }
      ],
      "source": [
        "Wanshouxigong_df.isna().sum()"
      ]
    },
    {
      "cell_type": "code",
      "execution_count": 183,
      "metadata": {
        "colab": {
          "base_uri": "https://localhost:8080/",
          "height": 0
        },
        "id": "LVPi0UJo83I-",
        "outputId": "34bd07f7-2f22-47d5-f73b-d8c43a38c33e"
      },
      "outputs": [
        {
          "data": {
            "text/html": [
              "<div>\n",
              "<style scoped>\n",
              "    .dataframe tbody tr th:only-of-type {\n",
              "        vertical-align: middle;\n",
              "    }\n",
              "\n",
              "    .dataframe tbody tr th {\n",
              "        vertical-align: top;\n",
              "    }\n",
              "\n",
              "    .dataframe thead th {\n",
              "        text-align: right;\n",
              "    }\n",
              "</style>\n",
              "<table border=\"1\" class=\"dataframe\">\n",
              "  <thead>\n",
              "    <tr style=\"text-align: right;\">\n",
              "      <th></th>\n",
              "      <th>No</th>\n",
              "      <th>year</th>\n",
              "      <th>month</th>\n",
              "      <th>day</th>\n",
              "      <th>hour</th>\n",
              "      <th>PM2.5</th>\n",
              "      <th>PM10</th>\n",
              "      <th>SO2</th>\n",
              "      <th>NO2</th>\n",
              "      <th>CO</th>\n",
              "      <th>O3</th>\n",
              "      <th>TEMP</th>\n",
              "      <th>PRES</th>\n",
              "      <th>DEWP</th>\n",
              "      <th>RAIN</th>\n",
              "      <th>WSPM</th>\n",
              "      <th>wd_degrees</th>\n",
              "    </tr>\n",
              "  </thead>\n",
              "  <tbody>\n",
              "    <tr>\n",
              "      <th>count</th>\n",
              "      <td>35064.000000</td>\n",
              "      <td>35064.000000</td>\n",
              "      <td>35064.000000</td>\n",
              "      <td>35064.000000</td>\n",
              "      <td>35064.000000</td>\n",
              "      <td>35064.000000</td>\n",
              "      <td>35064.000000</td>\n",
              "      <td>35064.000000</td>\n",
              "      <td>35064.000000</td>\n",
              "      <td>35064.000000</td>\n",
              "      <td>35064.000000</td>\n",
              "      <td>35064.000000</td>\n",
              "      <td>35064.000000</td>\n",
              "      <td>35064.000000</td>\n",
              "      <td>35064.000000</td>\n",
              "      <td>35064.000000</td>\n",
              "      <td>35064.000000</td>\n",
              "    </tr>\n",
              "    <tr>\n",
              "      <th>mean</th>\n",
              "      <td>17532.500000</td>\n",
              "      <td>2014.662560</td>\n",
              "      <td>6.522930</td>\n",
              "      <td>15.729637</td>\n",
              "      <td>11.500000</td>\n",
              "      <td>85.067548</td>\n",
              "      <td>112.505795</td>\n",
              "      <td>17.363354</td>\n",
              "      <td>55.495402</td>\n",
              "      <td>1373.618569</td>\n",
              "      <td>55.919979</td>\n",
              "      <td>13.781808</td>\n",
              "      <td>1011.516205</td>\n",
              "      <td>2.705550</td>\n",
              "      <td>0.064285</td>\n",
              "      <td>1.745450</td>\n",
              "      <td>170.901566</td>\n",
              "    </tr>\n",
              "    <tr>\n",
              "      <th>std</th>\n",
              "      <td>10122.249256</td>\n",
              "      <td>1.177213</td>\n",
              "      <td>3.448752</td>\n",
              "      <td>8.800218</td>\n",
              "      <td>6.922285</td>\n",
              "      <td>85.999698</td>\n",
              "      <td>98.132120</td>\n",
              "      <td>24.171627</td>\n",
              "      <td>35.833026</td>\n",
              "      <td>1228.161525</td>\n",
              "      <td>57.156365</td>\n",
              "      <td>11.386144</td>\n",
              "      <td>10.571152</td>\n",
              "      <td>13.705131</td>\n",
              "      <td>0.796766</td>\n",
              "      <td>1.206461</td>\n",
              "      <td>101.434456</td>\n",
              "    </tr>\n",
              "    <tr>\n",
              "      <th>min</th>\n",
              "      <td>1.000000</td>\n",
              "      <td>2013.000000</td>\n",
              "      <td>1.000000</td>\n",
              "      <td>1.000000</td>\n",
              "      <td>0.000000</td>\n",
              "      <td>3.000000</td>\n",
              "      <td>2.000000</td>\n",
              "      <td>0.285600</td>\n",
              "      <td>2.000000</td>\n",
              "      <td>100.000000</td>\n",
              "      <td>0.214200</td>\n",
              "      <td>-16.800000</td>\n",
              "      <td>985.100000</td>\n",
              "      <td>-35.300000</td>\n",
              "      <td>0.000000</td>\n",
              "      <td>0.000000</td>\n",
              "      <td>0.000000</td>\n",
              "    </tr>\n",
              "    <tr>\n",
              "      <th>25%</th>\n",
              "      <td>8766.750000</td>\n",
              "      <td>2014.000000</td>\n",
              "      <td>4.000000</td>\n",
              "      <td>8.000000</td>\n",
              "      <td>5.750000</td>\n",
              "      <td>23.000000</td>\n",
              "      <td>39.000000</td>\n",
              "      <td>3.000000</td>\n",
              "      <td>28.000000</td>\n",
              "      <td>600.000000</td>\n",
              "      <td>8.000000</td>\n",
              "      <td>3.400000</td>\n",
              "      <td>1002.800000</td>\n",
              "      <td>-8.500000</td>\n",
              "      <td>0.000000</td>\n",
              "      <td>0.900000</td>\n",
              "      <td>67.500000</td>\n",
              "    </tr>\n",
              "    <tr>\n",
              "      <th>50%</th>\n",
              "      <td>17532.500000</td>\n",
              "      <td>2015.000000</td>\n",
              "      <td>7.000000</td>\n",
              "      <td>16.000000</td>\n",
              "      <td>11.500000</td>\n",
              "      <td>60.000000</td>\n",
              "      <td>91.000000</td>\n",
              "      <td>8.000000</td>\n",
              "      <td>49.000000</td>\n",
              "      <td>1000.000000</td>\n",
              "      <td>42.000000</td>\n",
              "      <td>14.800000</td>\n",
              "      <td>1011.000000</td>\n",
              "      <td>3.300000</td>\n",
              "      <td>0.000000</td>\n",
              "      <td>1.400000</td>\n",
              "      <td>180.000000</td>\n",
              "    </tr>\n",
              "    <tr>\n",
              "      <th>75%</th>\n",
              "      <td>26298.250000</td>\n",
              "      <td>2016.000000</td>\n",
              "      <td>10.000000</td>\n",
              "      <td>23.000000</td>\n",
              "      <td>17.250000</td>\n",
              "      <td>116.000000</td>\n",
              "      <td>154.000000</td>\n",
              "      <td>21.000000</td>\n",
              "      <td>77.000000</td>\n",
              "      <td>1700.000000</td>\n",
              "      <td>82.000000</td>\n",
              "      <td>23.500000</td>\n",
              "      <td>1020.000000</td>\n",
              "      <td>15.200000</td>\n",
              "      <td>0.000000</td>\n",
              "      <td>2.300000</td>\n",
              "      <td>270.000000</td>\n",
              "    </tr>\n",
              "    <tr>\n",
              "      <th>max</th>\n",
              "      <td>35064.000000</td>\n",
              "      <td>2017.000000</td>\n",
              "      <td>12.000000</td>\n",
              "      <td>31.000000</td>\n",
              "      <td>23.000000</td>\n",
              "      <td>999.000000</td>\n",
              "      <td>961.000000</td>\n",
              "      <td>411.000000</td>\n",
              "      <td>251.000000</td>\n",
              "      <td>9800.000000</td>\n",
              "      <td>358.000000</td>\n",
              "      <td>40.600000</td>\n",
              "      <td>1042.000000</td>\n",
              "      <td>28.500000</td>\n",
              "      <td>46.400000</td>\n",
              "      <td>13.200000</td>\n",
              "      <td>337.500000</td>\n",
              "    </tr>\n",
              "  </tbody>\n",
              "</table>\n",
              "</div>"
            ],
            "text/plain": [
              "                 No          year         month           day          hour  \\\n",
              "count  35064.000000  35064.000000  35064.000000  35064.000000  35064.000000   \n",
              "mean   17532.500000   2014.662560      6.522930     15.729637     11.500000   \n",
              "std    10122.249256      1.177213      3.448752      8.800218      6.922285   \n",
              "min        1.000000   2013.000000      1.000000      1.000000      0.000000   \n",
              "25%     8766.750000   2014.000000      4.000000      8.000000      5.750000   \n",
              "50%    17532.500000   2015.000000      7.000000     16.000000     11.500000   \n",
              "75%    26298.250000   2016.000000     10.000000     23.000000     17.250000   \n",
              "max    35064.000000   2017.000000     12.000000     31.000000     23.000000   \n",
              "\n",
              "              PM2.5          PM10           SO2           NO2            CO  \\\n",
              "count  35064.000000  35064.000000  35064.000000  35064.000000  35064.000000   \n",
              "mean      85.067548    112.505795     17.363354     55.495402   1373.618569   \n",
              "std       85.999698     98.132120     24.171627     35.833026   1228.161525   \n",
              "min        3.000000      2.000000      0.285600      2.000000    100.000000   \n",
              "25%       23.000000     39.000000      3.000000     28.000000    600.000000   \n",
              "50%       60.000000     91.000000      8.000000     49.000000   1000.000000   \n",
              "75%      116.000000    154.000000     21.000000     77.000000   1700.000000   \n",
              "max      999.000000    961.000000    411.000000    251.000000   9800.000000   \n",
              "\n",
              "                 O3          TEMP          PRES          DEWP          RAIN  \\\n",
              "count  35064.000000  35064.000000  35064.000000  35064.000000  35064.000000   \n",
              "mean      55.919979     13.781808   1011.516205      2.705550      0.064285   \n",
              "std       57.156365     11.386144     10.571152     13.705131      0.796766   \n",
              "min        0.214200    -16.800000    985.100000    -35.300000      0.000000   \n",
              "25%        8.000000      3.400000   1002.800000     -8.500000      0.000000   \n",
              "50%       42.000000     14.800000   1011.000000      3.300000      0.000000   \n",
              "75%       82.000000     23.500000   1020.000000     15.200000      0.000000   \n",
              "max      358.000000     40.600000   1042.000000     28.500000     46.400000   \n",
              "\n",
              "               WSPM    wd_degrees  \n",
              "count  35064.000000  35064.000000  \n",
              "mean       1.745450    170.901566  \n",
              "std        1.206461    101.434456  \n",
              "min        0.000000      0.000000  \n",
              "25%        0.900000     67.500000  \n",
              "50%        1.400000    180.000000  \n",
              "75%        2.300000    270.000000  \n",
              "max       13.200000    337.500000  "
            ]
          },
          "execution_count": 183,
          "metadata": {},
          "output_type": "execute_result"
        }
      ],
      "source": [
        "Wanshouxigong_df.describe()"
      ]
    },
    {
      "cell_type": "markdown",
      "metadata": {
        "id": "mAw_WmfbS5D9"
      },
      "source": [
        "#### Combine Data"
      ]
    },
    {
      "cell_type": "code",
      "execution_count": 184,
      "metadata": {
        "colab": {
          "base_uri": "https://localhost:8080/",
          "height": 424
        },
        "id": "hpKbcyRtTAbY",
        "outputId": "d38f2025-11bd-466f-ea2a-b550cac83358"
      },
      "outputs": [
        {
          "data": {
            "text/html": [
              "<div>\n",
              "<style scoped>\n",
              "    .dataframe tbody tr th:only-of-type {\n",
              "        vertical-align: middle;\n",
              "    }\n",
              "\n",
              "    .dataframe tbody tr th {\n",
              "        vertical-align: top;\n",
              "    }\n",
              "\n",
              "    .dataframe thead th {\n",
              "        text-align: right;\n",
              "    }\n",
              "</style>\n",
              "<table border=\"1\" class=\"dataframe\">\n",
              "  <thead>\n",
              "    <tr style=\"text-align: right;\">\n",
              "      <th></th>\n",
              "      <th>year</th>\n",
              "      <th>month</th>\n",
              "      <th>day</th>\n",
              "      <th>hour</th>\n",
              "      <th>PM2.5</th>\n",
              "      <th>PM10</th>\n",
              "      <th>SO2</th>\n",
              "      <th>NO2</th>\n",
              "      <th>CO</th>\n",
              "      <th>O3</th>\n",
              "      <th>TEMP</th>\n",
              "      <th>PRES</th>\n",
              "      <th>DEWP</th>\n",
              "      <th>RAIN</th>\n",
              "      <th>WSPM</th>\n",
              "      <th>wd_degrees</th>\n",
              "    </tr>\n",
              "  </thead>\n",
              "  <tbody>\n",
              "    <tr>\n",
              "      <th>0</th>\n",
              "      <td>2013</td>\n",
              "      <td>3</td>\n",
              "      <td>1</td>\n",
              "      <td>0</td>\n",
              "      <td>4.0</td>\n",
              "      <td>4.0</td>\n",
              "      <td>4.0</td>\n",
              "      <td>7.0</td>\n",
              "      <td>300.0</td>\n",
              "      <td>77.0</td>\n",
              "      <td>-0.7</td>\n",
              "      <td>1023.0</td>\n",
              "      <td>-18.8</td>\n",
              "      <td>0.0</td>\n",
              "      <td>4.4</td>\n",
              "      <td>337.5</td>\n",
              "    </tr>\n",
              "    <tr>\n",
              "      <th>1</th>\n",
              "      <td>2013</td>\n",
              "      <td>3</td>\n",
              "      <td>1</td>\n",
              "      <td>1</td>\n",
              "      <td>8.0</td>\n",
              "      <td>8.0</td>\n",
              "      <td>4.0</td>\n",
              "      <td>7.0</td>\n",
              "      <td>300.0</td>\n",
              "      <td>77.0</td>\n",
              "      <td>-1.1</td>\n",
              "      <td>1023.2</td>\n",
              "      <td>-18.2</td>\n",
              "      <td>0.0</td>\n",
              "      <td>4.7</td>\n",
              "      <td>0.0</td>\n",
              "    </tr>\n",
              "    <tr>\n",
              "      <th>2</th>\n",
              "      <td>2013</td>\n",
              "      <td>3</td>\n",
              "      <td>1</td>\n",
              "      <td>2</td>\n",
              "      <td>7.0</td>\n",
              "      <td>7.0</td>\n",
              "      <td>5.0</td>\n",
              "      <td>10.0</td>\n",
              "      <td>300.0</td>\n",
              "      <td>73.0</td>\n",
              "      <td>-1.1</td>\n",
              "      <td>1023.5</td>\n",
              "      <td>-18.2</td>\n",
              "      <td>0.0</td>\n",
              "      <td>5.6</td>\n",
              "      <td>337.5</td>\n",
              "    </tr>\n",
              "    <tr>\n",
              "      <th>3</th>\n",
              "      <td>2013</td>\n",
              "      <td>3</td>\n",
              "      <td>1</td>\n",
              "      <td>3</td>\n",
              "      <td>6.0</td>\n",
              "      <td>6.0</td>\n",
              "      <td>11.0</td>\n",
              "      <td>11.0</td>\n",
              "      <td>300.0</td>\n",
              "      <td>72.0</td>\n",
              "      <td>-1.4</td>\n",
              "      <td>1024.5</td>\n",
              "      <td>-19.4</td>\n",
              "      <td>0.0</td>\n",
              "      <td>3.1</td>\n",
              "      <td>315.0</td>\n",
              "    </tr>\n",
              "    <tr>\n",
              "      <th>4</th>\n",
              "      <td>2013</td>\n",
              "      <td>3</td>\n",
              "      <td>1</td>\n",
              "      <td>4</td>\n",
              "      <td>3.0</td>\n",
              "      <td>3.0</td>\n",
              "      <td>12.0</td>\n",
              "      <td>12.0</td>\n",
              "      <td>300.0</td>\n",
              "      <td>72.0</td>\n",
              "      <td>-2.0</td>\n",
              "      <td>1025.2</td>\n",
              "      <td>-19.5</td>\n",
              "      <td>0.0</td>\n",
              "      <td>2.0</td>\n",
              "      <td>0.0</td>\n",
              "    </tr>\n",
              "    <tr>\n",
              "      <th>...</th>\n",
              "      <td>...</td>\n",
              "      <td>...</td>\n",
              "      <td>...</td>\n",
              "      <td>...</td>\n",
              "      <td>...</td>\n",
              "      <td>...</td>\n",
              "      <td>...</td>\n",
              "      <td>...</td>\n",
              "      <td>...</td>\n",
              "      <td>...</td>\n",
              "      <td>...</td>\n",
              "      <td>...</td>\n",
              "      <td>...</td>\n",
              "      <td>...</td>\n",
              "      <td>...</td>\n",
              "      <td>...</td>\n",
              "    </tr>\n",
              "    <tr>\n",
              "      <th>35059</th>\n",
              "      <td>2017</td>\n",
              "      <td>2</td>\n",
              "      <td>28</td>\n",
              "      <td>19</td>\n",
              "      <td>11.0</td>\n",
              "      <td>32.0</td>\n",
              "      <td>3.0</td>\n",
              "      <td>24.0</td>\n",
              "      <td>400.0</td>\n",
              "      <td>72.0</td>\n",
              "      <td>12.5</td>\n",
              "      <td>1013.5</td>\n",
              "      <td>-16.2</td>\n",
              "      <td>0.0</td>\n",
              "      <td>2.4</td>\n",
              "      <td>315.0</td>\n",
              "    </tr>\n",
              "    <tr>\n",
              "      <th>35060</th>\n",
              "      <td>2017</td>\n",
              "      <td>2</td>\n",
              "      <td>28</td>\n",
              "      <td>20</td>\n",
              "      <td>13.0</td>\n",
              "      <td>32.0</td>\n",
              "      <td>3.0</td>\n",
              "      <td>41.0</td>\n",
              "      <td>500.0</td>\n",
              "      <td>50.0</td>\n",
              "      <td>11.6</td>\n",
              "      <td>1013.6</td>\n",
              "      <td>-15.1</td>\n",
              "      <td>0.0</td>\n",
              "      <td>0.9</td>\n",
              "      <td>292.5</td>\n",
              "    </tr>\n",
              "    <tr>\n",
              "      <th>35061</th>\n",
              "      <td>2017</td>\n",
              "      <td>2</td>\n",
              "      <td>28</td>\n",
              "      <td>21</td>\n",
              "      <td>14.0</td>\n",
              "      <td>28.0</td>\n",
              "      <td>4.0</td>\n",
              "      <td>38.0</td>\n",
              "      <td>500.0</td>\n",
              "      <td>54.0</td>\n",
              "      <td>10.8</td>\n",
              "      <td>1014.2</td>\n",
              "      <td>-13.3</td>\n",
              "      <td>0.0</td>\n",
              "      <td>1.1</td>\n",
              "      <td>315.0</td>\n",
              "    </tr>\n",
              "    <tr>\n",
              "      <th>35062</th>\n",
              "      <td>2017</td>\n",
              "      <td>2</td>\n",
              "      <td>28</td>\n",
              "      <td>22</td>\n",
              "      <td>12.0</td>\n",
              "      <td>23.0</td>\n",
              "      <td>4.0</td>\n",
              "      <td>30.0</td>\n",
              "      <td>400.0</td>\n",
              "      <td>59.0</td>\n",
              "      <td>10.5</td>\n",
              "      <td>1014.4</td>\n",
              "      <td>-12.9</td>\n",
              "      <td>0.0</td>\n",
              "      <td>1.2</td>\n",
              "      <td>337.5</td>\n",
              "    </tr>\n",
              "    <tr>\n",
              "      <th>35063</th>\n",
              "      <td>2017</td>\n",
              "      <td>2</td>\n",
              "      <td>28</td>\n",
              "      <td>23</td>\n",
              "      <td>13.0</td>\n",
              "      <td>19.0</td>\n",
              "      <td>4.0</td>\n",
              "      <td>38.0</td>\n",
              "      <td>600.0</td>\n",
              "      <td>49.0</td>\n",
              "      <td>8.6</td>\n",
              "      <td>1014.1</td>\n",
              "      <td>-15.9</td>\n",
              "      <td>0.0</td>\n",
              "      <td>1.3</td>\n",
              "      <td>22.5</td>\n",
              "    </tr>\n",
              "  </tbody>\n",
              "</table>\n",
              "<p>420768 rows × 16 columns</p>\n",
              "</div>"
            ],
            "text/plain": [
              "       year  month  day  hour  PM2.5  PM10   SO2   NO2     CO    O3  TEMP  \\\n",
              "0      2013      3    1     0    4.0   4.0   4.0   7.0  300.0  77.0  -0.7   \n",
              "1      2013      3    1     1    8.0   8.0   4.0   7.0  300.0  77.0  -1.1   \n",
              "2      2013      3    1     2    7.0   7.0   5.0  10.0  300.0  73.0  -1.1   \n",
              "3      2013      3    1     3    6.0   6.0  11.0  11.0  300.0  72.0  -1.4   \n",
              "4      2013      3    1     4    3.0   3.0  12.0  12.0  300.0  72.0  -2.0   \n",
              "...     ...    ...  ...   ...    ...   ...   ...   ...    ...   ...   ...   \n",
              "35059  2017      2   28    19   11.0  32.0   3.0  24.0  400.0  72.0  12.5   \n",
              "35060  2017      2   28    20   13.0  32.0   3.0  41.0  500.0  50.0  11.6   \n",
              "35061  2017      2   28    21   14.0  28.0   4.0  38.0  500.0  54.0  10.8   \n",
              "35062  2017      2   28    22   12.0  23.0   4.0  30.0  400.0  59.0  10.5   \n",
              "35063  2017      2   28    23   13.0  19.0   4.0  38.0  600.0  49.0   8.6   \n",
              "\n",
              "         PRES  DEWP  RAIN  WSPM  wd_degrees  \n",
              "0      1023.0 -18.8   0.0   4.4       337.5  \n",
              "1      1023.2 -18.2   0.0   4.7         0.0  \n",
              "2      1023.5 -18.2   0.0   5.6       337.5  \n",
              "3      1024.5 -19.4   0.0   3.1       315.0  \n",
              "4      1025.2 -19.5   0.0   2.0         0.0  \n",
              "...       ...   ...   ...   ...         ...  \n",
              "35059  1013.5 -16.2   0.0   2.4       315.0  \n",
              "35060  1013.6 -15.1   0.0   0.9       292.5  \n",
              "35061  1014.2 -13.3   0.0   1.1       315.0  \n",
              "35062  1014.4 -12.9   0.0   1.2       337.5  \n",
              "35063  1014.1 -15.9   0.0   1.3        22.5  \n",
              "\n",
              "[420768 rows x 16 columns]"
            ]
          },
          "execution_count": 184,
          "metadata": {},
          "output_type": "execute_result"
        }
      ],
      "source": [
        "merged_df = pd.concat([\n",
        "     Aotizhongxin_df,\n",
        "     Changping_df,\n",
        "     Dingling_df,\n",
        "     Dongsi_df,\n",
        "     Guanyuan_df,\n",
        "     Gucheng_df,\n",
        "     Huairou_df,\n",
        "     Nongzhanguan_df,\n",
        "     Shunyi_df,\n",
        "     Tiantan_df,\n",
        "     Wanliu_df,\n",
        "     Wanshouxigong_df\n",
        "     ],\n",
        "    axis=0)\n",
        "\n",
        "cleaned_merged_df_with_station = merged_df.drop(columns=['No', 'wd', 'wd_interpolated'])\n",
        "cleaned_merged_df = merged_df.drop(columns=['No', 'wd', 'wd_interpolated', 'station'])\n",
        "\n",
        "cleaned_merged_df"
      ]
    },
    {
      "cell_type": "markdown",
      "metadata": {
        "id": "jdx86zgV7zWz"
      },
      "source": [
        "**Insight**\n",
        "- First check for duplicate data\n",
        "- Drop any duplicate data\n",
        "- Then check for null data\n",
        "- interpolate data to fill the empty cell\n",
        "- merge all the data"
      ]
    },
    {
      "cell_type": "markdown",
      "metadata": {
        "id": "gp-Y6wU38DC1"
      },
      "source": [
        "## Exploratory Data Analysis (EDA)"
      ]
    },
    {
      "cell_type": "markdown",
      "metadata": {
        "id": "MW7WF2kr8DC1"
      },
      "source": [
        "### Explore `cleaned_merged_df`"
      ]
    },
    {
      "cell_type": "markdown",
      "metadata": {
        "id": "GLFsZ8TPzdzZ"
      },
      "source": [
        "> We display the mean of PM2.5, PM10, SO2, NO2, CO, O3 in each year of every station.\n",
        "> We group the pollutan by station and year."
      ]
    },
    {
      "cell_type": "code",
      "execution_count": 185,
      "metadata": {
        "colab": {
          "base_uri": "https://localhost:8080/",
          "height": 1000
        },
        "collapsed": true,
        "id": "lVQ1oXSO-jLM",
        "outputId": "acb08c9d-7fae-49df-95cf-c9f2b33ad434"
      },
      "outputs": [
        {
          "name": "stdout",
          "output_type": "stream",
          "text": [
            "Average Pollutant Levels by Month:\n"
          ]
        },
        {
          "data": {
            "text/html": [
              "<div>\n",
              "<style scoped>\n",
              "    .dataframe tbody tr th:only-of-type {\n",
              "        vertical-align: middle;\n",
              "    }\n",
              "\n",
              "    .dataframe tbody tr th {\n",
              "        vertical-align: top;\n",
              "    }\n",
              "\n",
              "    .dataframe thead th {\n",
              "        text-align: right;\n",
              "    }\n",
              "</style>\n",
              "<table border=\"1\" class=\"dataframe\">\n",
              "  <thead>\n",
              "    <tr style=\"text-align: right;\">\n",
              "      <th></th>\n",
              "      <th></th>\n",
              "      <th>PM2.5</th>\n",
              "      <th>PM10</th>\n",
              "      <th>SO2</th>\n",
              "      <th>NO2</th>\n",
              "      <th>CO</th>\n",
              "      <th>O3</th>\n",
              "    </tr>\n",
              "    <tr>\n",
              "      <th>station</th>\n",
              "      <th>year</th>\n",
              "      <th></th>\n",
              "      <th></th>\n",
              "      <th></th>\n",
              "      <th></th>\n",
              "      <th></th>\n",
              "      <th></th>\n",
              "    </tr>\n",
              "  </thead>\n",
              "  <tbody>\n",
              "    <tr>\n",
              "      <th rowspan=\"5\" valign=\"top\">Aotizhongxin</th>\n",
              "      <th>2013</th>\n",
              "      <td>82.439202</td>\n",
              "      <td>112.940836</td>\n",
              "      <td>23.599799</td>\n",
              "      <td>63.355500</td>\n",
              "      <td>1163.919458</td>\n",
              "      <td>47.206555</td>\n",
              "    </tr>\n",
              "    <tr>\n",
              "      <th>2014</th>\n",
              "      <td>89.747603</td>\n",
              "      <td>122.282112</td>\n",
              "      <td>21.515582</td>\n",
              "      <td>63.164053</td>\n",
              "      <td>1186.718037</td>\n",
              "      <td>48.594041</td>\n",
              "    </tr>\n",
              "    <tr>\n",
              "      <th>2015</th>\n",
              "      <td>81.831724</td>\n",
              "      <td>112.176747</td>\n",
              "      <td>14.354195</td>\n",
              "      <td>60.939047</td>\n",
              "      <td>1436.889269</td>\n",
              "      <td>63.604132</td>\n",
              "    </tr>\n",
              "    <tr>\n",
              "      <th>2016</th>\n",
              "      <td>74.236680</td>\n",
              "      <td>94.445811</td>\n",
              "      <td>10.833732</td>\n",
              "      <td>48.402493</td>\n",
              "      <td>1190.215164</td>\n",
              "      <td>61.854793</td>\n",
              "    </tr>\n",
              "    <tr>\n",
              "      <th>2017</th>\n",
              "      <td>94.379237</td>\n",
              "      <td>106.988347</td>\n",
              "      <td>20.827331</td>\n",
              "      <td>66.229520</td>\n",
              "      <td>1666.454802</td>\n",
              "      <td>47.436088</td>\n",
              "    </tr>\n",
              "    <tr>\n",
              "      <th rowspan=\"5\" valign=\"top\">Changping</th>\n",
              "      <th>2013</th>\n",
              "      <td>72.393246</td>\n",
              "      <td>91.176675</td>\n",
              "      <td>19.134785</td>\n",
              "      <td>40.960527</td>\n",
              "      <td>1022.978758</td>\n",
              "      <td>61.132385</td>\n",
              "    </tr>\n",
              "    <tr>\n",
              "      <th>2014</th>\n",
              "      <td>79.881998</td>\n",
              "      <td>107.611416</td>\n",
              "      <td>21.250228</td>\n",
              "      <td>45.968002</td>\n",
              "      <td>1229.971461</td>\n",
              "      <td>63.019235</td>\n",
              "    </tr>\n",
              "    <tr>\n",
              "      <th>2015</th>\n",
              "      <td>68.832608</td>\n",
              "      <td>93.275696</td>\n",
              "      <td>11.698721</td>\n",
              "      <td>42.725942</td>\n",
              "      <td>1162.431507</td>\n",
              "      <td>58.307374</td>\n",
              "    </tr>\n",
              "    <tr>\n",
              "      <th>2016</th>\n",
              "      <td>61.665699</td>\n",
              "      <td>86.632115</td>\n",
              "      <td>8.144126</td>\n",
              "      <td>45.541268</td>\n",
              "      <td>1129.764344</td>\n",
              "      <td>54.002618</td>\n",
              "    </tr>\n",
              "    <tr>\n",
              "      <th>2017</th>\n",
              "      <td>79.802966</td>\n",
              "      <td>94.150777</td>\n",
              "      <td>16.431497</td>\n",
              "      <td>51.014831</td>\n",
              "      <td>1535.769774</td>\n",
              "      <td>33.010593</td>\n",
              "    </tr>\n",
              "    <tr>\n",
              "      <th rowspan=\"5\" valign=\"top\">Dingling</th>\n",
              "      <th>2013</th>\n",
              "      <td>65.200980</td>\n",
              "      <td>78.884940</td>\n",
              "      <td>13.955578</td>\n",
              "      <td>28.776131</td>\n",
              "      <td>940.035607</td>\n",
              "      <td>64.549386</td>\n",
              "    </tr>\n",
              "    <tr>\n",
              "      <th>2014</th>\n",
              "      <td>75.643006</td>\n",
              "      <td>91.554865</td>\n",
              "      <td>14.872983</td>\n",
              "      <td>27.365046</td>\n",
              "      <td>890.734399</td>\n",
              "      <td>72.762681</td>\n",
              "    </tr>\n",
              "    <tr>\n",
              "      <th>2015</th>\n",
              "      <td>64.353124</td>\n",
              "      <td>85.374616</td>\n",
              "      <td>11.322508</td>\n",
              "      <td>26.821221</td>\n",
              "      <td>963.934551</td>\n",
              "      <td>71.166486</td>\n",
              "    </tr>\n",
              "    <tr>\n",
              "      <th>2016</th>\n",
              "      <td>61.701218</td>\n",
              "      <td>80.707707</td>\n",
              "      <td>7.166041</td>\n",
              "      <td>25.375114</td>\n",
              "      <td>870.810565</td>\n",
              "      <td>75.364925</td>\n",
              "    </tr>\n",
              "    <tr>\n",
              "      <th>2017</th>\n",
              "      <td>68.281780</td>\n",
              "      <td>78.526483</td>\n",
              "      <td>13.256356</td>\n",
              "      <td>34.271186</td>\n",
              "      <td>1157.062147</td>\n",
              "      <td>53.824859</td>\n",
              "    </tr>\n",
              "    <tr>\n",
              "      <th rowspan=\"5\" valign=\"top\">Dongsi</th>\n",
              "      <th>2013</th>\n",
              "      <td>86.814474</td>\n",
              "      <td>104.619213</td>\n",
              "      <td>23.705583</td>\n",
              "      <td>57.327243</td>\n",
              "      <td>1324.754766</td>\n",
              "      <td>64.394874</td>\n",
              "    </tr>\n",
              "    <tr>\n",
              "      <th>2014</th>\n",
              "      <td>87.979304</td>\n",
              "      <td>117.451986</td>\n",
              "      <td>24.209064</td>\n",
              "      <td>57.451142</td>\n",
              "      <td>1379.931507</td>\n",
              "      <td>56.930742</td>\n",
              "    </tr>\n",
              "    <tr>\n",
              "      <th>2015</th>\n",
              "      <td>87.128659</td>\n",
              "      <td>112.116832</td>\n",
              "      <td>15.202015</td>\n",
              "      <td>50.321912</td>\n",
              "      <td>1338.498858</td>\n",
              "      <td>55.875063</td>\n",
              "    </tr>\n",
              "    <tr>\n",
              "      <th>2016</th>\n",
              "      <td>80.180556</td>\n",
              "      <td>102.829064</td>\n",
              "      <td>11.467327</td>\n",
              "      <td>50.630009</td>\n",
              "      <td>1236.429872</td>\n",
              "      <td>57.578267</td>\n",
              "    </tr>\n",
              "    <tr>\n",
              "      <th>2017</th>\n",
              "      <td>102.220692</td>\n",
              "      <td>131.802260</td>\n",
              "      <td>20.364054</td>\n",
              "      <td>57.890890</td>\n",
              "      <td>1623.552260</td>\n",
              "      <td>39.790254</td>\n",
              "    </tr>\n",
              "    <tr>\n",
              "      <th rowspan=\"5\" valign=\"top\">Guanyuan</th>\n",
              "      <th>2013</th>\n",
              "      <td>81.651893</td>\n",
              "      <td>108.949074</td>\n",
              "      <td>21.859392</td>\n",
              "      <td>58.866182</td>\n",
              "      <td>1132.745030</td>\n",
              "      <td>54.120639</td>\n",
              "    </tr>\n",
              "    <tr>\n",
              "      <th>2014</th>\n",
              "      <td>88.527374</td>\n",
              "      <td>116.123402</td>\n",
              "      <td>23.133562</td>\n",
              "      <td>64.343179</td>\n",
              "      <td>1362.357306</td>\n",
              "      <td>54.682477</td>\n",
              "    </tr>\n",
              "    <tr>\n",
              "      <th>2015</th>\n",
              "      <td>82.130183</td>\n",
              "      <td>106.321067</td>\n",
              "      <td>14.073579</td>\n",
              "      <td>54.921958</td>\n",
              "      <td>1313.704338</td>\n",
              "      <td>56.842614</td>\n",
              "    </tr>\n",
              "    <tr>\n",
              "      <th>2016</th>\n",
              "      <td>77.132514</td>\n",
              "      <td>104.927026</td>\n",
              "      <td>11.484517</td>\n",
              "      <td>53.459984</td>\n",
              "      <td>1168.169399</td>\n",
              "      <td>54.976719</td>\n",
              "    </tr>\n",
              "    <tr>\n",
              "      <th>2017</th>\n",
              "      <td>95.038842</td>\n",
              "      <td>116.255297</td>\n",
              "      <td>21.259181</td>\n",
              "      <td>64.920904</td>\n",
              "      <td>1482.768362</td>\n",
              "      <td>45.742232</td>\n",
              "    </tr>\n",
              "    <tr>\n",
              "      <th rowspan=\"5\" valign=\"top\">Gucheng</th>\n",
              "      <th>2013</th>\n",
              "      <td>81.498298</td>\n",
              "      <td>112.558211</td>\n",
              "      <td>17.508021</td>\n",
              "      <td>61.514691</td>\n",
              "      <td>1341.740264</td>\n",
              "      <td>55.781492</td>\n",
              "    </tr>\n",
              "    <tr>\n",
              "      <th>2014</th>\n",
              "      <td>90.549121</td>\n",
              "      <td>134.781427</td>\n",
              "      <td>21.290103</td>\n",
              "      <td>62.424463</td>\n",
              "      <td>1442.163242</td>\n",
              "      <td>60.253139</td>\n",
              "    </tr>\n",
              "    <tr>\n",
              "      <th>2015</th>\n",
              "      <td>83.685051</td>\n",
              "      <td>116.366929</td>\n",
              "      <td>13.338265</td>\n",
              "      <td>49.588271</td>\n",
              "      <td>1323.144977</td>\n",
              "      <td>60.779538</td>\n",
              "    </tr>\n",
              "    <tr>\n",
              "      <th>2016</th>\n",
              "      <td>77.437443</td>\n",
              "      <td>111.118511</td>\n",
              "      <td>10.204121</td>\n",
              "      <td>49.777265</td>\n",
              "      <td>1170.952869</td>\n",
              "      <td>59.522883</td>\n",
              "    </tr>\n",
              "    <tr>\n",
              "      <th>2017</th>\n",
              "      <td>100.969986</td>\n",
              "      <td>126.437500</td>\n",
              "      <td>20.587924</td>\n",
              "      <td>62.319915</td>\n",
              "      <td>1804.837571</td>\n",
              "      <td>28.924788</td>\n",
              "    </tr>\n",
              "    <tr>\n",
              "      <th rowspan=\"5\" valign=\"top\">Huairou</th>\n",
              "      <th>2013</th>\n",
              "      <td>68.619145</td>\n",
              "      <td>98.509191</td>\n",
              "      <td>18.295972</td>\n",
              "      <td>35.076202</td>\n",
              "      <td>988.408837</td>\n",
              "      <td>64.256573</td>\n",
              "    </tr>\n",
              "    <tr>\n",
              "      <th>2014</th>\n",
              "      <td>77.143487</td>\n",
              "      <td>99.877363</td>\n",
              "      <td>17.582237</td>\n",
              "      <td>37.039566</td>\n",
              "      <td>1070.981735</td>\n",
              "      <td>68.108750</td>\n",
              "    </tr>\n",
              "    <tr>\n",
              "      <th>2015</th>\n",
              "      <td>70.500148</td>\n",
              "      <td>90.165559</td>\n",
              "      <td>8.662831</td>\n",
              "      <td>28.316707</td>\n",
              "      <td>1038.784247</td>\n",
              "      <td>60.640691</td>\n",
              "    </tr>\n",
              "    <tr>\n",
              "      <th>2016</th>\n",
              "      <td>60.919627</td>\n",
              "      <td>82.266280</td>\n",
              "      <td>6.638092</td>\n",
              "      <td>27.278632</td>\n",
              "      <td>927.977004</td>\n",
              "      <td>53.353256</td>\n",
              "    </tr>\n",
              "    <tr>\n",
              "      <th>2017</th>\n",
              "      <td>73.865819</td>\n",
              "      <td>91.704802</td>\n",
              "      <td>9.780367</td>\n",
              "      <td>38.856992</td>\n",
              "      <td>1314.971751</td>\n",
              "      <td>46.625353</td>\n",
              "    </tr>\n",
              "    <tr>\n",
              "      <th rowspan=\"5\" valign=\"top\">Nongzhanguan</th>\n",
              "      <th>2013</th>\n",
              "      <td>84.377996</td>\n",
              "      <td>103.735090</td>\n",
              "      <td>23.243093</td>\n",
              "      <td>59.518205</td>\n",
              "      <td>1294.818015</td>\n",
              "      <td>56.011564</td>\n",
              "    </tr>\n",
              "    <tr>\n",
              "      <th>2014</th>\n",
              "      <td>91.998082</td>\n",
              "      <td>127.224053</td>\n",
              "      <td>24.876495</td>\n",
              "      <td>62.296895</td>\n",
              "      <td>1353.613014</td>\n",
              "      <td>59.284635</td>\n",
              "    </tr>\n",
              "    <tr>\n",
              "      <th>2015</th>\n",
              "      <td>85.178584</td>\n",
              "      <td>106.989172</td>\n",
              "      <td>15.809857</td>\n",
              "      <td>58.249709</td>\n",
              "      <td>1382.773973</td>\n",
              "      <td>61.365702</td>\n",
              "    </tr>\n",
              "    <tr>\n",
              "      <th>2016</th>\n",
              "      <td>76.096539</td>\n",
              "      <td>97.046790</td>\n",
              "      <td>11.556865</td>\n",
              "      <td>52.538764</td>\n",
              "      <td>1209.369308</td>\n",
              "      <td>60.216018</td>\n",
              "    </tr>\n",
              "    <tr>\n",
              "      <th>2017</th>\n",
              "      <td>101.027542</td>\n",
              "      <td>119.663842</td>\n",
              "      <td>20.606638</td>\n",
              "      <td>58.230579</td>\n",
              "      <td>1732.944915</td>\n",
              "      <td>36.516243</td>\n",
              "    </tr>\n",
              "    <tr>\n",
              "      <th rowspan=\"5\" valign=\"top\">Shunyi</th>\n",
              "      <th>2013</th>\n",
              "      <td>75.746460</td>\n",
              "      <td>95.145084</td>\n",
              "      <td>15.083344</td>\n",
              "      <td>41.665004</td>\n",
              "      <td>1241.772740</td>\n",
              "      <td>55.851085</td>\n",
              "    </tr>\n",
              "    <tr>\n",
              "      <th>2014</th>\n",
              "      <td>85.190993</td>\n",
              "      <td>111.620913</td>\n",
              "      <td>17.699406</td>\n",
              "      <td>46.826393</td>\n",
              "      <td>1173.173516</td>\n",
              "      <td>57.899463</td>\n",
              "    </tr>\n",
              "    <tr>\n",
              "      <th>2015</th>\n",
              "      <td>81.456119</td>\n",
              "      <td>100.412780</td>\n",
              "      <td>10.454298</td>\n",
              "      <td>43.097306</td>\n",
              "      <td>1188.407534</td>\n",
              "      <td>51.667546</td>\n",
              "    </tr>\n",
              "    <tr>\n",
              "      <th>2016</th>\n",
              "      <td>72.223588</td>\n",
              "      <td>88.047245</td>\n",
              "      <td>9.566541</td>\n",
              "      <td>42.540642</td>\n",
              "      <td>1099.948770</td>\n",
              "      <td>53.700421</td>\n",
              "    </tr>\n",
              "    <tr>\n",
              "      <th>2017</th>\n",
              "      <td>95.261299</td>\n",
              "      <td>106.852754</td>\n",
              "      <td>21.213630</td>\n",
              "      <td>55.607345</td>\n",
              "      <td>1789.795198</td>\n",
              "      <td>41.981992</td>\n",
              "    </tr>\n",
              "    <tr>\n",
              "      <th rowspan=\"5\" valign=\"top\">Tiantan</th>\n",
              "      <th>2013</th>\n",
              "      <td>83.210172</td>\n",
              "      <td>108.312704</td>\n",
              "      <td>18.202909</td>\n",
              "      <td>53.174606</td>\n",
              "      <td>1311.649714</td>\n",
              "      <td>55.159147</td>\n",
              "    </tr>\n",
              "    <tr>\n",
              "      <th>2014</th>\n",
              "      <td>86.689874</td>\n",
              "      <td>114.889526</td>\n",
              "      <td>19.771678</td>\n",
              "      <td>56.159241</td>\n",
              "      <td>1338.590183</td>\n",
              "      <td>56.664224</td>\n",
              "    </tr>\n",
              "    <tr>\n",
              "      <th>2015</th>\n",
              "      <td>82.076450</td>\n",
              "      <td>102.863676</td>\n",
              "      <td>11.804817</td>\n",
              "      <td>52.020753</td>\n",
              "      <td>1302.374429</td>\n",
              "      <td>60.362877</td>\n",
              "    </tr>\n",
              "    <tr>\n",
              "      <th>2016</th>\n",
              "      <td>73.801116</td>\n",
              "      <td>97.271232</td>\n",
              "      <td>8.946949</td>\n",
              "      <td>49.948657</td>\n",
              "      <td>1196.163479</td>\n",
              "      <td>55.540927</td>\n",
              "    </tr>\n",
              "    <tr>\n",
              "      <th>2017</th>\n",
              "      <td>97.917373</td>\n",
              "      <td>125.860876</td>\n",
              "      <td>14.051554</td>\n",
              "      <td>63.945975</td>\n",
              "      <td>1762.358757</td>\n",
              "      <td>35.775777</td>\n",
              "    </tr>\n",
              "    <tr>\n",
              "      <th rowspan=\"5\" valign=\"top\">Wanliu</th>\n",
              "      <th>2013</th>\n",
              "      <td>91.486179</td>\n",
              "      <td>112.366694</td>\n",
              "      <td>23.615828</td>\n",
              "      <td>68.547606</td>\n",
              "      <td>1289.628540</td>\n",
              "      <td>43.981046</td>\n",
              "    </tr>\n",
              "    <tr>\n",
              "      <th>2014</th>\n",
              "      <td>90.371107</td>\n",
              "      <td>131.279212</td>\n",
              "      <td>25.061336</td>\n",
              "      <td>75.740034</td>\n",
              "      <td>1383.002283</td>\n",
              "      <td>40.173148</td>\n",
              "    </tr>\n",
              "    <tr>\n",
              "      <th>2015</th>\n",
              "      <td>80.228191</td>\n",
              "      <td>106.598225</td>\n",
              "      <td>14.847175</td>\n",
              "      <td>60.059030</td>\n",
              "      <td>1327.825342</td>\n",
              "      <td>51.621204</td>\n",
              "    </tr>\n",
              "    <tr>\n",
              "      <th>2016</th>\n",
              "      <td>71.433117</td>\n",
              "      <td>92.913536</td>\n",
              "      <td>10.666724</td>\n",
              "      <td>58.260189</td>\n",
              "      <td>1232.388434</td>\n",
              "      <td>53.182036</td>\n",
              "    </tr>\n",
              "    <tr>\n",
              "      <th>2017</th>\n",
              "      <td>93.866879</td>\n",
              "      <td>110.650071</td>\n",
              "      <td>20.325918</td>\n",
              "      <td>69.086511</td>\n",
              "      <td>1799.788136</td>\n",
              "      <td>35.709040</td>\n",
              "    </tr>\n",
              "    <tr>\n",
              "      <th rowspan=\"5\" valign=\"top\">Wanshouxigong</th>\n",
              "      <th>2013</th>\n",
              "      <td>83.784586</td>\n",
              "      <td>111.195057</td>\n",
              "      <td>21.781023</td>\n",
              "      <td>55.950066</td>\n",
              "      <td>1411.235226</td>\n",
              "      <td>52.658367</td>\n",
              "    </tr>\n",
              "    <tr>\n",
              "      <th>2014</th>\n",
              "      <td>90.482100</td>\n",
              "      <td>127.157100</td>\n",
              "      <td>23.190183</td>\n",
              "      <td>61.797568</td>\n",
              "      <td>1442.260274</td>\n",
              "      <td>56.443813</td>\n",
              "    </tr>\n",
              "    <tr>\n",
              "      <th>2015</th>\n",
              "      <td>84.276233</td>\n",
              "      <td>111.198973</td>\n",
              "      <td>14.384966</td>\n",
              "      <td>52.729372</td>\n",
              "      <td>1364.229452</td>\n",
              "      <td>59.251575</td>\n",
              "    </tr>\n",
              "    <tr>\n",
              "      <th>2016</th>\n",
              "      <td>78.112933</td>\n",
              "      <td>98.815289</td>\n",
              "      <td>10.635474</td>\n",
              "      <td>50.183117</td>\n",
              "      <td>1224.077869</td>\n",
              "      <td>58.318420</td>\n",
              "    </tr>\n",
              "    <tr>\n",
              "      <th>2017</th>\n",
              "      <td>106.262359</td>\n",
              "      <td>121.676554</td>\n",
              "      <td>18.565325</td>\n",
              "      <td>64.215395</td>\n",
              "      <td>1739.618644</td>\n",
              "      <td>34.106285</td>\n",
              "    </tr>\n",
              "  </tbody>\n",
              "</table>\n",
              "</div>"
            ],
            "text/plain": [
              "                         PM2.5        PM10        SO2        NO2           CO  \\\n",
              "station       year                                                              \n",
              "Aotizhongxin  2013   82.439202  112.940836  23.599799  63.355500  1163.919458   \n",
              "              2014   89.747603  122.282112  21.515582  63.164053  1186.718037   \n",
              "              2015   81.831724  112.176747  14.354195  60.939047  1436.889269   \n",
              "              2016   74.236680   94.445811  10.833732  48.402493  1190.215164   \n",
              "              2017   94.379237  106.988347  20.827331  66.229520  1666.454802   \n",
              "Changping     2013   72.393246   91.176675  19.134785  40.960527  1022.978758   \n",
              "              2014   79.881998  107.611416  21.250228  45.968002  1229.971461   \n",
              "              2015   68.832608   93.275696  11.698721  42.725942  1162.431507   \n",
              "              2016   61.665699   86.632115   8.144126  45.541268  1129.764344   \n",
              "              2017   79.802966   94.150777  16.431497  51.014831  1535.769774   \n",
              "Dingling      2013   65.200980   78.884940  13.955578  28.776131   940.035607   \n",
              "              2014   75.643006   91.554865  14.872983  27.365046   890.734399   \n",
              "              2015   64.353124   85.374616  11.322508  26.821221   963.934551   \n",
              "              2016   61.701218   80.707707   7.166041  25.375114   870.810565   \n",
              "              2017   68.281780   78.526483  13.256356  34.271186  1157.062147   \n",
              "Dongsi        2013   86.814474  104.619213  23.705583  57.327243  1324.754766   \n",
              "              2014   87.979304  117.451986  24.209064  57.451142  1379.931507   \n",
              "              2015   87.128659  112.116832  15.202015  50.321912  1338.498858   \n",
              "              2016   80.180556  102.829064  11.467327  50.630009  1236.429872   \n",
              "              2017  102.220692  131.802260  20.364054  57.890890  1623.552260   \n",
              "Guanyuan      2013   81.651893  108.949074  21.859392  58.866182  1132.745030   \n",
              "              2014   88.527374  116.123402  23.133562  64.343179  1362.357306   \n",
              "              2015   82.130183  106.321067  14.073579  54.921958  1313.704338   \n",
              "              2016   77.132514  104.927026  11.484517  53.459984  1168.169399   \n",
              "              2017   95.038842  116.255297  21.259181  64.920904  1482.768362   \n",
              "Gucheng       2013   81.498298  112.558211  17.508021  61.514691  1341.740264   \n",
              "              2014   90.549121  134.781427  21.290103  62.424463  1442.163242   \n",
              "              2015   83.685051  116.366929  13.338265  49.588271  1323.144977   \n",
              "              2016   77.437443  111.118511  10.204121  49.777265  1170.952869   \n",
              "              2017  100.969986  126.437500  20.587924  62.319915  1804.837571   \n",
              "Huairou       2013   68.619145   98.509191  18.295972  35.076202   988.408837   \n",
              "              2014   77.143487   99.877363  17.582237  37.039566  1070.981735   \n",
              "              2015   70.500148   90.165559   8.662831  28.316707  1038.784247   \n",
              "              2016   60.919627   82.266280   6.638092  27.278632   927.977004   \n",
              "              2017   73.865819   91.704802   9.780367  38.856992  1314.971751   \n",
              "Nongzhanguan  2013   84.377996  103.735090  23.243093  59.518205  1294.818015   \n",
              "              2014   91.998082  127.224053  24.876495  62.296895  1353.613014   \n",
              "              2015   85.178584  106.989172  15.809857  58.249709  1382.773973   \n",
              "              2016   76.096539   97.046790  11.556865  52.538764  1209.369308   \n",
              "              2017  101.027542  119.663842  20.606638  58.230579  1732.944915   \n",
              "Shunyi        2013   75.746460   95.145084  15.083344  41.665004  1241.772740   \n",
              "              2014   85.190993  111.620913  17.699406  46.826393  1173.173516   \n",
              "              2015   81.456119  100.412780  10.454298  43.097306  1188.407534   \n",
              "              2016   72.223588   88.047245   9.566541  42.540642  1099.948770   \n",
              "              2017   95.261299  106.852754  21.213630  55.607345  1789.795198   \n",
              "Tiantan       2013   83.210172  108.312704  18.202909  53.174606  1311.649714   \n",
              "              2014   86.689874  114.889526  19.771678  56.159241  1338.590183   \n",
              "              2015   82.076450  102.863676  11.804817  52.020753  1302.374429   \n",
              "              2016   73.801116   97.271232   8.946949  49.948657  1196.163479   \n",
              "              2017   97.917373  125.860876  14.051554  63.945975  1762.358757   \n",
              "Wanliu        2013   91.486179  112.366694  23.615828  68.547606  1289.628540   \n",
              "              2014   90.371107  131.279212  25.061336  75.740034  1383.002283   \n",
              "              2015   80.228191  106.598225  14.847175  60.059030  1327.825342   \n",
              "              2016   71.433117   92.913536  10.666724  58.260189  1232.388434   \n",
              "              2017   93.866879  110.650071  20.325918  69.086511  1799.788136   \n",
              "Wanshouxigong 2013   83.784586  111.195057  21.781023  55.950066  1411.235226   \n",
              "              2014   90.482100  127.157100  23.190183  61.797568  1442.260274   \n",
              "              2015   84.276233  111.198973  14.384966  52.729372  1364.229452   \n",
              "              2016   78.112933   98.815289  10.635474  50.183117  1224.077869   \n",
              "              2017  106.262359  121.676554  18.565325  64.215395  1739.618644   \n",
              "\n",
              "                           O3  \n",
              "station       year             \n",
              "Aotizhongxin  2013  47.206555  \n",
              "              2014  48.594041  \n",
              "              2015  63.604132  \n",
              "              2016  61.854793  \n",
              "              2017  47.436088  \n",
              "Changping     2013  61.132385  \n",
              "              2014  63.019235  \n",
              "              2015  58.307374  \n",
              "              2016  54.002618  \n",
              "              2017  33.010593  \n",
              "Dingling      2013  64.549386  \n",
              "              2014  72.762681  \n",
              "              2015  71.166486  \n",
              "              2016  75.364925  \n",
              "              2017  53.824859  \n",
              "Dongsi        2013  64.394874  \n",
              "              2014  56.930742  \n",
              "              2015  55.875063  \n",
              "              2016  57.578267  \n",
              "              2017  39.790254  \n",
              "Guanyuan      2013  54.120639  \n",
              "              2014  54.682477  \n",
              "              2015  56.842614  \n",
              "              2016  54.976719  \n",
              "              2017  45.742232  \n",
              "Gucheng       2013  55.781492  \n",
              "              2014  60.253139  \n",
              "              2015  60.779538  \n",
              "              2016  59.522883  \n",
              "              2017  28.924788  \n",
              "Huairou       2013  64.256573  \n",
              "              2014  68.108750  \n",
              "              2015  60.640691  \n",
              "              2016  53.353256  \n",
              "              2017  46.625353  \n",
              "Nongzhanguan  2013  56.011564  \n",
              "              2014  59.284635  \n",
              "              2015  61.365702  \n",
              "              2016  60.216018  \n",
              "              2017  36.516243  \n",
              "Shunyi        2013  55.851085  \n",
              "              2014  57.899463  \n",
              "              2015  51.667546  \n",
              "              2016  53.700421  \n",
              "              2017  41.981992  \n",
              "Tiantan       2013  55.159147  \n",
              "              2014  56.664224  \n",
              "              2015  60.362877  \n",
              "              2016  55.540927  \n",
              "              2017  35.775777  \n",
              "Wanliu        2013  43.981046  \n",
              "              2014  40.173148  \n",
              "              2015  51.621204  \n",
              "              2016  53.182036  \n",
              "              2017  35.709040  \n",
              "Wanshouxigong 2013  52.658367  \n",
              "              2014  56.443813  \n",
              "              2015  59.251575  \n",
              "              2016  58.318420  \n",
              "              2017  34.106285  "
            ]
          },
          "execution_count": 185,
          "metadata": {},
          "output_type": "execute_result"
        }
      ],
      "source": [
        "pollutant_columns = ['PM2.5', 'PM10', 'SO2', 'NO2', 'CO', 'O3']\n",
        "pollutant_data = cleaned_merged_df_with_station.groupby(['station', 'year'])[pollutant_columns].mean()\n",
        "\n",
        "print(\"Average Pollutant Levels by Month:\")\n",
        "pollutant_data"
      ]
    },
    {
      "cell_type": "code",
      "execution_count": 186,
      "metadata": {
        "colab": {
          "base_uri": "https://localhost:8080/",
          "height": 1000
        },
        "collapsed": true,
        "id": "lKi8T3pH-T8a",
        "outputId": "18c6bfee-8de3-4a67-b0e5-197cb688bf29"
      },
      "outputs": [
        {
          "name": "stdout",
          "output_type": "stream",
          "text": [
            "Average Pollutant Levels by Month:\n"
          ]
        },
        {
          "data": {
            "text/html": [
              "<div>\n",
              "<style scoped>\n",
              "    .dataframe tbody tr th:only-of-type {\n",
              "        vertical-align: middle;\n",
              "    }\n",
              "\n",
              "    .dataframe tbody tr th {\n",
              "        vertical-align: top;\n",
              "    }\n",
              "\n",
              "    .dataframe thead th {\n",
              "        text-align: right;\n",
              "    }\n",
              "</style>\n",
              "<table border=\"1\" class=\"dataframe\">\n",
              "  <thead>\n",
              "    <tr style=\"text-align: right;\">\n",
              "      <th></th>\n",
              "      <th></th>\n",
              "      <th>PM2.5</th>\n",
              "      <th>PM10</th>\n",
              "      <th>SO2</th>\n",
              "      <th>NO2</th>\n",
              "      <th>O3</th>\n",
              "    </tr>\n",
              "    <tr>\n",
              "      <th>station</th>\n",
              "      <th>year</th>\n",
              "      <th></th>\n",
              "      <th></th>\n",
              "      <th></th>\n",
              "      <th></th>\n",
              "      <th></th>\n",
              "    </tr>\n",
              "  </thead>\n",
              "  <tbody>\n",
              "    <tr>\n",
              "      <th rowspan=\"5\" valign=\"top\">Aotizhongxin</th>\n",
              "      <th>2013</th>\n",
              "      <td>82.439202</td>\n",
              "      <td>112.940836</td>\n",
              "      <td>23.599799</td>\n",
              "      <td>63.355500</td>\n",
              "      <td>47.206555</td>\n",
              "    </tr>\n",
              "    <tr>\n",
              "      <th>2014</th>\n",
              "      <td>89.747603</td>\n",
              "      <td>122.282112</td>\n",
              "      <td>21.515582</td>\n",
              "      <td>63.164053</td>\n",
              "      <td>48.594041</td>\n",
              "    </tr>\n",
              "    <tr>\n",
              "      <th>2015</th>\n",
              "      <td>81.831724</td>\n",
              "      <td>112.176747</td>\n",
              "      <td>14.354195</td>\n",
              "      <td>60.939047</td>\n",
              "      <td>63.604132</td>\n",
              "    </tr>\n",
              "    <tr>\n",
              "      <th>2016</th>\n",
              "      <td>74.236680</td>\n",
              "      <td>94.445811</td>\n",
              "      <td>10.833732</td>\n",
              "      <td>48.402493</td>\n",
              "      <td>61.854793</td>\n",
              "    </tr>\n",
              "    <tr>\n",
              "      <th>2017</th>\n",
              "      <td>94.379237</td>\n",
              "      <td>106.988347</td>\n",
              "      <td>20.827331</td>\n",
              "      <td>66.229520</td>\n",
              "      <td>47.436088</td>\n",
              "    </tr>\n",
              "    <tr>\n",
              "      <th rowspan=\"5\" valign=\"top\">Changping</th>\n",
              "      <th>2013</th>\n",
              "      <td>72.393246</td>\n",
              "      <td>91.176675</td>\n",
              "      <td>19.134785</td>\n",
              "      <td>40.960527</td>\n",
              "      <td>61.132385</td>\n",
              "    </tr>\n",
              "    <tr>\n",
              "      <th>2014</th>\n",
              "      <td>79.881998</td>\n",
              "      <td>107.611416</td>\n",
              "      <td>21.250228</td>\n",
              "      <td>45.968002</td>\n",
              "      <td>63.019235</td>\n",
              "    </tr>\n",
              "    <tr>\n",
              "      <th>2015</th>\n",
              "      <td>68.832608</td>\n",
              "      <td>93.275696</td>\n",
              "      <td>11.698721</td>\n",
              "      <td>42.725942</td>\n",
              "      <td>58.307374</td>\n",
              "    </tr>\n",
              "    <tr>\n",
              "      <th>2016</th>\n",
              "      <td>61.665699</td>\n",
              "      <td>86.632115</td>\n",
              "      <td>8.144126</td>\n",
              "      <td>45.541268</td>\n",
              "      <td>54.002618</td>\n",
              "    </tr>\n",
              "    <tr>\n",
              "      <th>2017</th>\n",
              "      <td>79.802966</td>\n",
              "      <td>94.150777</td>\n",
              "      <td>16.431497</td>\n",
              "      <td>51.014831</td>\n",
              "      <td>33.010593</td>\n",
              "    </tr>\n",
              "    <tr>\n",
              "      <th rowspan=\"5\" valign=\"top\">Dingling</th>\n",
              "      <th>2013</th>\n",
              "      <td>65.200980</td>\n",
              "      <td>78.884940</td>\n",
              "      <td>13.955578</td>\n",
              "      <td>28.776131</td>\n",
              "      <td>64.549386</td>\n",
              "    </tr>\n",
              "    <tr>\n",
              "      <th>2014</th>\n",
              "      <td>75.643006</td>\n",
              "      <td>91.554865</td>\n",
              "      <td>14.872983</td>\n",
              "      <td>27.365046</td>\n",
              "      <td>72.762681</td>\n",
              "    </tr>\n",
              "    <tr>\n",
              "      <th>2015</th>\n",
              "      <td>64.353124</td>\n",
              "      <td>85.374616</td>\n",
              "      <td>11.322508</td>\n",
              "      <td>26.821221</td>\n",
              "      <td>71.166486</td>\n",
              "    </tr>\n",
              "    <tr>\n",
              "      <th>2016</th>\n",
              "      <td>61.701218</td>\n",
              "      <td>80.707707</td>\n",
              "      <td>7.166041</td>\n",
              "      <td>25.375114</td>\n",
              "      <td>75.364925</td>\n",
              "    </tr>\n",
              "    <tr>\n",
              "      <th>2017</th>\n",
              "      <td>68.281780</td>\n",
              "      <td>78.526483</td>\n",
              "      <td>13.256356</td>\n",
              "      <td>34.271186</td>\n",
              "      <td>53.824859</td>\n",
              "    </tr>\n",
              "    <tr>\n",
              "      <th rowspan=\"5\" valign=\"top\">Dongsi</th>\n",
              "      <th>2013</th>\n",
              "      <td>86.814474</td>\n",
              "      <td>104.619213</td>\n",
              "      <td>23.705583</td>\n",
              "      <td>57.327243</td>\n",
              "      <td>64.394874</td>\n",
              "    </tr>\n",
              "    <tr>\n",
              "      <th>2014</th>\n",
              "      <td>87.979304</td>\n",
              "      <td>117.451986</td>\n",
              "      <td>24.209064</td>\n",
              "      <td>57.451142</td>\n",
              "      <td>56.930742</td>\n",
              "    </tr>\n",
              "    <tr>\n",
              "      <th>2015</th>\n",
              "      <td>87.128659</td>\n",
              "      <td>112.116832</td>\n",
              "      <td>15.202015</td>\n",
              "      <td>50.321912</td>\n",
              "      <td>55.875063</td>\n",
              "    </tr>\n",
              "    <tr>\n",
              "      <th>2016</th>\n",
              "      <td>80.180556</td>\n",
              "      <td>102.829064</td>\n",
              "      <td>11.467327</td>\n",
              "      <td>50.630009</td>\n",
              "      <td>57.578267</td>\n",
              "    </tr>\n",
              "    <tr>\n",
              "      <th>2017</th>\n",
              "      <td>102.220692</td>\n",
              "      <td>131.802260</td>\n",
              "      <td>20.364054</td>\n",
              "      <td>57.890890</td>\n",
              "      <td>39.790254</td>\n",
              "    </tr>\n",
              "    <tr>\n",
              "      <th rowspan=\"5\" valign=\"top\">Guanyuan</th>\n",
              "      <th>2013</th>\n",
              "      <td>81.651893</td>\n",
              "      <td>108.949074</td>\n",
              "      <td>21.859392</td>\n",
              "      <td>58.866182</td>\n",
              "      <td>54.120639</td>\n",
              "    </tr>\n",
              "    <tr>\n",
              "      <th>2014</th>\n",
              "      <td>88.527374</td>\n",
              "      <td>116.123402</td>\n",
              "      <td>23.133562</td>\n",
              "      <td>64.343179</td>\n",
              "      <td>54.682477</td>\n",
              "    </tr>\n",
              "    <tr>\n",
              "      <th>2015</th>\n",
              "      <td>82.130183</td>\n",
              "      <td>106.321067</td>\n",
              "      <td>14.073579</td>\n",
              "      <td>54.921958</td>\n",
              "      <td>56.842614</td>\n",
              "    </tr>\n",
              "    <tr>\n",
              "      <th>2016</th>\n",
              "      <td>77.132514</td>\n",
              "      <td>104.927026</td>\n",
              "      <td>11.484517</td>\n",
              "      <td>53.459984</td>\n",
              "      <td>54.976719</td>\n",
              "    </tr>\n",
              "    <tr>\n",
              "      <th>2017</th>\n",
              "      <td>95.038842</td>\n",
              "      <td>116.255297</td>\n",
              "      <td>21.259181</td>\n",
              "      <td>64.920904</td>\n",
              "      <td>45.742232</td>\n",
              "    </tr>\n",
              "    <tr>\n",
              "      <th rowspan=\"5\" valign=\"top\">Gucheng</th>\n",
              "      <th>2013</th>\n",
              "      <td>81.498298</td>\n",
              "      <td>112.558211</td>\n",
              "      <td>17.508021</td>\n",
              "      <td>61.514691</td>\n",
              "      <td>55.781492</td>\n",
              "    </tr>\n",
              "    <tr>\n",
              "      <th>2014</th>\n",
              "      <td>90.549121</td>\n",
              "      <td>134.781427</td>\n",
              "      <td>21.290103</td>\n",
              "      <td>62.424463</td>\n",
              "      <td>60.253139</td>\n",
              "    </tr>\n",
              "    <tr>\n",
              "      <th>2015</th>\n",
              "      <td>83.685051</td>\n",
              "      <td>116.366929</td>\n",
              "      <td>13.338265</td>\n",
              "      <td>49.588271</td>\n",
              "      <td>60.779538</td>\n",
              "    </tr>\n",
              "    <tr>\n",
              "      <th>2016</th>\n",
              "      <td>77.437443</td>\n",
              "      <td>111.118511</td>\n",
              "      <td>10.204121</td>\n",
              "      <td>49.777265</td>\n",
              "      <td>59.522883</td>\n",
              "    </tr>\n",
              "    <tr>\n",
              "      <th>2017</th>\n",
              "      <td>100.969986</td>\n",
              "      <td>126.437500</td>\n",
              "      <td>20.587924</td>\n",
              "      <td>62.319915</td>\n",
              "      <td>28.924788</td>\n",
              "    </tr>\n",
              "    <tr>\n",
              "      <th rowspan=\"5\" valign=\"top\">Huairou</th>\n",
              "      <th>2013</th>\n",
              "      <td>68.619145</td>\n",
              "      <td>98.509191</td>\n",
              "      <td>18.295972</td>\n",
              "      <td>35.076202</td>\n",
              "      <td>64.256573</td>\n",
              "    </tr>\n",
              "    <tr>\n",
              "      <th>2014</th>\n",
              "      <td>77.143487</td>\n",
              "      <td>99.877363</td>\n",
              "      <td>17.582237</td>\n",
              "      <td>37.039566</td>\n",
              "      <td>68.108750</td>\n",
              "    </tr>\n",
              "    <tr>\n",
              "      <th>2015</th>\n",
              "      <td>70.500148</td>\n",
              "      <td>90.165559</td>\n",
              "      <td>8.662831</td>\n",
              "      <td>28.316707</td>\n",
              "      <td>60.640691</td>\n",
              "    </tr>\n",
              "    <tr>\n",
              "      <th>2016</th>\n",
              "      <td>60.919627</td>\n",
              "      <td>82.266280</td>\n",
              "      <td>6.638092</td>\n",
              "      <td>27.278632</td>\n",
              "      <td>53.353256</td>\n",
              "    </tr>\n",
              "    <tr>\n",
              "      <th>2017</th>\n",
              "      <td>73.865819</td>\n",
              "      <td>91.704802</td>\n",
              "      <td>9.780367</td>\n",
              "      <td>38.856992</td>\n",
              "      <td>46.625353</td>\n",
              "    </tr>\n",
              "    <tr>\n",
              "      <th rowspan=\"5\" valign=\"top\">Nongzhanguan</th>\n",
              "      <th>2013</th>\n",
              "      <td>84.377996</td>\n",
              "      <td>103.735090</td>\n",
              "      <td>23.243093</td>\n",
              "      <td>59.518205</td>\n",
              "      <td>56.011564</td>\n",
              "    </tr>\n",
              "    <tr>\n",
              "      <th>2014</th>\n",
              "      <td>91.998082</td>\n",
              "      <td>127.224053</td>\n",
              "      <td>24.876495</td>\n",
              "      <td>62.296895</td>\n",
              "      <td>59.284635</td>\n",
              "    </tr>\n",
              "    <tr>\n",
              "      <th>2015</th>\n",
              "      <td>85.178584</td>\n",
              "      <td>106.989172</td>\n",
              "      <td>15.809857</td>\n",
              "      <td>58.249709</td>\n",
              "      <td>61.365702</td>\n",
              "    </tr>\n",
              "    <tr>\n",
              "      <th>2016</th>\n",
              "      <td>76.096539</td>\n",
              "      <td>97.046790</td>\n",
              "      <td>11.556865</td>\n",
              "      <td>52.538764</td>\n",
              "      <td>60.216018</td>\n",
              "    </tr>\n",
              "    <tr>\n",
              "      <th>2017</th>\n",
              "      <td>101.027542</td>\n",
              "      <td>119.663842</td>\n",
              "      <td>20.606638</td>\n",
              "      <td>58.230579</td>\n",
              "      <td>36.516243</td>\n",
              "    </tr>\n",
              "    <tr>\n",
              "      <th rowspan=\"5\" valign=\"top\">Shunyi</th>\n",
              "      <th>2013</th>\n",
              "      <td>75.746460</td>\n",
              "      <td>95.145084</td>\n",
              "      <td>15.083344</td>\n",
              "      <td>41.665004</td>\n",
              "      <td>55.851085</td>\n",
              "    </tr>\n",
              "    <tr>\n",
              "      <th>2014</th>\n",
              "      <td>85.190993</td>\n",
              "      <td>111.620913</td>\n",
              "      <td>17.699406</td>\n",
              "      <td>46.826393</td>\n",
              "      <td>57.899463</td>\n",
              "    </tr>\n",
              "    <tr>\n",
              "      <th>2015</th>\n",
              "      <td>81.456119</td>\n",
              "      <td>100.412780</td>\n",
              "      <td>10.454298</td>\n",
              "      <td>43.097306</td>\n",
              "      <td>51.667546</td>\n",
              "    </tr>\n",
              "    <tr>\n",
              "      <th>2016</th>\n",
              "      <td>72.223588</td>\n",
              "      <td>88.047245</td>\n",
              "      <td>9.566541</td>\n",
              "      <td>42.540642</td>\n",
              "      <td>53.700421</td>\n",
              "    </tr>\n",
              "    <tr>\n",
              "      <th>2017</th>\n",
              "      <td>95.261299</td>\n",
              "      <td>106.852754</td>\n",
              "      <td>21.213630</td>\n",
              "      <td>55.607345</td>\n",
              "      <td>41.981992</td>\n",
              "    </tr>\n",
              "    <tr>\n",
              "      <th rowspan=\"5\" valign=\"top\">Tiantan</th>\n",
              "      <th>2013</th>\n",
              "      <td>83.210172</td>\n",
              "      <td>108.312704</td>\n",
              "      <td>18.202909</td>\n",
              "      <td>53.174606</td>\n",
              "      <td>55.159147</td>\n",
              "    </tr>\n",
              "    <tr>\n",
              "      <th>2014</th>\n",
              "      <td>86.689874</td>\n",
              "      <td>114.889526</td>\n",
              "      <td>19.771678</td>\n",
              "      <td>56.159241</td>\n",
              "      <td>56.664224</td>\n",
              "    </tr>\n",
              "    <tr>\n",
              "      <th>2015</th>\n",
              "      <td>82.076450</td>\n",
              "      <td>102.863676</td>\n",
              "      <td>11.804817</td>\n",
              "      <td>52.020753</td>\n",
              "      <td>60.362877</td>\n",
              "    </tr>\n",
              "    <tr>\n",
              "      <th>2016</th>\n",
              "      <td>73.801116</td>\n",
              "      <td>97.271232</td>\n",
              "      <td>8.946949</td>\n",
              "      <td>49.948657</td>\n",
              "      <td>55.540927</td>\n",
              "    </tr>\n",
              "    <tr>\n",
              "      <th>2017</th>\n",
              "      <td>97.917373</td>\n",
              "      <td>125.860876</td>\n",
              "      <td>14.051554</td>\n",
              "      <td>63.945975</td>\n",
              "      <td>35.775777</td>\n",
              "    </tr>\n",
              "    <tr>\n",
              "      <th rowspan=\"5\" valign=\"top\">Wanliu</th>\n",
              "      <th>2013</th>\n",
              "      <td>91.486179</td>\n",
              "      <td>112.366694</td>\n",
              "      <td>23.615828</td>\n",
              "      <td>68.547606</td>\n",
              "      <td>43.981046</td>\n",
              "    </tr>\n",
              "    <tr>\n",
              "      <th>2014</th>\n",
              "      <td>90.371107</td>\n",
              "      <td>131.279212</td>\n",
              "      <td>25.061336</td>\n",
              "      <td>75.740034</td>\n",
              "      <td>40.173148</td>\n",
              "    </tr>\n",
              "    <tr>\n",
              "      <th>2015</th>\n",
              "      <td>80.228191</td>\n",
              "      <td>106.598225</td>\n",
              "      <td>14.847175</td>\n",
              "      <td>60.059030</td>\n",
              "      <td>51.621204</td>\n",
              "    </tr>\n",
              "    <tr>\n",
              "      <th>2016</th>\n",
              "      <td>71.433117</td>\n",
              "      <td>92.913536</td>\n",
              "      <td>10.666724</td>\n",
              "      <td>58.260189</td>\n",
              "      <td>53.182036</td>\n",
              "    </tr>\n",
              "    <tr>\n",
              "      <th>2017</th>\n",
              "      <td>93.866879</td>\n",
              "      <td>110.650071</td>\n",
              "      <td>20.325918</td>\n",
              "      <td>69.086511</td>\n",
              "      <td>35.709040</td>\n",
              "    </tr>\n",
              "    <tr>\n",
              "      <th rowspan=\"5\" valign=\"top\">Wanshouxigong</th>\n",
              "      <th>2013</th>\n",
              "      <td>83.784586</td>\n",
              "      <td>111.195057</td>\n",
              "      <td>21.781023</td>\n",
              "      <td>55.950066</td>\n",
              "      <td>52.658367</td>\n",
              "    </tr>\n",
              "    <tr>\n",
              "      <th>2014</th>\n",
              "      <td>90.482100</td>\n",
              "      <td>127.157100</td>\n",
              "      <td>23.190183</td>\n",
              "      <td>61.797568</td>\n",
              "      <td>56.443813</td>\n",
              "    </tr>\n",
              "    <tr>\n",
              "      <th>2015</th>\n",
              "      <td>84.276233</td>\n",
              "      <td>111.198973</td>\n",
              "      <td>14.384966</td>\n",
              "      <td>52.729372</td>\n",
              "      <td>59.251575</td>\n",
              "    </tr>\n",
              "    <tr>\n",
              "      <th>2016</th>\n",
              "      <td>78.112933</td>\n",
              "      <td>98.815289</td>\n",
              "      <td>10.635474</td>\n",
              "      <td>50.183117</td>\n",
              "      <td>58.318420</td>\n",
              "    </tr>\n",
              "    <tr>\n",
              "      <th>2017</th>\n",
              "      <td>106.262359</td>\n",
              "      <td>121.676554</td>\n",
              "      <td>18.565325</td>\n",
              "      <td>64.215395</td>\n",
              "      <td>34.106285</td>\n",
              "    </tr>\n",
              "  </tbody>\n",
              "</table>\n",
              "</div>"
            ],
            "text/plain": [
              "                         PM2.5        PM10        SO2        NO2         O3\n",
              "station       year                                                         \n",
              "Aotizhongxin  2013   82.439202  112.940836  23.599799  63.355500  47.206555\n",
              "              2014   89.747603  122.282112  21.515582  63.164053  48.594041\n",
              "              2015   81.831724  112.176747  14.354195  60.939047  63.604132\n",
              "              2016   74.236680   94.445811  10.833732  48.402493  61.854793\n",
              "              2017   94.379237  106.988347  20.827331  66.229520  47.436088\n",
              "Changping     2013   72.393246   91.176675  19.134785  40.960527  61.132385\n",
              "              2014   79.881998  107.611416  21.250228  45.968002  63.019235\n",
              "              2015   68.832608   93.275696  11.698721  42.725942  58.307374\n",
              "              2016   61.665699   86.632115   8.144126  45.541268  54.002618\n",
              "              2017   79.802966   94.150777  16.431497  51.014831  33.010593\n",
              "Dingling      2013   65.200980   78.884940  13.955578  28.776131  64.549386\n",
              "              2014   75.643006   91.554865  14.872983  27.365046  72.762681\n",
              "              2015   64.353124   85.374616  11.322508  26.821221  71.166486\n",
              "              2016   61.701218   80.707707   7.166041  25.375114  75.364925\n",
              "              2017   68.281780   78.526483  13.256356  34.271186  53.824859\n",
              "Dongsi        2013   86.814474  104.619213  23.705583  57.327243  64.394874\n",
              "              2014   87.979304  117.451986  24.209064  57.451142  56.930742\n",
              "              2015   87.128659  112.116832  15.202015  50.321912  55.875063\n",
              "              2016   80.180556  102.829064  11.467327  50.630009  57.578267\n",
              "              2017  102.220692  131.802260  20.364054  57.890890  39.790254\n",
              "Guanyuan      2013   81.651893  108.949074  21.859392  58.866182  54.120639\n",
              "              2014   88.527374  116.123402  23.133562  64.343179  54.682477\n",
              "              2015   82.130183  106.321067  14.073579  54.921958  56.842614\n",
              "              2016   77.132514  104.927026  11.484517  53.459984  54.976719\n",
              "              2017   95.038842  116.255297  21.259181  64.920904  45.742232\n",
              "Gucheng       2013   81.498298  112.558211  17.508021  61.514691  55.781492\n",
              "              2014   90.549121  134.781427  21.290103  62.424463  60.253139\n",
              "              2015   83.685051  116.366929  13.338265  49.588271  60.779538\n",
              "              2016   77.437443  111.118511  10.204121  49.777265  59.522883\n",
              "              2017  100.969986  126.437500  20.587924  62.319915  28.924788\n",
              "Huairou       2013   68.619145   98.509191  18.295972  35.076202  64.256573\n",
              "              2014   77.143487   99.877363  17.582237  37.039566  68.108750\n",
              "              2015   70.500148   90.165559   8.662831  28.316707  60.640691\n",
              "              2016   60.919627   82.266280   6.638092  27.278632  53.353256\n",
              "              2017   73.865819   91.704802   9.780367  38.856992  46.625353\n",
              "Nongzhanguan  2013   84.377996  103.735090  23.243093  59.518205  56.011564\n",
              "              2014   91.998082  127.224053  24.876495  62.296895  59.284635\n",
              "              2015   85.178584  106.989172  15.809857  58.249709  61.365702\n",
              "              2016   76.096539   97.046790  11.556865  52.538764  60.216018\n",
              "              2017  101.027542  119.663842  20.606638  58.230579  36.516243\n",
              "Shunyi        2013   75.746460   95.145084  15.083344  41.665004  55.851085\n",
              "              2014   85.190993  111.620913  17.699406  46.826393  57.899463\n",
              "              2015   81.456119  100.412780  10.454298  43.097306  51.667546\n",
              "              2016   72.223588   88.047245   9.566541  42.540642  53.700421\n",
              "              2017   95.261299  106.852754  21.213630  55.607345  41.981992\n",
              "Tiantan       2013   83.210172  108.312704  18.202909  53.174606  55.159147\n",
              "              2014   86.689874  114.889526  19.771678  56.159241  56.664224\n",
              "              2015   82.076450  102.863676  11.804817  52.020753  60.362877\n",
              "              2016   73.801116   97.271232   8.946949  49.948657  55.540927\n",
              "              2017   97.917373  125.860876  14.051554  63.945975  35.775777\n",
              "Wanliu        2013   91.486179  112.366694  23.615828  68.547606  43.981046\n",
              "              2014   90.371107  131.279212  25.061336  75.740034  40.173148\n",
              "              2015   80.228191  106.598225  14.847175  60.059030  51.621204\n",
              "              2016   71.433117   92.913536  10.666724  58.260189  53.182036\n",
              "              2017   93.866879  110.650071  20.325918  69.086511  35.709040\n",
              "Wanshouxigong 2013   83.784586  111.195057  21.781023  55.950066  52.658367\n",
              "              2014   90.482100  127.157100  23.190183  61.797568  56.443813\n",
              "              2015   84.276233  111.198973  14.384966  52.729372  59.251575\n",
              "              2016   78.112933   98.815289  10.635474  50.183117  58.318420\n",
              "              2017  106.262359  121.676554  18.565325  64.215395  34.106285"
            ]
          },
          "execution_count": 186,
          "metadata": {},
          "output_type": "execute_result"
        }
      ],
      "source": [
        "pollutant_columns_wo_CO = ['PM2.5', 'PM10', 'SO2', 'NO2', 'O3']\n",
        "pollutant_columns_wo_CO = cleaned_merged_df_with_station.groupby(['station', 'year'])[pollutant_columns_wo_CO].mean()\n",
        "\n",
        "print(\"Average Pollutant Levels by Month:\")\n",
        "pollutant_columns_wo_CO"
      ]
    },
    {
      "cell_type": "markdown",
      "metadata": {
        "id": "yQxzdw-m0pqx"
      },
      "source": [
        "> Then we make correllation matrix for each numerical column"
      ]
    },
    {
      "cell_type": "code",
      "execution_count": 187,
      "metadata": {
        "colab": {
          "base_uri": "https://localhost:8080/",
          "height": 588
        },
        "collapsed": true,
        "id": "Ye17jLjb-jLN",
        "outputId": "256d0b2e-93c0-4892-eb44-67319a7b9524"
      },
      "outputs": [
        {
          "name": "stdout",
          "output_type": "stream",
          "text": [
            "Correlation of Columns with Temperature:\n"
          ]
        },
        {
          "data": {
            "text/html": [
              "<div>\n",
              "<style scoped>\n",
              "    .dataframe tbody tr th:only-of-type {\n",
              "        vertical-align: middle;\n",
              "    }\n",
              "\n",
              "    .dataframe tbody tr th {\n",
              "        vertical-align: top;\n",
              "    }\n",
              "\n",
              "    .dataframe thead th {\n",
              "        text-align: right;\n",
              "    }\n",
              "</style>\n",
              "<table border=\"1\" class=\"dataframe\">\n",
              "  <thead>\n",
              "    <tr style=\"text-align: right;\">\n",
              "      <th></th>\n",
              "      <th>year</th>\n",
              "      <th>month</th>\n",
              "      <th>day</th>\n",
              "      <th>hour</th>\n",
              "      <th>PM2.5</th>\n",
              "      <th>PM10</th>\n",
              "      <th>SO2</th>\n",
              "      <th>NO2</th>\n",
              "      <th>CO</th>\n",
              "      <th>O3</th>\n",
              "      <th>TEMP</th>\n",
              "      <th>PRES</th>\n",
              "      <th>DEWP</th>\n",
              "      <th>RAIN</th>\n",
              "      <th>WSPM</th>\n",
              "      <th>wd_degrees</th>\n",
              "    </tr>\n",
              "  </thead>\n",
              "  <tbody>\n",
              "    <tr>\n",
              "      <th>year</th>\n",
              "      <td>1.000000e+00</td>\n",
              "      <td>-2.020099e-01</td>\n",
              "      <td>-5.569082e-03</td>\n",
              "      <td>-2.115260e-15</td>\n",
              "      <td>-0.026070</td>\n",
              "      <td>-0.039717</td>\n",
              "      <td>-0.170455</td>\n",
              "      <td>-0.055544</td>\n",
              "      <td>0.007489</td>\n",
              "      <td>-0.013782</td>\n",
              "      <td>-0.152312</td>\n",
              "      <td>0.187214</td>\n",
              "      <td>-0.165189</td>\n",
              "      <td>0.000894</td>\n",
              "      <td>0.087666</td>\n",
              "      <td>0.014815</td>\n",
              "    </tr>\n",
              "    <tr>\n",
              "      <th>month</th>\n",
              "      <td>-2.020099e-01</td>\n",
              "      <td>1.000000e+00</td>\n",
              "      <td>1.052232e-02</td>\n",
              "      <td>-1.905981e-16</td>\n",
              "      <td>0.006540</td>\n",
              "      <td>-0.029467</td>\n",
              "      <td>-0.214820</td>\n",
              "      <td>0.036308</td>\n",
              "      <td>0.046000</td>\n",
              "      <td>-0.105752</td>\n",
              "      <td>0.132502</td>\n",
              "      <td>-0.013835</td>\n",
              "      <td>0.266779</td>\n",
              "      <td>0.016136</td>\n",
              "      <td>-0.139920</td>\n",
              "      <td>-0.031016</td>\n",
              "    </tr>\n",
              "    <tr>\n",
              "      <th>day</th>\n",
              "      <td>-5.569082e-03</td>\n",
              "      <td>1.052232e-02</td>\n",
              "      <td>1.000000e+00</td>\n",
              "      <td>1.013388e-17</td>\n",
              "      <td>0.005445</td>\n",
              "      <td>0.027416</td>\n",
              "      <td>-0.001980</td>\n",
              "      <td>0.012328</td>\n",
              "      <td>-0.015630</td>\n",
              "      <td>-0.000510</td>\n",
              "      <td>0.014219</td>\n",
              "      <td>0.021971</td>\n",
              "      <td>0.022988</td>\n",
              "      <td>-0.003716</td>\n",
              "      <td>-0.011426</td>\n",
              "      <td>-0.007315</td>\n",
              "    </tr>\n",
              "    <tr>\n",
              "      <th>hour</th>\n",
              "      <td>-2.115260e-15</td>\n",
              "      <td>-1.905981e-16</td>\n",
              "      <td>1.013388e-17</td>\n",
              "      <td>1.000000e+00</td>\n",
              "      <td>0.011129</td>\n",
              "      <td>0.049566</td>\n",
              "      <td>0.028943</td>\n",
              "      <td>-0.001784</td>\n",
              "      <td>-0.031367</td>\n",
              "      <td>0.277433</td>\n",
              "      <td>0.142173</td>\n",
              "      <td>-0.038464</td>\n",
              "      <td>-0.011966</td>\n",
              "      <td>0.012371</td>\n",
              "      <td>0.140396</td>\n",
              "      <td>0.108625</td>\n",
              "    </tr>\n",
              "    <tr>\n",
              "      <th>PM2.5</th>\n",
              "      <td>-2.606991e-02</td>\n",
              "      <td>6.539506e-03</td>\n",
              "      <td>5.445498e-03</td>\n",
              "      <td>1.112889e-02</td>\n",
              "      <td>1.000000</td>\n",
              "      <td>0.878874</td>\n",
              "      <td>0.478223</td>\n",
              "      <td>0.664300</td>\n",
              "      <td>0.780165</td>\n",
              "      <td>-0.149508</td>\n",
              "      <td>-0.131607</td>\n",
              "      <td>0.019862</td>\n",
              "      <td>0.113045</td>\n",
              "      <td>-0.014452</td>\n",
              "      <td>-0.271425</td>\n",
              "      <td>-0.112746</td>\n",
              "    </tr>\n",
              "    <tr>\n",
              "      <th>PM10</th>\n",
              "      <td>-3.971735e-02</td>\n",
              "      <td>-2.946699e-02</td>\n",
              "      <td>2.741647e-02</td>\n",
              "      <td>4.956631e-02</td>\n",
              "      <td>0.878874</td>\n",
              "      <td>1.000000</td>\n",
              "      <td>0.460572</td>\n",
              "      <td>0.645576</td>\n",
              "      <td>0.691887</td>\n",
              "      <td>-0.110443</td>\n",
              "      <td>-0.096078</td>\n",
              "      <td>-0.018375</td>\n",
              "      <td>0.067674</td>\n",
              "      <td>-0.026505</td>\n",
              "      <td>-0.178200</td>\n",
              "      <td>-0.070587</td>\n",
              "    </tr>\n",
              "    <tr>\n",
              "      <th>SO2</th>\n",
              "      <td>-1.704546e-01</td>\n",
              "      <td>-2.148197e-01</td>\n",
              "      <td>-1.980077e-03</td>\n",
              "      <td>2.894252e-02</td>\n",
              "      <td>0.478223</td>\n",
              "      <td>0.460572</td>\n",
              "      <td>1.000000</td>\n",
              "      <td>0.495821</td>\n",
              "      <td>0.522678</td>\n",
              "      <td>-0.165311</td>\n",
              "      <td>-0.320237</td>\n",
              "      <td>0.221235</td>\n",
              "      <td>-0.266121</td>\n",
              "      <td>-0.040028</td>\n",
              "      <td>-0.108536</td>\n",
              "      <td>-0.055771</td>\n",
              "    </tr>\n",
              "    <tr>\n",
              "      <th>NO2</th>\n",
              "      <td>-5.554379e-02</td>\n",
              "      <td>3.630782e-02</td>\n",
              "      <td>1.232791e-02</td>\n",
              "      <td>-1.784429e-03</td>\n",
              "      <td>0.664300</td>\n",
              "      <td>0.645576</td>\n",
              "      <td>0.495821</td>\n",
              "      <td>1.000000</td>\n",
              "      <td>0.694035</td>\n",
              "      <td>-0.465907</td>\n",
              "      <td>-0.277324</td>\n",
              "      <td>0.176706</td>\n",
              "      <td>-0.032627</td>\n",
              "      <td>-0.043669</td>\n",
              "      <td>-0.395709</td>\n",
              "      <td>-0.166226</td>\n",
              "    </tr>\n",
              "    <tr>\n",
              "      <th>CO</th>\n",
              "      <td>7.488632e-03</td>\n",
              "      <td>4.599987e-02</td>\n",
              "      <td>-1.562982e-02</td>\n",
              "      <td>-3.136714e-02</td>\n",
              "      <td>0.780165</td>\n",
              "      <td>0.691887</td>\n",
              "      <td>0.522678</td>\n",
              "      <td>0.694035</td>\n",
              "      <td>1.000000</td>\n",
              "      <td>-0.306979</td>\n",
              "      <td>-0.324057</td>\n",
              "      <td>0.188045</td>\n",
              "      <td>-0.060315</td>\n",
              "      <td>-0.013281</td>\n",
              "      <td>-0.290413</td>\n",
              "      <td>-0.131951</td>\n",
              "    </tr>\n",
              "    <tr>\n",
              "      <th>O3</th>\n",
              "      <td>-1.378214e-02</td>\n",
              "      <td>-1.057525e-01</td>\n",
              "      <td>-5.097042e-04</td>\n",
              "      <td>2.774333e-01</td>\n",
              "      <td>-0.149508</td>\n",
              "      <td>-0.110443</td>\n",
              "      <td>-0.165311</td>\n",
              "      <td>-0.465907</td>\n",
              "      <td>-0.306979</td>\n",
              "      <td>1.000000</td>\n",
              "      <td>0.592248</td>\n",
              "      <td>-0.446725</td>\n",
              "      <td>0.312980</td>\n",
              "      <td>0.023361</td>\n",
              "      <td>0.294351</td>\n",
              "      <td>0.133992</td>\n",
              "    </tr>\n",
              "    <tr>\n",
              "      <th>TEMP</th>\n",
              "      <td>-1.523124e-01</td>\n",
              "      <td>1.325019e-01</td>\n",
              "      <td>1.421944e-02</td>\n",
              "      <td>1.421727e-01</td>\n",
              "      <td>-0.131607</td>\n",
              "      <td>-0.096078</td>\n",
              "      <td>-0.320237</td>\n",
              "      <td>-0.277324</td>\n",
              "      <td>-0.324057</td>\n",
              "      <td>0.592248</td>\n",
              "      <td>1.000000</td>\n",
              "      <td>-0.813312</td>\n",
              "      <td>0.820247</td>\n",
              "      <td>0.037647</td>\n",
              "      <td>0.032601</td>\n",
              "      <td>0.011175</td>\n",
              "    </tr>\n",
              "    <tr>\n",
              "      <th>PRES</th>\n",
              "      <td>1.872138e-01</td>\n",
              "      <td>-1.383492e-02</td>\n",
              "      <td>2.197120e-02</td>\n",
              "      <td>-3.846389e-02</td>\n",
              "      <td>0.019862</td>\n",
              "      <td>-0.018375</td>\n",
              "      <td>0.221235</td>\n",
              "      <td>0.176706</td>\n",
              "      <td>0.188045</td>\n",
              "      <td>-0.446725</td>\n",
              "      <td>-0.813312</td>\n",
              "      <td>1.000000</td>\n",
              "      <td>-0.750271</td>\n",
              "      <td>-0.060952</td>\n",
              "      <td>0.065400</td>\n",
              "      <td>-0.025919</td>\n",
              "    </tr>\n",
              "    <tr>\n",
              "      <th>DEWP</th>\n",
              "      <td>-1.651894e-01</td>\n",
              "      <td>2.667787e-01</td>\n",
              "      <td>2.298780e-02</td>\n",
              "      <td>-1.196571e-02</td>\n",
              "      <td>0.113045</td>\n",
              "      <td>0.067674</td>\n",
              "      <td>-0.266121</td>\n",
              "      <td>-0.032627</td>\n",
              "      <td>-0.060315</td>\n",
              "      <td>0.312980</td>\n",
              "      <td>0.820247</td>\n",
              "      <td>-0.750271</td>\n",
              "      <td>1.000000</td>\n",
              "      <td>0.086259</td>\n",
              "      <td>-0.296771</td>\n",
              "      <td>-0.109440</td>\n",
              "    </tr>\n",
              "    <tr>\n",
              "      <th>RAIN</th>\n",
              "      <td>8.942939e-04</td>\n",
              "      <td>1.613611e-02</td>\n",
              "      <td>-3.716157e-03</td>\n",
              "      <td>1.237067e-02</td>\n",
              "      <td>-0.014452</td>\n",
              "      <td>-0.026505</td>\n",
              "      <td>-0.040028</td>\n",
              "      <td>-0.043669</td>\n",
              "      <td>-0.013281</td>\n",
              "      <td>0.023361</td>\n",
              "      <td>0.037647</td>\n",
              "      <td>-0.060952</td>\n",
              "      <td>0.086259</td>\n",
              "      <td>1.000000</td>\n",
              "      <td>0.020975</td>\n",
              "      <td>-0.015162</td>\n",
              "    </tr>\n",
              "    <tr>\n",
              "      <th>WSPM</th>\n",
              "      <td>8.766631e-02</td>\n",
              "      <td>-1.399196e-01</td>\n",
              "      <td>-1.142647e-02</td>\n",
              "      <td>1.403964e-01</td>\n",
              "      <td>-0.271425</td>\n",
              "      <td>-0.178200</td>\n",
              "      <td>-0.108536</td>\n",
              "      <td>-0.395709</td>\n",
              "      <td>-0.290413</td>\n",
              "      <td>0.294351</td>\n",
              "      <td>0.032601</td>\n",
              "      <td>0.065400</td>\n",
              "      <td>-0.296771</td>\n",
              "      <td>0.020975</td>\n",
              "      <td>1.000000</td>\n",
              "      <td>0.241923</td>\n",
              "    </tr>\n",
              "    <tr>\n",
              "      <th>wd_degrees</th>\n",
              "      <td>1.481547e-02</td>\n",
              "      <td>-3.101646e-02</td>\n",
              "      <td>-7.315208e-03</td>\n",
              "      <td>1.086246e-01</td>\n",
              "      <td>-0.112746</td>\n",
              "      <td>-0.070587</td>\n",
              "      <td>-0.055771</td>\n",
              "      <td>-0.166226</td>\n",
              "      <td>-0.131951</td>\n",
              "      <td>0.133992</td>\n",
              "      <td>0.011175</td>\n",
              "      <td>-0.025919</td>\n",
              "      <td>-0.109440</td>\n",
              "      <td>-0.015162</td>\n",
              "      <td>0.241923</td>\n",
              "      <td>1.000000</td>\n",
              "    </tr>\n",
              "  </tbody>\n",
              "</table>\n",
              "</div>"
            ],
            "text/plain": [
              "                    year         month           day          hour     PM2.5  \\\n",
              "year        1.000000e+00 -2.020099e-01 -5.569082e-03 -2.115260e-15 -0.026070   \n",
              "month      -2.020099e-01  1.000000e+00  1.052232e-02 -1.905981e-16  0.006540   \n",
              "day        -5.569082e-03  1.052232e-02  1.000000e+00  1.013388e-17  0.005445   \n",
              "hour       -2.115260e-15 -1.905981e-16  1.013388e-17  1.000000e+00  0.011129   \n",
              "PM2.5      -2.606991e-02  6.539506e-03  5.445498e-03  1.112889e-02  1.000000   \n",
              "PM10       -3.971735e-02 -2.946699e-02  2.741647e-02  4.956631e-02  0.878874   \n",
              "SO2        -1.704546e-01 -2.148197e-01 -1.980077e-03  2.894252e-02  0.478223   \n",
              "NO2        -5.554379e-02  3.630782e-02  1.232791e-02 -1.784429e-03  0.664300   \n",
              "CO          7.488632e-03  4.599987e-02 -1.562982e-02 -3.136714e-02  0.780165   \n",
              "O3         -1.378214e-02 -1.057525e-01 -5.097042e-04  2.774333e-01 -0.149508   \n",
              "TEMP       -1.523124e-01  1.325019e-01  1.421944e-02  1.421727e-01 -0.131607   \n",
              "PRES        1.872138e-01 -1.383492e-02  2.197120e-02 -3.846389e-02  0.019862   \n",
              "DEWP       -1.651894e-01  2.667787e-01  2.298780e-02 -1.196571e-02  0.113045   \n",
              "RAIN        8.942939e-04  1.613611e-02 -3.716157e-03  1.237067e-02 -0.014452   \n",
              "WSPM        8.766631e-02 -1.399196e-01 -1.142647e-02  1.403964e-01 -0.271425   \n",
              "wd_degrees  1.481547e-02 -3.101646e-02 -7.315208e-03  1.086246e-01 -0.112746   \n",
              "\n",
              "                PM10       SO2       NO2        CO        O3      TEMP  \\\n",
              "year       -0.039717 -0.170455 -0.055544  0.007489 -0.013782 -0.152312   \n",
              "month      -0.029467 -0.214820  0.036308  0.046000 -0.105752  0.132502   \n",
              "day         0.027416 -0.001980  0.012328 -0.015630 -0.000510  0.014219   \n",
              "hour        0.049566  0.028943 -0.001784 -0.031367  0.277433  0.142173   \n",
              "PM2.5       0.878874  0.478223  0.664300  0.780165 -0.149508 -0.131607   \n",
              "PM10        1.000000  0.460572  0.645576  0.691887 -0.110443 -0.096078   \n",
              "SO2         0.460572  1.000000  0.495821  0.522678 -0.165311 -0.320237   \n",
              "NO2         0.645576  0.495821  1.000000  0.694035 -0.465907 -0.277324   \n",
              "CO          0.691887  0.522678  0.694035  1.000000 -0.306979 -0.324057   \n",
              "O3         -0.110443 -0.165311 -0.465907 -0.306979  1.000000  0.592248   \n",
              "TEMP       -0.096078 -0.320237 -0.277324 -0.324057  0.592248  1.000000   \n",
              "PRES       -0.018375  0.221235  0.176706  0.188045 -0.446725 -0.813312   \n",
              "DEWP        0.067674 -0.266121 -0.032627 -0.060315  0.312980  0.820247   \n",
              "RAIN       -0.026505 -0.040028 -0.043669 -0.013281  0.023361  0.037647   \n",
              "WSPM       -0.178200 -0.108536 -0.395709 -0.290413  0.294351  0.032601   \n",
              "wd_degrees -0.070587 -0.055771 -0.166226 -0.131951  0.133992  0.011175   \n",
              "\n",
              "                PRES      DEWP      RAIN      WSPM  wd_degrees  \n",
              "year        0.187214 -0.165189  0.000894  0.087666    0.014815  \n",
              "month      -0.013835  0.266779  0.016136 -0.139920   -0.031016  \n",
              "day         0.021971  0.022988 -0.003716 -0.011426   -0.007315  \n",
              "hour       -0.038464 -0.011966  0.012371  0.140396    0.108625  \n",
              "PM2.5       0.019862  0.113045 -0.014452 -0.271425   -0.112746  \n",
              "PM10       -0.018375  0.067674 -0.026505 -0.178200   -0.070587  \n",
              "SO2         0.221235 -0.266121 -0.040028 -0.108536   -0.055771  \n",
              "NO2         0.176706 -0.032627 -0.043669 -0.395709   -0.166226  \n",
              "CO          0.188045 -0.060315 -0.013281 -0.290413   -0.131951  \n",
              "O3         -0.446725  0.312980  0.023361  0.294351    0.133992  \n",
              "TEMP       -0.813312  0.820247  0.037647  0.032601    0.011175  \n",
              "PRES        1.000000 -0.750271 -0.060952  0.065400   -0.025919  \n",
              "DEWP       -0.750271  1.000000  0.086259 -0.296771   -0.109440  \n",
              "RAIN       -0.060952  0.086259  1.000000  0.020975   -0.015162  \n",
              "WSPM        0.065400 -0.296771  0.020975  1.000000    0.241923  \n",
              "wd_degrees -0.025919 -0.109440 -0.015162  0.241923    1.000000  "
            ]
          },
          "execution_count": 187,
          "metadata": {},
          "output_type": "execute_result"
        }
      ],
      "source": [
        "# Calculate correlation with temperature\n",
        "corr_temp = cleaned_merged_df.corr()\n",
        "\n",
        "print(\"Correlation of Columns with Temperature:\")\n",
        "corr_temp"
      ]
    },
    {
      "cell_type": "markdown",
      "metadata": {
        "id": "yFmUMGd22tbL"
      },
      "source": [
        ">"
      ]
    },
    {
      "cell_type": "code",
      "execution_count": 188,
      "metadata": {
        "colab": {
          "base_uri": "https://localhost:8080/",
          "height": 338
        },
        "id": "mf2Addgn-jLN",
        "outputId": "a3fd53c3-5568-49be-96ad-fceb619edb10"
      },
      "outputs": [
        {
          "name": "stdout",
          "output_type": "stream",
          "text": [
            "\n",
            "Correlation of Gas with Temperature:\n"
          ]
        },
        {
          "data": {
            "text/plain": [
              "TEMP     1.000000\n",
              "O3       0.826808\n",
              "PM10    -0.374811\n",
              "PM2.5   -0.393411\n",
              "NO2     -0.562841\n",
              "CO      -0.588619\n",
              "SO2     -0.649343\n",
              "Name: TEMP, dtype: float64"
            ]
          },
          "execution_count": 188,
          "metadata": {},
          "output_type": "execute_result"
        }
      ],
      "source": [
        "corr_temp_only = corr_temp.drop(columns=['DEWP', 'year', 'month', 'day', 'hour', 'RAIN', 'WSPM', 'wd_degrees', 'PRES']).corr()['TEMP'].sort_values(ascending=False)\n",
        "\n",
        "print(\"\\nCorrelation of Gas with Temperature:\")\n",
        "corr_temp_only"
      ]
    },
    {
      "cell_type": "markdown",
      "metadata": {
        "id": "th_Lzl2Fkj9O"
      },
      "source": [
        "**Insight:**\n",
        "- initialize the pollutan column\n",
        "- group the pollutan column by station and year, then count the mean\n",
        "- calculate the correlation matrix from the data frame"
      ]
    },
    {
      "cell_type": "markdown",
      "metadata": {
        "id": "zsyZjqak8DC2"
      },
      "source": [
        "## Visualization & Explanatory Analysis"
      ]
    },
    {
      "cell_type": "markdown",
      "metadata": {
        "id": "HZxOiQ6n8DC2"
      },
      "source": [
        "### Pertanyaan 1: How much polutan in each city each year?"
      ]
    },
    {
      "cell_type": "code",
      "execution_count": 189,
      "metadata": {
        "colab": {
          "base_uri": "https://localhost:8080/",
          "height": 564
        },
        "id": "1swJUdAD8DC2",
        "outputId": "f54a420d-56e2-4798-b2d5-cff024fcb3a9"
      },
      "outputs": [
        {
          "data": {
            "image/png": "[encoded data removed]",
            "text/plain": [
              "<Figure size 1200x600 with 1 Axes>"
            ]
          },
          "metadata": {},
          "output_type": "display_data"
        }
      ],
      "source": [
        "# pollutant_data\n",
        "station_data = pollutant_data.loc['Aotizhongxin'].loc[2013:2017]\n",
        "station_data.reset_index(inplace=True)\n",
        "\n",
        "plt.figure(figsize=(12, 6))\n",
        "\n",
        "for pollutant in pollutant_columns:\n",
        "    plt.plot(station_data['year'], station_data[pollutant], label=pollutant)\n",
        "\n",
        "plt.title('Average Pollutant Levels at Station Aotizhongxin (2013-2017)')\n",
        "plt.xlabel('Year')\n",
        "plt.ylabel('Average Pollutant Level')\n",
        "plt.xticks(station_data['year'])\n",
        "plt.legend(title='Pollutants')\n",
        "plt.grid()\n",
        "\n",
        "# Show the plot\n",
        "plt.show()"
      ]
    },
    {
      "cell_type": "code",
      "execution_count": 190,
      "metadata": {
        "colab": {
          "base_uri": "https://localhost:8080/",
          "height": 564
        },
        "id": "3NDDDYZm-hrS",
        "outputId": "b5ba462c-2c87-4d96-a225-83a96135f114"
      },
      "outputs": [
        {
          "data": {
            "image/png": "[encoded data removed]",
            "text/plain": [
              "<Figure size 1200x600 with 1 Axes>"
            ]
          },
          "metadata": {},
          "output_type": "display_data"
        }
      ],
      "source": [
        "# pollutant_data_wo_CO\n",
        "station_data = pollutant_columns_wo_CO.loc['Aotizhongxin'].loc[2013:2017]\n",
        "station_data.reset_index(inplace=True)\n",
        "\n",
        "plt.figure(figsize=(12, 6))\n",
        "\n",
        "for pollutant in pollutant_columns_wo_CO:\n",
        "    plt.plot(station_data['year'], station_data[pollutant], label=pollutant)\n",
        "\n",
        "plt.title('Average Pollutant Levels at Station Aotizhongxin (2013-2017)')\n",
        "plt.xlabel('Year')\n",
        "plt.ylabel('Average Pollutant Level')\n",
        "plt.xticks(station_data['year'])\n",
        "plt.legend(title='Pollutants')\n",
        "plt.grid()\n",
        "\n",
        "# Show the plot\n",
        "plt.show()"
      ]
    },
    {
      "cell_type": "markdown",
      "metadata": {
        "id": "DgHI7CiU8DC2"
      },
      "source": [
        "### Pertanyaan 2: Which pollutan has most influence on temperature?"
      ]
    },
    {
      "cell_type": "code",
      "execution_count": 191,
      "metadata": {
        "colab": {
          "base_uri": "https://localhost:8080/",
          "height": 472
        },
        "id": "Q8Vds8C3Dhkz",
        "outputId": "cf863d7f-e0b7-455e-c1f5-caac4e7f87c2"
      },
      "outputs": [
        {
          "data": {
            "image/png": "[encoded data removed]",
            "text/plain": [
              "<Figure size 640x480 with 1 Axes>"
            ]
          },
          "metadata": {},
          "output_type": "display_data"
        }
      ],
      "source": [
        "corr_temp_only = pd.Series(corr_temp_only)\n",
        "plt.bar(corr_temp_only.index, corr_temp_only.values, color='blue')\n",
        "plt.xlabel('Pollutions')\n",
        "plt.ylabel('Values')\n",
        "plt.title('Histogram of Environmental Data')\n",
        "plt.show()"
      ]
    },
    {
      "cell_type": "markdown",
      "metadata": {
        "id": "_0-36BDLklRg"
      },
      "source": [
        "**Insight:**\n",
        "- We use line graph to visualize the change of the amount of pollutan each year in each city\n",
        "- then we use histogram to see how much other pollutan correllate to the temperature"
      ]
    },
    {
      "cell_type": "markdown",
      "metadata": {
        "id": "_WeHlCeX8DC2"
      },
      "source": [
        "## Conclusion"
      ]
    },
    {
      "cell_type": "markdown",
      "metadata": {
        "id": "ZTcyR48Y8DC2"
      },
      "source": [
        "- Conclution Question 1 :\n",
        "> As we can see from the graphic, the highest pollutan is CO gas which above any othe pollutan in all of year.\n",
        "The other graphic is the mean of pollutan data without the CO gas, as we can see, the second highest pollutan is PM10, then PM2.5 followed by NO2 and O3, and lastly SO2\n",
        "\n",
        "- Conclution Question 2 :\n",
        "> As we can see from the histogram, the pollutan that has most influance is O3"
      ]
    }
  ],
  "metadata": {
    "colab": {
      "collapsed_sections": [
        "jIETTYx3AT3v",
        "XTJrsQitBAjg",
        "8A9fkJRnyhPQ",
        "MI-fdMznyiqp",
        "axThKAIeyjif",
        "6eEu_VtkykIA",
        "RK7WBA2Aykhe",
        "Av_aUU7-yk2s",
        "JhpXBbcT6MHG",
        "dyKs0H4S6O12",
        "EmTgIMNB6Ph1",
        "lTzdS2Hh69nD",
        "DICLIwFu7PJW",
        "qjUJC8c37QhZ",
        "wIVMom377Rck",
        "nTzABJnY7SWk",
        "546IP2fP7TC3",
        "58HbmwkW7TvI",
        "R57A3CMd7Ui1",
        "AW_d4Wuz7VRR",
        "XHKRTOHV7V_R",
        "6bGSHQDl7Wrf",
        "_0vcRISS7XWY",
        "wHJuxxcKqZat",
        "KpbGbN-48rEu",
        "vXjYe6LK8sRR",
        "LWYE0L5w8tLp",
        "9y4VUsmcYNZ5",
        "_WeHlCeX8DC2"
      ],
      "provenance": []
    },
    "kernelspec": {
      "display_name": "Python 3",
      "language": "python",
      "name": "python3"
    },
    "language_info": {
      "codemirror_mode": {
        "name": "ipython",
        "version": 3
      },
      "file_extension": ".py",
      "mimetype": "text/x-python",
      "name": "python",
      "nbconvert_exporter": "python",
      "pygments_lexer": "ipython3",
      "version": "3.9.13"
    },
    "vscode": {
      "interpreter": {
        "hash": "972b3bf27e332e87b5379f2791f6ef9dfc79c71018c370b0d7423235e20fe4d7"
      }
    }
  },
  "nbformat": 4,
  "nbformat_minor": 0
}
